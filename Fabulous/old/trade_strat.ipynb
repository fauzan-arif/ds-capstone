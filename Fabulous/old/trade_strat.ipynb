{
 "cells": [
  {
   "cell_type": "code",
   "execution_count": null,
   "metadata": {},
   "outputs": [],
   "source": [
    "from __future__ import division\n",
    "import pandas as pd\n",
    "import numpy as np\n",
    "import datetime\n",
    "import time\n",
    "import matplotlib.pyplot as plt\n",
    "\n",
    "import keras\n",
    "from keras.models import Sequential\n",
    "from keras.layers import Dense,Dropout,BatchNormalization,Conv1D,Flatten,MaxPooling1D,LSTM\n",
    "from keras.callbacks import EarlyStopping,ModelCheckpoint,TensorBoard\n",
    "from scikeras.wrappers import KerasClassifier, KerasRegressor\n",
    "from keras.models import load_model\n",
    "from sklearn.preprocessing import MinMaxScaler\n",
    "\n"
   ]
  },
  {
   "cell_type": "code",
   "execution_count": null,
   "metadata": {},
   "outputs": [],
   "source": [
    "# Identify stock data to grab by ticker\n",
    "ticker = 'AAPL'\n",
    "\n",
    "start_date=datetime.datetime(2016,1,6)\n",
    "end_date=datetime.datetime(2021,1,5)\n",
    "\n"
   ]
  },
  {
   "cell_type": "code",
   "execution_count": null,
   "metadata": {},
   "outputs": [],
   "source": [
    "import pandas as pd \n",
    "import numpy as np\n",
    "import yfinance as yf\n",
    "from ta import add_all_ta_features\n",
    "from sklearn.linear_model import LinearRegression\n",
    "\n",
    "def load_and_prepare(ticker, start_date, end_date):\n",
    "    # Fetch historical stock data\n",
    "    df = yf.download(ticker, start=start_date , end=end_date)\n",
    "\n",
    "    # Calculate daily returns\n",
    "    df['returns'] = df['Adj Close'].pct_change()\n",
    "\n",
    "    # Fetch market data (e.g., S&P 500)\n",
    "    market_data = yf.download('^GSPC', start=df.index.min(), end=df.index.max())\n",
    "    market_data['market_returns'] = market_data['Adj Close'].pct_change()\n",
    "\n",
    "    # Combine stock and market data\n",
    "    merged_data = pd.merge(df, market_data[['market_returns']], left_index=True, right_index=True, how='inner')\n",
    "\n",
    "    # Drop rows with missing values\n",
    "    merged_data.dropna(inplace=True)\n",
    "\n",
    "    # Initialize lists to store alpha and beta values\n",
    "    alpha_values = []\n",
    "    beta_values = []\n",
    "\n",
    "    # Set up X and y for linear regression\n",
    "    X = merged_data['market_returns'].values.reshape(-1, 1)\n",
    "    y = merged_data['returns'].values\n",
    "\n",
    "    # Iterate through the data to calculate alpha and beta for each day\n",
    "    for i in range(len(merged_data)):\n",
    "        X_i = X[:i + 1]\n",
    "        y_i = y[:i + 1]\n",
    "\n",
    "        # Fit linear regression model\n",
    "        model = LinearRegression()\n",
    "        model.fit(X_i, y_i)\n",
    "\n",
    "        # Extract alpha and beta for the current day\n",
    "        alpha_i = model.intercept_\n",
    "        beta_i = model.coef_[0]\n",
    "\n",
    "        alpha_values.append(alpha_i)\n",
    "        beta_values.append(beta_i)\n",
    "\n",
    "    # Add alpha and beta columns to the DataFrame\n",
    "    merged_data['alpha'] = alpha_values\n",
    "    merged_data['beta'] = beta_values\n",
    "\n",
    "    # Drop columns not needed for the final result\n",
    "    merged_data.drop(['returns', 'market_returns'], axis=1, inplace=True)\n",
    "\n",
    "    # Add technical analysis features\n",
    "    merged_data = add_all_ta_features(merged_data, open=\"Open\", high=\"High\", low=\"Low\", close=\"Close\", volume=\"Volume\", fillna=True)\n",
    "\n",
    "    # Calculate target and target class\n",
    "    merged_data['target'] = ((merged_data['Close'] - merged_data['Open']) / merged_data['Open']) * 100\n",
    "    merged_data['target'] = merged_data['target'].shift(-1)\n",
    " \n",
    "    merged_data['target_class'] = np.where(merged_data['target'] < 0, 0, 1)\n",
    "    \n",
    "    merged_data['target_next_close'] = merged_data['Close'].shift(-1)\n",
    "\n",
    "    # Drop rows with missing values\n",
    "    merged_data.dropna(inplace=True)\n",
    "\n",
    "    return merged_data\n",
    "\n"
   ]
  },
  {
   "cell_type": "code",
   "execution_count": null,
   "metadata": {},
   "outputs": [],
   "source": [
    "df = load_and_prepare('AAPL', \"2010-01-01\" , \"2024-01-01\")"
   ]
  },
  {
   "cell_type": "code",
   "execution_count": null,
   "metadata": {},
   "outputs": [],
   "source": [
    "\n",
    "df"
   ]
  },
  {
   "cell_type": "code",
   "execution_count": null,
   "metadata": {},
   "outputs": [],
   "source": [
    "df.columns"
   ]
  },
  {
   "cell_type": "code",
   "execution_count": null,
   "metadata": {},
   "outputs": [],
   "source": [
    "df[\"rapp\"]=df[\"Close\"].divide(df['Close'].shift(1)) # Should be the close of the previous close"
   ]
  },
  {
   "cell_type": "code",
   "execution_count": null,
   "metadata": {},
   "outputs": [],
   "source": [
    "\n",
    "\n",
    "df[\"mv_avg_short\"]= df[\"Close\"].rolling(window=5).mean()\n",
    "df[\"mv_avg_long\"]= df[\"Close\"].rolling(window=50).mean()\n",
    "\n"
   ]
  },
  {
   "cell_type": "code",
   "execution_count": null,
   "metadata": {},
   "outputs": [],
   "source": [
    "\n",
    "\n",
    "df=df.iloc[50:,:] # WARNING: DO IT JUST ONE TIME!\n",
    "print(df.index)\n",
    "\n"
   ]
  },
  {
   "cell_type": "code",
   "execution_count": null,
   "metadata": {},
   "outputs": [],
   "source": [
    "\n",
    "\n",
    "len(df)\n",
    "\n"
   ]
  },
  {
   "cell_type": "code",
   "execution_count": null,
   "metadata": {},
   "outputs": [],
   "source": [
    "\n",
    "\n",
    "df = df.reset_index()\n",
    "\n"
   ]
  },
  {
   "cell_type": "code",
   "execution_count": null,
   "metadata": {},
   "outputs": [],
   "source": [
    "\n",
    "\n",
    "from sklearn.model_selection import train_test_split\n",
    "\n",
    "# Assuming 'df' is your DataFrame\n",
    "train, test = train_test_split(df, test_size=600, shuffle=False)\n",
    "\n",
    "# Display the shapes of the resulting DataFrames\n",
    "print(\"Train shape:\", train.shape)\n",
    "print(\"Test shape:\", test.shape)\n",
    "\n"
   ]
  },
  {
   "cell_type": "code",
   "execution_count": null,
   "metadata": {},
   "outputs": [],
   "source": [
    "\n",
    "\n",
    "# This function returns the total percentage gross yield and the annual percentage gross yield\n",
    "\n",
    "def yield_gross(df,v):\n",
    "    prod=(v*df[\"rapp\"]+1-v).prod()\n",
    "    n_years=len(v)/252\n",
    "    return (prod-1)*100,((prod**(1/n_years))-1)*100\n",
    "\n"
   ]
  },
  {
   "cell_type": "code",
   "execution_count": null,
   "metadata": {},
   "outputs": [],
   "source": [
    "\n",
    "\n",
    "def create_window(data, window_size = 1):    \n",
    "    data_s = data.copy()\n",
    "    for i in range(window_size):\n",
    "        data = pd.concat([data, data_s.shift(-(i + 1))], axis = 1)\n",
    "        \n",
    "    data.dropna(axis=0, inplace=True)\n",
    "    return(data)\n",
    "\n"
   ]
  },
  {
   "cell_type": "code",
   "execution_count": null,
   "metadata": {},
   "outputs": [],
   "source": [
    "from sklearn.preprocessing import MinMaxScaler\n",
    "from sklearn.model_selection import train_test_split\n",
    "from keras.models import Sequential\n",
    "from keras.layers import LSTM, Dense, Dropout\n",
    "import pandas as pd\n",
    "import numpy as np\n",
    "import matplotlib.pyplot as plt\n",
    "\n",
    "# Assuming 'df' is your DataFrame\n",
    "scaler = MinMaxScaler(feature_range=(0, 1))\n",
    "dg = pd.DataFrame(scaler.fit_transform(df[[\"High\", \"Low\", \"Open\", \"Close\", \"Volume\", \"mv_avg_short\", \"mv_avg_long\"]].values))\n",
    "dg0 = dg[[0, 1, 2, 3, 4, 5]]\n",
    "\n",
    "window = 4\n",
    "dfw = create_window(dg0, window)\n",
    "\n",
    "X_dfw = np.reshape(dfw.values, (dfw.shape[0], window + 1, 6))\n",
    "\n",
    "y_dfw = np.array(dg[6][window:])  # The Fix\n",
    "\n",
    "# Adjust mtest based on the new shape of your data\n",
    "mtest = 600\n",
    "\n",
    "X_trainw, X_testw, y_trainw, y_testw = train_test_split(X_dfw, y_dfw, test_size=mtest, shuffle=False)\n",
    "\n",
    "def model_lstm(window, features):\n",
    "    model = Sequential()\n",
    "    model.add(LSTM(300, input_shape=(window, features), return_sequences=True))\n",
    "    model.add(Dropout(0.2))  # Add dropout layer with a dropout rate (fraction of input units to drop)\n",
    "    model.add(LSTM(200, input_shape=(window, features), return_sequences=False))\n",
    "    model.add(Dropout(0.2))  # Add dropout layer with a dropout rate\n",
    "    model.add(Dense(100, kernel_initializer='uniform', activation='relu'))\n",
    "    model.add(Dropout(0.2))  # Add dropout layer with a dropout rate\n",
    "    model.add(Dense(1, kernel_initializer='uniform', activation='relu'))\n",
    "    model.compile(loss='mse', optimizer='adam')\n",
    "\n",
    "    return model\n",
    "\n",
    "model = model_lstm(window + 1, 6)\n",
    "history = model.fit(X_trainw, y_trainw, epochs=100, batch_size=200, validation_data=(X_testw, y_testw), \\\n",
    "                    verbose=1, callbacks=[], shuffle=False)  # Batch size should be no more than the square root of the # of training rows\n",
    "\n",
    "# Plot training history\n",
    "plt.plot(history.history['loss'])\n",
    "plt.plot(history.history['val_loss'])\n",
    "plt.title('Model Loss')\n",
    "plt.ylabel('Loss')\n",
    "plt.xlabel('Epoch')\n",
    "plt.legend(['Train', 'Test'], loc='upper right')\n",
    "plt.show()"
   ]
  },
  {
   "cell_type": "code",
   "execution_count": null,
   "metadata": {},
   "outputs": [],
   "source": [
    "\n",
    "\n",
    "y_pr=model.predict(X_trainw)\n",
    "\n"
   ]
  },
  {
   "cell_type": "code",
   "execution_count": null,
   "metadata": {},
   "outputs": [],
   "source": [
    "import matplotlib.pyplot as plt\n",
    "import matplotlib.style as style\n",
    "\n",
    "# Set the style to a dark theme\n",
    "style.use('dark_background')\n",
    "\n",
    "# Assuming y_trainw and y_pr are your actual and predicted values\n",
    "plt.figure(figsize=(30, 10))\n",
    "plt.plot(y_trainw, label='Actual', color='limegreen', linewidth=2)  # Customize the color and linewidth as needed\n",
    "plt.plot(y_pr, label='Prediction', color='gold', linewidth=2)  # Customize the color and linewidth as needed\n",
    "\n",
    "# Set title and labels with light text for better visibility\n",
    "plt.title('Actual Moving Average vs Predicted', fontsize=25, color='white')\n",
    "plt.xlabel('Data Points', fontsize=20, color='white')\n",
    "plt.ylabel('Value', fontsize=20, color='white')\n",
    "\n",
    "# Add legend with light text\n",
    "plt.legend(fontsize=20, loc='upper right', frameon=False, facecolor='none', edgecolor='none', labelcolor='white')\n",
    "\n",
    "# Add grid lines\n",
    "plt.grid(axis='both', color='gray', linestyle='--', linewidth=0.5)\n",
    "\n",
    "# Show the plot\n",
    "plt.show()"
   ]
  },
  {
   "cell_type": "code",
   "execution_count": null,
   "metadata": {},
   "outputs": [],
   "source": [
    "\n",
    "\n",
    "from sklearn.metrics import mean_squared_error, r2_score\n",
    "\n",
    "\n",
    "# Calculate Mean Squared Error (MSE)\n",
    "mse = mean_squared_error(y_testw, y_pr)\n",
    "print(f'Mean Squared Error (MSE): {mse}')\n",
    "\n",
    "# Calculate other evaluation metrics as needed\n",
    "# For example, you can use R-squared (R2) score\n",
    "r2 = r2_score(y_testw, y_pr)\n",
    "print(f'R-squared (R2) Score: {r2}')\n",
    "\n"
   ]
  },
  {
   "cell_type": "code",
   "execution_count": null,
   "metadata": {},
   "outputs": [],
   "source": [
    "from sklearn.model_selection import TimeSeriesSplit\n",
    "from sklearn.metrics import mean_squared_error, r2_score, mean_absolute_error\n",
    "\n",
    "# Assuming 'df' is your DataFrame\n",
    "scaler = MinMaxScaler(feature_range=(0, 1))\n",
    "dg = pd.DataFrame(scaler.fit_transform(df[[\"High\", \"Low\", \"Open\", \"Close\", \"Volume\", \"mv_avg_short\", \"mv_avg_long\"]].values))\n",
    "dg0 = dg[[0, 1, 2, 3, 4, 5]]\n",
    "\n",
    "window = 4\n",
    "dfw = create_window(dg0, window)\n",
    "\n",
    "X_dfw = np.reshape(dfw.values, (dfw.shape[0], window + 1, 6))\n",
    "\n",
    "y_dfw = np.array(dg[6][window:])  # The Fix\n",
    "\n",
    "# Create TimeSeriesSplit object\n",
    "tscv = TimeSeriesSplit(n_splits=5)  # You can adjust the number of splits as needed\n",
    "\n",
    "mse_scores = []  # to store MSE for each fold\n",
    "r2_scores = []   # to store R2 scores for each fold\n",
    "\n",
    "# Iterate over train-test splits\n",
    "for train_index, test_index in tscv.split(X_dfw):\n",
    "    X_trainw, X_testw = X_dfw[train_index], X_dfw[test_index]\n",
    "    y_trainw, y_testw = y_dfw[train_index], y_dfw[test_index]\n",
    "\n",
    "    model = model_lstm(window + 1, 6)\n",
    "    history = model.fit(X_trainw, y_trainw, epochs=50, batch_size=200, validation_data=(X_testw, y_testw), \\\n",
    "                        verbose=1, callbacks=[], shuffle=False)\n",
    "\n",
    "    # Make predictions on the test set\n",
    "    y_pred = model.predict(X_testw)\n",
    "\n",
    "    # Evaluate the model\n",
    "    mse = mean_squared_error(y_testw, y_pred)\n",
    "    r2 = r2_score(y_testw, y_pred)\n",
    "    mae = mean_absolute_error(y_testw, y_pred)\n",
    "    mse_scores.append(mse)\n",
    "    r2_scores.append(r2)\n",
    "    mae_scores.append(mae)\n",
    "# Print average scores across folds\n",
    "print(f'Average Mean Squared Error (MSE): {np.mean(mse_scores)}')\n",
    "print(f'Average R-squared (R2) Score: {np.mean(r2_scores)}')\n",
    "print(f'Average Mean Absolute Error (MAE): {np.mean(mae_scores)}')"
   ]
  },
  {
   "cell_type": "code",
   "execution_count": null,
   "metadata": {},
   "outputs": [],
   "source": [
    "plt.plot(history.history['loss'], label='Train Loss')\n",
    "plt.plot(history.history['val_loss'], label='Validation Loss')\n",
    "plt.title('Model Loss')\n",
    "plt.xlabel('Epoch')\n",
    "plt.ylabel('Loss')\n",
    "plt.legend()\n",
    "plt.show()"
   ]
  },
  {
   "cell_type": "code",
   "execution_count": null,
   "metadata": {},
   "outputs": [],
   "source": [
    "\n",
    "\n",
    "#y_predicted = model.predict(X_testw)\n",
    "style.use('dark_background')\n",
    "plt.figure(figsize=(15, 8))\n",
    "plt.plot(y_testw, label='Actual')\n",
    "plt.plot(y_pred, label='Predicted')\n",
    "plt.title('Actual vs Predicted Moving Averages(Test)')\n",
    "plt.xlabel('Data Points')\n",
    "plt.ylabel('Value')\n",
    "plt.legend()\n",
    "plt.show()\n",
    "\n"
   ]
  },
  {
   "cell_type": "code",
   "execution_count": null,
   "metadata": {},
   "outputs": [],
   "source": [
    "\n",
    "\n",
    "from sklearn.metrics import mean_squared_error, r2_score\n",
    "\n",
    "mse = mean_squared_error(y_testw, y_pred)\n",
    "r2 = r2_score(y_testw, y_pred)\n",
    "\n",
    "print(f'Mean Squared Error (MSE): {mse}')\n",
    "print(f'R-squared (R2) Score: {r2}')\n",
    "\n"
   ]
  },
  {
   "cell_type": "code",
   "execution_count": null,
   "metadata": {},
   "outputs": [],
   "source": [
    "\n",
    "\n",
    "# Evaluate the model on the test set\n",
    "loss = model.evaluate(X_testw, y_testw)\n",
    "print(f'Test Loss (MSE): {loss}')\n",
    "\n"
   ]
  },
  {
   "cell_type": "code",
   "execution_count": null,
   "metadata": {},
   "outputs": [],
   "source": [
    "from sklearn.metrics import mean_squared_error\n",
    "\n",
    "# Assuming 'model' is your trained model\n",
    "y_pred = model.predict(X_testw)\n",
    "\n",
    "# Calculate Mean Squared Error (MSE)\n",
    "mse = mean_squared_error(y_testw, y_pred)\n",
    "print(f'Mean Squared Error (MSE): {mse}')"
   ]
  },
  {
   "cell_type": "code",
   "execution_count": null,
   "metadata": {},
   "outputs": [],
   "source": [
    "\n",
    "\n",
    "# Use the last window days of data to predict the next day's price\n",
    "last_window_data = X_dfw[-1:]\n",
    "predicted_price = model.predict(last_window_data)\n",
    "\n"
   ]
  },
  {
   "cell_type": "code",
   "execution_count": null,
   "metadata": {},
   "outputs": [],
   "source": [
    "\n",
    "\n",
    "predicted_price\n",
    "\n"
   ]
  },
  {
   "cell_type": "code",
   "execution_count": null,
   "metadata": {},
   "outputs": [],
   "source": [
    "\n",
    "\n",
    "y_pred = model.predict(X_testw)\n",
    "\n",
    "import matplotlib.pyplot as plt\n",
    "import matplotlib.style as style\n",
    "\n",
    "# Set the style to a dark theme\n",
    "style.use('dark_background')\n",
    "\n",
    "# Assuming y_testw and y_pred are your actual and predicted values\n",
    "plt.figure(figsize=(15, 8))\n",
    "plt.plot(y_testw, label='Actual', color='yellow')  # Customize the color as needed\n",
    "plt.plot(y_pred, label='Predicted', color='cyan')  # Customize the color as needed\n",
    "\n",
    "# Set title and labels with light text for better visibility\n",
    "plt.title('Actual vs Predicted Values', color='white')\n",
    "plt.xlabel('Data Points', color='white')\n",
    "plt.ylabel('Value', color='white')\n",
    "\n",
    "# Add legend with light text\n",
    "plt.legend(fontsize='small', loc='upper right', frameon=False, facecolor='none', edgecolor='none', labelcolor='white')\n",
    "\n",
    "# Show the plot\n",
    "plt.show()\n",
    "\n"
   ]
  },
  {
   "cell_type": "code",
   "execution_count": null,
   "metadata": {},
   "outputs": [],
   "source": [
    "\n",
    "\n",
    "X_testw\n",
    "\n"
   ]
  }
 ],
 "metadata": {
  "kernelspec": {
   "display_name": ".venv",
   "language": "python",
   "name": "python3"
  },
  "language_info": {
   "name": "python",
   "version": "3.11.3"
  }
 },
 "nbformat": 4,
 "nbformat_minor": 2
}
