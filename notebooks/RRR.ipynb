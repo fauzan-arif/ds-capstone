{
 "cells": [
  {
   "cell_type": "code",
   "execution_count": 23,
   "id": "1bcf37de-6da7-4228-ad45-22dfe8b089dd",
   "metadata": {
    "tags": []
   },
   "outputs": [
    {
     "name": "stdout",
     "output_type": "stream",
     "text": [
      "Requirement already satisfied: qgrid in c:\\users\\chris\\documents\\1_spicy\\000_datadrivendollars\\ds-capstone\\.venv\\lib\\site-packages (1.3.1)\n",
      "Requirement already satisfied: notebook>=4.0.0 in c:\\users\\chris\\documents\\1_spicy\\000_datadrivendollars\\ds-capstone\\.venv\\lib\\site-packages (from qgrid) (6.5.6)\n",
      "Requirement already satisfied: pandas>=0.18.0 in c:\\users\\chris\\documents\\1_spicy\\000_datadrivendollars\\ds-capstone\\.venv\\lib\\site-packages (from qgrid) (2.1.4)\n",
      "Requirement already satisfied: ipywidgets>=7.0.0 in c:\\users\\chris\\documents\\1_spicy\\000_datadrivendollars\\ds-capstone\\.venv\\lib\\site-packages (from qgrid) (8.1.1)\n",
      "Requirement already satisfied: comm>=0.1.3 in c:\\users\\chris\\documents\\1_spicy\\000_datadrivendollars\\ds-capstone\\.venv\\lib\\site-packages (from ipywidgets>=7.0.0->qgrid) (0.2.0)\n",
      "Requirement already satisfied: ipython>=6.1.0 in c:\\users\\chris\\documents\\1_spicy\\000_datadrivendollars\\ds-capstone\\.venv\\lib\\site-packages (from ipywidgets>=7.0.0->qgrid) (8.18.1)\n",
      "Requirement already satisfied: traitlets>=4.3.1 in c:\\users\\chris\\documents\\1_spicy\\000_datadrivendollars\\ds-capstone\\.venv\\lib\\site-packages (from ipywidgets>=7.0.0->qgrid) (5.14.0)\n",
      "Requirement already satisfied: widgetsnbextension~=4.0.9 in c:\\users\\chris\\documents\\1_spicy\\000_datadrivendollars\\ds-capstone\\.venv\\lib\\site-packages (from ipywidgets>=7.0.0->qgrid) (4.0.9)\n",
      "Requirement already satisfied: jupyterlab-widgets~=3.0.9 in c:\\users\\chris\\documents\\1_spicy\\000_datadrivendollars\\ds-capstone\\.venv\\lib\\site-packages (from ipywidgets>=7.0.0->qgrid) (3.0.9)\n",
      "Requirement already satisfied: jinja2 in c:\\users\\chris\\documents\\1_spicy\\000_datadrivendollars\\ds-capstone\\.venv\\lib\\site-packages (from notebook>=4.0.0->qgrid) (3.1.2)\n",
      "Requirement already satisfied: tornado>=6.1 in c:\\users\\chris\\documents\\1_spicy\\000_datadrivendollars\\ds-capstone\\.venv\\lib\\site-packages (from notebook>=4.0.0->qgrid) (6.4)\n",
      "Requirement already satisfied: pyzmq<25,>=17 in c:\\users\\chris\\documents\\1_spicy\\000_datadrivendollars\\ds-capstone\\.venv\\lib\\site-packages (from notebook>=4.0.0->qgrid) (24.0.1)\n",
      "Requirement already satisfied: argon2-cffi in c:\\users\\chris\\documents\\1_spicy\\000_datadrivendollars\\ds-capstone\\.venv\\lib\\site-packages (from notebook>=4.0.0->qgrid) (23.1.0)\n",
      "Requirement already satisfied: jupyter-core>=4.6.1 in c:\\users\\chris\\documents\\1_spicy\\000_datadrivendollars\\ds-capstone\\.venv\\lib\\site-packages (from notebook>=4.0.0->qgrid) (5.5.0)\n",
      "Requirement already satisfied: jupyter-client<8,>=5.3.4 in c:\\users\\chris\\documents\\1_spicy\\000_datadrivendollars\\ds-capstone\\.venv\\lib\\site-packages (from notebook>=4.0.0->qgrid) (7.4.9)\n",
      "Requirement already satisfied: ipython-genutils in c:\\users\\chris\\documents\\1_spicy\\000_datadrivendollars\\ds-capstone\\.venv\\lib\\site-packages (from notebook>=4.0.0->qgrid) (0.2.0)\n",
      "Requirement already satisfied: nbformat in c:\\users\\chris\\documents\\1_spicy\\000_datadrivendollars\\ds-capstone\\.venv\\lib\\site-packages (from notebook>=4.0.0->qgrid) (5.9.2)\n",
      "Requirement already satisfied: nbconvert>=5 in c:\\users\\chris\\documents\\1_spicy\\000_datadrivendollars\\ds-capstone\\.venv\\lib\\site-packages (from notebook>=4.0.0->qgrid) (7.12.0)\n",
      "Requirement already satisfied: nest-asyncio>=1.5 in c:\\users\\chris\\documents\\1_spicy\\000_datadrivendollars\\ds-capstone\\.venv\\lib\\site-packages (from notebook>=4.0.0->qgrid) (1.5.8)\n",
      "Requirement already satisfied: ipykernel in c:\\users\\chris\\documents\\1_spicy\\000_datadrivendollars\\ds-capstone\\.venv\\lib\\site-packages (from notebook>=4.0.0->qgrid) (6.27.1)\n",
      "Requirement already satisfied: Send2Trash>=1.8.0 in c:\\users\\chris\\documents\\1_spicy\\000_datadrivendollars\\ds-capstone\\.venv\\lib\\site-packages (from notebook>=4.0.0->qgrid) (1.8.2)\n",
      "Requirement already satisfied: terminado>=0.8.3 in c:\\users\\chris\\documents\\1_spicy\\000_datadrivendollars\\ds-capstone\\.venv\\lib\\site-packages (from notebook>=4.0.0->qgrid) (0.18.0)\n",
      "Requirement already satisfied: prometheus-client in c:\\users\\chris\\documents\\1_spicy\\000_datadrivendollars\\ds-capstone\\.venv\\lib\\site-packages (from notebook>=4.0.0->qgrid) (0.19.0)\n",
      "Requirement already satisfied: nbclassic>=0.4.7 in c:\\users\\chris\\documents\\1_spicy\\000_datadrivendollars\\ds-capstone\\.venv\\lib\\site-packages (from notebook>=4.0.0->qgrid) (1.0.0)\n",
      "Requirement already satisfied: numpy<2,>=1.23.2 in c:\\users\\chris\\documents\\1_spicy\\000_datadrivendollars\\ds-capstone\\.venv\\lib\\site-packages (from pandas>=0.18.0->qgrid) (1.26.2)\n",
      "Requirement already satisfied: python-dateutil>=2.8.2 in c:\\users\\chris\\documents\\1_spicy\\000_datadrivendollars\\ds-capstone\\.venv\\lib\\site-packages (from pandas>=0.18.0->qgrid) (2.8.2)\n",
      "Requirement already satisfied: pytz>=2020.1 in c:\\users\\chris\\documents\\1_spicy\\000_datadrivendollars\\ds-capstone\\.venv\\lib\\site-packages (from pandas>=0.18.0->qgrid) (2023.3.post1)\n",
      "Requirement already satisfied: tzdata>=2022.1 in c:\\users\\chris\\documents\\1_spicy\\000_datadrivendollars\\ds-capstone\\.venv\\lib\\site-packages (from pandas>=0.18.0->qgrid) (2023.3)\n",
      "Requirement already satisfied: decorator in c:\\users\\chris\\documents\\1_spicy\\000_datadrivendollars\\ds-capstone\\.venv\\lib\\site-packages (from ipython>=6.1.0->ipywidgets>=7.0.0->qgrid) (5.1.1)\n",
      "Requirement already satisfied: jedi>=0.16 in c:\\users\\chris\\documents\\1_spicy\\000_datadrivendollars\\ds-capstone\\.venv\\lib\\site-packages (from ipython>=6.1.0->ipywidgets>=7.0.0->qgrid) (0.19.1)\n",
      "Requirement already satisfied: matplotlib-inline in c:\\users\\chris\\documents\\1_spicy\\000_datadrivendollars\\ds-capstone\\.venv\\lib\\site-packages (from ipython>=6.1.0->ipywidgets>=7.0.0->qgrid) (0.1.6)\n",
      "Requirement already satisfied: prompt-toolkit<3.1.0,>=3.0.41 in c:\\users\\chris\\documents\\1_spicy\\000_datadrivendollars\\ds-capstone\\.venv\\lib\\site-packages (from ipython>=6.1.0->ipywidgets>=7.0.0->qgrid) (3.0.42)\n",
      "Requirement already satisfied: pygments>=2.4.0 in c:\\users\\chris\\documents\\1_spicy\\000_datadrivendollars\\ds-capstone\\.venv\\lib\\site-packages (from ipython>=6.1.0->ipywidgets>=7.0.0->qgrid) (2.17.2)\n",
      "Requirement already satisfied: stack-data in c:\\users\\chris\\documents\\1_spicy\\000_datadrivendollars\\ds-capstone\\.venv\\lib\\site-packages (from ipython>=6.1.0->ipywidgets>=7.0.0->qgrid) (0.6.3)\n",
      "Requirement already satisfied: colorama in c:\\users\\chris\\documents\\1_spicy\\000_datadrivendollars\\ds-capstone\\.venv\\lib\\site-packages (from ipython>=6.1.0->ipywidgets>=7.0.0->qgrid) (0.4.6)\n",
      "Requirement already satisfied: entrypoints in c:\\users\\chris\\documents\\1_spicy\\000_datadrivendollars\\ds-capstone\\.venv\\lib\\site-packages (from jupyter-client<8,>=5.3.4->notebook>=4.0.0->qgrid) (0.4)\n",
      "Requirement already satisfied: platformdirs>=2.5 in c:\\users\\chris\\documents\\1_spicy\\000_datadrivendollars\\ds-capstone\\.venv\\lib\\site-packages (from jupyter-core>=4.6.1->notebook>=4.0.0->qgrid) (4.1.0)\n",
      "Requirement already satisfied: pywin32>=300 in c:\\users\\chris\\documents\\1_spicy\\000_datadrivendollars\\ds-capstone\\.venv\\lib\\site-packages (from jupyter-core>=4.6.1->notebook>=4.0.0->qgrid) (306)\n",
      "Requirement already satisfied: jupyter-server>=1.8 in c:\\users\\chris\\documents\\1_spicy\\000_datadrivendollars\\ds-capstone\\.venv\\lib\\site-packages (from nbclassic>=0.4.7->notebook>=4.0.0->qgrid) (2.12.1)\n",
      "Requirement already satisfied: notebook-shim>=0.2.3 in c:\\users\\chris\\documents\\1_spicy\\000_datadrivendollars\\ds-capstone\\.venv\\lib\\site-packages (from nbclassic>=0.4.7->notebook>=4.0.0->qgrid) (0.2.3)\n",
      "Requirement already satisfied: beautifulsoup4 in c:\\users\\chris\\documents\\1_spicy\\000_datadrivendollars\\ds-capstone\\.venv\\lib\\site-packages (from nbconvert>=5->notebook>=4.0.0->qgrid) (4.12.2)\n",
      "Requirement already satisfied: bleach!=5.0.0 in c:\\users\\chris\\documents\\1_spicy\\000_datadrivendollars\\ds-capstone\\.venv\\lib\\site-packages (from nbconvert>=5->notebook>=4.0.0->qgrid) (6.1.0)\n",
      "Requirement already satisfied: defusedxml in c:\\users\\chris\\documents\\1_spicy\\000_datadrivendollars\\ds-capstone\\.venv\\lib\\site-packages (from nbconvert>=5->notebook>=4.0.0->qgrid) (0.7.1)\n",
      "Requirement already satisfied: jupyterlab-pygments in c:\\users\\chris\\documents\\1_spicy\\000_datadrivendollars\\ds-capstone\\.venv\\lib\\site-packages (from nbconvert>=5->notebook>=4.0.0->qgrid) (0.3.0)\n",
      "Requirement already satisfied: markupsafe>=2.0 in c:\\users\\chris\\documents\\1_spicy\\000_datadrivendollars\\ds-capstone\\.venv\\lib\\site-packages (from nbconvert>=5->notebook>=4.0.0->qgrid) (2.1.3)\n",
      "Requirement already satisfied: mistune<4,>=2.0.3 in c:\\users\\chris\\documents\\1_spicy\\000_datadrivendollars\\ds-capstone\\.venv\\lib\\site-packages (from nbconvert>=5->notebook>=4.0.0->qgrid) (3.0.2)\n",
      "Requirement already satisfied: nbclient>=0.5.0 in c:\\users\\chris\\documents\\1_spicy\\000_datadrivendollars\\ds-capstone\\.venv\\lib\\site-packages (from nbconvert>=5->notebook>=4.0.0->qgrid) (0.9.0)\n",
      "Requirement already satisfied: packaging in c:\\users\\chris\\documents\\1_spicy\\000_datadrivendollars\\ds-capstone\\.venv\\lib\\site-packages (from nbconvert>=5->notebook>=4.0.0->qgrid) (23.2)\n",
      "Requirement already satisfied: pandocfilters>=1.4.1 in c:\\users\\chris\\documents\\1_spicy\\000_datadrivendollars\\ds-capstone\\.venv\\lib\\site-packages (from nbconvert>=5->notebook>=4.0.0->qgrid) (1.5.0)\n",
      "Requirement already satisfied: tinycss2 in c:\\users\\chris\\documents\\1_spicy\\000_datadrivendollars\\ds-capstone\\.venv\\lib\\site-packages (from nbconvert>=5->notebook>=4.0.0->qgrid) (1.2.1)\n",
      "Requirement already satisfied: fastjsonschema in c:\\users\\chris\\documents\\1_spicy\\000_datadrivendollars\\ds-capstone\\.venv\\lib\\site-packages (from nbformat->notebook>=4.0.0->qgrid) (2.19.0)\n",
      "Requirement already satisfied: jsonschema>=2.6 in c:\\users\\chris\\documents\\1_spicy\\000_datadrivendollars\\ds-capstone\\.venv\\lib\\site-packages (from nbformat->notebook>=4.0.0->qgrid) (4.20.0)\n",
      "Requirement already satisfied: six>=1.5 in c:\\users\\chris\\documents\\1_spicy\\000_datadrivendollars\\ds-capstone\\.venv\\lib\\site-packages (from python-dateutil>=2.8.2->pandas>=0.18.0->qgrid) (1.16.0)\n",
      "Requirement already satisfied: pywinpty>=1.1.0 in c:\\users\\chris\\documents\\1_spicy\\000_datadrivendollars\\ds-capstone\\.venv\\lib\\site-packages (from terminado>=0.8.3->notebook>=4.0.0->qgrid) (2.0.12)\n",
      "Requirement already satisfied: argon2-cffi-bindings in c:\\users\\chris\\documents\\1_spicy\\000_datadrivendollars\\ds-capstone\\.venv\\lib\\site-packages (from argon2-cffi->notebook>=4.0.0->qgrid) (21.2.0)\n",
      "Requirement already satisfied: debugpy>=1.6.5 in c:\\users\\chris\\documents\\1_spicy\\000_datadrivendollars\\ds-capstone\\.venv\\lib\\site-packages (from ipykernel->notebook>=4.0.0->qgrid) (1.8.0)\n",
      "Requirement already satisfied: psutil in c:\\users\\chris\\documents\\1_spicy\\000_datadrivendollars\\ds-capstone\\.venv\\lib\\site-packages (from ipykernel->notebook>=4.0.0->qgrid) (5.9.6)\n",
      "Requirement already satisfied: webencodings in c:\\users\\chris\\documents\\1_spicy\\000_datadrivendollars\\ds-capstone\\.venv\\lib\\site-packages (from bleach!=5.0.0->nbconvert>=5->notebook>=4.0.0->qgrid) (0.5.1)\n",
      "Requirement already satisfied: parso<0.9.0,>=0.8.3 in c:\\users\\chris\\documents\\1_spicy\\000_datadrivendollars\\ds-capstone\\.venv\\lib\\site-packages (from jedi>=0.16->ipython>=6.1.0->ipywidgets>=7.0.0->qgrid) (0.8.3)\n",
      "Requirement already satisfied: attrs>=22.2.0 in c:\\users\\chris\\documents\\1_spicy\\000_datadrivendollars\\ds-capstone\\.venv\\lib\\site-packages (from jsonschema>=2.6->nbformat->notebook>=4.0.0->qgrid) (23.1.0)\n",
      "Requirement already satisfied: jsonschema-specifications>=2023.03.6 in c:\\users\\chris\\documents\\1_spicy\\000_datadrivendollars\\ds-capstone\\.venv\\lib\\site-packages (from jsonschema>=2.6->nbformat->notebook>=4.0.0->qgrid) (2023.11.2)\n",
      "Requirement already satisfied: referencing>=0.28.4 in c:\\users\\chris\\documents\\1_spicy\\000_datadrivendollars\\ds-capstone\\.venv\\lib\\site-packages (from jsonschema>=2.6->nbformat->notebook>=4.0.0->qgrid) (0.32.0)\n",
      "Requirement already satisfied: rpds-py>=0.7.1 in c:\\users\\chris\\documents\\1_spicy\\000_datadrivendollars\\ds-capstone\\.venv\\lib\\site-packages (from jsonschema>=2.6->nbformat->notebook>=4.0.0->qgrid) (0.13.2)\n",
      "Requirement already satisfied: anyio>=3.1.0 in c:\\users\\chris\\documents\\1_spicy\\000_datadrivendollars\\ds-capstone\\.venv\\lib\\site-packages (from jupyter-server>=1.8->nbclassic>=0.4.7->notebook>=4.0.0->qgrid) (4.1.0)\n",
      "Requirement already satisfied: jupyter-events>=0.9.0 in c:\\users\\chris\\documents\\1_spicy\\000_datadrivendollars\\ds-capstone\\.venv\\lib\\site-packages (from jupyter-server>=1.8->nbclassic>=0.4.7->notebook>=4.0.0->qgrid) (0.9.0)\n",
      "Requirement already satisfied: jupyter-server-terminals in c:\\users\\chris\\documents\\1_spicy\\000_datadrivendollars\\ds-capstone\\.venv\\lib\\site-packages (from jupyter-server>=1.8->nbclassic>=0.4.7->notebook>=4.0.0->qgrid) (0.5.0)\n",
      "Requirement already satisfied: overrides in c:\\users\\chris\\documents\\1_spicy\\000_datadrivendollars\\ds-capstone\\.venv\\lib\\site-packages (from jupyter-server>=1.8->nbclassic>=0.4.7->notebook>=4.0.0->qgrid) (7.4.0)\n",
      "Requirement already satisfied: websocket-client in c:\\users\\chris\\documents\\1_spicy\\000_datadrivendollars\\ds-capstone\\.venv\\lib\\site-packages (from jupyter-server>=1.8->nbclassic>=0.4.7->notebook>=4.0.0->qgrid) (1.7.0)\n",
      "Requirement already satisfied: wcwidth in c:\\users\\chris\\documents\\1_spicy\\000_datadrivendollars\\ds-capstone\\.venv\\lib\\site-packages (from prompt-toolkit<3.1.0,>=3.0.41->ipython>=6.1.0->ipywidgets>=7.0.0->qgrid) (0.2.12)\n",
      "Requirement already satisfied: cffi>=1.0.1 in c:\\users\\chris\\documents\\1_spicy\\000_datadrivendollars\\ds-capstone\\.venv\\lib\\site-packages (from argon2-cffi-bindings->argon2-cffi->notebook>=4.0.0->qgrid) (1.16.0)\n",
      "Requirement already satisfied: soupsieve>1.2 in c:\\users\\chris\\documents\\1_spicy\\000_datadrivendollars\\ds-capstone\\.venv\\lib\\site-packages (from beautifulsoup4->nbconvert>=5->notebook>=4.0.0->qgrid) (2.5)\n",
      "Requirement already satisfied: executing>=1.2.0 in c:\\users\\chris\\documents\\1_spicy\\000_datadrivendollars\\ds-capstone\\.venv\\lib\\site-packages (from stack-data->ipython>=6.1.0->ipywidgets>=7.0.0->qgrid) (2.0.1)\n",
      "Requirement already satisfied: asttokens>=2.1.0 in c:\\users\\chris\\documents\\1_spicy\\000_datadrivendollars\\ds-capstone\\.venv\\lib\\site-packages (from stack-data->ipython>=6.1.0->ipywidgets>=7.0.0->qgrid) (2.4.1)\n",
      "Requirement already satisfied: pure-eval in c:\\users\\chris\\documents\\1_spicy\\000_datadrivendollars\\ds-capstone\\.venv\\lib\\site-packages (from stack-data->ipython>=6.1.0->ipywidgets>=7.0.0->qgrid) (0.2.2)\n",
      "Requirement already satisfied: idna>=2.8 in c:\\users\\chris\\documents\\1_spicy\\000_datadrivendollars\\ds-capstone\\.venv\\lib\\site-packages (from anyio>=3.1.0->jupyter-server>=1.8->nbclassic>=0.4.7->notebook>=4.0.0->qgrid) (3.6)\n",
      "Requirement already satisfied: sniffio>=1.1 in c:\\users\\chris\\documents\\1_spicy\\000_datadrivendollars\\ds-capstone\\.venv\\lib\\site-packages (from anyio>=3.1.0->jupyter-server>=1.8->nbclassic>=0.4.7->notebook>=4.0.0->qgrid) (1.3.0)\n",
      "Requirement already satisfied: pycparser in c:\\users\\chris\\documents\\1_spicy\\000_datadrivendollars\\ds-capstone\\.venv\\lib\\site-packages (from cffi>=1.0.1->argon2-cffi-bindings->argon2-cffi->notebook>=4.0.0->qgrid) (2.21)\n",
      "Requirement already satisfied: python-json-logger>=2.0.4 in c:\\users\\chris\\documents\\1_spicy\\000_datadrivendollars\\ds-capstone\\.venv\\lib\\site-packages (from jupyter-events>=0.9.0->jupyter-server>=1.8->nbclassic>=0.4.7->notebook>=4.0.0->qgrid) (2.0.7)\n",
      "Requirement already satisfied: pyyaml>=5.3 in c:\\users\\chris\\documents\\1_spicy\\000_datadrivendollars\\ds-capstone\\.venv\\lib\\site-packages (from jupyter-events>=0.9.0->jupyter-server>=1.8->nbclassic>=0.4.7->notebook>=4.0.0->qgrid) (6.0.1)\n",
      "Requirement already satisfied: rfc3339-validator in c:\\users\\chris\\documents\\1_spicy\\000_datadrivendollars\\ds-capstone\\.venv\\lib\\site-packages (from jupyter-events>=0.9.0->jupyter-server>=1.8->nbclassic>=0.4.7->notebook>=4.0.0->qgrid) (0.1.4)\n",
      "Requirement already satisfied: rfc3986-validator>=0.1.1 in c:\\users\\chris\\documents\\1_spicy\\000_datadrivendollars\\ds-capstone\\.venv\\lib\\site-packages (from jupyter-events>=0.9.0->jupyter-server>=1.8->nbclassic>=0.4.7->notebook>=4.0.0->qgrid) (0.1.1)\n",
      "Requirement already satisfied: fqdn in c:\\users\\chris\\documents\\1_spicy\\000_datadrivendollars\\ds-capstone\\.venv\\lib\\site-packages (from jsonschema[format-nongpl]>=4.18.0->jupyter-events>=0.9.0->jupyter-server>=1.8->nbclassic>=0.4.7->notebook>=4.0.0->qgrid) (1.5.1)\n",
      "Requirement already satisfied: isoduration in c:\\users\\chris\\documents\\1_spicy\\000_datadrivendollars\\ds-capstone\\.venv\\lib\\site-packages (from jsonschema[format-nongpl]>=4.18.0->jupyter-events>=0.9.0->jupyter-server>=1.8->nbclassic>=0.4.7->notebook>=4.0.0->qgrid) (20.11.0)\n",
      "Requirement already satisfied: jsonpointer>1.13 in c:\\users\\chris\\documents\\1_spicy\\000_datadrivendollars\\ds-capstone\\.venv\\lib\\site-packages (from jsonschema[format-nongpl]>=4.18.0->jupyter-events>=0.9.0->jupyter-server>=1.8->nbclassic>=0.4.7->notebook>=4.0.0->qgrid) (2.4)\n",
      "Requirement already satisfied: uri-template in c:\\users\\chris\\documents\\1_spicy\\000_datadrivendollars\\ds-capstone\\.venv\\lib\\site-packages (from jsonschema[format-nongpl]>=4.18.0->jupyter-events>=0.9.0->jupyter-server>=1.8->nbclassic>=0.4.7->notebook>=4.0.0->qgrid) (1.3.0)\n",
      "Requirement already satisfied: webcolors>=1.11 in c:\\users\\chris\\documents\\1_spicy\\000_datadrivendollars\\ds-capstone\\.venv\\lib\\site-packages (from jsonschema[format-nongpl]>=4.18.0->jupyter-events>=0.9.0->jupyter-server>=1.8->nbclassic>=0.4.7->notebook>=4.0.0->qgrid) (1.13)\n",
      "Requirement already satisfied: arrow>=0.15.0 in c:\\users\\chris\\documents\\1_spicy\\000_datadrivendollars\\ds-capstone\\.venv\\lib\\site-packages (from isoduration->jsonschema[format-nongpl]>=4.18.0->jupyter-events>=0.9.0->jupyter-server>=1.8->nbclassic>=0.4.7->notebook>=4.0.0->qgrid) (1.3.0)\n",
      "Requirement already satisfied: types-python-dateutil>=2.8.10 in c:\\users\\chris\\documents\\1_spicy\\000_datadrivendollars\\ds-capstone\\.venv\\lib\\site-packages (from arrow>=0.15.0->isoduration->jsonschema[format-nongpl]>=4.18.0->jupyter-events>=0.9.0->jupyter-server>=1.8->nbclassic>=0.4.7->notebook>=4.0.0->qgrid) (2.8.19.14)\n"
     ]
    }
   ],
   "source": [
    "\n",
    "!pip install qgrid"
   ]
  },
  {
   "cell_type": "code",
   "execution_count": 24,
   "id": "49d610e6-f443-45d4-b319-a235ec603060",
   "metadata": {
    "tags": []
   },
   "outputs": [],
   "source": [
    "import pandas as pd\n",
    "import numpy as np\n",
    "import matplotlib.pyplot as plt\n",
    "import yfinance as yf\n",
    "import h5py\n",
    "from sklearn.preprocessing import MinMaxScaler\n",
    "from tensorflow.keras.models import load_model\n",
    "from tensorflow.keras.models import Model\n",
    "from tensorflow.keras.layers import Dense, LSTM, Attention, Input\n",
    "from livelossplot import PlotLossesKeras"
   ]
  },
  {
   "cell_type": "code",
   "execution_count": 2,
   "id": "7518d2b7-15cf-4ec3-97ad-7ce5d790da88",
   "metadata": {
    "tags": []
   },
   "outputs": [
    {
     "name": "stdout",
     "output_type": "stream",
     "text": [
      "[*********************100%%**********************]  1 of 1 completed\n",
      "<class 'pandas.core.frame.DataFrame'>\n",
      "DatetimeIndex: 5276 entries, 2003-01-02 to 2023-12-15\n",
      "Data columns (total 6 columns):\n",
      " #   Column     Non-Null Count  Dtype  \n",
      "---  ------     --------------  -----  \n",
      " 0   Open       5276 non-null   float64\n",
      " 1   High       5276 non-null   float64\n",
      " 2   Low        5276 non-null   float64\n",
      " 3   Close      5276 non-null   float64\n",
      " 4   Adj Close  5276 non-null   float64\n",
      " 5   Volume     5276 non-null   int64  \n",
      "dtypes: float64(5), int64(1)\n",
      "memory usage: 288.5 KB\n"
     ]
    }
   ],
   "source": [
    "# Specify the stock symbol and the date range\n",
    "stock_symbol = \"AAPL\"\n",
    "start_date = \"2003-01-01\"\n",
    "end_date = \"2023-12-18\"\n",
    "\n",
    "# Fetch the stock data\n",
    "apple_cl = yf.download(stock_symbol, start=start_date, end=end_date)\n",
    "\n",
    "#apple_cl.set_index(\"Date\", inplace=True)\n",
    "\n",
    "# Display the stock data\n",
    "apple_cl.head()\n",
    "apple_cl.info()"
   ]
  },
  {
   "cell_type": "code",
   "execution_count": 3,
   "id": "a02856e8-8634-4a27-9b0c-4d80a223f9ee",
   "metadata": {
    "tags": []
   },
   "outputs": [
    {
     "name": "stdout",
     "output_type": "stream",
     "text": [
      "[*********************100%%**********************]  1 of 1 completed\n",
      "                Open      High       Low     Close  Adj Close     Volume\n",
      "Date                                                                    \n",
      "2003-01-02  0.256429  0.266429  0.256250  0.264286   0.224030  181428800\n",
      "2003-01-03  0.264286  0.266607  0.260536  0.266071   0.225543  147453600\n",
      "2003-01-06  0.268393  0.274643  0.265714  0.266071   0.225543  390532800\n",
      "2003-01-07  0.264107  0.267857  0.258393  0.265179   0.224787  342344800\n",
      "2003-01-08  0.260357  0.262679  0.257857  0.259821   0.220245  229644800\n"
     ]
    }
   ],
   "source": [
    "import yfinance as yf\n",
    "from sklearn.preprocessing import MinMaxScaler\n",
    "\n",
    "# Specify the stock symbol and the date range\n",
    "stock_symbol = \"AAPL\"\n",
    "start_date = \"2003-01-01\"\n",
    "end_date = \"2023-12-18\"\n",
    "\n",
    "# Fetch the stock data\n",
    "apple_cl = yf.download(stock_symbol, start=start_date, end=end_date)\n",
    "\n",
    "# Display the stock data with the current index\n",
    "print(apple_cl.head())\n",
    "\n",
    "# Check if 'Close' column is present\n",
    "if 'Close' in apple_cl.columns:\n",
    "    # Preprocess the dataset\n",
    "    data = apple_cl['Close'].values.reshape(-1, 1)\n",
    "\n",
    "    # Normalize the data\n",
    "    scaler = MinMaxScaler(feature_range=(0, 8))\n",
    "    scaled_data = scaler.fit_transform(data)\n",
    "\n",
    "    # Continue with your code using 'scaled_data'\n",
    "    # ...\n",
    "\n",
    "else:\n",
    "    print(\"Error: 'Close' column not found in the DataFrame.\")\n",
    "\n"
   ]
  },
  {
   "cell_type": "code",
   "execution_count": 4,
   "id": "ec65e02a-d42c-4e3b-8585-8f4a3e611d5e",
   "metadata": {
    "tags": []
   },
   "outputs": [
    {
     "name": "stdout",
     "output_type": "stream",
     "text": [
      "Index(['Open', 'High', 'Low', 'Close', 'Adj Close', 'Volume'], dtype='object')\n"
     ]
    }
   ],
   "source": [
    "print(apple_cl.columns)\n"
   ]
  },
  {
   "cell_type": "code",
   "execution_count": 5,
   "id": "7667d408-e8e8-4802-bbda-e396f355dcf6",
   "metadata": {
    "tags": []
   },
   "outputs": [],
   "source": [
    "# Split the dataset into training and testing sets\n",
    "train_size = int(0.8 * len(scaled_data))\n",
    "train_data = scaled_data[:train_size]\n",
    "test_data = scaled_data[train_size:]"
   ]
  },
  {
   "cell_type": "code",
   "execution_count": 6,
   "id": "3aba71b7-d2d5-4b91-b69f-053c55e0ac59",
   "metadata": {
    "tags": []
   },
   "outputs": [
    {
     "name": "stdout",
     "output_type": "stream",
     "text": [
      "WARNING:tensorflow:From C:\\Users\\chris\\Documents\\1_spicy\\000_datadrivendollars\\ds-capstone\\.venv\\Lib\\site-packages\\keras\\src\\backend.py:1398: The name tf.executing_eagerly_outside_functions is deprecated. Please use tf.compat.v1.executing_eagerly_outside_functions instead.\n",
      "\n"
     ]
    }
   ],
   "source": [
    "# Load the saved model\n",
    "base_model = load_model(\"model_ttest_v2.h5\")"
   ]
  },
  {
   "cell_type": "code",
   "execution_count": 7,
   "id": "69862914-71a1-402d-9f51-be0999387b48",
   "metadata": {
    "tags": []
   },
   "outputs": [
    {
     "name": "stdout",
     "output_type": "stream",
     "text": [
      "Input Length: 1\n",
      "Output Length: 3\n"
     ]
    }
   ],
   "source": [
    "# Print the input and output shapes\n",
    "input_shape = base_model.input_shape\n",
    "output_shape = base_model.output_shape\n",
    "\n",
    "input_length = input_shape[1]\n",
    "output_length = output_shape[1]\n",
    "\n",
    "print(\"Input Length:\", input_length)\n",
    "print(\"Output Length:\", output_length)"
   ]
  },
  {
   "cell_type": "code",
   "execution_count": 8,
   "id": "8f82e3d8-b829-44dc-8612-7448654db426",
   "metadata": {
    "tags": []
   },
   "outputs": [
    {
     "name": "stdout",
     "output_type": "stream",
     "text": [
      "Model: \"sequential_29\"\n",
      "_________________________________________________________________\n",
      " Layer (type)                Output Shape              Param #   \n",
      "=================================================================\n",
      " lstm_29 (LSTM)              (None, 150)               95400     \n",
      "                                                                 \n",
      " dense_29 (Dense)            (None, 3)                 453       \n",
      "                                                                 \n",
      "=================================================================\n",
      "Total params: 95853 (374.43 KB)\n",
      "Trainable params: 95853 (374.43 KB)\n",
      "Non-trainable params: 0 (0.00 Byte)\n",
      "_________________________________________________________________\n"
     ]
    }
   ],
   "source": [
    "# Display the model architecture\n",
    "base_model.summary()"
   ]
  },
  {
   "cell_type": "code",
   "execution_count": 9,
   "id": "e3c50c36-2122-47d5-8f31-cf65b1290290",
   "metadata": {
    "tags": []
   },
   "outputs": [
    {
     "name": "stdout",
     "output_type": "stream",
     "text": [
      "Before Reshaping:\n",
      "train_X shape: (4217, 1, 1)\n",
      "test_X shape: (1053, 1, 1)\n"
     ]
    }
   ],
   "source": [
    "## Create input and output sequences\n",
    "input_length = 1\n",
    "output_length = 3\n",
    "\n",
    "def create_sequences(data, input_length, output_length):\n",
    "    X = []\n",
    "    y = []\n",
    "    for i in range(len(data) - input_length - output_length + 1):\n",
    "        X.append(data[i:i + input_length])\n",
    "        y.append(data[i + input_length:i + input_length + output_length])\n",
    "    return np.array(X), np.array(y)\n",
    "\n",
    "\n",
    "train_X, train_y = create_sequences(train_data, input_length, output_length)\n",
    "test_X, test_y = create_sequences(test_data, input_length, output_length)\n",
    "print(\"Before Reshaping:\")\n",
    "print(\"train_X shape:\", train_X.shape)\n",
    "print(\"test_X shape:\", test_X.shape)"
   ]
  },
  {
   "cell_type": "code",
   "execution_count": 10,
   "id": "26fd78c6-24f5-4d43-88d3-0a8bcbbd3c25",
   "metadata": {
    "tags": []
   },
   "outputs": [
    {
     "name": "stdout",
     "output_type": "stream",
     "text": [
      "After Reshaping:\n",
      "train_X shape: (4217, 1, 1)\n",
      "test_X shape: (1053, 1, 1)\n"
     ]
    }
   ],
   "source": [
    "# Reshape the data\n",
    "train_X = train_X.reshape((train_X.shape[0], train_X.shape[1], 1))\n",
    "test_X = test_X.reshape((test_X.shape[0], test_X.shape[1], 1))\n",
    "\n",
    "# Print shapes after reshaping\n",
    "print(\"After Reshaping:\")\n",
    "print(\"train_X shape:\", train_X.shape)\n",
    "print(\"test_X shape:\", test_X.shape)"
   ]
  },
  {
   "cell_type": "code",
   "execution_count": 11,
   "id": "d6f719e2-c037-496f-8a6a-c1c353c5a3d8",
   "metadata": {
    "tags": []
   },
   "outputs": [],
   "source": [
    "# Freeze the layers\n",
    "for layer in base_model.layers:\n",
    "    layer.trainable = False"
   ]
  },
  {
   "cell_type": "code",
   "execution_count": 12,
   "id": "cd9c8e4b-e908-4ab5-b962-1b42a5df76d5",
   "metadata": {
    "tags": []
   },
   "outputs": [],
   "source": [
    "base_model.trainable = False"
   ]
  },
  {
   "cell_type": "code",
   "execution_count": 13,
   "id": "bc332ce4-a455-4ac9-a0d3-de9f15d08e33",
   "metadata": {
    "tags": []
   },
   "outputs": [
    {
     "name": "stdout",
     "output_type": "stream",
     "text": [
      "Model: \"model\"\n",
      "__________________________________________________________________________________________________\n",
      " Layer (type)                Output Shape                 Param #   Connected to                  \n",
      "==================================================================================================\n",
      " input_1 (InputLayer)        [(None, 1, 8)]               0         []                            \n",
      "                                                                                                  \n",
      " sequential_29 (Sequential)  (None, 3)                    95853     ['input_1[0][0]']             \n",
      "                                                                                                  \n",
      " attention (Attention)       (None, 3)                    0         ['sequential_29[0][0]',       \n",
      "                                                                     'sequential_29[0][0]']       \n",
      "                                                                                                  \n",
      " dense (Dense)               (None, 128)                  512       ['attention[0][0]']           \n",
      "                                                                                                  \n",
      " dense_1 (Dense)             (None, 1)                    129       ['dense[0][0]']               \n",
      "                                                                                                  \n",
      "==================================================================================================\n",
      "Total params: 96494 (376.93 KB)\n",
      "Trainable params: 641 (2.50 KB)\n",
      "Non-trainable params: 95853 (374.43 KB)\n",
      "__________________________________________________________________________________________________\n"
     ]
    }
   ],
   "source": [
    "# Create the new model by adding layers to the base model\n",
    "new_model_input = Input(shape=base_model.input_shape[1:])  # Exclude the batch size dimension\n",
    "output = base_model(new_model_input)\n",
    "\n",
    "# Add the attention layer\n",
    "output = Attention()([output, output])\n",
    "\n",
    "# Add additional layers to the new model\n",
    "output = Dense(128, activation='relu')(output)\n",
    "output = Dense(1, activation='relu')(output)\n",
    "\n",
    "new_model = Model(inputs=new_model_input, outputs=output)\n",
    "\n",
    "# Display the new_model architecture\n",
    "new_model.summary()"
   ]
  },
  {
   "cell_type": "code",
   "execution_count": 14,
   "id": "fd8702df-b89a-4a3b-93a6-f31ba7816405",
   "metadata": {
    "tags": []
   },
   "outputs": [],
   "source": [
    "train_X = train_X.reshape((train_X.shape[0], train_X.shape[1], 1))\n",
    "test_X = test_X.reshape((test_X.shape[0], test_X.shape[1], 1))"
   ]
  },
  {
   "cell_type": "code",
   "execution_count": 15,
   "id": "dd5f560d-c975-4d64-93a4-e31e9039d82b",
   "metadata": {
    "tags": []
   },
   "outputs": [
    {
     "name": "stdout",
     "output_type": "stream",
     "text": [
      "WARNING:tensorflow:From C:\\Users\\chris\\Documents\\1_spicy\\000_datadrivendollars\\ds-capstone\\.venv\\Lib\\site-packages\\keras\\src\\optimizers\\__init__.py:309: The name tf.train.Optimizer is deprecated. Please use tf.compat.v1.train.Optimizer instead.\n",
      "\n"
     ]
    }
   ],
   "source": [
    "# Compile the model\n",
    "new_model.compile(optimizer='adam', loss='mean_squared_error')"
   ]
  },
  {
   "cell_type": "code",
   "execution_count": 30,
   "id": "db155619-30c3-45b3-a829-148c4dd6ee3c",
   "metadata": {
    "tags": []
   },
   "outputs": [
    {
     "ename": "ValueError",
     "evalue": "in user code:\n\n    File \"C:\\Users\\chris\\Documents\\1_spicy\\000_datadrivendollars\\ds-capstone\\.venv\\Lib\\site-packages\\keras\\src\\engine\\training.py\", line 1401, in train_function  *\n        return step_function(self, iterator)\n    File \"C:\\Users\\chris\\Documents\\1_spicy\\000_datadrivendollars\\ds-capstone\\.venv\\Lib\\site-packages\\keras\\src\\engine\\training.py\", line 1384, in step_function  **\n        outputs = model.distribute_strategy.run(run_step, args=(data,))\n    File \"C:\\Users\\chris\\Documents\\1_spicy\\000_datadrivendollars\\ds-capstone\\.venv\\Lib\\site-packages\\keras\\src\\engine\\training.py\", line 1373, in run_step  **\n        outputs = model.train_step(data)\n    File \"C:\\Users\\chris\\Documents\\1_spicy\\000_datadrivendollars\\ds-capstone\\.venv\\Lib\\site-packages\\keras\\src\\engine\\training.py\", line 1150, in train_step\n        y_pred = self(x, training=True)\n    File \"C:\\Users\\chris\\Documents\\1_spicy\\000_datadrivendollars\\ds-capstone\\.venv\\Lib\\site-packages\\keras\\src\\utils\\traceback_utils.py\", line 70, in error_handler\n        raise e.with_traceback(filtered_tb) from None\n    File \"C:\\Users\\chris\\Documents\\1_spicy\\000_datadrivendollars\\ds-capstone\\.venv\\Lib\\site-packages\\keras\\src\\engine\\input_spec.py\", line 298, in assert_input_compatibility\n        raise ValueError(\n\n    ValueError: Exception encountered when calling layer 'sequential_29' (type Sequential).\n    \n    Input 0 of layer \"lstm_29\" is incompatible with the layer: expected shape=(None, None, 8), found shape=(None, 1, 1)\n    \n    Call arguments received by layer 'sequential_29' (type Sequential):\n      • inputs=tf.Tensor(shape=(None, 1, 1), dtype=float32)\n      • training=True\n      • mask=None\n",
     "output_type": "error",
     "traceback": [
      "\u001b[1;31m---------------------------------------------------------------------------\u001b[0m",
      "\u001b[1;31mValueError\u001b[0m                                Traceback (most recent call last)",
      "Cell \u001b[1;32mIn[30], line 4\u001b[0m\n\u001b[0;32m      2\u001b[0m initial_epochs \u001b[38;5;241m=\u001b[39m \u001b[38;5;241m10\u001b[39m\n\u001b[0;32m      3\u001b[0m \u001b[38;5;66;03m#history = new_model.fit(train_X, train_y, epochs=initial_epochs, batch_size=32, validation_data=(test_X, test_y))\u001b[39;00m\n\u001b[1;32m----> 4\u001b[0m history \u001b[38;5;241m=\u001b[39m \u001b[43mnew_model\u001b[49m\u001b[38;5;241;43m.\u001b[39;49m\u001b[43mfit\u001b[49m\u001b[43m(\u001b[49m\u001b[43mtrain_X\u001b[49m\u001b[43m,\u001b[49m\u001b[43m \u001b[49m\u001b[43mtrain_y\u001b[49m\u001b[43m,\u001b[49m\u001b[43mepochs\u001b[49m\u001b[38;5;241;43m=\u001b[39;49m\u001b[38;5;241;43m10\u001b[39;49m\u001b[43m,\u001b[49m\u001b[43mvalidation_data\u001b[49m\u001b[38;5;241;43m=\u001b[39;49m\u001b[43m(\u001b[49m\u001b[43mtest_X\u001b[49m\u001b[43m,\u001b[49m\u001b[43m \u001b[49m\u001b[43mtest_y\u001b[49m\u001b[43m)\u001b[49m\u001b[43m,\u001b[49m\u001b[43mcallbacks\u001b[49m\u001b[38;5;241;43m=\u001b[39;49m\u001b[43m[\u001b[49m\u001b[43mPlotLossesKeras\u001b[49m\u001b[43m(\u001b[49m\u001b[43m)\u001b[49m\u001b[43m]\u001b[49m\u001b[43m,\u001b[49m\u001b[43mverbose\u001b[49m\u001b[38;5;241;43m=\u001b[39;49m\u001b[38;5;241;43m0\u001b[39;49m\u001b[43m)\u001b[49m\n",
      "File \u001b[1;32m~\\Documents\\1_spicy\\000_datadrivendollars\\ds-capstone\\.venv\\Lib\\site-packages\\keras\\src\\utils\\traceback_utils.py:70\u001b[0m, in \u001b[0;36mfilter_traceback.<locals>.error_handler\u001b[1;34m(*args, **kwargs)\u001b[0m\n\u001b[0;32m     67\u001b[0m     filtered_tb \u001b[38;5;241m=\u001b[39m _process_traceback_frames(e\u001b[38;5;241m.\u001b[39m__traceback__)\n\u001b[0;32m     68\u001b[0m     \u001b[38;5;66;03m# To get the full stack trace, call:\u001b[39;00m\n\u001b[0;32m     69\u001b[0m     \u001b[38;5;66;03m# `tf.debugging.disable_traceback_filtering()`\u001b[39;00m\n\u001b[1;32m---> 70\u001b[0m     \u001b[38;5;28;01mraise\u001b[39;00m e\u001b[38;5;241m.\u001b[39mwith_traceback(filtered_tb) \u001b[38;5;28;01mfrom\u001b[39;00m \u001b[38;5;28;01mNone\u001b[39;00m\n\u001b[0;32m     71\u001b[0m \u001b[38;5;28;01mfinally\u001b[39;00m:\n\u001b[0;32m     72\u001b[0m     \u001b[38;5;28;01mdel\u001b[39;00m filtered_tb\n",
      "File \u001b[1;32m~\\AppData\\Local\\Temp\\__autograph_generated_filek06dd00w.py:15\u001b[0m, in \u001b[0;36mouter_factory.<locals>.inner_factory.<locals>.tf__train_function\u001b[1;34m(iterator)\u001b[0m\n\u001b[0;32m     13\u001b[0m \u001b[38;5;28;01mtry\u001b[39;00m:\n\u001b[0;32m     14\u001b[0m     do_return \u001b[38;5;241m=\u001b[39m \u001b[38;5;28;01mTrue\u001b[39;00m\n\u001b[1;32m---> 15\u001b[0m     retval_ \u001b[38;5;241m=\u001b[39m ag__\u001b[38;5;241m.\u001b[39mconverted_call(ag__\u001b[38;5;241m.\u001b[39mld(step_function), (ag__\u001b[38;5;241m.\u001b[39mld(\u001b[38;5;28mself\u001b[39m), ag__\u001b[38;5;241m.\u001b[39mld(iterator)), \u001b[38;5;28;01mNone\u001b[39;00m, fscope)\n\u001b[0;32m     16\u001b[0m \u001b[38;5;28;01mexcept\u001b[39;00m:\n\u001b[0;32m     17\u001b[0m     do_return \u001b[38;5;241m=\u001b[39m \u001b[38;5;28;01mFalse\u001b[39;00m\n",
      "\u001b[1;31mValueError\u001b[0m: in user code:\n\n    File \"C:\\Users\\chris\\Documents\\1_spicy\\000_datadrivendollars\\ds-capstone\\.venv\\Lib\\site-packages\\keras\\src\\engine\\training.py\", line 1401, in train_function  *\n        return step_function(self, iterator)\n    File \"C:\\Users\\chris\\Documents\\1_spicy\\000_datadrivendollars\\ds-capstone\\.venv\\Lib\\site-packages\\keras\\src\\engine\\training.py\", line 1384, in step_function  **\n        outputs = model.distribute_strategy.run(run_step, args=(data,))\n    File \"C:\\Users\\chris\\Documents\\1_spicy\\000_datadrivendollars\\ds-capstone\\.venv\\Lib\\site-packages\\keras\\src\\engine\\training.py\", line 1373, in run_step  **\n        outputs = model.train_step(data)\n    File \"C:\\Users\\chris\\Documents\\1_spicy\\000_datadrivendollars\\ds-capstone\\.venv\\Lib\\site-packages\\keras\\src\\engine\\training.py\", line 1150, in train_step\n        y_pred = self(x, training=True)\n    File \"C:\\Users\\chris\\Documents\\1_spicy\\000_datadrivendollars\\ds-capstone\\.venv\\Lib\\site-packages\\keras\\src\\utils\\traceback_utils.py\", line 70, in error_handler\n        raise e.with_traceback(filtered_tb) from None\n    File \"C:\\Users\\chris\\Documents\\1_spicy\\000_datadrivendollars\\ds-capstone\\.venv\\Lib\\site-packages\\keras\\src\\engine\\input_spec.py\", line 298, in assert_input_compatibility\n        raise ValueError(\n\n    ValueError: Exception encountered when calling layer 'sequential_29' (type Sequential).\n    \n    Input 0 of layer \"lstm_29\" is incompatible with the layer: expected shape=(None, None, 8), found shape=(None, 1, 1)\n    \n    Call arguments received by layer 'sequential_29' (type Sequential):\n      • inputs=tf.Tensor(shape=(None, 1, 1), dtype=float32)\n      • training=True\n      • mask=None\n"
     ]
    }
   ],
   "source": [
    "## Train the model\n",
    "initial_epochs = 10\n",
    "#history = new_model.fit(train_X, train_y, epochs=initial_epochs, batch_size=32, validation_data=(test_X, test_y))\n",
    "history = new_model.fit(train_X, train_y,epochs=10,validation_data=(test_X, test_y),callbacks=[PlotLossesKeras()],verbose=0)"
   ]
  },
  {
   "cell_type": "code",
   "execution_count": null,
   "id": "b3104ff5-ed58-4ed4-bd17-c7045992d261",
   "metadata": {},
   "outputs": [],
   "source": [
    "# Evaluate the model on the test set before training\n",
    "loss0 = new_model.evaluate(test_X, test_y)\n",
    "print(\"initial loss::\", loss0)"
   ]
  },
  {
   "cell_type": "code",
   "execution_count": null,
   "id": "b3b00d5d-cc9e-458d-bdd5-0f578f68ef64",
   "metadata": {
    "tags": []
   },
   "outputs": [],
   "source": [
    "loss = history.history['loss']\n",
    "val_loss = history.history['val_loss']\n",
    "\n",
    "plt.plot(loss, label='Training Loss')\n",
    "plt.plot(val_loss, label='Validation Loss')\n",
    "plt.legend(loc='upper right')\n",
    "plt.ylabel('Mean Squared Error')\n",
    "#plt.ylim([0,1.0])\n",
    "plt.title('Training and Validation Loss')\n",
    "plt.xlabel('epoch')\n",
    "plt.show()"
   ]
  },
  {
   "cell_type": "code",
   "execution_count": null,
   "id": "23c74ee9-f635-4644-964d-2474ee6f8ca1",
   "metadata": {},
   "outputs": [],
   "source": [
    "base_model.trainable = True"
   ]
  },
  {
   "cell_type": "code",
   "execution_count": null,
   "id": "86786428-8323-4c84-bccb-e9da7f43b09c",
   "metadata": {},
   "outputs": [],
   "source": [
    "# Let's take a look to see how many layers are in the base model\n",
    "print(\"Number of layers in the base model: \", len(base_model.layers))"
   ]
  },
  {
   "cell_type": "code",
   "execution_count": null,
   "id": "6c8f70f4-38b0-4337-8ecc-c779658c2842",
   "metadata": {},
   "outputs": [],
   "source": [
    "# Fine-tune from this layer onwards\n",
    "fine_tune_at = 2\n",
    "\n",
    "# Freeze all the layers before the `fine_tune_at` layer\n",
    "for layer in base_model.layers[:fine_tune_at]:\n",
    "    layer.trainable = False"
   ]
  },
  {
   "cell_type": "code",
   "execution_count": null,
   "id": "031a84b7-ed21-439c-9972-d907044b9ae8",
   "metadata": {},
   "outputs": [],
   "source": [
    "# Unfreeze the last few layers for fine-tuning\n",
    "unfreeze_layers = 3\n",
    "for layer in base_model.layers[-unfreeze_layers:]:\n",
    "    layer.trainable = True"
   ]
  },
  {
   "cell_type": "code",
   "execution_count": null,
   "id": "0339cb70-54e0-4df6-871d-d1e006acf08b",
   "metadata": {},
   "outputs": [],
   "source": [
    "# Compile the model\n",
    "new_model.compile(optimizer='adam', loss='mean_squared_error')"
   ]
  },
  {
   "cell_type": "code",
   "execution_count": null,
   "id": "1f2578ad-29fd-4bb2-9ea4-34d5206c427e",
   "metadata": {},
   "outputs": [],
   "source": [
    "# Displt the updated new_model architecture\n",
    "new_model.summary()"
   ]
  },
  {
   "cell_type": "code",
   "execution_count": null,
   "id": "d08506d3-f742-4051-a30a-41ea5982d0b4",
   "metadata": {},
   "outputs": [],
   "source": [
    "len(new_model.trainable_variables)"
   ]
  },
  {
   "cell_type": "code",
   "execution_count": null,
   "id": "9de8a3cb-b4d9-4b29-9b2b-5ef29a1e7bf0",
   "metadata": {},
   "outputs": [],
   "source": [
    "# Train the model with the fine-tuning process\n",
    "fine_tune_epochs = 10\n",
    "total_epochs =  initial_epochs + fine_tune_epochs\n",
    "\n",
    "history_fine = new_model.fit(train_X, train_y, epochs=total_epochs, initial_epoch=history.epoch[-1], batch_size=32, validation_data=(test_X, test_y))"
   ]
  },
  {
   "cell_type": "code",
   "execution_count": null,
   "id": "d155637d-5974-4b71-9c3c-489bff54cacf",
   "metadata": {},
   "outputs": [],
   "source": [
    "# visualize the loss curve of the training and validation\n",
    "loss += history_fine.history['loss']\n",
    "val_loss += history_fine.history['val_loss']\n",
    "\n",
    "plt.figure(figsize=(8, 8))\n",
    "plt.plot(loss, label='Training Loss')\n",
    "plt.plot(val_loss, label='Validation Loss')\n",
    "# plt.ylim([0, 1.0])\n",
    "plt.plot([initial_epochs-1,initial_epochs-1],\n",
    "         plt.ylim(), label='Start Fine Tuning')\n",
    "plt.legend(loc='upper right')\n",
    "plt.title('Training and Validation Loss')\n",
    "plt.xlabel('epoch')\n",
    "plt.show()"
   ]
  },
  {
   "cell_type": "code",
   "execution_count": null,
   "id": "b4ebcf26-6771-43d2-ae81-79d8be8292a1",
   "metadata": {},
   "outputs": [],
   "source": [
    "# Evaluate the model on the test set after fine-tuning training\n",
    "loss = new_model.evaluate(test_X, test_y)\n",
    "print(\"loss::\", loss)"
   ]
  },
  {
   "cell_type": "code",
   "execution_count": null,
   "id": "6eb6f90f-3375-4d01-a85a-3e0c151f226a",
   "metadata": {
    "tags": []
   },
   "outputs": [],
   "source": [
    "# Get predictions for the test set\n",
    "predictions = new_model.predict(test_X)\n",
    "\n",
    "# Reshape the predictions array\n",
    "predictions = predictions.reshape(-1, output_length)\n",
    "\n",
    "# Rescale the predictions and actual values\n",
    "predictions = scaler.inverse_transform(predictions)\n",
    "actual_values = scaler.inverse_transform(test_y.reshape(-1, output_length))\n",
    "\n",
    "# Flatten the arrays for plotting\n",
    "predictions = predictions.flatten()\n",
    "actual_values = actual_values.flatten()\n",
    "\n",
    "# Plot the predictions and actual values\n",
    "plt.figure(figsize=(10, 6))\n",
    "plt.plot(predictions, label='Predictions')\n",
    "plt.plot(actual_values, label='Actual Values')\n",
    "plt.xlabel('Time')\n",
    "plt.ylabel('Temperature')\n",
    "plt.title('Predictions vs Actual Values')\n",
    "plt.legend()\n",
    "plt.show()"
   ]
  }
 ],
 "metadata": {
  "kernelspec": {
   "display_name": "Python 3 (ipykernel)",
   "language": "python",
   "name": "python3"
  },
  "language_info": {
   "codemirror_mode": {
    "name": "ipython",
    "version": 3
   },
   "file_extension": ".py",
   "mimetype": "text/x-python",
   "name": "python",
   "nbconvert_exporter": "python",
   "pygments_lexer": "ipython3",
   "version": "3.11.3"
  }
 },
 "nbformat": 4,
 "nbformat_minor": 5
}
