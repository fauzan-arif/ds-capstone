{
 "cells": [
  {
   "cell_type": "code",
   "execution_count": 3,
   "id": "ec5cfdfa-901c-4f8b-9358-64a1e3e97fee",
   "metadata": {
    "tags": []
   },
   "outputs": [
    {
     "name": "stdout",
     "output_type": "stream",
     "text": [
      "Requirement already satisfied: feedparser in /Users/kevinmelchert/Spiced-Acadamy/ds-capstone/.venv/lib/python3.11/site-packages (6.0.11)\n",
      "Requirement already satisfied: sgmllib3k in /Users/kevinmelchert/Spiced-Acadamy/ds-capstone/.venv/lib/python3.11/site-packages (from feedparser) (1.0.0)\n"
     ]
    }
   ],
   "source": [
    "!pip install feedparser"
   ]
  },
  {
   "cell_type": "code",
   "execution_count": 3,
   "id": "ef99868a-7494-4557-97c7-ffc036dc78eb",
   "metadata": {
    "tags": []
   },
   "outputs": [],
   "source": [
    "import feedparser\n",
    "import os\n",
    "from dotenv import load_dotenv\n",
    "from pymongo import MongoClient\n",
    "from pymongo.errors import ConnectionFailure\n",
    "from bson.objectid import ObjectId\n",
    "\n",
    "load_dotenv('../.env');"
   ]
  },
  {
   "cell_type": "code",
   "execution_count": 4,
   "id": "859cdfdd-7ea4-4da9-985e-3c37bc7f47e9",
   "metadata": {
    "tags": []
   },
   "outputs": [],
   "source": [
    "mongo_host = os.environ.get(\"MONGO_HOST\")\n",
    "mongo_user = os.environ.get(\"MONGO_USER\")\n",
    "mongo_pass = os.environ.get(\"MONGO_PASS\")\n",
    "mongo_url  = f\"mongodb+srv://{mongo_user}:{mongo_pass}@{mongo_host}/?retryWrites=true&w=majority\"\n",
    "\n",
    "def get_database(url, dbname, appname=None):\n",
    "    try:\n",
    "        # host and port default to 'localhost' and '27017'\n",
    "        # appname will appear in logs\n",
    "        client = MongoClient(url, appname=appname)\n",
    "        # try connection to the database\n",
    "        # The ping command is cheap and does not require auth.\n",
    "        client.admin.command('ping')\n",
    "        return client[dbname] \n",
    "    \n",
    "    except ConnectionFailure:\n",
    "        print(\"Error: MongoDB Server not available\")\n",
    "\n",
    "\n",
    "db = get_database(mongo_url, 'capstone', 'Capstone')\n"
   ]
  },
  {
   "cell_type": "code",
   "execution_count": 26,
   "id": "09cc6ffb-59f4-4999-9413-3a2fa275fcc6",
   "metadata": {
    "tags": []
   },
   "outputs": [],
   "source": [
    "# https://blog.investmentpal.com/rss-feeds-finance-sites\n",
    "feeds = {\n",
    "    'wsj' : 'https://feeds.a.dj.com/rss/RSSMarketsMain.xml',\n",
    "    'bloomberg' : 'https://feeds.bloomberg.com/markets/news.rss',\n",
    "    'marketwatch' : 'https://feeds.content.dowjones.io/public/rss/mw_realtimeheadlines',\n",
    "    'investopedia' : 'https://www.investopedia.com/feedbuilder/feed/getfeed?feedName=rss_articles',\n",
    "    'cnbc' : 'https://search.cnbc.com/rs/search/combinedcms/view.xml?partnerId=wrss01&id=10000664',\n",
    "    'huffpost' : 'https://www.huffpost.com/section/money/feed',\n",
    "    'cbs' : 'https://www.cbsnews.com/latest/rss/moneywatch',\n",
    "    'politico' : 'https://rss.politico.com/morningmoney.xml',\n",
    "    'thehill' : 'https://thehill.com/policy/finance/feed',\n",
    "    'time' : 'https://time.com/nextadvisor/feed',\n",
    "    'seattletimes' : 'https://www.seattletimes.com/business/feed',\n",
    "    'economist' : 'http://www.economist.com/feeds/print-sections/77/business.xml',\n",
    "    'nasdaq' : 'https://www.nasdaq.com/feed/rssoutbound?category=Stocks',\n",
    "    'cnn' : 'http://rss.cnn.com/rss/money_markets.rss',\n",
    "    'investors_daily' : 'https://www.investors.com/feed',\n",
    "    'fortune' : 'https://fortune.com/section/finance/feed',\n",
    "    'market_beat' : 'https://www.marketbeat.com/feed',\n",
    "    'kiplinger' : 'https://www.kiplinger.com/feed/all',\n",
    "    'money' : 'https://money.com/money/feed',\n",
    "    '247wallst' : 'https://247wallst.com/investing/feed',\n",
    "    'nakedcapitalism' : 'https://www.nakedcapitalism.com/feed',\n",
    "    'nar' : 'http://feeds.feedburner.com/nar/economists-outlook',\n",
    "    'storey' : 'https://storeys.com/money/feed',\n",
    "    'thinkadvisor' : 'https://feeds.feedblitz.com/ThinkAdvisor',\n",
    "    'investmentnews' : 'https://www.investmentnews.com/feed',\n",
    "    'dailyreckoning': 'https://dailyreckoning.com/feed',\n",
    "    'wealthretirement' : 'https://wealthyretirement.com/feed',\n",
    "}\n",
    "\n"
   ]
  },
  {
   "cell_type": "code",
   "execution_count": null,
   "id": "50cc2d87-fd2a-4a63-af16-dc69d9f0d3b9",
   "metadata": {},
   "outputs": [],
   "source": []
  },
  {
   "cell_type": "code",
   "execution_count": null,
   "id": "df7cb09c-87d2-4f74-b069-85e572c5e0f5",
   "metadata": {
    "tags": []
   },
   "outputs": [],
   "source": [
    "for name, feed in feeds.items():\n",
    "    d = feedparser.parse(feed)\n",
    "\n",
    "    for item in d['items']:\n",
    "        db.headlines.insert_one({\n",
    "            'channel': d['feed']['title'],\n",
    "            'title': item['title'],\n",
    "            'text': item['description'],\n",
    "            'date': item['published']\n",
    "        })\n"
   ]
  },
  {
   "cell_type": "code",
   "execution_count": null,
   "id": "98c216ff-8bd0-4550-8f35-780064afae52",
   "metadata": {},
   "outputs": [],
   "source": []
  }
 ],
 "metadata": {
  "kernelspec": {
   "display_name": "Python 3 (ipykernel)",
   "language": "python",
   "name": "python3"
  },
  "language_info": {
   "codemirror_mode": {
    "name": "ipython",
    "version": 3
   },
   "file_extension": ".py",
   "mimetype": "text/x-python",
   "name": "python",
   "nbconvert_exporter": "python",
   "pygments_lexer": "ipython3",
   "version": "3.11.3"
  }
 },
 "nbformat": 4,
 "nbformat_minor": 5
}
