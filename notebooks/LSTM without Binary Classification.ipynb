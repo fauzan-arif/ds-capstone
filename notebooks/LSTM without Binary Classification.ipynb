{
 "cells": [
  {
   "cell_type": "code",
   "execution_count": 1,
   "id": "a4d21028-2bed-4f24-89a9-19b1dc2cb7a9",
   "metadata": {
    "tags": []
   },
   "outputs": [],
   "source": [
    "import pandas as pd\n",
    "import numpy as np\n",
    "from sklearn.preprocessing import StandardScaler\n",
    "from sklearn.compose import ColumnTransformer\n",
    "from sklearn.pipeline import Pipeline\n",
    "from sklearn.impute import SimpleImputer\n",
    "from sklearn.preprocessing import StandardScaler\n",
    "from sklearn.preprocessing import MinMaxScaler\n",
    "from tensorflow.keras.models import Sequential\n",
    "from tensorflow.keras.layers import LSTM, Dense, Dropout\n",
    "from statsmodels.tsa.api import VAR\n",
    "from sklearn.metrics import mean_squared_error, r2_score\n",
    "import os\n",
    "from dotenv import load_dotenv\n",
    "import yfinance as yf\n",
    "import pandas as pd\n",
    "import pandas_ta as ta\n",
    "from scikeras.wrappers import KerasRegressor\n",
    "# Load environment variables from the .env file\n",
    "load_dotenv('../.env');\n",
    "\n",
    "# Data Viz. \n",
    "import statsmodels.formula.api as smf\n",
    "from statsmodels.tsa.seasonal import seasonal_decompose\n",
    "from scipy.ndimage import gaussian_filter\n",
    "from calendar import monthrange\n",
    "from calendar import month_name\n",
    "\n",
    "import matplotlib.pyplot as plt\n",
    "import matplotlib.patches as patches\n",
    "import seaborn as sns\n",
    "from sklearn.metrics import accuracy_score, confusion_matrix\n",
    "import requests\n",
    "import csv\n",
    "from itertools import permutations\n",
    "import matplotlib.pyplot as plt\n",
    "\n",
    "from sklearn.metrics import mean_squared_error\n",
    "from math import sqrt\n",
    "from statsmodels.tsa.stattools import adfuller,kpss\n",
    "from statsmodels.tsa.seasonal import seasonal_decompose\n",
    "from statsmodels.tsa.arima_model import ARIMA\n",
    "from statsmodels.graphics.tsaplots import plot_pacf\n",
    "\n",
    "import statsmodels.graphics.tsaplots as tsaplot\n",
    "from statsmodels.tsa.holtwinters import Holt, ExponentialSmoothing, SimpleExpSmoothing\n",
    "\n",
    "import warnings\n",
    "warnings.filterwarnings('ignore')"
   ]
  },
  {
   "cell_type": "code",
   "execution_count": 2,
   "id": "5c9ccde4-55ce-4e2d-8af1-619285c5cb06",
   "metadata": {
    "tags": []
   },
   "outputs": [],
   "source": [
    "import pandas as pd\n",
    "import numpy as np\n",
    "import yfinance as yf\n",
    "from ta import add_all_ta_features\n",
    "from sklearn.linear_model import LinearRegression\n",
    "\n",
    "def load_and_prepare(ticker, start_date, end_date):\n",
    "    # Fetch historical stock data\n",
    "    df = yf.download(ticker, start=start_date , end=end_date)\n",
    "\n",
    "    # Calculate daily returns\n",
    "    df['returns'] = df['Adj Close'].pct_change()\n",
    "\n",
    "    # Fetch market data (e.g., S&P 500)\n",
    "    market_data = yf.download('^GSPC', start=df.index.min(), end=df.index.max())\n",
    "    market_data['market_returns'] = market_data['Adj Close'].pct_change()\n",
    "\n",
    "    # Combine stock and market data\n",
    "    merged_data = pd.merge(df, market_data[['market_returns']], left_index=True, right_index=True, how='inner')\n",
    "\n",
    "    # Drop rows with missing values\n",
    "    merged_data.dropna(inplace=True)\n",
    "\n",
    "    # Initialize lists to store alpha and beta values\n",
    "    alpha_values = []\n",
    "    beta_values = []\n",
    "\n",
    "    # Set up X and y for linear regression\n",
    "    X = merged_data['market_returns'].values.reshape(-1, 1)\n",
    "    y = merged_data['returns'].values\n",
    "\n",
    "    # Iterate through the data to calculate alpha and beta for each day\n",
    "    for i in range(len(merged_data)):\n",
    "        X_i = X[:i + 1]\n",
    "        y_i = y[:i + 1]\n",
    "\n",
    "        # Fit linear regression model\n",
    "        model = LinearRegression()\n",
    "        model.fit(X_i, y_i)\n",
    "\n",
    "        # Extract alpha and beta for the current day\n",
    "        alpha_i = model.intercept_\n",
    "        beta_i = model.coef_[0]\n",
    "\n",
    "        alpha_values.append(alpha_i)\n",
    "        beta_values.append(beta_i)\n",
    "\n",
    "    # Add alpha and beta columns to the DataFrame\n",
    "    merged_data['alpha'] = alpha_values\n",
    "    merged_data['beta'] = beta_values\n",
    "\n",
    "    # Drop columns not needed for the final result\n",
    "    merged_data.drop(['returns', 'market_returns'], axis=1, inplace=True)\n",
    "\n",
    "    # Add technical analysis features\n",
    "    merged_data = add_all_ta_features(merged_data, open=\"Open\", high=\"High\", low=\"Low\", close=\"Close\", volume=\"Volume\", fillna=True)\n",
    "\n",
    "    # Calculate target and target class\n",
    "    merged_data['target'] = ((merged_data['Close'] - merged_data['Open']) / merged_data['Open']) * 100\n",
    "    merged_data['target'] = merged_data['target'].shift(-1)\n",
    " \n",
    "    merged_data['target_class'] = np.where(merged_data['target'] < 0, 0, 1)\n",
    "    \n",
    "    merged_data['target_next_close'] = merged_data['Close'].shift(-1)\n",
    "\n",
    "    # Drop rows with missing values\n",
    "    merged_data.dropna(inplace=True)\n",
    "\n",
    "    return merged_data\n",
    "\n",
    "\n"
   ]
  },
  {
   "cell_type": "code",
   "execution_count": 3,
   "id": "ec2d5bc1-2348-440c-be9f-27c00751e652",
   "metadata": {
    "tags": []
   },
   "outputs": [],
   "source": [
    "from sklearn.model_selection import train_test_split"
   ]
  },
  {
   "cell_type": "code",
   "execution_count": 4,
   "id": "02d29408-36f8-45e3-972e-0512a1913941",
   "metadata": {
    "tags": []
   },
   "outputs": [
    {
     "name": "stdout",
     "output_type": "stream",
     "text": [
      "[*********************100%%**********************]  1 of 1 completed\n",
      "[*********************100%%**********************]  1 of 1 completed\n"
     ]
    },
    {
     "name": "stderr",
     "output_type": "stream",
     "text": [
      "2024-01-16 15:20:02.743073: I metal_plugin/src/device/metal_device.cc:1154] Metal device set to: Apple M1\n",
      "2024-01-16 15:20:02.743097: I metal_plugin/src/device/metal_device.cc:296] systemMemory: 8.00 GB\n",
      "2024-01-16 15:20:02.743103: I metal_plugin/src/device/metal_device.cc:313] maxCacheSize: 2.67 GB\n",
      "2024-01-16 15:20:02.743135: I tensorflow/core/common_runtime/pluggable_device/pluggable_device_factory.cc:306] Could not identify NUMA node of platform GPU ID 0, defaulting to 0. Your kernel may not have been built with NUMA support.\n",
      "2024-01-16 15:20:02.743152: I tensorflow/core/common_runtime/pluggable_device/pluggable_device_factory.cc:272] Created TensorFlow device (/job:localhost/replica:0/task:0/device:GPU:0 with 0 MB memory) -> physical PluggableDevice (device: 0, name: METAL, pci bus id: <undefined>)\n"
     ]
    },
    {
     "name": "stdout",
     "output_type": "stream",
     "text": [
      "Epoch 1/50\n"
     ]
    },
    {
     "name": "stderr",
     "output_type": "stream",
     "text": [
      "2024-01-16 15:20:05.022166: I tensorflow/core/grappler/optimizers/custom_graph_optimizer_registry.cc:117] Plugin optimizer for device_type GPU is enabled.\n"
     ]
    },
    {
     "name": "stdout",
     "output_type": "stream",
     "text": [
      "57/57 [==============================] - 13s 111ms/step - loss: 0.6941 - accuracy: 0.5235 - val_loss: 0.6937 - val_accuracy: 0.5124\n",
      "Epoch 2/50\n",
      "57/57 [==============================] - 1s 15ms/step - loss: 0.6921 - accuracy: 0.5235 - val_loss: 0.6986 - val_accuracy: 0.5075\n",
      "Epoch 3/50\n",
      "57/57 [==============================] - 1s 15ms/step - loss: 0.6909 - accuracy: 0.5357 - val_loss: 0.6934 - val_accuracy: 0.5124\n",
      "Epoch 4/50\n",
      "57/57 [==============================] - 1s 15ms/step - loss: 0.6909 - accuracy: 0.5357 - val_loss: 0.6960 - val_accuracy: 0.5124\n",
      "Epoch 5/50\n",
      "57/57 [==============================] - 1s 15ms/step - loss: 0.6910 - accuracy: 0.5362 - val_loss: 0.6964 - val_accuracy: 0.5124\n",
      "Epoch 6/50\n",
      "57/57 [==============================] - 1s 15ms/step - loss: 0.6909 - accuracy: 0.5357 - val_loss: 0.6934 - val_accuracy: 0.5124\n",
      "Epoch 7/50\n",
      "57/57 [==============================] - 1s 15ms/step - loss: 0.6911 - accuracy: 0.5357 - val_loss: 0.6929 - val_accuracy: 0.5124\n",
      "Epoch 8/50\n",
      "57/57 [==============================] - 1s 15ms/step - loss: 0.6908 - accuracy: 0.5357 - val_loss: 0.6930 - val_accuracy: 0.5124\n",
      "Epoch 9/50\n",
      "57/57 [==============================] - 1s 15ms/step - loss: 0.6911 - accuracy: 0.5357 - val_loss: 0.6935 - val_accuracy: 0.5124\n",
      "Epoch 10/50\n",
      "57/57 [==============================] - 1s 15ms/step - loss: 0.6908 - accuracy: 0.5362 - val_loss: 0.6943 - val_accuracy: 0.5124\n",
      "Epoch 11/50\n",
      "57/57 [==============================] - 1s 15ms/step - loss: 0.6914 - accuracy: 0.5334 - val_loss: 0.6945 - val_accuracy: 0.5124\n",
      "Epoch 12/50\n",
      "57/57 [==============================] - 1s 15ms/step - loss: 0.6915 - accuracy: 0.5357 - val_loss: 0.6931 - val_accuracy: 0.5124\n",
      "Epoch 13/50\n",
      "57/57 [==============================] - 1s 15ms/step - loss: 0.6906 - accuracy: 0.5357 - val_loss: 0.6940 - val_accuracy: 0.5124\n",
      "Epoch 14/50\n",
      "57/57 [==============================] - 1s 15ms/step - loss: 0.6914 - accuracy: 0.5345 - val_loss: 0.6944 - val_accuracy: 0.5124\n",
      "Epoch 15/50\n",
      "57/57 [==============================] - 1s 16ms/step - loss: 0.6911 - accuracy: 0.5357 - val_loss: 0.6948 - val_accuracy: 0.5124\n",
      "Epoch 16/50\n",
      "57/57 [==============================] - 1s 15ms/step - loss: 0.6905 - accuracy: 0.5357 - val_loss: 0.6935 - val_accuracy: 0.5124\n",
      "Epoch 17/50\n",
      "57/57 [==============================] - 1s 16ms/step - loss: 0.6907 - accuracy: 0.5357 - val_loss: 0.6960 - val_accuracy: 0.5124\n",
      "Epoch 18/50\n",
      "57/57 [==============================] - 1s 15ms/step - loss: 0.6908 - accuracy: 0.5357 - val_loss: 0.6929 - val_accuracy: 0.5124\n",
      "Epoch 19/50\n",
      "57/57 [==============================] - 1s 15ms/step - loss: 0.6908 - accuracy: 0.5357 - val_loss: 0.6946 - val_accuracy: 0.5124\n",
      "Epoch 20/50\n",
      "57/57 [==============================] - 1s 15ms/step - loss: 0.6907 - accuracy: 0.5357 - val_loss: 0.6925 - val_accuracy: 0.5124\n",
      "Epoch 21/50\n",
      "57/57 [==============================] - 1s 15ms/step - loss: 0.6908 - accuracy: 0.5357 - val_loss: 0.6929 - val_accuracy: 0.5124\n",
      "Epoch 22/50\n",
      "57/57 [==============================] - 1s 15ms/step - loss: 0.6903 - accuracy: 0.5357 - val_loss: 0.6941 - val_accuracy: 0.5124\n",
      "Epoch 23/50\n",
      "57/57 [==============================] - 1s 15ms/step - loss: 0.6901 - accuracy: 0.5362 - val_loss: 0.6920 - val_accuracy: 0.5124\n",
      "Epoch 24/50\n",
      "57/57 [==============================] - 1s 15ms/step - loss: 0.6907 - accuracy: 0.5368 - val_loss: 0.6937 - val_accuracy: 0.5124\n",
      "Epoch 25/50\n",
      "57/57 [==============================] - 1s 15ms/step - loss: 0.6906 - accuracy: 0.5357 - val_loss: 0.6938 - val_accuracy: 0.5124\n",
      "Epoch 26/50\n",
      "57/57 [==============================] - 1s 15ms/step - loss: 0.6911 - accuracy: 0.5351 - val_loss: 0.6920 - val_accuracy: 0.5075\n",
      "Epoch 27/50\n",
      "57/57 [==============================] - 1s 15ms/step - loss: 0.6900 - accuracy: 0.5357 - val_loss: 0.6941 - val_accuracy: 0.5124\n",
      "Epoch 28/50\n",
      "57/57 [==============================] - 1s 15ms/step - loss: 0.6908 - accuracy: 0.5357 - val_loss: 0.6946 - val_accuracy: 0.5124\n",
      "Epoch 29/50\n",
      "57/57 [==============================] - 1s 15ms/step - loss: 0.6907 - accuracy: 0.5351 - val_loss: 0.6930 - val_accuracy: 0.5124\n",
      "Epoch 30/50\n",
      "57/57 [==============================] - 1s 15ms/step - loss: 0.6911 - accuracy: 0.5357 - val_loss: 0.6922 - val_accuracy: 0.5124\n",
      "Epoch 31/50\n",
      "57/57 [==============================] - 1s 15ms/step - loss: 0.6907 - accuracy: 0.5357 - val_loss: 0.6923 - val_accuracy: 0.5124\n",
      "Epoch 32/50\n",
      "57/57 [==============================] - 1s 15ms/step - loss: 0.6904 - accuracy: 0.5357 - val_loss: 0.6940 - val_accuracy: 0.5124\n",
      "Epoch 33/50\n",
      "57/57 [==============================] - 1s 15ms/step - loss: 0.6904 - accuracy: 0.5351 - val_loss: 0.6916 - val_accuracy: 0.5124\n",
      "Epoch 34/50\n",
      "57/57 [==============================] - 1s 15ms/step - loss: 0.6909 - accuracy: 0.5357 - val_loss: 0.6927 - val_accuracy: 0.5124\n",
      "Epoch 35/50\n",
      "57/57 [==============================] - 1s 16ms/step - loss: 0.6918 - accuracy: 0.5329 - val_loss: 0.6910 - val_accuracy: 0.5075\n",
      "Epoch 36/50\n",
      "57/57 [==============================] - 1s 15ms/step - loss: 0.6913 - accuracy: 0.5362 - val_loss: 0.6920 - val_accuracy: 0.5124\n",
      "Epoch 37/50\n",
      "57/57 [==============================] - 1s 15ms/step - loss: 0.6908 - accuracy: 0.5357 - val_loss: 0.6923 - val_accuracy: 0.5124\n",
      "Epoch 38/50\n",
      "57/57 [==============================] - 1s 15ms/step - loss: 0.6903 - accuracy: 0.5357 - val_loss: 0.6946 - val_accuracy: 0.5124\n",
      "Epoch 39/50\n",
      "57/57 [==============================] - 1s 15ms/step - loss: 0.6906 - accuracy: 0.5357 - val_loss: 0.6920 - val_accuracy: 0.5124\n",
      "Epoch 40/50\n",
      "57/57 [==============================] - 1s 15ms/step - loss: 0.6904 - accuracy: 0.5357 - val_loss: 0.6929 - val_accuracy: 0.5124\n",
      "Epoch 41/50\n",
      "57/57 [==============================] - 1s 16ms/step - loss: 0.6910 - accuracy: 0.5351 - val_loss: 0.6926 - val_accuracy: 0.5124\n",
      "Epoch 42/50\n",
      "57/57 [==============================] - 1s 15ms/step - loss: 0.6913 - accuracy: 0.5357 - val_loss: 0.6912 - val_accuracy: 0.5124\n",
      "Epoch 43/50\n",
      "57/57 [==============================] - 1s 15ms/step - loss: 0.6907 - accuracy: 0.5345 - val_loss: 0.6922 - val_accuracy: 0.5124\n",
      "Epoch 44/50\n",
      "57/57 [==============================] - 1s 15ms/step - loss: 0.6907 - accuracy: 0.5357 - val_loss: 0.6934 - val_accuracy: 0.5124\n",
      "Epoch 45/50\n",
      "57/57 [==============================] - 1s 18ms/step - loss: 0.6905 - accuracy: 0.5357 - val_loss: 0.6916 - val_accuracy: 0.5124\n",
      "Epoch 46/50\n",
      "57/57 [==============================] - 1s 15ms/step - loss: 0.6905 - accuracy: 0.5357 - val_loss: 0.6926 - val_accuracy: 0.5124\n",
      "Epoch 47/50\n",
      "57/57 [==============================] - 1s 15ms/step - loss: 0.6910 - accuracy: 0.5351 - val_loss: 0.6920 - val_accuracy: 0.5124\n",
      "Epoch 48/50\n",
      "57/57 [==============================] - 1s 15ms/step - loss: 0.6906 - accuracy: 0.5357 - val_loss: 0.6943 - val_accuracy: 0.5124\n",
      "Epoch 49/50\n",
      "57/57 [==============================] - 1s 15ms/step - loss: 0.6902 - accuracy: 0.5357 - val_loss: 0.6926 - val_accuracy: 0.5124\n",
      "Epoch 50/50\n",
      "57/57 [==============================] - 1s 15ms/step - loss: 0.6906 - accuracy: 0.5357 - val_loss: 0.6920 - val_accuracy: 0.5124\n"
     ]
    },
    {
     "data": {
      "image/png": "[encoded data removed]",
      "text/plain": [
       "<Figure size 640x480 with 1 Axes>"
      ]
     },
     "metadata": {},
     "output_type": "display_data"
    },
    {
     "name": "stdout",
     "output_type": "stream",
     "text": [
      "16/16 [==============================] - 1s 18ms/step\n",
      "Accuracy: 0.5546719681908548\n"
     ]
    }
   ],
   "source": [
    "import numpy as np\n",
    "import pandas as pd\n",
    "from sklearn.model_selection import train_test_split\n",
    "from sklearn.preprocessing import MinMaxScaler\n",
    "from sklearn.metrics import accuracy_score\n",
    "from tensorflow.keras.models import Sequential\n",
    "from tensorflow.keras.layers import LSTM, Dense\n",
    "import yfinance as yf\n",
    "\n",
    "# Load and prepare data\n",
    "df = load_and_prepare(ticker='AAPL', start_date='2014-01-01', end_date='2024-01-01')\n",
    "\n",
    "# Select features and target\n",
    "features = df[['High', 'Low', 'Close', 'alpha', 'beta', 'trend_macd_signal', 'trend_macd_diff', 'trend_sma_fast']]\n",
    "target_class = df['target_class']\n",
    "\n",
    "# Scale the features\n",
    "#scaler = MinMaxScaler()\n",
    "#features_scaled = scaler.fit_transform(features)\n",
    "\n",
    "# Split the data into training and testing sets\n",
    "X_train, X_test, y_train, y_test = train_test_split(features, target_class, test_size=0.2, random_state=42)\n",
    "\n",
    "# Reshape the data for LSTM input (samples, time steps, features)\n",
    "#X_train_lstm = X_train.reshape((X_train.shape[0], 1, X_train.shape[1]))\n",
    "#X_test_lstm = X_test.reshape((X_test.shape[0], 1, X_test.shape[1]))\n",
    "X_train_lstm = X_train.values.reshape((X_train.shape[0], 1, X_train.shape[1]))\n",
    "X_test_lstm = X_test.values.reshape((X_test.shape[0], 1, X_test.shape[1]))\n",
    "\n",
    "# Build LSTM model\n",
    "model = Sequential()\n",
    "model.add(LSTM(50, input_shape=(X_train_lstm.shape[1], X_train_lstm.shape[2])))\n",
    "model.add(Dense(1, activation='sigmoid'))\n",
    "model.compile(optimizer='adam', loss='binary_crossentropy', metrics=['accuracy'])\n",
    "\n",
    "# Train the model\n",
    "history = model.fit(X_train_lstm, y_train, epochs=50, batch_size=32, validation_split=0.1, verbose=1)\n",
    "plt.plot(history.history['loss'], label='Training Loss')\n",
    "plt.plot(history.history['val_loss'], label='Validation Loss')\n",
    "plt.title('Training and Validation Loss')\n",
    "plt.xlabel('Epochs')\n",
    "plt.ylabel('Loss')\n",
    "plt.legend()\n",
    "plt.show()\n",
    "# Evaluate the model on the test set\n",
    "y_pred_proba = model.predict(X_test_lstm)\n",
    "y_pred = (y_pred_proba > 0.5).astype(int)\n",
    "\n",
    "# Calculate accuracy\n",
    "accuracy = accuracy_score(y_test, y_pred)\n",
    "print(f'Accuracy: {accuracy}')\n"
   ]
  },
  {
   "cell_type": "markdown",
   "id": "aefce429-dc8d-4d24-a16a-1784159d3013",
   "metadata": {},
   "source": [
    "The target variable's scale (min, max) is approximately (-8.56, 12.22). The MSE is a measure of how well your model's predictions align with the actual values. Since the MSE is a squared error, its scale is influenced by the scale of the target variable.\n",
    "\n",
    "With a target variable scale of approximately (-8.56, 12.22), an MSE of 2.719 suggests that, on average, our model's predictions have an error of around 1.65 (square root of 2.719) in the original scale.\n",
    "\n",
    "Keeping in mind that the interpretation of MSE depends on the scale of our target variable. Lower MSE values are generally better, indicating better model performance in terms of reducing prediction errors. "
   ]
  },
  {
   "cell_type": "code",
   "execution_count": 5,
   "id": "ed01d08e-374f-48cf-a45d-7ad6564e758d",
   "metadata": {
    "tags": []
   },
   "outputs": [],
   "source": [
    "from sklearn.metrics import confusion_matrix, classification_report"
   ]
  },
  {
   "cell_type": "code",
   "execution_count": 6,
   "id": "66483068-30d4-4532-a586-7d9f7c7f5cf0",
   "metadata": {
    "tags": []
   },
   "outputs": [
    {
     "name": "stdout",
     "output_type": "stream",
     "text": [
      "Confusion Matrix:\n",
      "[[  0 224]\n",
      " [  0 279]]\n",
      "Classification Report:\n",
      "              precision    recall  f1-score   support\n",
      "\n",
      "           0       0.00      0.00      0.00       224\n",
      "           1       0.55      1.00      0.71       279\n",
      "\n",
      "    accuracy                           0.55       503\n",
      "   macro avg       0.28      0.50      0.36       503\n",
      "weighted avg       0.31      0.55      0.40       503\n",
      "\n"
     ]
    }
   ],
   "source": [
    "conf_matrix = confusion_matrix(y_test, y_pred)\n",
    "print(\"Confusion Matrix:\")\n",
    "print(conf_matrix)\n",
    "\n",
    "# Print classification report\n",
    "class_report = classification_report(y_test, y_pred)\n",
    "print(\"Classification Report:\")\n",
    "print(class_report)"
   ]
  },
  {
   "cell_type": "code",
   "execution_count": 15,
   "id": "5b8ae4c9-e473-4b79-8dd6-dba6f7c38084",
   "metadata": {
    "tags": []
   },
   "outputs": [
    {
     "name": "stdout",
     "output_type": "stream",
     "text": [
      "Confusion Matrix with Custom Threshold:\n",
      "[[185  39]\n",
      " [232  47]]\n",
      "Classification Report with Custom Threshold:\n",
      "              precision    recall  f1-score   support\n",
      "\n",
      "           0       0.44      0.83      0.58       224\n",
      "           1       0.55      0.17      0.26       279\n",
      "\n",
      "    accuracy                           0.46       503\n",
      "   macro avg       0.50      0.50      0.42       503\n",
      "weighted avg       0.50      0.46      0.40       503\n",
      "\n"
     ]
    }
   ],
   "source": [
    "# Set a custom threshold and convert probabilities to binary predictions\n",
    "custom_threshold = 0.54\n",
    "y_pred_custom_threshold = (y_pred_proba > custom_threshold).astype(int)\n",
    "\n",
    "# Calculate confusion matrix and classification report with the adjusted threshold\n",
    "conf_matrix_custom = confusion_matrix(y_test, y_pred_custom_threshold)\n",
    "print(\"Confusion Matrix with Custom Threshold:\")\n",
    "print(conf_matrix_custom)\n",
    "\n",
    "class_report_custom = classification_report(y_test, y_pred_custom_threshold)\n",
    "print(\"Classification Report with Custom Threshold:\")\n",
    "print(class_report_custom)\n"
   ]
  },
  {
   "cell_type": "markdown",
   "id": "77db75a2-343f-4ba9-86e1-1d4607128ecf",
   "metadata": {},
   "source": [
    "A custom threshold in binary classification is the decision boundary used to convert predicted probabilities into class predictions. By default, scikit-learn assigns a threshold of 0.5, meaning that if the predicted probability is greater than or equal to 0.5, the predicted class is 1; otherwise, it's 0.\n",
    "\n",
    "Adjusting the threshold is significant because its allowing us to control the trade-off between precision and recall. \n",
    "\n",
    "In our case, using a custom threshold of 0.55 has improved the balance between precision and recall, resulting in a better overall performance, as seen in the confusion matrix and classification report. By setting a higher threshold, you are making the model more conservative in predicting the positive class, which can be beneficial in scenarios where false positives are costly.\n",
    "\n",
    "Here's a breakdown of our results:\n",
    "\n",
    "Precision: The percentage of true positives among all positive predictions.\n",
    "Recall: The percentage of true positives among all actual positives.\n",
    "F1-score: The harmonic mean of precision and recall.\n",
    "Support: The number of actual occurrences of the class in the specified class.\n",
    "\n",
    "It's important to note that the choice of threshold depends on the specific requirements and constraints of the problem. Different thresholds can lead to different trade-offs between false positives and false negatives, and the optimal threshold may vary based on the application.\n",
    "\n",
    "\n",
    "\n",
    "\n",
    "\n"
   ]
  }
 ],
 "metadata": {
  "kernelspec": {
   "display_name": "Python 3 (ipykernel)",
   "language": "python",
   "name": "python3"
  },
  "language_info": {
   "codemirror_mode": {
    "name": "ipython",
    "version": 3
   },
   "file_extension": ".py",
   "mimetype": "text/x-python",
   "name": "python",
   "nbconvert_exporter": "python",
   "pygments_lexer": "ipython3",
   "version": "3.11.3"
  }
 },
 "nbformat": 4,
 "nbformat_minor": 5
}
