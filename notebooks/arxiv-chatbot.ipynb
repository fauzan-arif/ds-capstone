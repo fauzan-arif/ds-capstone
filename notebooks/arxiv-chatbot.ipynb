{
 "cells": [
  {
   "cell_type": "code",
   "execution_count": 4,
   "id": "086e2374-b64d-4108-8df2-f403e78b29c9",
   "metadata": {
    "tags": []
   },
   "outputs": [
    {
     "name": "stdout",
     "output_type": "stream",
     "text": [
      "\n",
      "\n",
      "\u001b[1m> Entering new AgentExecutor chain...\u001b[0m\n",
      "\u001b[32;1m\u001b[1;3mI should use the arxiv tool to search for the paper with the identifier 2303.15056.\n",
      "Action: arxiv\n",
      "Action Input: 2303.15056\u001b[0m\n",
      "Observation: \u001b[33;1m\u001b[1;3mPublished: 2023-07-19\n",
      "Title: ChatGPT Outperforms Crowd-Workers for Text-Annotation Tasks\n",
      "Authors: Fabrizio Gilardi, Meysam Alizadeh, Maël Kubli\n",
      "Summary: Many NLP applications require manual data annotations for a variety of tasks,\n",
      "notably to train classifiers or evaluate the performance of unsupervised\n",
      "models. Depending on the size and degree of complexity, the tasks may be\n",
      "conducted by crowd-workers on platforms such as MTurk as well as trained\n",
      "annotators, such as research assistants. Using a sample of 2,382 tweets, we\n",
      "demonstrate that ChatGPT outperforms crowd-workers for several annotation\n",
      "tasks, including relevance, stance, topics, and frames detection. Specifically,\n",
      "the zero-shot accuracy of ChatGPT exceeds that of crowd-workers for four out of\n",
      "five tasks, while ChatGPT's intercoder agreement exceeds that of both\n",
      "crowd-workers and trained annotators for all tasks. Moreover, the\n",
      "per-annotation cost of ChatGPT is less than $0.003 -- about twenty times\n",
      "cheaper than MTurk. These results show the potential of large language models\n",
      "to drastically increase the efficiency of text classification.\u001b[0m\n",
      "Thought:\u001b[32;1m\u001b[1;3mI now know the final answer\n",
      "Final Answer: The paper 2303.15056 is about how ChatGPT outperforms crowd-workers for text-annotation tasks, demonstrating the potential of large language models to increase the efficiency of text classification.\u001b[0m\n",
      "\n",
      "\u001b[1m> Finished chain.\u001b[0m\n"
     ]
    },
    {
     "data": {
      "text/plain": [
       "'The paper 2303.15056 is about how ChatGPT outperforms crowd-workers for text-annotation tasks, demonstrating the potential of large language models to increase the efficiency of text classification.'"
      ]
     },
     "execution_count": 4,
     "metadata": {},
     "output_type": "execute_result"
    }
   ],
   "source": [
    "from dotenv import find_dotenv, dotenv_values\n",
    "ENV = dotenv_values(find_dotenv())\n",
    "\n",
    "from langchain_openai import ChatOpenAI\n",
    "from langchain.agents import load_tools, initialize_agent, AgentType\n",
    "\n",
    "llm   = ChatOpenAI(temperature=0, model=\"gpt-3.5-turbo-1106\", openai_api_key=ENV.get('OPENAI_API_KEY'))\n",
    "tools = load_tools([\"wikipedia\", \"arxiv\"], llm=llm)\n",
    "\n",
    "agent_chain = initialize_agent(\n",
    "    tools,\n",
    "    llm,\n",
    "    agent=AgentType.ZERO_SHOT_REACT_DESCRIPTION,\n",
    "    verbose=True,\n",
    ")\n",
    "\n",
    "agent_chain.run(\"What's the paper 2303.15056 about?\")"
   ]
  },
  {
   "cell_type": "code",
   "execution_count": null,
   "id": "2c440d57-63ba-4375-9d99-bae6aa80dd79",
   "metadata": {},
   "outputs": [],
   "source": []
  }
 ],
 "metadata": {
  "kernelspec": {
   "display_name": "Python 3 (ipykernel)",
   "language": "python",
   "name": "python3"
  },
  "language_info": {
   "codemirror_mode": {
    "name": "ipython",
    "version": 3
   },
   "file_extension": ".py",
   "mimetype": "text/x-python",
   "name": "python",
   "nbconvert_exporter": "python",
   "pygments_lexer": "ipython3",
   "version": "3.10.13"
  }
 },
 "nbformat": 4,
 "nbformat_minor": 5
}
