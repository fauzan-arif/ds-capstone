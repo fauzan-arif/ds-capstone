{
 "cells": [
  {
   "cell_type": "markdown",
   "id": "c730a1ed-29f8-47cd-8e2d-b3dbe37b4412",
   "metadata": {},
   "source": [
    "## Stock Prices Prediction and Recommendations"
   ]
  },
  {
   "cell_type": "markdown",
   "id": "47cfd437-eacb-423e-b37e-09fb5c006bef",
   "metadata": {},
   "source": [
    "### EDA"
   ]
  },
  {
   "cell_type": "markdown",
   "id": "41c0428e-bdfc-4abe-a272-094872d167b6",
   "metadata": {
    "tags": []
   },
   "source": [
    "- Denoise and Smoothen Data \n",
    "- Trends and Seasonality "
   ]
  },
  {
   "cell_type": "markdown",
   "id": "cc36c9da-a0c1-43e0-91c0-1b1207eae6f2",
   "metadata": {
    "tags": []
   },
   "source": [
    "### Modelling"
   ]
  },
  {
   "cell_type": "markdown",
   "id": "956dae66-7f73-42b4-9049-f138a28d3648",
   "metadata": {},
   "source": [
    "- VAR- When applied without scaling showed no correlations between the stocks as the graph presented divergence at the end. \n",
    "- LSTM model - Hyper paremeter tuning done (best learning rate and units found) \n",
    "- Application of GRU model ? "
   ]
  },
  {
   "cell_type": "markdown",
   "id": "78ea65aa-c513-4a74-9538-8ff7cfea240b",
   "metadata": {
    "tags": []
   },
   "source": [
    "### Recomendation"
   ]
  },
  {
   "cell_type": "markdown",
   "id": "4ca9ba94-c249-4ec1-a648-49151f6e4784",
   "metadata": {
    "tags": []
   },
   "source": [
    "#### For LSTM Model\n",
    "\n",
    "- Save the model h5 format and see the memory it takes. \n",
    "- How to apply the model to real time changes (transfer learnings) \n",
    "- Take the trained data, and retrain it\n",
    "- How to retrain LSTM model ? \n",
    "- This probably has to be done in the pipeline \n",
    "- Time series split (cross vlidation) \n",
    "- Grid search Problem(Validate forward, Time series? \n",
    "- AIC in context of LSTM and Time series for evaluation ? \n",
    "\n",
    "#### For ARIM model \n",
    "\n",
    "- first denoise and then find trend and seasonality , once you have established the model , you go back to the noise and see if its white noise. \n",
    "\n",
    "- HPFilter (for de-noising) \n",
    "\n"
   ]
  },
  {
   "cell_type": "code",
   "execution_count": null,
   "id": "3d5422ed-38b3-4d6b-8249-ecfefd8fc770",
   "metadata": {},
   "outputs": [],
   "source": []
  }
 ],
 "metadata": {
  "kernelspec": {
   "display_name": "Python 3 (ipykernel)",
   "language": "python",
   "name": "python3"
  },
  "language_info": {
   "codemirror_mode": {
    "name": "ipython",
    "version": 3
   },
   "file_extension": ".py",
   "mimetype": "text/x-python",
   "name": "python",
   "nbconvert_exporter": "python",
   "pygments_lexer": "ipython3",
   "version": "3.11.3"
  }
 },
 "nbformat": 4,
 "nbformat_minor": 5
}
