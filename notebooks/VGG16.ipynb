{
 "cells": [
  {
   "cell_type": "code",
   "execution_count": 2,
   "id": "98338207-b185-416e-bea5-c50c2001899d",
   "metadata": {
    "tags": []
   },
   "outputs": [
    {
     "name": "stdout",
     "output_type": "stream",
     "text": [
      "[*********************100%%**********************]  1 of 1 completed\n"
     ]
    }
   ],
   "source": [
    "import yfinance as yf\n",
    "import numpy as np\n",
    "import pandas as pd\n",
    "from tensorflow.keras.applications.vgg16 import VGG16\n",
    "from tensorflow.keras.models import Model\n",
    "from tensorflow.keras.layers import Flatten, Dense\n",
    "\n",
    "# Download Apple stock data\n",
    "aapl = yf.download('AAPL', start='2010-01-01', end='2023-10-31')\n",
    "# Clean the data\n",
    "aapl_cleaned = aapl.dropna()\n",
    "\n",
    "# Perform feature engineering\n",
    "aapl_features = pd.DataFrame()\n",
    "aapl_features['Close'] = aapl_cleaned['Close']\n",
    "aapl_features['MA_50'] = aapl_cleaned['Close'].rolling(window=50).mean()\n",
    "aapl_features['MA_200'] = aapl_cleaned['Close'].rolling(window=200).mean()\n",
    "\n",
    "# Normalize the data\n",
    "aapl_normalized = (aapl_features - aapl_features.min()) / (aapl_features.max() - aapl_features.min())\n"
   ]
  },
  {
   "cell_type": "code",
   "execution_count": 3,
   "id": "32b959d1-a342-40da-a554-7903b169d65a",
   "metadata": {
    "tags": []
   },
   "outputs": [
    {
     "ename": "IndexError",
     "evalue": "tuple index out of range",
     "output_type": "error",
     "traceback": [
      "\u001b[1;31m---------------------------------------------------------------------------\u001b[0m",
      "\u001b[1;31mIndexError\u001b[0m                                Traceback (most recent call last)",
      "Cell \u001b[1;32mIn[3], line 10\u001b[0m\n\u001b[0;32m      7\u001b[0m test_data \u001b[38;5;241m=\u001b[39m aapl_normalized[train_size:]\n\u001b[0;32m      9\u001b[0m \u001b[38;5;66;03m# Load the pre-trained VGG16 model\u001b[39;00m\n\u001b[1;32m---> 10\u001b[0m base_model \u001b[38;5;241m=\u001b[39m VGG16(weights\u001b[38;5;241m=\u001b[39m\u001b[38;5;124m'\u001b[39m\u001b[38;5;124mimagenet\u001b[39m\u001b[38;5;124m'\u001b[39m, include_top\u001b[38;5;241m=\u001b[39m\u001b[38;5;28;01mFalse\u001b[39;00m, input_shape\u001b[38;5;241m=\u001b[39m(train_data\u001b[38;5;241m.\u001b[39mshape[\u001b[38;5;241m1\u001b[39m], \u001b[43mtrain_data\u001b[49m\u001b[38;5;241;43m.\u001b[39;49m\u001b[43mshape\u001b[49m\u001b[43m[\u001b[49m\u001b[38;5;241;43m2\u001b[39;49m\u001b[43m]\u001b[49m, \u001b[38;5;241m1\u001b[39m))\n\u001b[0;32m     12\u001b[0m \u001b[38;5;66;03m# Freeze the base model's layers\u001b[39;00m\n\u001b[0;32m     13\u001b[0m \u001b[38;5;28;01mfor\u001b[39;00m layer \u001b[38;5;129;01min\u001b[39;00m base_model\u001b[38;5;241m.\u001b[39mlayers:\n",
      "\u001b[1;31mIndexError\u001b[0m: tuple index out of range"
     ]
    }
   ],
   "source": [
    "# Reshape data for VGG16 input\n",
    "train_data = aapl_normalized.values.reshape((aapl_normalized.shape[0], aapl_normalized.shape[1], 1))\n",
    "\n",
    "# Split the data into train and test sets\n",
    "train_size = int(len(aapl_normalized) * 0.8)\n",
    "train_data = aapl_normalized[:train_size]\n",
    "test_data = aapl_normalized[train_size:]\n",
    "\n",
    "# Load the pre-trained VGG16 model\n",
    "base_model = VGG16(weights='imagenet', include_top=False, input_shape=(train_data.shape[1], train_data.shape[2], 1))\n",
    "\n",
    "# Freeze the base model's layers\n",
    "for layer in base_model.layers:\n",
    "    layer.trainable = False\n",
    "\n",
    "# Add a custom classifier on top of the base model\n",
    "x = Flatten()(base_model.output)\n",
    "x = Dense(256, activation='relu')(x)\n",
    "predictions = Dense(1, activation='sigmoid')(x)\n",
    "\n",
    "# Create the transfer learning model\n",
    "model = Model(inputs=base_model.input, outputs=predictions)\n"
   ]
  },
  {
   "cell_type": "code",
   "execution_count": null,
   "id": "464f82a3-c5c8-4551-acc1-569f301f669e",
   "metadata": {},
   "outputs": [],
   "source": []
  }
 ],
 "metadata": {
  "kernelspec": {
   "display_name": "Python 3 (ipykernel)",
   "language": "python",
   "name": "python3"
  },
  "language_info": {
   "codemirror_mode": {
    "name": "ipython",
    "version": 3
   },
   "file_extension": ".py",
   "mimetype": "text/x-python",
   "name": "python",
   "nbconvert_exporter": "python",
   "pygments_lexer": "ipython3",
   "version": "3.11.3"
  }
 },
 "nbformat": 4,
 "nbformat_minor": 5
}
