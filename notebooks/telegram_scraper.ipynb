{
 "cells": [
  {
   "cell_type": "code",
   "execution_count": 21,
   "id": "b9878561-c568-4ced-9a30-b38137817854",
   "metadata": {
    "tags": []
   },
   "outputs": [],
   "source": [
    "import os\n",
    "from dotenv import load_dotenv\n",
    "from pymongo import MongoClient\n",
    "from pymongo.errors import ConnectionFailure\n",
    "from bson.objectid import ObjectId\n",
    "from dotenv import load_dotenv\n",
    "from telethon.sync     import TelegramClient, events\n",
    "from telethon.sessions import StringSession\n",
    "from telethon          import functions, types\n",
    "\n",
    "load_dotenv('../.env');\n",
    "\n",
    "\n",
    "tele_api_id   = os.environ.get(\"TELEGRAM_APP_ID\")\n",
    "tele_api_hash = os.environ.get(\"TELEGRAM_APP_HASH\")\n",
    "\n",
    "mongo_host = os.environ.get(\"MONGO_HOST\")\n",
    "mongo_user = os.environ.get(\"MONGO_USER\")\n",
    "mongo_pass = os.environ.get(\"MONGO_PASS\")\n",
    "mongo_url  = f\"mongodb+srv://{mongo_user}:{mongo_pass}@{mongo_host}/?retryWrites=true&w=majority\"\n",
    "\n",
    "def get_database(url, dbname, appname=None):\n",
    "    try:\n",
    "        # host and port default to 'localhost' and '27017'\n",
    "        # appname will appear in logs\n",
    "        client = MongoClient(url, appname=appname)\n",
    "        # try connection to the database\n",
    "        # The ping command is cheap and does not require auth.\n",
    "        client.admin.command('ping')\n",
    "        return client[dbname] \n",
    "    \n",
    "    except ConnectionFailure:\n",
    "        print(\"Error: MongoDB Server not available\")\n",
    "        \n",
    "db = get_database(mongo_url, 'capstone', 'Capstone')\n",
    "client = TelegramClient('jam_session2', tele_api_id, tele_api_hash)\n"
   ]
  },
  {
   "cell_type": "code",
   "execution_count": 29,
   "id": "01d107da-74a4-4488-8600-7844a83c39a9",
   "metadata": {
    "tags": []
   },
   "outputs": [
    {
     "name": "stderr",
     "output_type": "stream",
     "text": [
      "Telegram is having internal issues RpcCallFailError: Telegram is having internal issues, please try again later. (caused by GetHistoryRequest)\n",
      "Telegram is having internal issues RpcCallFailError: Telegram is having internal issues, please try again later. (caused by GetHistoryRequest)\n",
      "Telegram is having internal issues RpcCallFailError: Telegram is having internal issues, please try again later. (caused by GetHistoryRequest)\n"
     ]
    },
    {
     "data": {
      "text/plain": [
       "<Future pending cb=[shield.<locals>._outer_done_callback() at /Users/kevinmelchert/.pyenv/versions/3.11.3/lib/python3.11/asyncio/tasks.py:898]>"
      ]
     },
     "execution_count": 29,
     "metadata": {},
     "output_type": "execute_result"
    }
   ],
   "source": [
    "\n",
    "async with client:\n",
    "    for channel in db.channels.find({}):\n",
    "        async for message in client.iter_messages(channel['name'], limit=200):\n",
    "            # offset_date for last fetch stuff\n",
    "            #print(message)\n",
    "            db.messages.insert_one({\n",
    "                'channel': channel,\n",
    "                'text': message.raw_text,\n",
    "                'date': message.date\n",
    "            })\n",
    "\n",
    "\n",
    "client.disconnect()"
   ]
  },
  {
   "cell_type": "code",
   "execution_count": null,
   "id": "80fc6b22-6af8-4a25-8416-24e011e7a42a",
   "metadata": {},
   "outputs": [],
   "source": []
  }
 ],
 "metadata": {
  "kernelspec": {
   "display_name": "Python 3 (ipykernel)",
   "language": "python",
   "name": "python3"
  },
  "language_info": {
   "codemirror_mode": {
    "name": "ipython",
    "version": 3
   },
   "file_extension": ".py",
   "mimetype": "text/x-python",
   "name": "python",
   "nbconvert_exporter": "python",
   "pygments_lexer": "ipython3",
   "version": "3.11.3"
  }
 },
 "nbformat": 4,
 "nbformat_minor": 5
}
