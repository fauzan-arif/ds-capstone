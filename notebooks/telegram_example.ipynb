{
 "cells": [
  {
   "cell_type": "markdown",
   "id": "8fb24730-e0f0-4922-9fa8-33bd905324e9",
   "metadata": {},
   "source": [
    "# Telegram API"
   ]
  },
  {
   "cell_type": "code",
   "execution_count": 10,
   "id": "60617a28-02de-434a-903e-aacf22cd83cd",
   "metadata": {
    "tags": []
   },
   "outputs": [],
   "source": [
    "import os\n",
    "from dotenv import load_dotenv\n",
    "from telethon.sync     import TelegramClient, events\n",
    "from telethon.sessions import StringSession\n",
    "from telethon          import functions, types\n",
    "\n",
    "# Load environment variables from the .env file\n",
    "load_dotenv('../.env');"
   ]
  },
  {
   "cell_type": "code",
   "execution_count": 14,
   "id": "773a0b14-26f5-4fad-8372-a6b607911a38",
   "metadata": {
    "tags": []
   },
   "outputs": [],
   "source": [
    "tele_api_id   = os.environ.get(\"TELEGRAM_APP_ID\")\n",
    "tele_api_hash = os.environ.get(\"TELEGRAM_APP_HASH\")\n",
    "\n",
    "# this might ask for my telefon number!\n",
    "client = TelegramClient('jam_session23', tele_api_id, tele_api_hash)"
   ]
  },
  {
   "cell_type": "code",
   "execution_count": 16,
   "id": "c1467512-e8a4-4360-8890-33364aa7bdc0",
   "metadata": {
    "tags": []
   },
   "outputs": [
    {
     "name": "stdout",
     "output_type": "stream",
     "text": [
      "I hope eveyone could get this fabulous profit 💰🐳\n",
      "#free_signal_result\n",
      "➖➖➖➖➖➖➖➖➖➖➖➖\n",
      "©️ Crypto Whales - Trade Bravely\n",
      "🎁 #FREE_SIGNAL \n",
      "\n",
      "🟣 Future Signal 🟣\n",
      "📈 BUY\n",
      "❇️ #TIA - USDT\n",
      "🏢 Exchange: All available exchanges\n",
      "➖➖➖➖➖➖➖➖➖➖➖➖➖\n",
      "\n",
      "▶️ Entry Price: 10.15\n",
      "🔸Target 1: 10.27\n",
      "🔸 Target 2: 10.35\n",
      "🔸 Target 3: 10.42\n",
      "🔸 Target 4: 10.50\n",
      "\n",
      "🎚 Leverage: 20X\n",
      "⭕️ Stop Loss: 9.60\n",
      "➖➖➖➖➖➖➖➖➖➖➖➖\n",
      "🕙 11 Dec 2023 - 12:39 GMT\n",
      "📊 Current Price: 10.06\n",
      "➖➖➖➖➖➖➖➖➖➖➖➖\n",
      "By: @cryptowhalesad\n",
      "Crypto Whales\n",
      "Another 40% profit after the entry for a buy signal 🔥🚀\n",
      "➖➖➖➖➖➖➖➖➖➖➖➖\n",
      "©️ Crypto Whales - Trade Bravely\n",
      "🟣 Future Signal 🟣\n",
      "📈 BUY\n",
      "❇️ #SOL - USDT\n",
      "🏢 Exchange: All available exchanges\n",
      "➖➖➖➖➖➖➖➖➖➖➖➖\n",
      "\n",
      "▶️ Entry Price: 73.010\n",
      "🔸Target 1: 73.302\n",
      "🔸 Target 2: 73.594\n",
      "🔸 Target 3: 74.032\n",
      "🔸 Target 4: 74.835\n",
      "\n",
      "🎚 Leverage: 20X\n",
      "⭕️ Stop Loss: 70.820\n",
      "➖➖➖➖➖➖➖➖➖➖➖➖\n",
      "🕙 08 Dec 2023 - 11:34 GMT\n",
      "📊 Current Price: 72.10\n",
      "➖➖➖➖➖➖➖➖➖➖➖➖\n",
      "By: @cryptowhalesad\n",
      "Crypto Whales\n",
      "This is the correct way of starting the weekend 😍🔥\n",
      "Touched all targets with over 50% profit 💰\n",
      "#signal_result \n",
      "➖➖➖➖➖➖➖➖➖➖➖➖\n",
      "©️ Crypto Whales - Trade Bravely\n",
      "🟣 Future Signal 🟣\n",
      "📈 BUY\n",
      "❇️ #SXP - USDT\n",
      "🏢 Exchange: All available exchanges\n",
      "➖➖➖➖➖➖➖➖➖➖➖➖\n",
      "\n",
      "▶️ Entry Price: 0.3925\n",
      "🔸Target 1: 0.3941\n",
      "🔸 Target 2: 0.3956\n",
      "🔸 Target 3: 0.3980\n",
      "🔸 Target 4: 0.4023\n",
      "\n",
      "🎚 Leverage: 20X\n",
      "⭕️ Stop Loss: 0.3807\n",
      "➖➖➖➖➖➖➖➖➖➖➖➖\n",
      "🕙 07 DEC 2023 - 12:57 GMT\n",
      "📊 Current Price: 0.3861\n",
      "➖➖➖➖➖➖➖➖➖➖➖➖\n",
      "By: @cryptowhalesad\n",
      "Crypto Whales\n",
      "Semms #YGG doen't have enough strength. We just removed our position although those who entered could save their profit in target 1.\n",
      "Stay tuned for another free signal soon 🔥\n",
      "The price had a bearish shadow; don't worry 😮‍💨\n",
      "Time to enter if you haven't 🐳\n",
      "🎁 #FREE_SIGNAL \n",
      "\n",
      "🟣 Future Signal 🟣\n",
      "📈 BUY\n",
      "❇️ #YGG - USDT\n",
      "🏢 Exchange: All available exchanges\n",
      "➖➖➖➖➖➖➖➖➖➖➖➖➖\n",
      "\n",
      "▶️ Entry Price: 0.40\n",
      "🔸Target 1: 0.42\n",
      "🔸 Target 2: 0.47\n",
      "🔸 Target 3: 0.51\n",
      "🔸 Target 4: 0.55\n",
      "\n",
      "🎚 Leverage: 20X\n",
      "⭕️ Stop Loss: 0.318\n",
      "➖➖➖➖➖➖➖➖➖➖➖➖\n",
      "🕙 05 Dec 2023 - 15:25 GMT\n",
      "📊 Current Price: 0.3867\n",
      "➖➖➖➖➖➖➖➖➖➖➖➖\n",
      "By: @cryptowhalesad\n",
      "Crypto Whales\n",
      "We keep the Monday Blues away with profitable signals 🐳🚀\n",
      "Over 50% after our call 💰\n",
      "#signal_result\n",
      "➖➖➖➖➖➖➖➖➖➖➖➖\n",
      "©️ Crypto Whales - Trade Bravely\n"
     ]
    }
   ],
   "source": [
    "channel = \"cryptowhalesreal\"\n",
    "\n",
    "async with client:\n",
    "    async for message in client.iter_messages(channel, limit=10):\n",
    "        print(message.text)\n"
   ]
  },
  {
   "cell_type": "code",
   "execution_count": 2,
   "id": "35fd7ca4-2ddf-4972-9440-6ed7a09947dc",
   "metadata": {
    "tags": []
   },
   "outputs": [],
   "source": [
    "#        db.messages.insert_one(({\n",
    "#            'date'     : message.date, \n",
    "#            'sender_id': message.sender_id, \n",
    "#            'text'     : message.text\n",
    "#        })"
   ]
  }
 ],
 "metadata": {
  "kernelspec": {
   "display_name": "Python 3 (ipykernel)",
   "language": "python",
   "name": "python3"
  },
  "language_info": {
   "codemirror_mode": {
    "name": "ipython",
    "version": 3
   },
   "file_extension": ".py",
   "mimetype": "text/x-python",
   "name": "python",
   "nbconvert_exporter": "python",
   "pygments_lexer": "ipython3",
   "version": "3.11.3"
  }
 },
 "nbformat": 4,
 "nbformat_minor": 5
}
