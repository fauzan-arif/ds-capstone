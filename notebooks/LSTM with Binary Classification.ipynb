{
 "cells": [
  {
   "cell_type": "code",
   "execution_count": 7,
   "id": "a4d21028-2bed-4f24-89a9-19b1dc2cb7a9",
   "metadata": {
    "tags": []
   },
   "outputs": [
    {
     "ename": "ModuleNotFoundError",
     "evalue": "No module named 'scikeras'",
     "output_type": "error",
     "traceback": [
      "\u001b[0;31m---------------------------------------------------------------------------\u001b[0m",
      "\u001b[0;31mModuleNotFoundError\u001b[0m                       Traceback (most recent call last)",
      "Cell \u001b[0;32mIn[7], line 18\u001b[0m\n\u001b[1;32m     16\u001b[0m \u001b[38;5;28;01mimport\u001b[39;00m \u001b[38;5;21;01mpandas\u001b[39;00m \u001b[38;5;28;01mas\u001b[39;00m \u001b[38;5;21;01mpd\u001b[39;00m\n\u001b[1;32m     17\u001b[0m \u001b[38;5;28;01mimport\u001b[39;00m \u001b[38;5;21;01mpandas_ta\u001b[39;00m \u001b[38;5;28;01mas\u001b[39;00m \u001b[38;5;21;01mta\u001b[39;00m\n\u001b[0;32m---> 18\u001b[0m \u001b[38;5;28;01mfrom\u001b[39;00m \u001b[38;5;21;01mscikeras\u001b[39;00m\u001b[38;5;21;01m.\u001b[39;00m\u001b[38;5;21;01mwrappers\u001b[39;00m \u001b[38;5;28;01mimport\u001b[39;00m KerasRegressor\n\u001b[1;32m     19\u001b[0m \u001b[38;5;66;03m# Load environment variables from the .env file\u001b[39;00m\n\u001b[1;32m     20\u001b[0m load_dotenv(\u001b[38;5;124m'\u001b[39m\u001b[38;5;124m../.env\u001b[39m\u001b[38;5;124m'\u001b[39m);\n",
      "\u001b[0;31mModuleNotFoundError\u001b[0m: No module named 'scikeras'"
     ]
    }
   ],
   "source": [
    "import pandas as pd\n",
    "import numpy as np\n",
    "from sklearn.preprocessing import StandardScaler\n",
    "from sklearn.compose import ColumnTransformer\n",
    "from sklearn.pipeline import Pipeline\n",
    "from sklearn.impute import SimpleImputer\n",
    "from sklearn.preprocessing import StandardScaler\n",
    "from sklearn.preprocessing import MinMaxScaler\n",
    "from tensorflow.keras.models import Sequential\n",
    "from tensorflow.keras.layers import LSTM, Dense, Dropout\n",
    "from statsmodels.tsa.api import VAR\n",
    "from sklearn.metrics import mean_squared_error, r2_score\n",
    "import os\n",
    "from dotenv import load_dotenv\n",
    "import yfinance as yf\n",
    "import pandas as pd\n",
    "import pandas_ta as ta\n",
    "from scikeras.wrappers import KerasRegressor\n",
    "# Load environment variables from the .env file\n",
    "load_dotenv('../.env');\n",
    "\n",
    "# Data Viz. \n",
    "import statsmodels.formula.api as smf\n",
    "from statsmodels.tsa.seasonal import seasonal_decompose\n",
    "from scipy.ndimage import gaussian_filter\n",
    "from calendar import monthrange\n",
    "from calendar import month_name\n",
    "\n",
    "import matplotlib.pyplot as plt\n",
    "import matplotlib.patches as patches\n",
    "import seaborn as sns\n",
    "from sklearn.metrics import accuracy_score, confusion_matrix\n",
    "import requests\n",
    "import csv\n",
    "from itertools import permutations\n",
    "import matplotlib.pyplot as plt\n",
    "\n",
    "from sklearn.metrics import mean_squared_error\n",
    "from math import sqrt\n",
    "from statsmodels.tsa.stattools import adfuller,kpss\n",
    "from statsmodels.tsa.seasonal import seasonal_decompose\n",
    "from statsmodels.tsa.arima_model import ARIMA\n",
    "from statsmodels.graphics.tsaplots import plot_pacf\n",
    "\n",
    "import statsmodels.graphics.tsaplots as tsaplot\n",
    "from statsmodels.tsa.holtwinters import Holt, ExponentialSmoothing, SimpleExpSmoothing\n",
    "\n",
    "import warnings\n",
    "warnings.filterwarnings('ignore')"
   ]
  },
  {
   "cell_type": "code",
   "execution_count": 4,
   "id": "5c9ccde4-55ce-4e2d-8af1-619285c5cb06",
   "metadata": {
    "tags": []
   },
   "outputs": [
    {
     "ename": "ModuleNotFoundError",
     "evalue": "No module named 'ta'",
     "output_type": "error",
     "traceback": [
      "\u001b[0;31m---------------------------------------------------------------------------\u001b[0m",
      "\u001b[0;31mModuleNotFoundError\u001b[0m                       Traceback (most recent call last)",
      "Cell \u001b[0;32mIn[4], line 4\u001b[0m\n\u001b[1;32m      2\u001b[0m \u001b[38;5;28;01mimport\u001b[39;00m \u001b[38;5;21;01mnumpy\u001b[39;00m \u001b[38;5;28;01mas\u001b[39;00m \u001b[38;5;21;01mnp\u001b[39;00m\n\u001b[1;32m      3\u001b[0m \u001b[38;5;28;01mimport\u001b[39;00m \u001b[38;5;21;01myfinance\u001b[39;00m \u001b[38;5;28;01mas\u001b[39;00m \u001b[38;5;21;01myf\u001b[39;00m\n\u001b[0;32m----> 4\u001b[0m \u001b[38;5;28;01mfrom\u001b[39;00m \u001b[38;5;21;01mta\u001b[39;00m \u001b[38;5;28;01mimport\u001b[39;00m add_all_ta_features\n\u001b[1;32m      5\u001b[0m \u001b[38;5;28;01mfrom\u001b[39;00m \u001b[38;5;21;01msklearn\u001b[39;00m\u001b[38;5;21;01m.\u001b[39;00m\u001b[38;5;21;01mlinear_model\u001b[39;00m \u001b[38;5;28;01mimport\u001b[39;00m LinearRegression\n\u001b[1;32m      7\u001b[0m \u001b[38;5;28;01mdef\u001b[39;00m \u001b[38;5;21mload_and_prepare\u001b[39m(ticker, start_date, end_date):\n\u001b[1;32m      8\u001b[0m     \u001b[38;5;66;03m# Fetch historical stock data\u001b[39;00m\n",
      "\u001b[0;31mModuleNotFoundError\u001b[0m: No module named 'ta'"
     ]
    }
   ],
   "source": [
    "import pandas as pd\n",
    "import numpy as np\n",
    "import yfinance as yf\n",
    "from ta import add_all_ta_features\n",
    "from sklearn.linear_model import LinearRegression\n",
    "\n",
    "def load_and_prepare(ticker, start_date, end_date):\n",
    "    # Fetch historical stock data\n",
    "    df = yf.download(ticker, start=start_date , end=end_date)\n",
    "\n",
    "    # Calculate daily returns\n",
    "    df['returns'] = df['Adj Close'].pct_change()\n",
    "\n",
    "    # Fetch market data (e.g., S&P 500)\n",
    "    market_data = yf.download('^GSPC', start=df.index.min(), end=df.index.max())\n",
    "    market_data['market_returns'] = market_data['Adj Close'].pct_change()\n",
    "\n",
    "    # Combine stock and market data\n",
    "    merged_data = pd.merge(df, market_data[['market_returns']], left_index=True, right_index=True, how='inner')\n",
    "\n",
    "    # Drop rows with missing values\n",
    "    merged_data.dropna(inplace=True)\n",
    "\n",
    "    # Initialize lists to store alpha and beta values\n",
    "    alpha_values = []\n",
    "    beta_values = []\n",
    "\n",
    "    # Set up X and y for linear regression\n",
    "    X = merged_data['market_returns'].values.reshape(-1, 1)\n",
    "    y = merged_data['returns'].values\n",
    "\n",
    "    # Iterate through the data to calculate alpha and beta for each day\n",
    "    for i in range(len(merged_data)):\n",
    "        X_i = X[:i + 1]\n",
    "        y_i = y[:i + 1]\n",
    "\n",
    "        # Fit linear regression model\n",
    "        model = LinearRegression()\n",
    "        model.fit(X_i, y_i)\n",
    "\n",
    "        # Extract alpha and beta for the current day\n",
    "        alpha_i = model.intercept_\n",
    "        beta_i = model.coef_[0]\n",
    "\n",
    "        alpha_values.append(alpha_i)\n",
    "        beta_values.append(beta_i)\n",
    "\n",
    "    # Add alpha and beta columns to the DataFrame\n",
    "    merged_data['alpha'] = alpha_values\n",
    "    merged_data['beta'] = beta_values\n",
    "\n",
    "    # Drop columns not needed for the final result\n",
    "    merged_data.drop(['returns', 'market_returns'], axis=1, inplace=True)\n",
    "\n",
    "    # Add technical analysis features\n",
    "    merged_data = add_all_ta_features(merged_data, open=\"Open\", high=\"High\", low=\"Low\", close=\"Close\", volume=\"Volume\", fillna=True)\n",
    "\n",
    "    # Calculate target and target class\n",
    "    merged_data['target'] = ((merged_data['Close'] - merged_data['Open']) / merged_data['Open']) * 100\n",
    "    merged_data['target'] = merged_data['target'].shift(-1)\n",
    " \n",
    "    merged_data['target_class'] = np.where(merged_data['target'] < 0, 0, 1)\n",
    "    \n",
    "    merged_data['target_next_close'] = merged_data['Close'].shift(-1)\n",
    "\n",
    "    # Drop rows with missing values\n",
    "    merged_data.dropna(inplace=True)\n",
    "\n",
    "    return merged_data\n",
    "\n",
    "\n"
   ]
  },
  {
   "cell_type": "code",
   "execution_count": 5,
   "id": "dc75ce0f-3761-4e96-bb70-6f5eecb8f656",
   "metadata": {
    "tags": []
   },
   "outputs": [
    {
     "ename": "NameError",
     "evalue": "name 'load_and_prepare' is not defined",
     "output_type": "error",
     "traceback": [
      "\u001b[0;31m---------------------------------------------------------------------------\u001b[0m",
      "\u001b[0;31mNameError\u001b[0m                                 Traceback (most recent call last)",
      "Cell \u001b[0;32mIn[5], line 1\u001b[0m\n\u001b[0;32m----> 1\u001b[0m stock_data \u001b[38;5;241m=\u001b[39m \u001b[43mload_and_prepare\u001b[49m(\u001b[38;5;124m'\u001b[39m\u001b[38;5;124mAMZN\u001b[39m\u001b[38;5;124m'\u001b[39m, \u001b[38;5;124m\"\u001b[39m\u001b[38;5;124m2017-01-01\u001b[39m\u001b[38;5;124m\"\u001b[39m , \u001b[38;5;124m\"\u001b[39m\u001b[38;5;124m2024-01-01\u001b[39m\u001b[38;5;124m\"\u001b[39m)\n\u001b[1;32m      2\u001b[0m stock_data\u001b[38;5;241m.\u001b[39mhead()\n",
      "\u001b[0;31mNameError\u001b[0m: name 'load_and_prepare' is not defined"
     ]
    }
   ],
   "source": [
    "\n",
    "stock_data = load_and_prepare('AMZN', \"2017-01-01\" , \"2024-01-01\")\n",
    "stock_data.head()\n"
   ]
  },
  {
   "cell_type": "code",
   "execution_count": 6,
   "id": "190ad790-8e6f-4b36-bde1-c09e37a7cba4",
   "metadata": {
    "tags": []
   },
   "outputs": [
    {
     "ename": "NameError",
     "evalue": "name 'stock_data' is not defined",
     "output_type": "error",
     "traceback": [
      "\u001b[0;31m---------------------------------------------------------------------------\u001b[0m",
      "\u001b[0;31mNameError\u001b[0m                                 Traceback (most recent call last)",
      "Cell \u001b[0;32mIn[6], line 1\u001b[0m\n\u001b[0;32m----> 1\u001b[0m \u001b[43mstock_data\u001b[49m\u001b[38;5;241m.\u001b[39mcolumns\n",
      "\u001b[0;31mNameError\u001b[0m: name 'stock_data' is not defined"
     ]
    }
   ],
   "source": [
    "stock_data.columns"
   ]
  },
  {
   "cell_type": "code",
   "execution_count": 2,
   "id": "e128aeda-f9a9-49ae-9a15-7569168653cf",
   "metadata": {
    "tags": []
   },
   "outputs": [
    {
     "ename": "NameError",
     "evalue": "name 'stock_data' is not defined",
     "output_type": "error",
     "traceback": [
      "\u001b[0;31m---------------------------------------------------------------------------\u001b[0m",
      "\u001b[0;31mNameError\u001b[0m                                 Traceback (most recent call last)",
      "Cell \u001b[0;32mIn[2], line 1\u001b[0m\n\u001b[0;32m----> 1\u001b[0m df \u001b[38;5;241m=\u001b[39m \u001b[43mstock_data\u001b[49m\n",
      "\u001b[0;31mNameError\u001b[0m: name 'stock_data' is not defined"
     ]
    }
   ],
   "source": [
    "df = stock_data"
   ]
  },
  {
   "cell_type": "code",
   "execution_count": 24,
   "id": "beaef11d-014e-41bb-bf60-b0ff3cfe8d7e",
   "metadata": {
    "tags": []
   },
   "outputs": [
    {
     "data": {
      "text/plain": [
       "Open                 0\n",
       "High                 0\n",
       "Low                  0\n",
       "Close                0\n",
       "Adj Close            0\n",
       "                    ..\n",
       "others_dlr           0\n",
       "others_cr            0\n",
       "target               0\n",
       "target_class         0\n",
       "target_next_close    0\n",
       "Length: 94, dtype: int64"
      ]
     },
     "execution_count": 24,
     "metadata": {},
     "output_type": "execute_result"
    }
   ],
   "source": [
    "df.isna().sum()"
   ]
  },
  {
   "cell_type": "code",
   "execution_count": 25,
   "id": "9b99ff56-f50b-4388-89ef-3a48fa9ce317",
   "metadata": {
    "tags": []
   },
   "outputs": [],
   "source": [
    "from sklearn.model_selection import train_test_split\n",
    "\n",
    "# Assuming X is your feature set and y is your target variable\n",
    "X = df.drop(['Open', 'High', 'Low', 'Close', 'Volume','target',\n",
    "       'target_class', 'target_next_close'], axis=1)# Adjust columns accordingly\n",
    "\n",
    "y = df[['target_class']]  # Adjust the target variable accordingly\n",
    "\n",
    "X_train, X_test, y_train, y_test = train_test_split(X, y, test_size=0.3 , random_state=42)\n"
   ]
  },
  {
   "cell_type": "code",
   "execution_count": 26,
   "id": "5ed3e88f-abb0-4c9c-92db-c72fd17bfe48",
   "metadata": {
    "tags": []
   },
   "outputs": [
    {
     "name": "stdout",
     "output_type": "stream",
     "text": [
      "WARNING:tensorflow:Layer lstm_5 will not use cuDNN kernels since it doesn't meet the criteria. It will use a generic GPU kernel as fallback when running on GPU.\n",
      "Epoch 1/50\n",
      "39/39 [==============================] - 7s 127ms/step - loss: 0.6959 - accuracy: 0.4898 - val_loss: 0.6978 - val_accuracy: 0.4905\n",
      "Epoch 2/50\n",
      "39/39 [==============================] - 1s 16ms/step - loss: 0.6920 - accuracy: 0.5118 - val_loss: 0.6940 - val_accuracy: 0.5019\n",
      "Epoch 3/50\n",
      "39/39 [==============================] - 1s 14ms/step - loss: 0.6914 - accuracy: 0.5232 - val_loss: 0.6945 - val_accuracy: 0.4943\n",
      "Epoch 4/50\n",
      "39/39 [==============================] - 1s 25ms/step - loss: 0.6943 - accuracy: 0.5118 - val_loss: 0.6962 - val_accuracy: 0.5114\n",
      "Epoch 5/50\n",
      "39/39 [==============================] - 1s 16ms/step - loss: 0.6934 - accuracy: 0.4972 - val_loss: 0.6944 - val_accuracy: 0.4886\n",
      "Epoch 6/50\n",
      "39/39 [==============================] - 1s 17ms/step - loss: 0.6916 - accuracy: 0.5199 - val_loss: 0.6949 - val_accuracy: 0.5000\n",
      "Epoch 7/50\n",
      "39/39 [==============================] - 1s 16ms/step - loss: 0.6912 - accuracy: 0.5264 - val_loss: 0.6942 - val_accuracy: 0.5095\n",
      "Epoch 8/50\n",
      "39/39 [==============================] - 1s 20ms/step - loss: 0.6921 - accuracy: 0.5142 - val_loss: 0.6941 - val_accuracy: 0.4924\n",
      "Epoch 9/50\n",
      "39/39 [==============================] - 1s 20ms/step - loss: 0.6908 - accuracy: 0.5118 - val_loss: 0.6960 - val_accuracy: 0.5019\n",
      "Epoch 10/50\n",
      "39/39 [==============================] - 1s 17ms/step - loss: 0.6900 - accuracy: 0.5354 - val_loss: 0.6993 - val_accuracy: 0.4867\n",
      "Epoch 11/50\n",
      "39/39 [==============================] - 1s 17ms/step - loss: 0.6906 - accuracy: 0.5240 - val_loss: 0.6981 - val_accuracy: 0.4754\n",
      "Epoch 12/50\n",
      "39/39 [==============================] - 1s 15ms/step - loss: 0.6911 - accuracy: 0.5085 - val_loss: 0.6959 - val_accuracy: 0.4830\n",
      "Epoch 13/50\n",
      "39/39 [==============================] - 1s 15ms/step - loss: 0.6882 - accuracy: 0.5411 - val_loss: 0.6989 - val_accuracy: 0.4659\n",
      "Epoch 14/50\n",
      "39/39 [==============================] - 1s 18ms/step - loss: 0.6877 - accuracy: 0.5419 - val_loss: 0.7021 - val_accuracy: 0.4848\n",
      "Epoch 15/50\n",
      "39/39 [==============================] - 1s 24ms/step - loss: 0.6909 - accuracy: 0.5427 - val_loss: 0.6968 - val_accuracy: 0.4678\n",
      "Epoch 16/50\n",
      "39/39 [==============================] - 1s 17ms/step - loss: 0.6876 - accuracy: 0.5517 - val_loss: 0.6998 - val_accuracy: 0.4659\n",
      "Epoch 17/50\n",
      "39/39 [==============================] - 1s 16ms/step - loss: 0.6890 - accuracy: 0.5313 - val_loss: 0.7015 - val_accuracy: 0.4735\n",
      "Epoch 18/50\n",
      "39/39 [==============================] - 1s 15ms/step - loss: 0.6857 - accuracy: 0.5663 - val_loss: 0.6988 - val_accuracy: 0.4678\n",
      "Epoch 19/50\n",
      "39/39 [==============================] - 1s 16ms/step - loss: 0.6864 - accuracy: 0.5264 - val_loss: 0.7015 - val_accuracy: 0.4924\n",
      "Epoch 20/50\n",
      "39/39 [==============================] - 1s 15ms/step - loss: 0.6865 - accuracy: 0.5541 - val_loss: 0.6991 - val_accuracy: 0.4583\n",
      "Epoch 21/50\n",
      "39/39 [==============================] - 1s 16ms/step - loss: 0.6852 - accuracy: 0.5509 - val_loss: 0.7035 - val_accuracy: 0.4697\n",
      "Epoch 22/50\n",
      "39/39 [==============================] - 1s 17ms/step - loss: 0.6850 - accuracy: 0.5582 - val_loss: 0.6984 - val_accuracy: 0.4659\n",
      "Epoch 23/50\n",
      "39/39 [==============================] - 1s 15ms/step - loss: 0.6842 - accuracy: 0.5590 - val_loss: 0.6997 - val_accuracy: 0.4716\n",
      "Epoch 24/50\n",
      "39/39 [==============================] - 1s 17ms/step - loss: 0.6828 - accuracy: 0.5688 - val_loss: 0.6982 - val_accuracy: 0.4659\n",
      "Epoch 25/50\n",
      "39/39 [==============================] - 1s 15ms/step - loss: 0.6803 - accuracy: 0.5574 - val_loss: 0.7029 - val_accuracy: 0.4659\n",
      "Epoch 26/50\n",
      "39/39 [==============================] - 1s 19ms/step - loss: 0.6842 - accuracy: 0.5590 - val_loss: 0.7007 - val_accuracy: 0.5095\n",
      "Epoch 27/50\n",
      "39/39 [==============================] - 1s 14ms/step - loss: 0.6810 - accuracy: 0.5761 - val_loss: 0.7008 - val_accuracy: 0.4640\n",
      "Epoch 28/50\n",
      "39/39 [==============================] - 1s 16ms/step - loss: 0.6817 - accuracy: 0.5622 - val_loss: 0.7020 - val_accuracy: 0.4754\n",
      "Epoch 29/50\n",
      "39/39 [==============================] - 1s 15ms/step - loss: 0.6806 - accuracy: 0.5810 - val_loss: 0.7054 - val_accuracy: 0.4659\n",
      "Epoch 30/50\n",
      "39/39 [==============================] - 1s 15ms/step - loss: 0.6806 - accuracy: 0.5777 - val_loss: 0.7045 - val_accuracy: 0.4602\n",
      "Epoch 31/50\n",
      "39/39 [==============================] - 1s 15ms/step - loss: 0.6790 - accuracy: 0.5761 - val_loss: 0.7034 - val_accuracy: 0.4716\n",
      "Epoch 32/50\n",
      "39/39 [==============================] - 1s 14ms/step - loss: 0.6812 - accuracy: 0.5679 - val_loss: 0.7022 - val_accuracy: 0.4792\n",
      "Epoch 33/50\n",
      "39/39 [==============================] - 1s 14ms/step - loss: 0.6809 - accuracy: 0.5712 - val_loss: 0.7062 - val_accuracy: 0.4905\n",
      "Epoch 34/50\n",
      "39/39 [==============================] - 1s 14ms/step - loss: 0.6796 - accuracy: 0.5631 - val_loss: 0.7021 - val_accuracy: 0.4754\n",
      "Epoch 35/50\n",
      "39/39 [==============================] - 1s 14ms/step - loss: 0.6778 - accuracy: 0.5736 - val_loss: 0.7020 - val_accuracy: 0.4792\n",
      "Epoch 36/50\n",
      "39/39 [==============================] - 1s 15ms/step - loss: 0.6775 - accuracy: 0.5842 - val_loss: 0.7039 - val_accuracy: 0.4697\n",
      "Epoch 37/50\n",
      "39/39 [==============================] - 1s 14ms/step - loss: 0.6796 - accuracy: 0.5712 - val_loss: 0.7067 - val_accuracy: 0.4905\n",
      "Epoch 38/50\n",
      "39/39 [==============================] - 1s 14ms/step - loss: 0.6792 - accuracy: 0.5655 - val_loss: 0.7034 - val_accuracy: 0.4697\n",
      "Epoch 39/50\n",
      "39/39 [==============================] - 1s 15ms/step - loss: 0.6779 - accuracy: 0.5696 - val_loss: 0.7056 - val_accuracy: 0.4678\n",
      "Epoch 40/50\n",
      "39/39 [==============================] - 1s 14ms/step - loss: 0.6758 - accuracy: 0.5801 - val_loss: 0.7042 - val_accuracy: 0.5038\n",
      "Epoch 41/50\n",
      "39/39 [==============================] - 1s 15ms/step - loss: 0.6767 - accuracy: 0.5785 - val_loss: 0.7079 - val_accuracy: 0.4981\n",
      "Epoch 42/50\n",
      "39/39 [==============================] - 1s 14ms/step - loss: 0.6761 - accuracy: 0.5972 - val_loss: 0.7061 - val_accuracy: 0.4754\n",
      "Epoch 43/50\n",
      "39/39 [==============================] - 1s 14ms/step - loss: 0.6749 - accuracy: 0.5801 - val_loss: 0.7053 - val_accuracy: 0.4811\n",
      "Epoch 44/50\n",
      "39/39 [==============================] - 1s 14ms/step - loss: 0.6786 - accuracy: 0.5826 - val_loss: 0.7050 - val_accuracy: 0.4602\n",
      "Epoch 45/50\n",
      "39/39 [==============================] - 1s 14ms/step - loss: 0.6715 - accuracy: 0.5769 - val_loss: 0.7177 - val_accuracy: 0.4640\n",
      "Epoch 46/50\n",
      "39/39 [==============================] - 1s 14ms/step - loss: 0.6754 - accuracy: 0.5785 - val_loss: 0.7097 - val_accuracy: 0.4773\n",
      "Epoch 47/50\n",
      "39/39 [==============================] - 1s 14ms/step - loss: 0.6745 - accuracy: 0.5728 - val_loss: 0.7072 - val_accuracy: 0.4545\n",
      "Epoch 48/50\n",
      "39/39 [==============================] - 1s 14ms/step - loss: 0.6728 - accuracy: 0.5793 - val_loss: 0.7115 - val_accuracy: 0.4716\n",
      "Epoch 49/50\n",
      "39/39 [==============================] - 1s 15ms/step - loss: 0.6760 - accuracy: 0.5793 - val_loss: 0.7084 - val_accuracy: 0.4527\n",
      "Epoch 50/50\n",
      "39/39 [==============================] - 1s 15ms/step - loss: 0.6713 - accuracy: 0.5924 - val_loss: 0.7055 - val_accuracy: 0.4924\n"
     ]
    }
   ],
   "source": [
    "\n",
    "# Create a preprocessing pipeline\n",
    "preprocessing_pipeline = Pipeline([\n",
    "    ('imputer', SimpleImputer(strategy='mean')),\n",
    "    ('scaler', MinMaxScaler(feature_range=(0,1)))\n",
    "])\n",
    "\n",
    "# Apply the preprocessing pipeline to numeric features\n",
    "preprocessor = ColumnTransformer(\n",
    "    transformers=[\n",
    "        ('num', preprocessing_pipeline, X_train.columns)\n",
    "    ])\n",
    "\n",
    "\n",
    "# Fit and transform the training data\n",
    "train_features_preprocessed = preprocessor.fit_transform(X_train)\n",
    "\n",
    "# Transform the test data using the learned parameters from the training data\n",
    "test_features_preprocessed = preprocessor.transform(X_test)\n",
    "\n",
    "# train_features_preprocessed and test_features_preprocessed are preprocessed data\n",
    "\n",
    "# Reshape training data\n",
    "X_train_lstm = train_features_preprocessed.reshape((train_features_preprocessed.shape[0], 1, train_features_preprocessed.shape[1]))\n",
    "\n",
    "# Reshape testing data\n",
    "X_test_lstm = test_features_preprocessed.reshape((test_features_preprocessed.shape[0], 1, test_features_preprocessed.shape[1]))\n",
    "\n",
    "# Number of unique classes\n",
    "num_classes = len(np.unique(y_train))\n",
    "\n",
    "# Adjust hyperparameters\n",
    "learning_rate = 0.001\n",
    "num_lstm_units = 50\n",
    "dropout_rate = 0.2\n",
    "\n",
    "# Build the model\n",
    "model = Sequential()\n",
    "model.add(LSTM(units=num_lstm_units, activation='relu', input_shape=(X_train_lstm.shape[1], X_train_lstm.shape[2])))\n",
    "model.add(Dropout(dropout_rate))\n",
    "model.add(Dense(units=num_classes, activation='softmax'))  # Adjust units based on the number of unique classes\n",
    "optimizer = Adam(learning_rate=learning_rate)\n",
    "model.compile(optimizer=optimizer, loss='sparse_categorical_crossentropy', metrics=['accuracy'])\n",
    "\n",
    "# Fit the model with validation data\n",
    "history = model.fit(X_train_lstm, y_train, epochs=50, batch_size=32, validation_data=(X_test_lstm, y_test))\n"
   ]
  },
  {
   "cell_type": "code",
   "execution_count": 20,
   "id": "83a0198a-b7cb-4db1-a4c3-e14f7c623e93",
   "metadata": {
    "tags": []
   },
   "outputs": [
    {
     "name": "stdout",
     "output_type": "stream",
     "text": [
      "24/24 [==============================] - 0s 6ms/step - loss: 0.6975 - accuracy: 0.5053\n",
      "Test Loss: 0.6974640488624573, Test Accuracy: 0.5053050518035889\n",
      "55/55 [==============================] - 1s 18ms/step - loss: 0.6775 - accuracy: 0.5702\n",
      "Train Loss: 0.6775081157684326, Train Accuracy: 0.570210337638855\n"
     ]
    },
    {
     "data": {
      "image/png": "[encoded data removed]",
      "text/plain": [
       "<Figure size 640x480 with 1 Axes>"
      ]
     },
     "metadata": {},
     "output_type": "display_data"
    }
   ],
   "source": [
    "# Evaluate the model on the test set\n",
    "evaluation_test = model.evaluate(X_test_lstm, y_test)\n",
    "print(f\"Test Loss: {evaluation_test[0]}, Test Accuracy: {evaluation_test[1]}\")\n",
    "\n",
    "# Evaluate the model on the training set\n",
    "evaluation_train = model.evaluate(X_train_lstm, y_train)\n",
    "print(f\"Train Loss: {evaluation_train[0]}, Train Accuracy: {evaluation_train[1]}\")\n",
    "\n",
    "# Plot the training history\n",
    "plt.plot(history.history['accuracy'], label='Train Accuracy')\n",
    "plt.plot(history.history['val_accuracy'], label='Validation Accuracy')  # for validation set\n",
    "plt.plot(history.history['loss'], label='Train Loss')\n",
    "plt.plot(history.history['val_loss'], label='Validation Loss')  # for validation set\n",
    "plt.xlabel('Epoch')\n",
    "plt.legend()\n",
    "plt.show()"
   ]
  },
  {
   "cell_type": "code",
   "execution_count": 19,
   "id": "ca186e75-b660-4b57-a15a-6d75cc5bb42f",
   "metadata": {
    "tags": []
   },
   "outputs": [
    {
     "name": "stdout",
     "output_type": "stream",
     "text": [
      "24/24 [==============================] - 1s 23ms/step\n"
     ]
    },
    {
     "data": {
      "image/png": "[encoded data removed]",
      "text/plain": [
       "<Figure size 640x480 with 2 Axes>"
      ]
     },
     "metadata": {},
     "output_type": "display_data"
    }
   ],
   "source": [
    "from sklearn.metrics import confusion_matrix, ConfusionMatrixDisplay\n",
    "\n",
    "# Get predictions on the test set\n",
    "predictions = model.predict(X_test_lstm)\n",
    "predicted_classes = np.argmax(predictions, axis=1)\n",
    "\n",
    "# Create a confusion matrix\n",
    "cm = confusion_matrix(y_test, predicted_classes, labels=[0, 1])\n",
    "\n",
    "# Display the confusion matrix\n",
    "disp = ConfusionMatrixDisplay(confusion_matrix=cm, display_labels=[0, 1])\n",
    "disp.plot(cmap='viridis', values_format='d')\n",
    "plt.show()\n"
   ]
  },
  {
   "cell_type": "code",
   "execution_count": 15,
   "id": "e4961034-00f9-4dca-bda8-19f4058ffb47",
   "metadata": {
    "tags": []
   },
   "outputs": [
    {
     "name": "stdout",
     "output_type": "stream",
     "text": [
      "              precision    recall  f1-score   support\n",
      "\n",
      "           0       0.53      0.77      0.63       389\n",
      "           1       0.53      0.28      0.36       365\n",
      "\n",
      "    accuracy                           0.53       754\n",
      "   macro avg       0.53      0.52      0.49       754\n",
      "weighted avg       0.53      0.53      0.50       754\n",
      "\n"
     ]
    }
   ],
   "source": [
    "from sklearn.metrics import classification_report\n",
    "\n",
    "# Print the classification report\n",
    "print(classification_report(y_test, predicted_classes))\n"
   ]
  },
  {
   "cell_type": "code",
   "execution_count": null,
   "id": "245a6714-16a1-4881-a627-43f8fa5c95fe",
   "metadata": {
    "tags": []
   },
   "outputs": [],
   "source": [
    "# Plot actual vs. predicted values\n",
    "plt.figure(figsize=(10, 6))\n",
    "plt.plot(y_test.index, y_test, label='Actual', marker='o')\n",
    "plt.plot(y_test.index, predicted_classes, label='Predicted', marker='x', linestyle='dashed')\n",
    "plt.xlabel('Time')\n",
    "plt.ylabel('Class')\n",
    "plt.legend()\n",
    "plt.show()\n"
   ]
  },
  {
   "cell_type": "code",
   "execution_count": null,
   "id": "fa0693de-f790-45f4-9218-a9f3fa0570e3",
   "metadata": {},
   "outputs": [],
   "source": [
    "# Preprocess the new data\n",
    "X_new_preprocessed = preprocessor.transform(X_new)\n",
    "X_new_lstm = X_new_preprocessed.reshape((X_new_preprocessed.shape[0], 1, X_new_preprocessed.shape[1]))\n",
    "\n",
    "# Make predictions on new data\n",
    "predictions_new = model.predict(X_new_lstm)\n",
    "predicted_classes_new = np.argmax(predictions_new, axis=1)\n",
    "print(\"Predicted Classes for New Data:\")\n",
    "print(predicted_classes_new)\n"
   ]
  },
  {
   "cell_type": "code",
   "execution_count": null,
   "id": "21413575-da49-4445-b8d1-9228f88ef5fb",
   "metadata": {
    "tags": []
   },
   "outputs": [],
   "source": [
    "print(classification_report(y_test, y_pred_gb))"
   ]
  },
  {
   "cell_type": "code",
   "execution_count": null,
   "id": "8811ef3b-3e71-48d5-b0a6-beb533b367ea",
   "metadata": {
    "tags": []
   },
   "outputs": [],
   "source": [
    "from xgboost import XGBClassifier"
   ]
  },
  {
   "cell_type": "code",
   "execution_count": null,
   "id": "004034ef-ecb7-457c-9ebf-1108ae53a3f6",
   "metadata": {
    "tags": []
   },
   "outputs": [],
   "source": [
    "gb = XGBClassifier(random_state=42,\n",
    "                    n_jobs=-1,\n",
    "                    n_estimators=1000,\n",
    "                    learning_rate=0.3,\n",
    "                    #subsample=0.5, \n",
    "                    )"
   ]
  },
  {
   "cell_type": "code",
   "execution_count": null,
   "id": "4a793a05-4275-43d5-8fee-83a6e7669844",
   "metadata": {
    "tags": []
   },
   "outputs": [],
   "source": [
    "gb.fit(train_features_preprocessed,y_train)"
   ]
  },
  {
   "cell_type": "code",
   "execution_count": null,
   "id": "3bffe2ca-452c-45bc-82d2-4ee226893efb",
   "metadata": {
    "tags": []
   },
   "outputs": [],
   "source": [
    "y_pred_gb = gb.predict(test_features_preprocessed)"
   ]
  },
  {
   "cell_type": "code",
   "execution_count": null,
   "id": "fecf5b1b-8af5-4484-a2d4-8b22f560bbc8",
   "metadata": {
    "tags": []
   },
   "outputs": [],
   "source": [
    "from sklearn.metrics import classification_report"
   ]
  },
  {
   "cell_type": "code",
   "execution_count": null,
   "id": "80c4605f-cab3-4dfe-932e-201b59edf612",
   "metadata": {
    "tags": []
   },
   "outputs": [],
   "source": [
    "print(classification_report(y_test, y_pred_gb))"
   ]
  },
  {
   "cell_type": "code",
   "execution_count": null,
   "id": "29eede07-8df9-4371-b219-1cacfebc52a2",
   "metadata": {
    "tags": []
   },
   "outputs": [],
   "source": [
    "cm = confusion_matrix(y_test, y_pred_gb)\n",
    "\n",
    "# Plot with seaborn\n",
    "sns.heatmap(cm, annot=True, fmt='g', cmap='Blues')\n",
    "plt.xlabel('Predicted')\n",
    "plt.ylabel('Actual')"
   ]
  },
  {
   "cell_type": "code",
   "execution_count": null,
   "id": "929b5bbc-897e-47e9-9fd2-a50319726779",
   "metadata": {
    "tags": []
   },
   "outputs": [],
   "source": [
    "from sklearn.decomposition import PCA\n",
    "# Apply PCA\n",
    "pca = PCA(n_components=25)  # Choose the number of components you want to keep\n",
    "X_train_pca = pca.fit_transform(train_features_preprocessed)\n",
    "X_test_pca = pca.transform(test_features_preprocessed)"
   ]
  },
  {
   "cell_type": "code",
   "execution_count": null,
   "id": "82e6b008-93a2-48ac-90f6-cec71ae7b0fc",
   "metadata": {
    "tags": []
   },
   "outputs": [],
   "source": [
    "gb.fit(X_train_pca,y_train)"
   ]
  },
  {
   "cell_type": "code",
   "execution_count": null,
   "id": "4d202883-06fd-424b-9ceb-ebd6f3c69352",
   "metadata": {
    "tags": []
   },
   "outputs": [],
   "source": [
    "y_pred_gb_pca = gb.predict(X_test_pca)"
   ]
  },
  {
   "cell_type": "code",
   "execution_count": null,
   "id": "b32e2064-56b3-4337-8557-62e0a2643e04",
   "metadata": {
    "tags": []
   },
   "outputs": [],
   "source": [
    "print(classification_report(y_test, y_pred_gb_pca))"
   ]
  },
  {
   "cell_type": "code",
   "execution_count": null,
   "id": "37e7eaf2-0750-4530-b9e8-08e6cf7687f5",
   "metadata": {},
   "outputs": [],
   "source": []
  }
 ],
 "metadata": {
  "kernelspec": {
   "display_name": "Python 3 (ipykernel)",
   "language": "python",
   "name": "python3"
  },
  "language_info": {
   "codemirror_mode": {
    "name": "ipython",
    "version": 3
   },
   "file_extension": ".py",
   "mimetype": "text/x-python",
   "name": "python",
   "nbconvert_exporter": "python",
   "pygments_lexer": "ipython3",
   "version": "3.10.13"
  }
 },
 "nbformat": 4,
 "nbformat_minor": 5
}
