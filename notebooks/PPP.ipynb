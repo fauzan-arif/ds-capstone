{
 "cells": [
  {
   "cell_type": "code",
   "execution_count": 37,
   "id": "3ebeef7b-4125-4f88-8a43-e435870d24dd",
   "metadata": {
    "tags": []
   },
   "outputs": [],
   "source": [
    "import pandas as pd\n",
    "import numpy as np\n",
    "from sklearn.preprocessing import StandardScaler\n",
    "from sklearn.compose import ColumnTransformer\n",
    "from sklearn.pipeline import Pipeline\n",
    "from sklearn.impute import SimpleImputer\n",
    "from sklearn.preprocessing import StandardScaler\n",
    "from sklearn.preprocessing import MinMaxScaler\n",
    "from tensorflow.keras.models import Sequential\n",
    "from tensorflow.keras.layers import LSTM, Dense\n",
    "from statsmodels.tsa.api import VAR\n",
    "from sklearn.metrics import mean_squared_error, r2_score\n",
    "import os\n",
    "from dotenv import load_dotenv\n",
    "import yfinance as yf\n",
    "import pandas as pd\n",
    "import pandas_ta as ta\n",
    "from scikeras.wrappers import KerasRegressor\n",
    "# Load environment variables from the .env file\n",
    "load_dotenv('../.env');\n",
    "\n",
    "# Data Viz. \n",
    "import statsmodels.formula.api as smf\n",
    "from statsmodels.tsa.seasonal import seasonal_decompose\n",
    "from scipy.ndimage import gaussian_filter\n",
    "from calendar import monthrange\n",
    "from calendar import month_name\n",
    "\n",
    "import matplotlib.pyplot as plt\n",
    "import matplotlib.patches as patches\n",
    "import seaborn as sns"
   ]
  },
  {
   "cell_type": "code",
   "execution_count": 2,
   "id": "aa639684-7395-443b-a829-35519070a3a3",
   "metadata": {
    "tags": []
   },
   "outputs": [
    {
     "name": "stdout",
     "output_type": "stream",
     "text": [
      "[*********************100%%**********************]  1 of 1 completed\n"
     ]
    },
    {
     "data": {
      "text/html": [
       "<div>\n",
       "<style scoped>\n",
       "    .dataframe tbody tr th:only-of-type {\n",
       "        vertical-align: middle;\n",
       "    }\n",
       "\n",
       "    .dataframe tbody tr th {\n",
       "        vertical-align: top;\n",
       "    }\n",
       "\n",
       "    .dataframe thead th {\n",
       "        text-align: right;\n",
       "    }\n",
       "</style>\n",
       "<table border=\"1\" class=\"dataframe\">\n",
       "  <thead>\n",
       "    <tr style=\"text-align: right;\">\n",
       "      <th></th>\n",
       "      <th>Open</th>\n",
       "      <th>High</th>\n",
       "      <th>Low</th>\n",
       "      <th>Close</th>\n",
       "      <th>Adj Close</th>\n",
       "      <th>Volume</th>\n",
       "    </tr>\n",
       "    <tr>\n",
       "      <th>Date</th>\n",
       "      <th></th>\n",
       "      <th></th>\n",
       "      <th></th>\n",
       "      <th></th>\n",
       "      <th></th>\n",
       "      <th></th>\n",
       "    </tr>\n",
       "  </thead>\n",
       "  <tbody>\n",
       "    <tr>\n",
       "      <th>2013-01-02</th>\n",
       "      <td>27.250000</td>\n",
       "      <td>27.730000</td>\n",
       "      <td>27.150000</td>\n",
       "      <td>27.620001</td>\n",
       "      <td>22.574522</td>\n",
       "      <td>52899300</td>\n",
       "    </tr>\n",
       "    <tr>\n",
       "      <th>2013-01-03</th>\n",
       "      <td>27.629999</td>\n",
       "      <td>27.650000</td>\n",
       "      <td>27.160000</td>\n",
       "      <td>27.250000</td>\n",
       "      <td>22.272118</td>\n",
       "      <td>48294400</td>\n",
       "    </tr>\n",
       "    <tr>\n",
       "      <th>2013-01-04</th>\n",
       "      <td>27.270000</td>\n",
       "      <td>27.340000</td>\n",
       "      <td>26.730000</td>\n",
       "      <td>26.740000</td>\n",
       "      <td>21.855268</td>\n",
       "      <td>52521100</td>\n",
       "    </tr>\n",
       "    <tr>\n",
       "      <th>2013-01-07</th>\n",
       "      <td>26.770000</td>\n",
       "      <td>26.879999</td>\n",
       "      <td>26.639999</td>\n",
       "      <td>26.690001</td>\n",
       "      <td>21.814409</td>\n",
       "      <td>37110400</td>\n",
       "    </tr>\n",
       "    <tr>\n",
       "      <th>2013-01-08</th>\n",
       "      <td>26.750000</td>\n",
       "      <td>26.790001</td>\n",
       "      <td>26.459999</td>\n",
       "      <td>26.549999</td>\n",
       "      <td>21.699984</td>\n",
       "      <td>44703100</td>\n",
       "    </tr>\n",
       "  </tbody>\n",
       "</table>\n",
       "</div>"
      ],
      "text/plain": [
       "                 Open       High        Low      Close  Adj Close    Volume\n",
       "Date                                                                       \n",
       "2013-01-02  27.250000  27.730000  27.150000  27.620001  22.574522  52899300\n",
       "2013-01-03  27.629999  27.650000  27.160000  27.250000  22.272118  48294400\n",
       "2013-01-04  27.270000  27.340000  26.730000  26.740000  21.855268  52521100\n",
       "2013-01-07  26.770000  26.879999  26.639999  26.690001  21.814409  37110400\n",
       "2013-01-08  26.750000  26.790001  26.459999  26.549999  21.699984  44703100"
      ]
     },
     "execution_count": 2,
     "metadata": {},
     "output_type": "execute_result"
    }
   ],
   "source": [
    "# Specify the stock symbol and the date range\n",
    "stock_symbol = \"MSFT\"\n",
    "start_date = \"2013-01-01\"\n",
    "end_date = \"2023-12-18\"\n",
    "\n",
    "# Fetch the stock data\n",
    "apple_cl = yf.download(stock_symbol, start=start_date, end=end_date)\n",
    "\n",
    "# Display the stock data\n",
    "apple_cl.head()"
   ]
  },
  {
   "cell_type": "code",
   "execution_count": 3,
   "id": "1f20cd89-fe2b-4dc9-bea5-4ab29a3f5246",
   "metadata": {},
   "outputs": [],
   "source": [
    "#here we are adding technical indicators to the data set as seperate columns\n",
    "\n",
    "apple_cl['RSI'] = ta.rsi(apple_cl['Adj Close'], length=15)\n",
    "apple_cl['EMAF'] = ta.ema(apple_cl['Adj Close'], length=20) #fast moving avg\n",
    "apple_cl['EMAM'] = ta.ema(apple_cl['Adj Close'], length=100) #medium moving avg\n",
    "apple_cl['EMAS'] = ta.ema(apple_cl['Adj Close'], length=150) #slow moving avg\n",
    "\n",
    "\n",
    "apple_cl['target'] = apple_cl['Adj Close'] - apple_cl.Open\n",
    "apple_cl['target'] = apple_cl['target'].shift(-1)\n",
    "apple_cl['target_class'] = [1 if apple_cl.target[i]>0 else 0 for i in range(len(apple_cl))]\n",
    "apple_cl['target_next_close'] = apple_cl['Adj Close'].shift(-1)\n",
    "\n",
    "apple_cl.dropna(inplace=True)\n",
    "apple_cl.reset_index(inplace=True)\n",
    "apple_cl.drop(['Volume' , 'Close', 'Date'], axis=1, inplace=True)\n"
   ]
  },
  {
   "cell_type": "code",
   "execution_count": 4,
   "id": "bc0c7640-469e-4037-b841-979b26de17b4",
   "metadata": {
    "tags": []
   },
   "outputs": [
    {
     "data": {
      "text/html": [
       "<div>\n",
       "<style scoped>\n",
       "    .dataframe tbody tr th:only-of-type {\n",
       "        vertical-align: middle;\n",
       "    }\n",
       "\n",
       "    .dataframe tbody tr th {\n",
       "        vertical-align: top;\n",
       "    }\n",
       "\n",
       "    .dataframe thead th {\n",
       "        text-align: right;\n",
       "    }\n",
       "</style>\n",
       "<table border=\"1\" class=\"dataframe\">\n",
       "  <thead>\n",
       "    <tr style=\"text-align: right;\">\n",
       "      <th></th>\n",
       "      <th>Open</th>\n",
       "      <th>High</th>\n",
       "      <th>Low</th>\n",
       "      <th>Adj Close</th>\n",
       "      <th>RSI</th>\n",
       "      <th>EMAF</th>\n",
       "      <th>EMAM</th>\n",
       "      <th>EMAS</th>\n",
       "      <th>target</th>\n",
       "      <th>target_class</th>\n",
       "      <th>target_next_close</th>\n",
       "    </tr>\n",
       "  </thead>\n",
       "  <tbody>\n",
       "    <tr>\n",
       "      <th>0</th>\n",
       "      <td>31.549999</td>\n",
       "      <td>31.670000</td>\n",
       "      <td>31.379999</td>\n",
       "      <td>26.207312</td>\n",
       "      <td>36.913558</td>\n",
       "      <td>27.059401</td>\n",
       "      <td>26.526855</td>\n",
       "      <td>25.447614</td>\n",
       "      <td>-4.934347</td>\n",
       "      <td>0</td>\n",
       "      <td>26.605654</td>\n",
       "    </tr>\n",
       "    <tr>\n",
       "      <th>1</th>\n",
       "      <td>31.540001</td>\n",
       "      <td>32.099998</td>\n",
       "      <td>31.250000</td>\n",
       "      <td>26.605654</td>\n",
       "      <td>42.200173</td>\n",
       "      <td>27.016187</td>\n",
       "      <td>26.528415</td>\n",
       "      <td>25.462953</td>\n",
       "      <td>-4.945555</td>\n",
       "      <td>0</td>\n",
       "      <td>27.294447</td>\n",
       "    </tr>\n",
       "    <tr>\n",
       "      <th>2</th>\n",
       "      <td>32.240002</td>\n",
       "      <td>33.070000</td>\n",
       "      <td>32.049999</td>\n",
       "      <td>27.294447</td>\n",
       "      <td>49.967779</td>\n",
       "      <td>27.042688</td>\n",
       "      <td>26.543584</td>\n",
       "      <td>25.487211</td>\n",
       "      <td>-5.633230</td>\n",
       "      <td>0</td>\n",
       "      <td>27.136770</td>\n",
       "    </tr>\n",
       "    <tr>\n",
       "      <th>3</th>\n",
       "      <td>32.770000</td>\n",
       "      <td>32.900002</td>\n",
       "      <td>32.470001</td>\n",
       "      <td>27.136770</td>\n",
       "      <td>48.373338</td>\n",
       "      <td>27.051648</td>\n",
       "      <td>26.555330</td>\n",
       "      <td>25.509059</td>\n",
       "      <td>-5.182156</td>\n",
       "      <td>0</td>\n",
       "      <td>27.277843</td>\n",
       "    </tr>\n",
       "    <tr>\n",
       "      <th>4</th>\n",
       "      <td>32.459999</td>\n",
       "      <td>32.970001</td>\n",
       "      <td>32.459999</td>\n",
       "      <td>27.277843</td>\n",
       "      <td>49.905651</td>\n",
       "      <td>27.073190</td>\n",
       "      <td>26.569637</td>\n",
       "      <td>25.532487</td>\n",
       "      <td>-5.574795</td>\n",
       "      <td>0</td>\n",
       "      <td>26.935204</td>\n",
       "    </tr>\n",
       "  </tbody>\n",
       "</table>\n",
       "</div>"
      ],
      "text/plain": [
       "        Open       High        Low  Adj Close        RSI       EMAF   \n",
       "0  31.549999  31.670000  31.379999  26.207312  36.913558  27.059401  \\\n",
       "1  31.540001  32.099998  31.250000  26.605654  42.200173  27.016187   \n",
       "2  32.240002  33.070000  32.049999  27.294447  49.967779  27.042688   \n",
       "3  32.770000  32.900002  32.470001  27.136770  48.373338  27.051648   \n",
       "4  32.459999  32.970001  32.459999  27.277843  49.905651  27.073190   \n",
       "\n",
       "        EMAM       EMAS    target  target_class  target_next_close  \n",
       "0  26.526855  25.447614 -4.934347             0          26.605654  \n",
       "1  26.528415  25.462953 -4.945555             0          27.294447  \n",
       "2  26.543584  25.487211 -5.633230             0          27.136770  \n",
       "3  26.555330  25.509059 -5.182156             0          27.277843  \n",
       "4  26.569637  25.532487 -5.574795             0          26.935204  "
      ]
     },
     "execution_count": 4,
     "metadata": {},
     "output_type": "execute_result"
    }
   ],
   "source": [
    "apple_cl.head()"
   ]
  },
  {
   "cell_type": "code",
   "execution_count": 5,
   "id": "f9c54b1c-99ec-405d-ad7b-c1e96dfa79b5",
   "metadata": {},
   "outputs": [],
   "source": [
    "# Stock closing prices are features and date is the date time index\n",
    "\n",
    "numeric_features = apple_cl[['Open', 'High', 'Low', 'Adj Close', 'RSI', 'EMAF', 'EMAS', 'EMAM']]\n",
    "targets = apple_cl[['target', 'target_class', 'target_next_close']]\n",
    "\n",
    "train_size = int(len(apple_cl) * 0.8)\n",
    "train_features, test_features = numeric_features[:train_size], numeric_features[train_size:]\n",
    "train_targets, test_targets = targets[:train_size], targets[train_size:]\n",
    "\n",
    "\n",
    "# Create a preprocessing pipeline\n",
    "preprocessing_pipeline = Pipeline([\n",
    "    ('imputer', SimpleImputer(strategy='mean')),\n",
    "    ('scaler', MinMaxScaler(feature_range=(0,1)))\n",
    "])\n",
    "\n",
    "# Apply the preprocessing pipeline to numeric features\n",
    "preprocessor = ColumnTransformer(\n",
    "    transformers=[\n",
    "        ('num', preprocessing_pipeline, numeric_features.columns)\n",
    "    ])"
   ]
  },
  {
   "cell_type": "code",
   "execution_count": 6,
   "id": "c649b7ce-f061-4520-acdf-b2b665c85fee",
   "metadata": {},
   "outputs": [],
   "source": [
    "# Fit and transform the training data\n",
    "train_features_preprocessed = preprocessor.fit_transform(train_features)\n",
    "\n",
    "# Transform the test data using the learned parameters from the training data\n",
    "test_features_preprocessed = preprocessor.transform(test_features)"
   ]
  },
  {
   "cell_type": "markdown",
   "id": "0a083f53-bf04-4a67-8ed8-2ae5ba03cc23",
   "metadata": {},
   "source": [
    "### Reshape the Data"
   ]
  },
  {
   "cell_type": "code",
   "execution_count": 7,
   "id": "1b102845-ac36-44d0-82dd-06faaf423647",
   "metadata": {
    "tags": []
   },
   "outputs": [],
   "source": [
    "def reshape_for_lstm(data, time_steps):\n",
    "    return data.reshape((data.shape[0], time_steps, data.shape[1]))\n",
    "\n",
    "time_steps = 1  # We can experiment with different time steps\n",
    "train_features_lstm = reshape_for_lstm(train_features_preprocessed, time_steps)\n",
    "test_features_lstm = reshape_for_lstm(test_features_preprocessed, time_steps)\n"
   ]
  },
  {
   "cell_type": "markdown",
   "id": "30fe68b1-ee83-465c-9b5c-57f69b629fdd",
   "metadata": {},
   "source": [
    "### Build The Model"
   ]
  },
  {
   "cell_type": "code",
   "execution_count": 8,
   "id": "4c4423fe-012e-44aa-b2cd-1733edbf6b53",
   "metadata": {
    "tags": []
   },
   "outputs": [
    {
     "name": "stdout",
     "output_type": "stream",
     "text": [
      "WARNING:tensorflow:Layer lstm will not use cuDNN kernels since it doesn't meet the criteria. It will use a generic GPU kernel as fallback when running on GPU.\n"
     ]
    },
    {
     "name": "stderr",
     "output_type": "stream",
     "text": [
      "2023-12-19 12:39:33.593286: I metal_plugin/src/device/metal_device.cc:1154] Metal device set to: Apple M1\n",
      "2023-12-19 12:39:33.593310: I metal_plugin/src/device/metal_device.cc:296] systemMemory: 8.00 GB\n",
      "2023-12-19 12:39:33.593315: I metal_plugin/src/device/metal_device.cc:313] maxCacheSize: 2.67 GB\n",
      "2023-12-19 12:39:33.593589: I tensorflow/core/common_runtime/pluggable_device/pluggable_device_factory.cc:306] Could not identify NUMA node of platform GPU ID 0, defaulting to 0. Your kernel may not have been built with NUMA support.\n",
      "2023-12-19 12:39:33.593942: I tensorflow/core/common_runtime/pluggable_device/pluggable_device_factory.cc:272] Created TensorFlow device (/job:localhost/replica:0/task:0/device:GPU:0 with 0 MB memory) -> physical PluggableDevice (device: 0, name: METAL, pci bus id: <undefined>)\n"
     ]
    }
   ],
   "source": [
    "model = Sequential()\n",
    "time_steps = 1\n",
    "model.add(LSTM(units=50, activation='relu', input_shape=(time_steps, numeric_features.shape[1])))\n",
    "model.add(Dense(units=3))  # Assuming you have 3 output columns\n",
    "\n",
    "model.compile(optimizer='adam', loss='mean_squared_error')  # Adjust the loss function based on your problem"
   ]
  },
  {
   "cell_type": "code",
   "execution_count": 9,
   "id": "deadb962-0209-4f56-b749-2dcc0e9bc2e3",
   "metadata": {
    "tags": []
   },
   "outputs": [],
   "source": [
    "### Train the model"
   ]
  },
  {
   "cell_type": "code",
   "execution_count": 10,
   "id": "df5464c5-8c9a-45f2-8d7a-e44869928164",
   "metadata": {
    "tags": []
   },
   "outputs": [],
   "source": [
    "epochs = 50\n",
    "batch_size = 32"
   ]
  },
  {
   "cell_type": "code",
   "execution_count": 11,
   "id": "bc221e79-406f-4998-9e1a-89b833f8a545",
   "metadata": {
    "tags": []
   },
   "outputs": [
    {
     "name": "stdout",
     "output_type": "stream",
     "text": [
      "Epoch 1/50\n"
     ]
    },
    {
     "name": "stderr",
     "output_type": "stream",
     "text": [
      "2023-12-19 12:39:34.918224: I tensorflow/core/grappler/optimizers/custom_graph_optimizer_registry.cc:117] Plugin optimizer for device_type GPU is enabled.\n"
     ]
    },
    {
     "name": "stdout",
     "output_type": "stream",
     "text": [
      "66/66 [==============================] - 5s 33ms/step - loss: 5321.5630\n",
      "Epoch 2/50\n",
      "66/66 [==============================] - 1s 10ms/step - loss: 5235.0640\n",
      "Epoch 3/50\n",
      "66/66 [==============================] - 1s 10ms/step - loss: 5002.8589\n",
      "Epoch 4/50\n",
      "66/66 [==============================] - 1s 10ms/step - loss: 4593.7305\n",
      "Epoch 5/50\n",
      "66/66 [==============================] - 1s 10ms/step - loss: 4045.2246\n",
      "Epoch 6/50\n",
      "66/66 [==============================] - 1s 10ms/step - loss: 3425.1353\n",
      "Epoch 7/50\n",
      "66/66 [==============================] - 1s 10ms/step - loss: 2790.1045\n",
      "Epoch 8/50\n",
      "66/66 [==============================] - 1s 10ms/step - loss: 2182.3188\n",
      "Epoch 9/50\n",
      "66/66 [==============================] - 1s 10ms/step - loss: 1634.3197\n",
      "Epoch 10/50\n",
      "66/66 [==============================] - 1s 10ms/step - loss: 1169.3628\n",
      "Epoch 11/50\n",
      "66/66 [==============================] - 1s 10ms/step - loss: 799.5464\n",
      "Epoch 12/50\n",
      "66/66 [==============================] - 1s 10ms/step - loss: 523.6941\n",
      "Epoch 13/50\n",
      "66/66 [==============================] - 1s 10ms/step - loss: 330.0072\n",
      "Epoch 14/50\n",
      "66/66 [==============================] - 1s 10ms/step - loss: 202.4724\n",
      "Epoch 15/50\n",
      "66/66 [==============================] - 1s 10ms/step - loss: 124.3366\n",
      "Epoch 16/50\n",
      "66/66 [==============================] - 1s 10ms/step - loss: 79.9653\n",
      "Epoch 17/50\n",
      "66/66 [==============================] - 1s 10ms/step - loss: 55.6250\n",
      "Epoch 18/50\n",
      "66/66 [==============================] - 1s 10ms/step - loss: 42.4018\n",
      "Epoch 19/50\n",
      "66/66 [==============================] - 1s 10ms/step - loss: 34.3659\n",
      "Epoch 20/50\n",
      "66/66 [==============================] - 1s 10ms/step - loss: 28.4925\n",
      "Epoch 21/50\n",
      "66/66 [==============================] - 1s 10ms/step - loss: 23.7827\n",
      "Epoch 22/50\n",
      "66/66 [==============================] - 1s 10ms/step - loss: 19.8421\n",
      "Epoch 23/50\n",
      "66/66 [==============================] - 1s 10ms/step - loss: 16.5263\n",
      "Epoch 24/50\n",
      "66/66 [==============================] - 1s 10ms/step - loss: 13.6164\n",
      "Epoch 25/50\n",
      "66/66 [==============================] - 1s 10ms/step - loss: 11.3456\n",
      "Epoch 26/50\n",
      "66/66 [==============================] - 1s 10ms/step - loss: 9.8714\n",
      "Epoch 27/50\n",
      "66/66 [==============================] - 1s 10ms/step - loss: 8.9150\n",
      "Epoch 28/50\n",
      "66/66 [==============================] - 1s 10ms/step - loss: 8.2927\n",
      "Epoch 29/50\n",
      "66/66 [==============================] - 1s 10ms/step - loss: 7.8519\n",
      "Epoch 30/50\n",
      "66/66 [==============================] - 1s 10ms/step - loss: 7.5260\n",
      "Epoch 31/50\n",
      "66/66 [==============================] - 1s 10ms/step - loss: 7.2517\n",
      "Epoch 32/50\n",
      "66/66 [==============================] - 1s 10ms/step - loss: 7.0042\n",
      "Epoch 33/50\n",
      "66/66 [==============================] - 1s 10ms/step - loss: 6.7927\n",
      "Epoch 34/50\n",
      "66/66 [==============================] - 1s 10ms/step - loss: 6.5823\n",
      "Epoch 35/50\n",
      "66/66 [==============================] - 1s 12ms/step - loss: 6.3729\n",
      "Epoch 36/50\n",
      "66/66 [==============================] - 1s 10ms/step - loss: 6.1751\n",
      "Epoch 37/50\n",
      "66/66 [==============================] - 1s 10ms/step - loss: 5.9677\n",
      "Epoch 38/50\n",
      "66/66 [==============================] - 1s 10ms/step - loss: 5.7780\n",
      "Epoch 39/50\n",
      "66/66 [==============================] - 1s 10ms/step - loss: 5.5559\n",
      "Epoch 40/50\n",
      "66/66 [==============================] - 1s 10ms/step - loss: 5.3791\n",
      "Epoch 41/50\n",
      "66/66 [==============================] - 1s 10ms/step - loss: 5.1965\n",
      "Epoch 42/50\n",
      "66/66 [==============================] - 1s 10ms/step - loss: 5.0443\n",
      "Epoch 43/50\n",
      "66/66 [==============================] - 1s 10ms/step - loss: 4.8881\n",
      "Epoch 44/50\n",
      "66/66 [==============================] - 1s 10ms/step - loss: 4.7515\n",
      "Epoch 45/50\n",
      "66/66 [==============================] - 1s 11ms/step - loss: 4.6066\n",
      "Epoch 46/50\n",
      "66/66 [==============================] - 1s 10ms/step - loss: 4.4820\n",
      "Epoch 47/50\n",
      "66/66 [==============================] - 1s 11ms/step - loss: 4.3914\n",
      "Epoch 48/50\n",
      "66/66 [==============================] - 1s 10ms/step - loss: 4.2792\n",
      "Epoch 49/50\n",
      "66/66 [==============================] - 1s 10ms/step - loss: 4.1632\n",
      "Epoch 50/50\n",
      "66/66 [==============================] - 1s 10ms/step - loss: 4.0752\n"
     ]
    },
    {
     "data": {
      "text/plain": [
       "<keras.src.callbacks.History at 0x290d21b50>"
      ]
     },
     "execution_count": 11,
     "metadata": {},
     "output_type": "execute_result"
    }
   ],
   "source": [
    "model.fit(train_features_lstm, train_targets, epochs=epochs, batch_size=batch_size)\n"
   ]
  },
  {
   "cell_type": "code",
   "execution_count": 12,
   "id": "098d190b-5c78-4706-b639-88b6b858ddb5",
   "metadata": {},
   "outputs": [
    {
     "name": "stdout",
     "output_type": "stream",
     "text": [
      "17/17 [==============================] - 1s 42ms/step - loss: 39.4550\n",
      "Test Loss: 39.45503616333008\n"
     ]
    }
   ],
   "source": [
    "test_loss = model.evaluate(test_features_lstm, test_targets)\n",
    "print(f'Test Loss: {test_loss}')"
   ]
  },
  {
   "cell_type": "code",
   "execution_count": 13,
   "id": "4ea88b0e-70af-46a7-9fe4-8ff7a843c9dc",
   "metadata": {
    "tags": []
   },
   "outputs": [
    {
     "name": "stdout",
     "output_type": "stream",
     "text": [
      "17/17 [==============================] - 1s 31ms/step\n"
     ]
    },
    {
     "data": {
      "image/png": "[encoded data removed]",
      "text/plain": [
       "<Figure size 2500x1000 with 1 Axes>"
      ]
     },
     "metadata": {},
     "output_type": "display_data"
    }
   ],
   "source": [
    "import matplotlib.pyplot as plt\n",
    "\n",
    "# Assuming 'model' is your trained LSTM model\n",
    "predictions = model.predict(test_features_lstm)\n",
    "\n",
    "# Plotting\n",
    "plt.figure(figsize=(25, 10))\n",
    "plt.plot(test_targets.index, test_targets['target_next_close'], label='True Values', marker='o')\n",
    "plt.plot(test_targets.index, predictions[:, 2], label='Predictions', marker='o')  # Assuming 'target_next_close' is the third column\n",
    "plt.title('LSTM Model Predictions vs True Values')\n",
    "plt.xlabel('Date')\n",
    "plt.ylabel('Target Next Close')\n",
    "plt.legend()\n",
    "plt.show()\n"
   ]
  },
  {
   "cell_type": "code",
   "execution_count": 14,
   "id": "02815f50-4f0b-466b-b2d2-be03117430c0",
   "metadata": {
    "tags": []
   },
   "outputs": [
    {
     "name": "stdout",
     "output_type": "stream",
     "text": [
      "Epoch 1/50\n",
      "66/66 [==============================] - 1s 12ms/step - loss: 3.9859 - val_loss: 39.4755\n",
      "Epoch 2/50\n",
      "66/66 [==============================] - 1s 11ms/step - loss: 3.9018 - val_loss: 38.8761\n",
      "Epoch 3/50\n",
      "66/66 [==============================] - 1s 12ms/step - loss: 3.8225 - val_loss: 38.6976\n",
      "Epoch 4/50\n",
      "66/66 [==============================] - 1s 11ms/step - loss: 3.7476 - val_loss: 39.2695\n",
      "Epoch 5/50\n",
      "66/66 [==============================] - 1s 12ms/step - loss: 3.6605 - val_loss: 38.2221\n",
      "Epoch 6/50\n",
      "66/66 [==============================] - 1s 12ms/step - loss: 3.5975 - val_loss: 38.9981\n",
      "Epoch 7/50\n",
      "66/66 [==============================] - 1s 12ms/step - loss: 3.5399 - val_loss: 39.7511\n",
      "Epoch 8/50\n",
      "66/66 [==============================] - 1s 11ms/step - loss: 3.4849 - val_loss: 39.2341\n",
      "Epoch 9/50\n",
      "66/66 [==============================] - 1s 11ms/step - loss: 3.4357 - val_loss: 39.0236\n",
      "Epoch 10/50\n",
      "66/66 [==============================] - 1s 11ms/step - loss: 3.3995 - val_loss: 39.8343\n",
      "Epoch 11/50\n",
      "66/66 [==============================] - 1s 11ms/step - loss: 3.3448 - val_loss: 39.9119\n",
      "Epoch 12/50\n",
      "66/66 [==============================] - 1s 11ms/step - loss: 3.3005 - val_loss: 40.4232\n",
      "Epoch 13/50\n",
      "66/66 [==============================] - 1s 11ms/step - loss: 3.2571 - val_loss: 39.4241\n",
      "Epoch 14/50\n",
      "66/66 [==============================] - 1s 11ms/step - loss: 3.2341 - val_loss: 41.2362\n",
      "Epoch 15/50\n",
      "66/66 [==============================] - 1s 12ms/step - loss: 3.1906 - val_loss: 39.6737\n",
      "Epoch 16/50\n",
      "66/66 [==============================] - 1s 11ms/step - loss: 3.1594 - val_loss: 39.7834\n",
      "Epoch 17/50\n",
      "66/66 [==============================] - 1s 11ms/step - loss: 3.1309 - val_loss: 40.4052\n",
      "Epoch 18/50\n",
      "66/66 [==============================] - 1s 11ms/step - loss: 3.1035 - val_loss: 40.0580\n",
      "Epoch 19/50\n",
      "66/66 [==============================] - 1s 11ms/step - loss: 3.0859 - val_loss: 40.7702\n",
      "Epoch 20/50\n",
      "66/66 [==============================] - 1s 11ms/step - loss: 3.0662 - val_loss: 40.8753\n",
      "Epoch 21/50\n",
      "66/66 [==============================] - 1s 12ms/step - loss: 3.0604 - val_loss: 39.8934\n",
      "Epoch 22/50\n",
      "66/66 [==============================] - 1s 11ms/step - loss: 3.0172 - val_loss: 40.0229\n",
      "Epoch 23/50\n",
      "66/66 [==============================] - 1s 11ms/step - loss: 3.0030 - val_loss: 40.7008\n",
      "Epoch 24/50\n",
      "66/66 [==============================] - 1s 11ms/step - loss: 2.9841 - val_loss: 41.1926\n",
      "Epoch 25/50\n",
      "66/66 [==============================] - 1s 11ms/step - loss: 2.9711 - val_loss: 41.6704\n",
      "Epoch 26/50\n",
      "66/66 [==============================] - 1s 11ms/step - loss: 2.9556 - val_loss: 40.7228\n",
      "Epoch 27/50\n",
      "66/66 [==============================] - 1s 11ms/step - loss: 2.9527 - val_loss: 40.3195\n",
      "Epoch 28/50\n",
      "66/66 [==============================] - 1s 11ms/step - loss: 2.9241 - val_loss: 40.1459\n",
      "Epoch 29/50\n",
      "66/66 [==============================] - 1s 11ms/step - loss: 2.9187 - val_loss: 41.5355\n",
      "Epoch 30/50\n",
      "66/66 [==============================] - 1s 11ms/step - loss: 2.9192 - val_loss: 40.3078\n",
      "Epoch 31/50\n",
      "66/66 [==============================] - 1s 11ms/step - loss: 2.9088 - val_loss: 41.2477\n",
      "Epoch 32/50\n",
      "66/66 [==============================] - 1s 11ms/step - loss: 2.9061 - val_loss: 41.0740\n",
      "Epoch 33/50\n",
      "66/66 [==============================] - 1s 11ms/step - loss: 2.8877 - val_loss: 40.9059\n",
      "Epoch 34/50\n",
      "66/66 [==============================] - 1s 11ms/step - loss: 2.8701 - val_loss: 41.3709\n",
      "Epoch 35/50\n",
      "66/66 [==============================] - 1s 11ms/step - loss: 2.8580 - val_loss: 40.0227\n",
      "Epoch 36/50\n",
      "66/66 [==============================] - 1s 11ms/step - loss: 2.8553 - val_loss: 41.0923\n",
      "Epoch 37/50\n",
      "66/66 [==============================] - 1s 11ms/step - loss: 2.8355 - val_loss: 40.2855\n",
      "Epoch 38/50\n",
      "66/66 [==============================] - 1s 11ms/step - loss: 2.8608 - val_loss: 41.1214\n",
      "Epoch 39/50\n",
      "66/66 [==============================] - 1s 12ms/step - loss: 2.8323 - val_loss: 41.0941\n",
      "Epoch 40/50\n",
      "66/66 [==============================] - 1s 11ms/step - loss: 2.8253 - val_loss: 40.7804\n",
      "Epoch 41/50\n",
      "66/66 [==============================] - 1s 12ms/step - loss: 2.8166 - val_loss: 39.8437\n",
      "Epoch 42/50\n",
      "66/66 [==============================] - 1s 11ms/step - loss: 2.8115 - val_loss: 40.0592\n",
      "Epoch 43/50\n",
      "66/66 [==============================] - 1s 11ms/step - loss: 2.8004 - val_loss: 39.6464\n",
      "Epoch 44/50\n",
      "66/66 [==============================] - 1s 12ms/step - loss: 2.7961 - val_loss: 39.4519\n",
      "Epoch 45/50\n",
      "66/66 [==============================] - 1s 12ms/step - loss: 2.7771 - val_loss: 40.3323\n",
      "Epoch 46/50\n",
      "66/66 [==============================] - 1s 11ms/step - loss: 2.7786 - val_loss: 40.3384\n",
      "Epoch 47/50\n",
      "66/66 [==============================] - 1s 12ms/step - loss: 2.7785 - val_loss: 39.1487\n",
      "Epoch 48/50\n",
      "66/66 [==============================] - 1s 11ms/step - loss: 2.7685 - val_loss: 39.0626\n",
      "Epoch 49/50\n",
      "66/66 [==============================] - 1s 11ms/step - loss: 2.7479 - val_loss: 39.6275\n",
      "Epoch 50/50\n",
      "66/66 [==============================] - 1s 11ms/step - loss: 2.7449 - val_loss: 38.6976\n"
     ]
    },
    {
     "data": {
      "image/png": "[encoded data removed]",
      "text/plain": [
       "<Figure size 640x480 with 1 Axes>"
      ]
     },
     "metadata": {},
     "output_type": "display_data"
    }
   ],
   "source": [
    "history = model.fit(train_features_lstm, train_targets, epochs=epochs, batch_size=batch_size, validation_data=(test_features_lstm, test_targets))\n",
    "\n",
    "# Plot training loss\n",
    "plt.plot(history.history['loss'], label='Training Loss')\n",
    "plt.plot(history.history['val_loss'], label='Validation Loss')\n",
    "plt.title('Training and Validation Loss Over Epochs')\n",
    "plt.xlabel('Epochs')\n",
    "plt.ylabel('Loss')\n",
    "plt.legend()\n",
    "plt.show()"
   ]
  },
  {
   "cell_type": "code",
   "execution_count": 15,
   "id": "e0018c6c-58b1-47f8-a57e-a6ce67013251",
   "metadata": {
    "tags": []
   },
   "outputs": [
    {
     "name": "stdout",
     "output_type": "stream",
     "text": [
      "17/17 [==============================] - 0s 4ms/step\n",
      "MAE: 7.46\n",
      "MSE: 84.12\n",
      "RMSE: 9.17\n"
     ]
    }
   ],
   "source": [
    "from sklearn.metrics import mean_absolute_error, mean_squared_error\n",
    "\n",
    "predictions = model.predict(test_features_lstm)\n",
    "mae = mean_absolute_error(test_targets['target_next_close'], predictions[:, 2])  # Assuming 'target_next_close' is the third column\n",
    "mse = mean_squared_error(test_targets['target_next_close'], predictions[:, 2])\n",
    "rmse = np.sqrt(mse)\n",
    "\n",
    "print(f'MAE: {mae:.2f}')\n",
    "print(f'MSE: {mse:.2f}')\n",
    "print(f'RMSE: {rmse:.2f}')"
   ]
  },
  {
   "cell_type": "code",
   "execution_count": 16,
   "id": "d09bcbf3-8499-4e37-ad43-c8aff590ab65",
   "metadata": {
    "tags": []
   },
   "outputs": [
    {
     "name": "stdout",
     "output_type": "stream",
     "text": [
      "Directional Accuracy: 71.07%\n"
     ]
    }
   ],
   "source": [
    "from sklearn.metrics import accuracy_score\n",
    "\n",
    "# Assuming 'target_class' is the classification target column\n",
    "predictions_class = (predictions[:, 1] > 0.5).astype(int)\n",
    "accuracy = accuracy_score(test_targets['target_class'], predictions_class)\n",
    "\n",
    "print(f'Directional Accuracy: {accuracy:.2%}')"
   ]
  },
  {
   "cell_type": "markdown",
   "id": "7ce0fc3a-e812-426f-b7bc-6e78d10d57ad",
   "metadata": {},
   "source": [
    "### Grid Search "
   ]
  },
  {
   "cell_type": "code",
   "execution_count": 17,
   "id": "6baaa452-e704-4883-ba12-153816c69991",
   "metadata": {},
   "outputs": [
    {
     "name": "stdout",
     "output_type": "stream",
     "text": [
      "2.15.0\n"
     ]
    }
   ],
   "source": [
    "import tensorflow as tf\n",
    "print(tf.__version__)"
   ]
  },
  {
   "cell_type": "code",
   "execution_count": 22,
   "id": "ffc37d7a-e18e-436c-8962-4a7d1be7ffb7",
   "metadata": {
    "tags": []
   },
   "outputs": [],
   "source": [
    "from sklearn.model_selection import GridSearchCV\n",
    "from tensorflow.keras.optimizers import Adam\n",
    "\n",
    "# Function to create an LSTM model\n",
    "def create_lstm_model(units=50, learning_rate=0.001):\n",
    "    model = Sequential()\n",
    "    model.add(LSTM(units=units, activation='relu', input_shape=(time_steps, numeric_features.shape[1])))\n",
    "    model.add(Dense(units=3))  # Assuming you have 3 output columns\n",
    "    optimizer = Adam(learning_rate=learning_rate)\n",
    "    model.compile(optimizer=optimizer, loss='mean_squared_error')\n",
    "    return model\n",
    "\n",
    "# Wrap the Keras model for use with GridSearchCV\n",
    "lstm_regressor = KerasRegressor(learning_rate=0.001,build_fn=create_lstm_model, epochs=10, batch_size=32, units=50, verbose=0)\n",
    "\n",
    "# Define hyperparameters to search\n",
    "param_grid = {\n",
    "    'units': [50, 100, 150],\n",
    "    'learning_rate': [0.001, 0.01, 0.1]\n",
    "}\n",
    "\n",
    "# Perform Grid Search\n",
    "grid_search = GridSearchCV(estimator=lstm_regressor, param_grid=param_grid, cv=3, scoring='neg_mean_squared_error')\n",
    "\n"
   ]
  },
  {
   "cell_type": "code",
   "execution_count": 23,
   "id": "0c920d98-42d3-4de5-a1db-03a1b37c867a",
   "metadata": {},
   "outputs": [
    {
     "name": "stdout",
     "output_type": "stream",
     "text": [
      "WARNING:tensorflow:Layer lstm_1 will not use cuDNN kernels since it doesn't meet the criteria. It will use a generic GPU kernel as fallback when running on GPU.\n"
     ]
    },
    {
     "name": "stderr",
     "output_type": "stream",
     "text": [
      "/Users/fauzanarif/Bootcamp/ds-capstone/.venv/lib/python3.11/site-packages/scikeras/wrappers.py:915: UserWarning: ``build_fn`` will be renamed to ``model`` in a future release, at which point use of ``build_fn`` will raise an Error instead.\n",
      "  X, y = self._initialize(X, y)\n",
      "WARNING:absl:At this time, the v2.11+ optimizer `tf.keras.optimizers.Adam` runs slowly on M1/M2 Macs, please use the legacy Keras optimizer instead, located at `tf.keras.optimizers.legacy.Adam`.\n",
      "2023-12-19 12:46:31.133670: E tensorflow/core/grappler/optimizers/meta_optimizer.cc:961] model_pruner failed: INVALID_ARGUMENT: Graph does not contain terminal node Adam/AssignAddVariableOp_6.\n"
     ]
    },
    {
     "name": "stdout",
     "output_type": "stream",
     "text": [
      "WARNING:tensorflow:Layer lstm_2 will not use cuDNN kernels since it doesn't meet the criteria. It will use a generic GPU kernel as fallback when running on GPU.\n"
     ]
    },
    {
     "name": "stderr",
     "output_type": "stream",
     "text": [
      "/Users/fauzanarif/Bootcamp/ds-capstone/.venv/lib/python3.11/site-packages/scikeras/wrappers.py:915: UserWarning: ``build_fn`` will be renamed to ``model`` in a future release, at which point use of ``build_fn`` will raise an Error instead.\n",
      "  X, y = self._initialize(X, y)\n",
      "WARNING:tensorflow:Layer lstm_2 will not use cuDNN kernels since it doesn't meet the criteria. It will use a generic GPU kernel as fallback when running on GPU.\n",
      "WARNING:absl:At this time, the v2.11+ optimizer `tf.keras.optimizers.Adam` runs slowly on M1/M2 Macs, please use the legacy Keras optimizer instead, located at `tf.keras.optimizers.legacy.Adam`.\n"
     ]
    },
    {
     "name": "stdout",
     "output_type": "stream",
     "text": [
      "WARNING:tensorflow:Layer lstm_3 will not use cuDNN kernels since it doesn't meet the criteria. It will use a generic GPU kernel as fallback when running on GPU.\n"
     ]
    },
    {
     "name": "stderr",
     "output_type": "stream",
     "text": [
      "/Users/fauzanarif/Bootcamp/ds-capstone/.venv/lib/python3.11/site-packages/scikeras/wrappers.py:915: UserWarning: ``build_fn`` will be renamed to ``model`` in a future release, at which point use of ``build_fn`` will raise an Error instead.\n",
      "  X, y = self._initialize(X, y)\n",
      "WARNING:tensorflow:Layer lstm_3 will not use cuDNN kernels since it doesn't meet the criteria. It will use a generic GPU kernel as fallback when running on GPU.\n",
      "WARNING:absl:At this time, the v2.11+ optimizer `tf.keras.optimizers.Adam` runs slowly on M1/M2 Macs, please use the legacy Keras optimizer instead, located at `tf.keras.optimizers.legacy.Adam`.\n"
     ]
    },
    {
     "name": "stdout",
     "output_type": "stream",
     "text": [
      "WARNING:tensorflow:Layer lstm_4 will not use cuDNN kernels since it doesn't meet the criteria. It will use a generic GPU kernel as fallback when running on GPU.\n"
     ]
    },
    {
     "name": "stderr",
     "output_type": "stream",
     "text": [
      "/Users/fauzanarif/Bootcamp/ds-capstone/.venv/lib/python3.11/site-packages/scikeras/wrappers.py:915: UserWarning: ``build_fn`` will be renamed to ``model`` in a future release, at which point use of ``build_fn`` will raise an Error instead.\n",
      "  X, y = self._initialize(X, y)\n",
      "WARNING:tensorflow:Layer lstm_4 will not use cuDNN kernels since it doesn't meet the criteria. It will use a generic GPU kernel as fallback when running on GPU.\n",
      "WARNING:absl:At this time, the v2.11+ optimizer `tf.keras.optimizers.Adam` runs slowly on M1/M2 Macs, please use the legacy Keras optimizer instead, located at `tf.keras.optimizers.legacy.Adam`.\n"
     ]
    },
    {
     "name": "stdout",
     "output_type": "stream",
     "text": [
      "WARNING:tensorflow:Layer lstm_5 will not use cuDNN kernels since it doesn't meet the criteria. It will use a generic GPU kernel as fallback when running on GPU.\n"
     ]
    },
    {
     "name": "stderr",
     "output_type": "stream",
     "text": [
      "/Users/fauzanarif/Bootcamp/ds-capstone/.venv/lib/python3.11/site-packages/scikeras/wrappers.py:915: UserWarning: ``build_fn`` will be renamed to ``model`` in a future release, at which point use of ``build_fn`` will raise an Error instead.\n",
      "  X, y = self._initialize(X, y)\n",
      "WARNING:tensorflow:Layer lstm_5 will not use cuDNN kernels since it doesn't meet the criteria. It will use a generic GPU kernel as fallback when running on GPU.\n",
      "WARNING:absl:At this time, the v2.11+ optimizer `tf.keras.optimizers.Adam` runs slowly on M1/M2 Macs, please use the legacy Keras optimizer instead, located at `tf.keras.optimizers.legacy.Adam`.\n"
     ]
    },
    {
     "name": "stdout",
     "output_type": "stream",
     "text": [
      "WARNING:tensorflow:Layer lstm_6 will not use cuDNN kernels since it doesn't meet the criteria. It will use a generic GPU kernel as fallback when running on GPU.\n"
     ]
    },
    {
     "name": "stderr",
     "output_type": "stream",
     "text": [
      "/Users/fauzanarif/Bootcamp/ds-capstone/.venv/lib/python3.11/site-packages/scikeras/wrappers.py:915: UserWarning: ``build_fn`` will be renamed to ``model`` in a future release, at which point use of ``build_fn`` will raise an Error instead.\n",
      "  X, y = self._initialize(X, y)\n",
      "WARNING:tensorflow:Layer lstm_6 will not use cuDNN kernels since it doesn't meet the criteria. It will use a generic GPU kernel as fallback when running on GPU.\n",
      "WARNING:absl:At this time, the v2.11+ optimizer `tf.keras.optimizers.Adam` runs slowly on M1/M2 Macs, please use the legacy Keras optimizer instead, located at `tf.keras.optimizers.legacy.Adam`.\n",
      "2023-12-19 12:47:33.761031: E tensorflow/core/grappler/optimizers/meta_optimizer.cc:961] model_pruner failed: INVALID_ARGUMENT: Graph does not contain terminal node Adam/AssignAddVariableOp_6.\n"
     ]
    },
    {
     "name": "stdout",
     "output_type": "stream",
     "text": [
      "WARNING:tensorflow:Layer lstm_7 will not use cuDNN kernels since it doesn't meet the criteria. It will use a generic GPU kernel as fallback when running on GPU.\n"
     ]
    },
    {
     "name": "stderr",
     "output_type": "stream",
     "text": [
      "/Users/fauzanarif/Bootcamp/ds-capstone/.venv/lib/python3.11/site-packages/scikeras/wrappers.py:915: UserWarning: ``build_fn`` will be renamed to ``model`` in a future release, at which point use of ``build_fn`` will raise an Error instead.\n",
      "  X, y = self._initialize(X, y)\n",
      "WARNING:tensorflow:Layer lstm_7 will not use cuDNN kernels since it doesn't meet the criteria. It will use a generic GPU kernel as fallback when running on GPU.\n",
      "WARNING:absl:At this time, the v2.11+ optimizer `tf.keras.optimizers.Adam` runs slowly on M1/M2 Macs, please use the legacy Keras optimizer instead, located at `tf.keras.optimizers.legacy.Adam`.\n"
     ]
    },
    {
     "name": "stdout",
     "output_type": "stream",
     "text": [
      "WARNING:tensorflow:Layer lstm_8 will not use cuDNN kernels since it doesn't meet the criteria. It will use a generic GPU kernel as fallback when running on GPU.\n"
     ]
    },
    {
     "name": "stderr",
     "output_type": "stream",
     "text": [
      "/Users/fauzanarif/Bootcamp/ds-capstone/.venv/lib/python3.11/site-packages/scikeras/wrappers.py:915: UserWarning: ``build_fn`` will be renamed to ``model`` in a future release, at which point use of ``build_fn`` will raise an Error instead.\n",
      "  X, y = self._initialize(X, y)\n",
      "WARNING:tensorflow:Layer lstm_8 will not use cuDNN kernels since it doesn't meet the criteria. It will use a generic GPU kernel as fallback when running on GPU.\n",
      "WARNING:absl:At this time, the v2.11+ optimizer `tf.keras.optimizers.Adam` runs slowly on M1/M2 Macs, please use the legacy Keras optimizer instead, located at `tf.keras.optimizers.legacy.Adam`.\n"
     ]
    },
    {
     "name": "stdout",
     "output_type": "stream",
     "text": [
      "WARNING:tensorflow:Layer lstm_9 will not use cuDNN kernels since it doesn't meet the criteria. It will use a generic GPU kernel as fallback when running on GPU.\n"
     ]
    },
    {
     "name": "stderr",
     "output_type": "stream",
     "text": [
      "/Users/fauzanarif/Bootcamp/ds-capstone/.venv/lib/python3.11/site-packages/scikeras/wrappers.py:915: UserWarning: ``build_fn`` will be renamed to ``model`` in a future release, at which point use of ``build_fn`` will raise an Error instead.\n",
      "  X, y = self._initialize(X, y)\n",
      "WARNING:tensorflow:Layer lstm_9 will not use cuDNN kernels since it doesn't meet the criteria. It will use a generic GPU kernel as fallback when running on GPU.\n",
      "WARNING:absl:At this time, the v2.11+ optimizer `tf.keras.optimizers.Adam` runs slowly on M1/M2 Macs, please use the legacy Keras optimizer instead, located at `tf.keras.optimizers.legacy.Adam`.\n"
     ]
    },
    {
     "name": "stdout",
     "output_type": "stream",
     "text": [
      "WARNING:tensorflow:Layer lstm_10 will not use cuDNN kernels since it doesn't meet the criteria. It will use a generic GPU kernel as fallback when running on GPU.\n"
     ]
    },
    {
     "name": "stderr",
     "output_type": "stream",
     "text": [
      "/Users/fauzanarif/Bootcamp/ds-capstone/.venv/lib/python3.11/site-packages/scikeras/wrappers.py:915: UserWarning: ``build_fn`` will be renamed to ``model`` in a future release, at which point use of ``build_fn`` will raise an Error instead.\n",
      "  X, y = self._initialize(X, y)\n",
      "WARNING:tensorflow:Layer lstm_10 will not use cuDNN kernels since it doesn't meet the criteria. It will use a generic GPU kernel as fallback when running on GPU.\n",
      "WARNING:absl:At this time, the v2.11+ optimizer `tf.keras.optimizers.Adam` runs slowly on M1/M2 Macs, please use the legacy Keras optimizer instead, located at `tf.keras.optimizers.legacy.Adam`.\n"
     ]
    },
    {
     "name": "stdout",
     "output_type": "stream",
     "text": [
      "WARNING:tensorflow:Layer lstm_11 will not use cuDNN kernels since it doesn't meet the criteria. It will use a generic GPU kernel as fallback when running on GPU.\n"
     ]
    },
    {
     "name": "stderr",
     "output_type": "stream",
     "text": [
      "/Users/fauzanarif/Bootcamp/ds-capstone/.venv/lib/python3.11/site-packages/scikeras/wrappers.py:915: UserWarning: ``build_fn`` will be renamed to ``model`` in a future release, at which point use of ``build_fn`` will raise an Error instead.\n",
      "  X, y = self._initialize(X, y)\n",
      "WARNING:tensorflow:Layer lstm_11 will not use cuDNN kernels since it doesn't meet the criteria. It will use a generic GPU kernel as fallback when running on GPU.\n",
      "WARNING:absl:At this time, the v2.11+ optimizer `tf.keras.optimizers.Adam` runs slowly on M1/M2 Macs, please use the legacy Keras optimizer instead, located at `tf.keras.optimizers.legacy.Adam`.\n",
      "2023-12-19 12:48:37.996774: E tensorflow/core/grappler/optimizers/meta_optimizer.cc:961] model_pruner failed: INVALID_ARGUMENT: Graph does not contain terminal node Adam/AssignAddVariableOp_6.\n"
     ]
    },
    {
     "name": "stdout",
     "output_type": "stream",
     "text": [
      "WARNING:tensorflow:Layer lstm_12 will not use cuDNN kernels since it doesn't meet the criteria. It will use a generic GPU kernel as fallback when running on GPU.\n"
     ]
    },
    {
     "name": "stderr",
     "output_type": "stream",
     "text": [
      "/Users/fauzanarif/Bootcamp/ds-capstone/.venv/lib/python3.11/site-packages/scikeras/wrappers.py:915: UserWarning: ``build_fn`` will be renamed to ``model`` in a future release, at which point use of ``build_fn`` will raise an Error instead.\n",
      "  X, y = self._initialize(X, y)\n",
      "WARNING:tensorflow:Layer lstm_12 will not use cuDNN kernels since it doesn't meet the criteria. It will use a generic GPU kernel as fallback when running on GPU.\n",
      "WARNING:absl:At this time, the v2.11+ optimizer `tf.keras.optimizers.Adam` runs slowly on M1/M2 Macs, please use the legacy Keras optimizer instead, located at `tf.keras.optimizers.legacy.Adam`.\n"
     ]
    },
    {
     "name": "stdout",
     "output_type": "stream",
     "text": [
      "WARNING:tensorflow:Layer lstm_13 will not use cuDNN kernels since it doesn't meet the criteria. It will use a generic GPU kernel as fallback when running on GPU.\n"
     ]
    },
    {
     "name": "stderr",
     "output_type": "stream",
     "text": [
      "/Users/fauzanarif/Bootcamp/ds-capstone/.venv/lib/python3.11/site-packages/scikeras/wrappers.py:915: UserWarning: ``build_fn`` will be renamed to ``model`` in a future release, at which point use of ``build_fn`` will raise an Error instead.\n",
      "  X, y = self._initialize(X, y)\n",
      "WARNING:tensorflow:Layer lstm_13 will not use cuDNN kernels since it doesn't meet the criteria. It will use a generic GPU kernel as fallback when running on GPU.\n",
      "WARNING:absl:At this time, the v2.11+ optimizer `tf.keras.optimizers.Adam` runs slowly on M1/M2 Macs, please use the legacy Keras optimizer instead, located at `tf.keras.optimizers.legacy.Adam`.\n"
     ]
    },
    {
     "name": "stdout",
     "output_type": "stream",
     "text": [
      "WARNING:tensorflow:Layer lstm_14 will not use cuDNN kernels since it doesn't meet the criteria. It will use a generic GPU kernel as fallback when running on GPU.\n"
     ]
    },
    {
     "name": "stderr",
     "output_type": "stream",
     "text": [
      "/Users/fauzanarif/Bootcamp/ds-capstone/.venv/lib/python3.11/site-packages/scikeras/wrappers.py:915: UserWarning: ``build_fn`` will be renamed to ``model`` in a future release, at which point use of ``build_fn`` will raise an Error instead.\n",
      "  X, y = self._initialize(X, y)\n",
      "WARNING:tensorflow:Layer lstm_14 will not use cuDNN kernels since it doesn't meet the criteria. It will use a generic GPU kernel as fallback when running on GPU.\n",
      "WARNING:absl:At this time, the v2.11+ optimizer `tf.keras.optimizers.Adam` runs slowly on M1/M2 Macs, please use the legacy Keras optimizer instead, located at `tf.keras.optimizers.legacy.Adam`.\n"
     ]
    },
    {
     "name": "stdout",
     "output_type": "stream",
     "text": [
      "WARNING:tensorflow:Layer lstm_15 will not use cuDNN kernels since it doesn't meet the criteria. It will use a generic GPU kernel as fallback when running on GPU.\n"
     ]
    },
    {
     "name": "stderr",
     "output_type": "stream",
     "text": [
      "/Users/fauzanarif/Bootcamp/ds-capstone/.venv/lib/python3.11/site-packages/scikeras/wrappers.py:915: UserWarning: ``build_fn`` will be renamed to ``model`` in a future release, at which point use of ``build_fn`` will raise an Error instead.\n",
      "  X, y = self._initialize(X, y)\n",
      "WARNING:tensorflow:Layer lstm_15 will not use cuDNN kernels since it doesn't meet the criteria. It will use a generic GPU kernel as fallback when running on GPU.\n",
      "WARNING:absl:At this time, the v2.11+ optimizer `tf.keras.optimizers.Adam` runs slowly on M1/M2 Macs, please use the legacy Keras optimizer instead, located at `tf.keras.optimizers.legacy.Adam`.\n"
     ]
    },
    {
     "name": "stdout",
     "output_type": "stream",
     "text": [
      "WARNING:tensorflow:Layer lstm_16 will not use cuDNN kernels since it doesn't meet the criteria. It will use a generic GPU kernel as fallback when running on GPU.\n"
     ]
    },
    {
     "name": "stderr",
     "output_type": "stream",
     "text": [
      "/Users/fauzanarif/Bootcamp/ds-capstone/.venv/lib/python3.11/site-packages/scikeras/wrappers.py:915: UserWarning: ``build_fn`` will be renamed to ``model`` in a future release, at which point use of ``build_fn`` will raise an Error instead.\n",
      "  X, y = self._initialize(X, y)\n",
      "WARNING:tensorflow:Layer lstm_16 will not use cuDNN kernels since it doesn't meet the criteria. It will use a generic GPU kernel as fallback when running on GPU.\n",
      "WARNING:absl:At this time, the v2.11+ optimizer `tf.keras.optimizers.Adam` runs slowly on M1/M2 Macs, please use the legacy Keras optimizer instead, located at `tf.keras.optimizers.legacy.Adam`.\n",
      "2023-12-19 12:49:42.386243: E tensorflow/core/grappler/optimizers/meta_optimizer.cc:961] model_pruner failed: INVALID_ARGUMENT: Graph does not contain terminal node Adam/AssignAddVariableOp_6.\n"
     ]
    },
    {
     "name": "stdout",
     "output_type": "stream",
     "text": [
      "WARNING:tensorflow:Layer lstm_17 will not use cuDNN kernels since it doesn't meet the criteria. It will use a generic GPU kernel as fallback when running on GPU.\n"
     ]
    },
    {
     "name": "stderr",
     "output_type": "stream",
     "text": [
      "/Users/fauzanarif/Bootcamp/ds-capstone/.venv/lib/python3.11/site-packages/scikeras/wrappers.py:915: UserWarning: ``build_fn`` will be renamed to ``model`` in a future release, at which point use of ``build_fn`` will raise an Error instead.\n",
      "  X, y = self._initialize(X, y)\n",
      "WARNING:tensorflow:Layer lstm_17 will not use cuDNN kernels since it doesn't meet the criteria. It will use a generic GPU kernel as fallback when running on GPU.\n",
      "WARNING:absl:At this time, the v2.11+ optimizer `tf.keras.optimizers.Adam` runs slowly on M1/M2 Macs, please use the legacy Keras optimizer instead, located at `tf.keras.optimizers.legacy.Adam`.\n"
     ]
    },
    {
     "name": "stdout",
     "output_type": "stream",
     "text": [
      "WARNING:tensorflow:Layer lstm_18 will not use cuDNN kernels since it doesn't meet the criteria. It will use a generic GPU kernel as fallback when running on GPU.\n"
     ]
    },
    {
     "name": "stderr",
     "output_type": "stream",
     "text": [
      "/Users/fauzanarif/Bootcamp/ds-capstone/.venv/lib/python3.11/site-packages/scikeras/wrappers.py:915: UserWarning: ``build_fn`` will be renamed to ``model`` in a future release, at which point use of ``build_fn`` will raise an Error instead.\n",
      "  X, y = self._initialize(X, y)\n",
      "WARNING:tensorflow:Layer lstm_18 will not use cuDNN kernels since it doesn't meet the criteria. It will use a generic GPU kernel as fallback when running on GPU.\n",
      "WARNING:absl:At this time, the v2.11+ optimizer `tf.keras.optimizers.Adam` runs slowly on M1/M2 Macs, please use the legacy Keras optimizer instead, located at `tf.keras.optimizers.legacy.Adam`.\n"
     ]
    },
    {
     "name": "stdout",
     "output_type": "stream",
     "text": [
      "WARNING:tensorflow:Layer lstm_19 will not use cuDNN kernels since it doesn't meet the criteria. It will use a generic GPU kernel as fallback when running on GPU.\n"
     ]
    },
    {
     "name": "stderr",
     "output_type": "stream",
     "text": [
      "/Users/fauzanarif/Bootcamp/ds-capstone/.venv/lib/python3.11/site-packages/scikeras/wrappers.py:915: UserWarning: ``build_fn`` will be renamed to ``model`` in a future release, at which point use of ``build_fn`` will raise an Error instead.\n",
      "  X, y = self._initialize(X, y)\n",
      "WARNING:tensorflow:Layer lstm_19 will not use cuDNN kernels since it doesn't meet the criteria. It will use a generic GPU kernel as fallback when running on GPU.\n",
      "WARNING:absl:At this time, the v2.11+ optimizer `tf.keras.optimizers.Adam` runs slowly on M1/M2 Macs, please use the legacy Keras optimizer instead, located at `tf.keras.optimizers.legacy.Adam`.\n"
     ]
    },
    {
     "name": "stdout",
     "output_type": "stream",
     "text": [
      "WARNING:tensorflow:Layer lstm_20 will not use cuDNN kernels since it doesn't meet the criteria. It will use a generic GPU kernel as fallback when running on GPU.\n"
     ]
    },
    {
     "name": "stderr",
     "output_type": "stream",
     "text": [
      "/Users/fauzanarif/Bootcamp/ds-capstone/.venv/lib/python3.11/site-packages/scikeras/wrappers.py:915: UserWarning: ``build_fn`` will be renamed to ``model`` in a future release, at which point use of ``build_fn`` will raise an Error instead.\n",
      "  X, y = self._initialize(X, y)\n",
      "WARNING:tensorflow:Layer lstm_20 will not use cuDNN kernels since it doesn't meet the criteria. It will use a generic GPU kernel as fallback when running on GPU.\n",
      "WARNING:absl:At this time, the v2.11+ optimizer `tf.keras.optimizers.Adam` runs slowly on M1/M2 Macs, please use the legacy Keras optimizer instead, located at `tf.keras.optimizers.legacy.Adam`.\n"
     ]
    },
    {
     "name": "stdout",
     "output_type": "stream",
     "text": [
      "WARNING:tensorflow:Layer lstm_21 will not use cuDNN kernels since it doesn't meet the criteria. It will use a generic GPU kernel as fallback when running on GPU.\n"
     ]
    },
    {
     "name": "stderr",
     "output_type": "stream",
     "text": [
      "/Users/fauzanarif/Bootcamp/ds-capstone/.venv/lib/python3.11/site-packages/scikeras/wrappers.py:915: UserWarning: ``build_fn`` will be renamed to ``model`` in a future release, at which point use of ``build_fn`` will raise an Error instead.\n",
      "  X, y = self._initialize(X, y)\n",
      "WARNING:tensorflow:Layer lstm_21 will not use cuDNN kernels since it doesn't meet the criteria. It will use a generic GPU kernel as fallback when running on GPU.\n",
      "WARNING:absl:At this time, the v2.11+ optimizer `tf.keras.optimizers.Adam` runs slowly on M1/M2 Macs, please use the legacy Keras optimizer instead, located at `tf.keras.optimizers.legacy.Adam`.\n",
      "2023-12-19 12:50:46.606233: E tensorflow/core/grappler/optimizers/meta_optimizer.cc:961] model_pruner failed: INVALID_ARGUMENT: Graph does not contain terminal node Adam/AssignAddVariableOp_6.\n"
     ]
    },
    {
     "name": "stdout",
     "output_type": "stream",
     "text": [
      "WARNING:tensorflow:Layer lstm_22 will not use cuDNN kernels since it doesn't meet the criteria. It will use a generic GPU kernel as fallback when running on GPU.\n"
     ]
    },
    {
     "name": "stderr",
     "output_type": "stream",
     "text": [
      "/Users/fauzanarif/Bootcamp/ds-capstone/.venv/lib/python3.11/site-packages/scikeras/wrappers.py:915: UserWarning: ``build_fn`` will be renamed to ``model`` in a future release, at which point use of ``build_fn`` will raise an Error instead.\n",
      "  X, y = self._initialize(X, y)\n",
      "WARNING:tensorflow:Layer lstm_22 will not use cuDNN kernels since it doesn't meet the criteria. It will use a generic GPU kernel as fallback when running on GPU.\n",
      "WARNING:absl:At this time, the v2.11+ optimizer `tf.keras.optimizers.Adam` runs slowly on M1/M2 Macs, please use the legacy Keras optimizer instead, located at `tf.keras.optimizers.legacy.Adam`.\n"
     ]
    },
    {
     "name": "stdout",
     "output_type": "stream",
     "text": [
      "WARNING:tensorflow:Layer lstm_23 will not use cuDNN kernels since it doesn't meet the criteria. It will use a generic GPU kernel as fallback when running on GPU.\n"
     ]
    },
    {
     "name": "stderr",
     "output_type": "stream",
     "text": [
      "/Users/fauzanarif/Bootcamp/ds-capstone/.venv/lib/python3.11/site-packages/scikeras/wrappers.py:915: UserWarning: ``build_fn`` will be renamed to ``model`` in a future release, at which point use of ``build_fn`` will raise an Error instead.\n",
      "  X, y = self._initialize(X, y)\n",
      "WARNING:tensorflow:Layer lstm_23 will not use cuDNN kernels since it doesn't meet the criteria. It will use a generic GPU kernel as fallback when running on GPU.\n",
      "WARNING:absl:At this time, the v2.11+ optimizer `tf.keras.optimizers.Adam` runs slowly on M1/M2 Macs, please use the legacy Keras optimizer instead, located at `tf.keras.optimizers.legacy.Adam`.\n"
     ]
    },
    {
     "name": "stdout",
     "output_type": "stream",
     "text": [
      "WARNING:tensorflow:Layer lstm_24 will not use cuDNN kernels since it doesn't meet the criteria. It will use a generic GPU kernel as fallback when running on GPU.\n"
     ]
    },
    {
     "name": "stderr",
     "output_type": "stream",
     "text": [
      "/Users/fauzanarif/Bootcamp/ds-capstone/.venv/lib/python3.11/site-packages/scikeras/wrappers.py:915: UserWarning: ``build_fn`` will be renamed to ``model`` in a future release, at which point use of ``build_fn`` will raise an Error instead.\n",
      "  X, y = self._initialize(X, y)\n",
      "WARNING:tensorflow:Layer lstm_24 will not use cuDNN kernels since it doesn't meet the criteria. It will use a generic GPU kernel as fallback when running on GPU.\n",
      "WARNING:absl:At this time, the v2.11+ optimizer `tf.keras.optimizers.Adam` runs slowly on M1/M2 Macs, please use the legacy Keras optimizer instead, located at `tf.keras.optimizers.legacy.Adam`.\n"
     ]
    },
    {
     "name": "stdout",
     "output_type": "stream",
     "text": [
      "WARNING:tensorflow:Layer lstm_25 will not use cuDNN kernels since it doesn't meet the criteria. It will use a generic GPU kernel as fallback when running on GPU.\n"
     ]
    },
    {
     "name": "stderr",
     "output_type": "stream",
     "text": [
      "/Users/fauzanarif/Bootcamp/ds-capstone/.venv/lib/python3.11/site-packages/scikeras/wrappers.py:915: UserWarning: ``build_fn`` will be renamed to ``model`` in a future release, at which point use of ``build_fn`` will raise an Error instead.\n",
      "  X, y = self._initialize(X, y)\n",
      "WARNING:tensorflow:Layer lstm_25 will not use cuDNN kernels since it doesn't meet the criteria. It will use a generic GPU kernel as fallback when running on GPU.\n",
      "WARNING:absl:At this time, the v2.11+ optimizer `tf.keras.optimizers.Adam` runs slowly on M1/M2 Macs, please use the legacy Keras optimizer instead, located at `tf.keras.optimizers.legacy.Adam`.\n"
     ]
    },
    {
     "name": "stdout",
     "output_type": "stream",
     "text": [
      "WARNING:tensorflow:Layer lstm_26 will not use cuDNN kernels since it doesn't meet the criteria. It will use a generic GPU kernel as fallback when running on GPU.\n"
     ]
    },
    {
     "name": "stderr",
     "output_type": "stream",
     "text": [
      "/Users/fauzanarif/Bootcamp/ds-capstone/.venv/lib/python3.11/site-packages/scikeras/wrappers.py:915: UserWarning: ``build_fn`` will be renamed to ``model`` in a future release, at which point use of ``build_fn`` will raise an Error instead.\n",
      "  X, y = self._initialize(X, y)\n",
      "WARNING:tensorflow:Layer lstm_26 will not use cuDNN kernels since it doesn't meet the criteria. It will use a generic GPU kernel as fallback when running on GPU.\n",
      "WARNING:absl:At this time, the v2.11+ optimizer `tf.keras.optimizers.Adam` runs slowly on M1/M2 Macs, please use the legacy Keras optimizer instead, located at `tf.keras.optimizers.legacy.Adam`.\n",
      "2023-12-19 12:51:54.547064: E tensorflow/core/grappler/optimizers/meta_optimizer.cc:961] model_pruner failed: INVALID_ARGUMENT: Graph does not contain terminal node Adam/AssignAddVariableOp_6.\n"
     ]
    },
    {
     "name": "stdout",
     "output_type": "stream",
     "text": [
      "WARNING:tensorflow:Layer lstm_27 will not use cuDNN kernels since it doesn't meet the criteria. It will use a generic GPU kernel as fallback when running on GPU.\n"
     ]
    },
    {
     "name": "stderr",
     "output_type": "stream",
     "text": [
      "/Users/fauzanarif/Bootcamp/ds-capstone/.venv/lib/python3.11/site-packages/scikeras/wrappers.py:915: UserWarning: ``build_fn`` will be renamed to ``model`` in a future release, at which point use of ``build_fn`` will raise an Error instead.\n",
      "  X, y = self._initialize(X, y)\n",
      "WARNING:tensorflow:Layer lstm_27 will not use cuDNN kernels since it doesn't meet the criteria. It will use a generic GPU kernel as fallback when running on GPU.\n",
      "WARNING:absl:At this time, the v2.11+ optimizer `tf.keras.optimizers.Adam` runs slowly on M1/M2 Macs, please use the legacy Keras optimizer instead, located at `tf.keras.optimizers.legacy.Adam`.\n"
     ]
    },
    {
     "name": "stdout",
     "output_type": "stream",
     "text": [
      "WARNING:tensorflow:Layer lstm_28 will not use cuDNN kernels since it doesn't meet the criteria. It will use a generic GPU kernel as fallback when running on GPU.\n"
     ]
    },
    {
     "name": "stderr",
     "output_type": "stream",
     "text": [
      "/Users/fauzanarif/Bootcamp/ds-capstone/.venv/lib/python3.11/site-packages/scikeras/wrappers.py:915: UserWarning: ``build_fn`` will be renamed to ``model`` in a future release, at which point use of ``build_fn`` will raise an Error instead.\n",
      "  X, y = self._initialize(X, y)\n",
      "WARNING:tensorflow:Layer lstm_28 will not use cuDNN kernels since it doesn't meet the criteria. It will use a generic GPU kernel as fallback when running on GPU.\n",
      "WARNING:absl:At this time, the v2.11+ optimizer `tf.keras.optimizers.Adam` runs slowly on M1/M2 Macs, please use the legacy Keras optimizer instead, located at `tf.keras.optimizers.legacy.Adam`.\n"
     ]
    }
   ],
   "source": [
    "grid_result = grid_search.fit(train_features_lstm, train_targets)"
   ]
  },
  {
   "cell_type": "code",
   "execution_count": 29,
   "id": "9138745c-ba63-4ff7-a1ec-07939748f110",
   "metadata": {
    "tags": []
   },
   "outputs": [
    {
     "data": {
      "text/html": [
       "<style>#sk-container-id-1 {color: black;background-color: white;}#sk-container-id-1 pre{padding: 0;}#sk-container-id-1 div.sk-toggleable {background-color: white;}#sk-container-id-1 label.sk-toggleable__label {cursor: pointer;display: block;width: 100%;margin-bottom: 0;padding: 0.3em;box-sizing: border-box;text-align: center;}#sk-container-id-1 label.sk-toggleable__label-arrow:before {content: \"▸\";float: left;margin-right: 0.25em;color: #696969;}#sk-container-id-1 label.sk-toggleable__label-arrow:hover:before {color: black;}#sk-container-id-1 div.sk-estimator:hover label.sk-toggleable__label-arrow:before {color: black;}#sk-container-id-1 div.sk-toggleable__content {max-height: 0;max-width: 0;overflow: hidden;text-align: left;background-color: #f0f8ff;}#sk-container-id-1 div.sk-toggleable__content pre {margin: 0.2em;color: black;border-radius: 0.25em;background-color: #f0f8ff;}#sk-container-id-1 input.sk-toggleable__control:checked~div.sk-toggleable__content {max-height: 200px;max-width: 100%;overflow: auto;}#sk-container-id-1 input.sk-toggleable__control:checked~label.sk-toggleable__label-arrow:before {content: \"▾\";}#sk-container-id-1 div.sk-estimator input.sk-toggleable__control:checked~label.sk-toggleable__label {background-color: #d4ebff;}#sk-container-id-1 div.sk-label input.sk-toggleable__control:checked~label.sk-toggleable__label {background-color: #d4ebff;}#sk-container-id-1 input.sk-hidden--visually {border: 0;clip: rect(1px 1px 1px 1px);clip: rect(1px, 1px, 1px, 1px);height: 1px;margin: -1px;overflow: hidden;padding: 0;position: absolute;width: 1px;}#sk-container-id-1 div.sk-estimator {font-family: monospace;background-color: #f0f8ff;border: 1px dotted black;border-radius: 0.25em;box-sizing: border-box;margin-bottom: 0.5em;}#sk-container-id-1 div.sk-estimator:hover {background-color: #d4ebff;}#sk-container-id-1 div.sk-parallel-item::after {content: \"\";width: 100%;border-bottom: 1px solid gray;flex-grow: 1;}#sk-container-id-1 div.sk-label:hover label.sk-toggleable__label {background-color: #d4ebff;}#sk-container-id-1 div.sk-serial::before {content: \"\";position: absolute;border-left: 1px solid gray;box-sizing: border-box;top: 0;bottom: 0;left: 50%;z-index: 0;}#sk-container-id-1 div.sk-serial {display: flex;flex-direction: column;align-items: center;background-color: white;padding-right: 0.2em;padding-left: 0.2em;position: relative;}#sk-container-id-1 div.sk-item {position: relative;z-index: 1;}#sk-container-id-1 div.sk-parallel {display: flex;align-items: stretch;justify-content: center;background-color: white;position: relative;}#sk-container-id-1 div.sk-item::before, #sk-container-id-1 div.sk-parallel-item::before {content: \"\";position: absolute;border-left: 1px solid gray;box-sizing: border-box;top: 0;bottom: 0;left: 50%;z-index: -1;}#sk-container-id-1 div.sk-parallel-item {display: flex;flex-direction: column;z-index: 1;position: relative;background-color: white;}#sk-container-id-1 div.sk-parallel-item:first-child::after {align-self: flex-end;width: 50%;}#sk-container-id-1 div.sk-parallel-item:last-child::after {align-self: flex-start;width: 50%;}#sk-container-id-1 div.sk-parallel-item:only-child::after {width: 0;}#sk-container-id-1 div.sk-dashed-wrapped {border: 1px dashed gray;margin: 0 0.4em 0.5em 0.4em;box-sizing: border-box;padding-bottom: 0.4em;background-color: white;}#sk-container-id-1 div.sk-label label {font-family: monospace;font-weight: bold;display: inline-block;line-height: 1.2em;}#sk-container-id-1 div.sk-label-container {text-align: center;}#sk-container-id-1 div.sk-container {/* jupyter's `normalize.less` sets `[hidden] { display: none; }` but bootstrap.min.css set `[hidden] { display: none !important; }` so we also need the `!important` here to be able to override the default hidden behavior on the sphinx rendered scikit-learn.org. See: https://github.com/scikit-learn/scikit-learn/issues/21755 */display: inline-block !important;position: relative;}#sk-container-id-1 div.sk-text-repr-fallback {display: none;}</style><div id=\"sk-container-id-1\" class=\"sk-top-container\"><div class=\"sk-text-repr-fallback\"><pre>GridSearchCV(cv=3,\n",
       "             estimator=KerasRegressor(batch_size=32, build_fn=&lt;function create_lstm_model at 0x29eaf0f40&gt;, epochs=10, learning_rate=0.001, units=50, verbose=0),\n",
       "             param_grid={&#x27;learning_rate&#x27;: [0.001, 0.01, 0.1],\n",
       "                         &#x27;units&#x27;: [50, 100, 150]},\n",
       "             scoring=&#x27;neg_mean_squared_error&#x27;)</pre><b>In a Jupyter environment, please rerun this cell to show the HTML representation or trust the notebook. <br />On GitHub, the HTML representation is unable to render, please try loading this page with nbviewer.org.</b></div><div class=\"sk-container\" hidden><div class=\"sk-item sk-dashed-wrapped\"><div class=\"sk-label-container\"><div class=\"sk-label sk-toggleable\"><input class=\"sk-toggleable__control sk-hidden--visually\" id=\"sk-estimator-id-1\" type=\"checkbox\" ><label for=\"sk-estimator-id-1\" class=\"sk-toggleable__label sk-toggleable__label-arrow\">GridSearchCV</label><div class=\"sk-toggleable__content\"><pre>GridSearchCV(cv=3,\n",
       "             estimator=KerasRegressor(batch_size=32, build_fn=&lt;function create_lstm_model at 0x29eaf0f40&gt;, epochs=10, learning_rate=0.001, units=50, verbose=0),\n",
       "             param_grid={&#x27;learning_rate&#x27;: [0.001, 0.01, 0.1],\n",
       "                         &#x27;units&#x27;: [50, 100, 150]},\n",
       "             scoring=&#x27;neg_mean_squared_error&#x27;)</pre></div></div></div><div class=\"sk-parallel\"><div class=\"sk-parallel-item\"><div class=\"sk-item\"><div class=\"sk-label-container\"><div class=\"sk-label sk-toggleable\"><input class=\"sk-toggleable__control sk-hidden--visually\" id=\"sk-estimator-id-2\" type=\"checkbox\" ><label for=\"sk-estimator-id-2\" class=\"sk-toggleable__label sk-toggleable__label-arrow\">estimator: KerasRegressor</label><div class=\"sk-toggleable__content\"><pre>KerasRegressor(\n",
       "\tmodel=None\n",
       "\tbuild_fn=&lt;function create_lstm_model at 0x29eaf0f40&gt;\n",
       "\twarm_start=False\n",
       "\trandom_state=None\n",
       "\toptimizer=rmsprop\n",
       "\tloss=None\n",
       "\tmetrics=None\n",
       "\tbatch_size=32\n",
       "\tvalidation_batch_size=None\n",
       "\tverbose=0\n",
       "\tcallbacks=None\n",
       "\tvalidation_split=0.0\n",
       "\tshuffle=True\n",
       "\trun_eagerly=False\n",
       "\tepochs=10\n",
       "\tlearning_rate=0.001\n",
       "\tunits=50\n",
       ")</pre></div></div></div><div class=\"sk-serial\"><div class=\"sk-item\"><div class=\"sk-estimator sk-toggleable\"><input class=\"sk-toggleable__control sk-hidden--visually\" id=\"sk-estimator-id-3\" type=\"checkbox\" ><label for=\"sk-estimator-id-3\" class=\"sk-toggleable__label sk-toggleable__label-arrow\">KerasRegressor</label><div class=\"sk-toggleable__content\"><pre>KerasRegressor(\n",
       "\tmodel=None\n",
       "\tbuild_fn=&lt;function create_lstm_model at 0x29eaf0f40&gt;\n",
       "\twarm_start=False\n",
       "\trandom_state=None\n",
       "\toptimizer=rmsprop\n",
       "\tloss=None\n",
       "\tmetrics=None\n",
       "\tbatch_size=32\n",
       "\tvalidation_batch_size=None\n",
       "\tverbose=0\n",
       "\tcallbacks=None\n",
       "\tvalidation_split=0.0\n",
       "\tshuffle=True\n",
       "\trun_eagerly=False\n",
       "\tepochs=10\n",
       "\tlearning_rate=0.001\n",
       "\tunits=50\n",
       ")</pre></div></div></div></div></div></div></div></div></div></div>"
      ],
      "text/plain": [
       "GridSearchCV(cv=3,\n",
       "             estimator=KerasRegressor(batch_size=32, build_fn=<function create_lstm_model at 0x29eaf0f40>, epochs=10, learning_rate=0.001, units=50, verbose=0),\n",
       "             param_grid={'learning_rate': [0.001, 0.01, 0.1],\n",
       "                         'units': [50, 100, 150]},\n",
       "             scoring='neg_mean_squared_error')"
      ]
     },
     "execution_count": 29,
     "metadata": {},
     "output_type": "execute_result"
    }
   ],
   "source": [
    "grid_search"
   ]
  },
  {
   "cell_type": "code",
   "execution_count": 24,
   "id": "a2b65c82-c556-45fa-a43e-1acae0326b11",
   "metadata": {
    "tags": []
   },
   "outputs": [],
   "source": [
    "best_params = grid_result.best_params_\n"
   ]
  },
  {
   "cell_type": "code",
   "execution_count": 26,
   "id": "7c44d405-3f68-406f-8234-e9d272dd57c6",
   "metadata": {
    "tags": []
   },
   "outputs": [
    {
     "name": "stdout",
     "output_type": "stream",
     "text": [
      "WARNING:tensorflow:Layer lstm_30 will not use cuDNN kernels since it doesn't meet the criteria. It will use a generic GPU kernel as fallback when running on GPU.\n"
     ]
    },
    {
     "name": "stderr",
     "output_type": "stream",
     "text": [
      "WARNING:tensorflow:Layer lstm_30 will not use cuDNN kernels since it doesn't meet the criteria. It will use a generic GPU kernel as fallback when running on GPU.\n",
      "WARNING:absl:At this time, the v2.11+ optimizer `tf.keras.optimizers.Adam` runs slowly on M1/M2 Macs, please use the legacy Keras optimizer instead, located at `tf.keras.optimizers.legacy.Adam`.\n"
     ]
    }
   ],
   "source": [
    "best_model = create_lstm_model(units=best_params['units'], learning_rate=best_params['learning_rate'])\n"
   ]
  },
  {
   "cell_type": "code",
   "execution_count": 28,
   "id": "bde30c28-0ef7-4748-86f8-987afb79fc7a",
   "metadata": {
    "tags": []
   },
   "outputs": [
    {
     "data": {
      "text/plain": [
       "{'learning_rate': 0.1, 'units': 50}"
      ]
     },
     "execution_count": 28,
     "metadata": {},
     "output_type": "execute_result"
    }
   ],
   "source": [
    "best_params"
   ]
  },
  {
   "cell_type": "code",
   "execution_count": 31,
   "id": "66f2407a-2ec4-4dcb-8845-69552a0ba335",
   "metadata": {
    "tags": []
   },
   "outputs": [
    {
     "name": "stdout",
     "output_type": "stream",
     "text": [
      "Epoch 1/50\n"
     ]
    },
    {
     "name": "stderr",
     "output_type": "stream",
     "text": [
      "2023-12-19 12:58:45.600798: E tensorflow/core/grappler/optimizers/meta_optimizer.cc:961] model_pruner failed: INVALID_ARGUMENT: Graph does not contain terminal node Adam/AssignAddVariableOp_6.\n"
     ]
    },
    {
     "name": "stdout",
     "output_type": "stream",
     "text": [
      "66/66 [==============================] - 7s 42ms/step - loss: 677.4075\n",
      "Epoch 2/50\n",
      "66/66 [==============================] - 1s 13ms/step - loss: 6.9793\n",
      "Epoch 3/50\n",
      "66/66 [==============================] - 1s 13ms/step - loss: 4.3710\n",
      "Epoch 4/50\n",
      "66/66 [==============================] - 1s 13ms/step - loss: 4.0340\n",
      "Epoch 5/50\n",
      "66/66 [==============================] - 1s 13ms/step - loss: 3.9053\n",
      "Epoch 6/50\n",
      "66/66 [==============================] - 1s 14ms/step - loss: 3.7706\n",
      "Epoch 7/50\n",
      "66/66 [==============================] - 1s 13ms/step - loss: 3.8943\n",
      "Epoch 8/50\n",
      "66/66 [==============================] - 1s 13ms/step - loss: 3.3845\n",
      "Epoch 9/50\n",
      "66/66 [==============================] - 1s 13ms/step - loss: 4.3851\n",
      "Epoch 10/50\n",
      "66/66 [==============================] - 1s 13ms/step - loss: 3.5925\n",
      "Epoch 11/50\n",
      "66/66 [==============================] - 1s 13ms/step - loss: 3.2292\n",
      "Epoch 12/50\n",
      "66/66 [==============================] - 1s 13ms/step - loss: 3.5104\n",
      "Epoch 13/50\n",
      "66/66 [==============================] - 1s 13ms/step - loss: 3.4599\n",
      "Epoch 14/50\n",
      "66/66 [==============================] - 1s 14ms/step - loss: 4.6045\n",
      "Epoch 15/50\n",
      "66/66 [==============================] - 1s 13ms/step - loss: 2.9350\n",
      "Epoch 16/50\n",
      "66/66 [==============================] - 1s 13ms/step - loss: 2.9284\n",
      "Epoch 17/50\n",
      "66/66 [==============================] - 1s 13ms/step - loss: 3.3031\n",
      "Epoch 18/50\n",
      "66/66 [==============================] - 1s 13ms/step - loss: 3.2745\n",
      "Epoch 19/50\n",
      "66/66 [==============================] - 1s 13ms/step - loss: 3.6669\n",
      "Epoch 20/50\n",
      "66/66 [==============================] - 1s 13ms/step - loss: 2.9773\n",
      "Epoch 21/50\n",
      "66/66 [==============================] - 1s 13ms/step - loss: 3.3637\n",
      "Epoch 22/50\n",
      "66/66 [==============================] - 1s 13ms/step - loss: 3.2418\n",
      "Epoch 23/50\n",
      "66/66 [==============================] - 1s 13ms/step - loss: 3.4811\n",
      "Epoch 24/50\n",
      "66/66 [==============================] - 1s 13ms/step - loss: 3.6690\n",
      "Epoch 25/50\n",
      "66/66 [==============================] - 1s 13ms/step - loss: 3.6300\n",
      "Epoch 26/50\n",
      "66/66 [==============================] - 1s 13ms/step - loss: 4.2649\n",
      "Epoch 27/50\n",
      "66/66 [==============================] - 1s 13ms/step - loss: 3.2563\n",
      "Epoch 28/50\n",
      "66/66 [==============================] - 1s 13ms/step - loss: 4.2295\n",
      "Epoch 29/50\n",
      "66/66 [==============================] - 1s 13ms/step - loss: 3.8592\n",
      "Epoch 30/50\n",
      "66/66 [==============================] - 1s 13ms/step - loss: 3.5264\n",
      "Epoch 31/50\n",
      "66/66 [==============================] - 1s 13ms/step - loss: 3.4920\n",
      "Epoch 32/50\n",
      "66/66 [==============================] - 1s 13ms/step - loss: 4.1061\n",
      "Epoch 33/50\n",
      "66/66 [==============================] - 1s 13ms/step - loss: 3.0172\n",
      "Epoch 34/50\n",
      "66/66 [==============================] - 1s 13ms/step - loss: 3.6579\n",
      "Epoch 35/50\n",
      "66/66 [==============================] - 1s 13ms/step - loss: 3.1634\n",
      "Epoch 36/50\n",
      "66/66 [==============================] - 1s 13ms/step - loss: 3.2018\n",
      "Epoch 37/50\n",
      "66/66 [==============================] - 1s 13ms/step - loss: 3.3321\n",
      "Epoch 38/50\n",
      "66/66 [==============================] - 1s 13ms/step - loss: 3.1178\n",
      "Epoch 39/50\n",
      "66/66 [==============================] - 1s 13ms/step - loss: 3.7519\n",
      "Epoch 40/50\n",
      "66/66 [==============================] - 1s 13ms/step - loss: 3.1114\n",
      "Epoch 41/50\n",
      "66/66 [==============================] - 1s 13ms/step - loss: 3.7221\n",
      "Epoch 42/50\n",
      "66/66 [==============================] - 1s 13ms/step - loss: 4.6923\n",
      "Epoch 43/50\n",
      "66/66 [==============================] - 1s 13ms/step - loss: 3.3036\n",
      "Epoch 44/50\n",
      "66/66 [==============================] - 1s 13ms/step - loss: 4.0107\n",
      "Epoch 45/50\n",
      "66/66 [==============================] - 1s 13ms/step - loss: 3.2906\n",
      "Epoch 46/50\n",
      "66/66 [==============================] - 1s 13ms/step - loss: 4.9735\n",
      "Epoch 47/50\n",
      "66/66 [==============================] - 1s 13ms/step - loss: 3.7538\n",
      "Epoch 48/50\n",
      "66/66 [==============================] - 1s 13ms/step - loss: 3.4622\n",
      "Epoch 49/50\n",
      "66/66 [==============================] - 1s 13ms/step - loss: 4.1366\n",
      "Epoch 50/50\n",
      "66/66 [==============================] - 1s 13ms/step - loss: 5.0653\n"
     ]
    },
    {
     "data": {
      "text/plain": [
       "<keras.src.callbacks.History at 0x31d750b90>"
      ]
     },
     "execution_count": 31,
     "metadata": {},
     "output_type": "execute_result"
    }
   ],
   "source": [
    "best_model.fit(train_features_lstm, train_targets, epochs=epochs, batch_size=batch_size, verbose=1)\n"
   ]
  },
  {
   "cell_type": "code",
   "execution_count": 33,
   "id": "033e09ff-d38c-45e9-b699-f2cd40352229",
   "metadata": {
    "tags": []
   },
   "outputs": [
    {
     "name": "stdout",
     "output_type": "stream",
     "text": [
      "Best mean squared error found:  8.473815019181961\n"
     ]
    }
   ],
   "source": [
    "print(\"Best mean squared error found: \", -grid_result.best_score_)"
   ]
  },
  {
   "cell_type": "code",
   "execution_count": 34,
   "id": "20c38eb2-957b-433c-8d53-2bd3b0d41d96",
   "metadata": {
    "tags": []
   },
   "outputs": [
    {
     "data": {
      "text/html": [
       "<style>#sk-container-id-2 {color: black;background-color: white;}#sk-container-id-2 pre{padding: 0;}#sk-container-id-2 div.sk-toggleable {background-color: white;}#sk-container-id-2 label.sk-toggleable__label {cursor: pointer;display: block;width: 100%;margin-bottom: 0;padding: 0.3em;box-sizing: border-box;text-align: center;}#sk-container-id-2 label.sk-toggleable__label-arrow:before {content: \"▸\";float: left;margin-right: 0.25em;color: #696969;}#sk-container-id-2 label.sk-toggleable__label-arrow:hover:before {color: black;}#sk-container-id-2 div.sk-estimator:hover label.sk-toggleable__label-arrow:before {color: black;}#sk-container-id-2 div.sk-toggleable__content {max-height: 0;max-width: 0;overflow: hidden;text-align: left;background-color: #f0f8ff;}#sk-container-id-2 div.sk-toggleable__content pre {margin: 0.2em;color: black;border-radius: 0.25em;background-color: #f0f8ff;}#sk-container-id-2 input.sk-toggleable__control:checked~div.sk-toggleable__content {max-height: 200px;max-width: 100%;overflow: auto;}#sk-container-id-2 input.sk-toggleable__control:checked~label.sk-toggleable__label-arrow:before {content: \"▾\";}#sk-container-id-2 div.sk-estimator input.sk-toggleable__control:checked~label.sk-toggleable__label {background-color: #d4ebff;}#sk-container-id-2 div.sk-label input.sk-toggleable__control:checked~label.sk-toggleable__label {background-color: #d4ebff;}#sk-container-id-2 input.sk-hidden--visually {border: 0;clip: rect(1px 1px 1px 1px);clip: rect(1px, 1px, 1px, 1px);height: 1px;margin: -1px;overflow: hidden;padding: 0;position: absolute;width: 1px;}#sk-container-id-2 div.sk-estimator {font-family: monospace;background-color: #f0f8ff;border: 1px dotted black;border-radius: 0.25em;box-sizing: border-box;margin-bottom: 0.5em;}#sk-container-id-2 div.sk-estimator:hover {background-color: #d4ebff;}#sk-container-id-2 div.sk-parallel-item::after {content: \"\";width: 100%;border-bottom: 1px solid gray;flex-grow: 1;}#sk-container-id-2 div.sk-label:hover label.sk-toggleable__label {background-color: #d4ebff;}#sk-container-id-2 div.sk-serial::before {content: \"\";position: absolute;border-left: 1px solid gray;box-sizing: border-box;top: 0;bottom: 0;left: 50%;z-index: 0;}#sk-container-id-2 div.sk-serial {display: flex;flex-direction: column;align-items: center;background-color: white;padding-right: 0.2em;padding-left: 0.2em;position: relative;}#sk-container-id-2 div.sk-item {position: relative;z-index: 1;}#sk-container-id-2 div.sk-parallel {display: flex;align-items: stretch;justify-content: center;background-color: white;position: relative;}#sk-container-id-2 div.sk-item::before, #sk-container-id-2 div.sk-parallel-item::before {content: \"\";position: absolute;border-left: 1px solid gray;box-sizing: border-box;top: 0;bottom: 0;left: 50%;z-index: -1;}#sk-container-id-2 div.sk-parallel-item {display: flex;flex-direction: column;z-index: 1;position: relative;background-color: white;}#sk-container-id-2 div.sk-parallel-item:first-child::after {align-self: flex-end;width: 50%;}#sk-container-id-2 div.sk-parallel-item:last-child::after {align-self: flex-start;width: 50%;}#sk-container-id-2 div.sk-parallel-item:only-child::after {width: 0;}#sk-container-id-2 div.sk-dashed-wrapped {border: 1px dashed gray;margin: 0 0.4em 0.5em 0.4em;box-sizing: border-box;padding-bottom: 0.4em;background-color: white;}#sk-container-id-2 div.sk-label label {font-family: monospace;font-weight: bold;display: inline-block;line-height: 1.2em;}#sk-container-id-2 div.sk-label-container {text-align: center;}#sk-container-id-2 div.sk-container {/* jupyter's `normalize.less` sets `[hidden] { display: none; }` but bootstrap.min.css set `[hidden] { display: none !important; }` so we also need the `!important` here to be able to override the default hidden behavior on the sphinx rendered scikit-learn.org. See: https://github.com/scikit-learn/scikit-learn/issues/21755 */display: inline-block !important;position: relative;}#sk-container-id-2 div.sk-text-repr-fallback {display: none;}</style><div id=\"sk-container-id-2\" class=\"sk-top-container\"><div class=\"sk-text-repr-fallback\"><pre>GridSearchCV(cv=3,\n",
       "             estimator=KerasRegressor(batch_size=32, build_fn=&lt;function create_lstm_model at 0x29eaf0f40&gt;, epochs=10, learning_rate=0.001, units=50, verbose=0),\n",
       "             param_grid={&#x27;learning_rate&#x27;: [0.001, 0.01, 0.1],\n",
       "                         &#x27;units&#x27;: [50, 100, 150]},\n",
       "             scoring=&#x27;neg_mean_squared_error&#x27;)</pre><b>In a Jupyter environment, please rerun this cell to show the HTML representation or trust the notebook. <br />On GitHub, the HTML representation is unable to render, please try loading this page with nbviewer.org.</b></div><div class=\"sk-container\" hidden><div class=\"sk-item sk-dashed-wrapped\"><div class=\"sk-label-container\"><div class=\"sk-label sk-toggleable\"><input class=\"sk-toggleable__control sk-hidden--visually\" id=\"sk-estimator-id-4\" type=\"checkbox\" ><label for=\"sk-estimator-id-4\" class=\"sk-toggleable__label sk-toggleable__label-arrow\">GridSearchCV</label><div class=\"sk-toggleable__content\"><pre>GridSearchCV(cv=3,\n",
       "             estimator=KerasRegressor(batch_size=32, build_fn=&lt;function create_lstm_model at 0x29eaf0f40&gt;, epochs=10, learning_rate=0.001, units=50, verbose=0),\n",
       "             param_grid={&#x27;learning_rate&#x27;: [0.001, 0.01, 0.1],\n",
       "                         &#x27;units&#x27;: [50, 100, 150]},\n",
       "             scoring=&#x27;neg_mean_squared_error&#x27;)</pre></div></div></div><div class=\"sk-parallel\"><div class=\"sk-parallel-item\"><div class=\"sk-item\"><div class=\"sk-label-container\"><div class=\"sk-label sk-toggleable\"><input class=\"sk-toggleable__control sk-hidden--visually\" id=\"sk-estimator-id-5\" type=\"checkbox\" ><label for=\"sk-estimator-id-5\" class=\"sk-toggleable__label sk-toggleable__label-arrow\">estimator: KerasRegressor</label><div class=\"sk-toggleable__content\"><pre>KerasRegressor(\n",
       "\tmodel=None\n",
       "\tbuild_fn=&lt;function create_lstm_model at 0x29eaf0f40&gt;\n",
       "\twarm_start=False\n",
       "\trandom_state=None\n",
       "\toptimizer=rmsprop\n",
       "\tloss=None\n",
       "\tmetrics=None\n",
       "\tbatch_size=32\n",
       "\tvalidation_batch_size=None\n",
       "\tverbose=0\n",
       "\tcallbacks=None\n",
       "\tvalidation_split=0.0\n",
       "\tshuffle=True\n",
       "\trun_eagerly=False\n",
       "\tepochs=10\n",
       "\tlearning_rate=0.001\n",
       "\tunits=50\n",
       ")</pre></div></div></div><div class=\"sk-serial\"><div class=\"sk-item\"><div class=\"sk-estimator sk-toggleable\"><input class=\"sk-toggleable__control sk-hidden--visually\" id=\"sk-estimator-id-6\" type=\"checkbox\" ><label for=\"sk-estimator-id-6\" class=\"sk-toggleable__label sk-toggleable__label-arrow\">KerasRegressor</label><div class=\"sk-toggleable__content\"><pre>KerasRegressor(\n",
       "\tmodel=None\n",
       "\tbuild_fn=&lt;function create_lstm_model at 0x29eaf0f40&gt;\n",
       "\twarm_start=False\n",
       "\trandom_state=None\n",
       "\toptimizer=rmsprop\n",
       "\tloss=None\n",
       "\tmetrics=None\n",
       "\tbatch_size=32\n",
       "\tvalidation_batch_size=None\n",
       "\tverbose=0\n",
       "\tcallbacks=None\n",
       "\tvalidation_split=0.0\n",
       "\tshuffle=True\n",
       "\trun_eagerly=False\n",
       "\tepochs=10\n",
       "\tlearning_rate=0.001\n",
       "\tunits=50\n",
       ")</pre></div></div></div></div></div></div></div></div></div></div>"
      ],
      "text/plain": [
       "GridSearchCV(cv=3,\n",
       "             estimator=KerasRegressor(batch_size=32, build_fn=<function create_lstm_model at 0x29eaf0f40>, epochs=10, learning_rate=0.001, units=50, verbose=0),\n",
       "             param_grid={'learning_rate': [0.001, 0.01, 0.1],\n",
       "                         'units': [50, 100, 150]},\n",
       "             scoring='neg_mean_squared_error')"
      ]
     },
     "execution_count": 34,
     "metadata": {},
     "output_type": "execute_result"
    }
   ],
   "source": [
    "grid_result"
   ]
  },
  {
   "cell_type": "code",
   "execution_count": 38,
   "id": "0d371441-5767-4a9d-919b-a40628629ed6",
   "metadata": {
    "tags": []
   },
   "outputs": [
    {
     "name": "stdout",
     "output_type": "stream",
     "text": [
      "Mean Squared Error on test set:  35.4751187784582\n",
      "R-squared on test set:  0.0038315837378966786\n"
     ]
    }
   ],
   "source": [
    "y_pred = grid_result.predict(test_features_lstm)\n",
    "print(\"Mean Squared Error on test set: \", mean_squared_error(test_targets, y_pred))\n",
    "print(\"R-squared on test set: \", r2_score(test_targets, y_pred))"
   ]
  },
  {
   "cell_type": "code",
   "execution_count": 42,
   "id": "cb991a91-8695-49cf-8693-40c985358152",
   "metadata": {
    "tags": []
   },
   "outputs": [],
   "source": [
    "best_model.save_weights(\"model.h5\")"
   ]
  },
  {
   "cell_type": "code",
   "execution_count": null,
   "id": "90d97e5b-89ed-4a4d-bc90-943f2d43456a",
   "metadata": {},
   "outputs": [],
   "source": []
  }
 ],
 "metadata": {
  "kernelspec": {
   "display_name": "Python 3 (ipykernel)",
   "language": "python",
   "name": "python3"
  },
  "language_info": {
   "codemirror_mode": {
    "name": "ipython",
    "version": 3
   },
   "file_extension": ".py",
   "mimetype": "text/x-python",
   "name": "python",
   "nbconvert_exporter": "python",
   "pygments_lexer": "ipython3",
   "version": "3.11.3"
  }
 },
 "nbformat": 4,
 "nbformat_minor": 5
}
