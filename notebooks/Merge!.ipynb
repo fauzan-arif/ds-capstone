{
 "cells": [
  {
   "cell_type": "markdown",
   "id": "5f183a51-034d-42a0-a358-1a99dbb71700",
   "metadata": {},
   "source": [
    "# yFinance"
   ]
  },
  {
   "cell_type": "code",
   "execution_count": 46,
   "id": "3c3dd33e-e6e6-40d1-9b4f-292c0bea3bad",
   "metadata": {
    "tags": []
   },
   "outputs": [
    {
     "name": "stderr",
     "output_type": "stream",
     "text": [
      "/Users/ismaildibirov/Desktop/leidseplein folder/SPICED/ds-capstone/.venv/lib/python3.11/site-packages/tqdm/auto.py:21: TqdmWarning: IProgress not found. Please update jupyter and ipywidgets. See https://ipywidgets.readthedocs.io/en/stable/user_install.html\n",
      "  from .autonotebook import tqdm as notebook_tqdm\n"
     ]
    }
   ],
   "source": [
    "import os\n",
    "from dotenv import load_dotenv\n",
    "import yfinance as yf\n",
    "import pandas as pd\n",
    "from datetime import datetime\n",
    "import torch\n",
    "from transformers import BertTokenizer, BertForSequenceClassification, pipeline\n",
    "import pandas_datareader as pdr\n",
    "\n"
   ]
  },
  {
   "cell_type": "code",
   "execution_count": 71,
   "id": "08e00c9c-f322-4370-9837-5f999ae4e2ef",
   "metadata": {
    "tags": []
   },
   "outputs": [],
   "source": [
    "ticker = yf.Ticker(\"AAPL\")\n",
    "ticker2 = yf.Ticker(\"GOOG\")\n",
    "ticker3 = yf.Ticker(\"NFLX\")"
   ]
  },
  {
   "cell_type": "code",
   "execution_count": 77,
   "id": "4dc8428a-969a-41be-a9c5-cc338640750c",
   "metadata": {
    "tags": []
   },
   "outputs": [
    {
     "name": "stdout",
     "output_type": "stream",
     "text": [
      "The Smartest Investors Are Buying These 2 Stocks Hand Over Fist 2023-12-20 11:30:00\n",
      "An iPhone Thief Explains How He Steals Your Passcode and Bank Account 2023-12-20 10:30:00\n",
      "He Stole Hundreds of iPhones and Looted People’s Life Savings. He Told Us How. 2023-12-20 10:30:00\n",
      "Google ordered to pay $700M in antitrust ruling 2023-12-19 21:24:47\n",
      "11 Most Promising AI Stocks According to Hedge Funds 2023-12-19 21:13:42\n",
      "Magnificent Seven Stocks To Buy And Watch: Tesla, Meta Rally; Nvidia Slides 2023-12-19 20:40:42\n",
      "11 Most Promising Metaverse Stocks To Buy According To Hedge Funds 2023-12-19 20:10:56\n",
      "4 things to know about the Apple Watch fiasco 2023-12-19 20:07:58\n"
     ]
    }
   ],
   "source": [
    "for news in ticker.news:\n",
    "    # Retrieve the Unix timestamp from the news item\n",
    "    unix_timestamp = news[\"providerPublishTime\"]\n",
    "\n",
    "    # Convert the Unix timestamp to a datetime object\n",
    "    publication_date = datetime.utcfromtimestamp(unix_timestamp)\n",
    "\n",
    "    # Print the news item and the publication date\n",
    "    print(news[\"title\"], publication_date)"
   ]
  },
  {
   "cell_type": "code",
   "execution_count": 72,
   "id": "b8e90d3d-68c7-4866-b527-88c5b96ffba8",
   "metadata": {
    "tags": []
   },
   "outputs": [
    {
     "name": "stdout",
     "output_type": "stream",
     "text": [
      "The AI Revolution May Favor Amazon and Meta More Than Alphabet 2023-12-20 15:55:00\n",
      "3 Stocks to Buy for 2024 and Onward 2023-12-20 15:30:00\n",
      "Google parent Alphabet at 2-month high on AI-led ad-sales revamp 2023-12-20 16:15:00\n",
      "US STOCKS-S&P 500, Dow slip as rate-cut rally sputters; FedEx slides 2023-12-20 15:14:35\n",
      "Big tech and geopolitics are reshaping the internet’s plumbing 2023-12-20 13:42:15\n",
      "Autonomous trucking 2023: Leaders emerge amid exits and entries 2023-12-20 13:10:38\n",
      "Alphabet Just Said \"Checkmate\" to Microsoft, but Here's Why Investors Could Be the Real Winners 2023-12-20 13:05:00\n",
      "Tesla's Future Looks Bright With AI -- 2 Reasons I'm All In on the Stock 2023-12-20 11:55:00\n"
     ]
    }
   ],
   "source": [
    "for news in ticker2.news:\n",
    "    # Retrieve the Unix timestamp from the news item\n",
    "    unix_timestamp = news[\"providerPublishTime\"]\n",
    "\n",
    "    # Convert the Unix timestamp to a datetime object\n",
    "    publication_date = datetime.utcfromtimestamp(unix_timestamp)\n",
    "\n",
    "    # Print the news item and the publication date\n",
    "    print(news[\"title\"], publication_date)"
   ]
  },
  {
   "cell_type": "code",
   "execution_count": 73,
   "id": "e7f9c206-8288-4a51-9c5a-e29ec834699f",
   "metadata": {
    "tags": []
   },
   "outputs": [
    {
     "name": "stdout",
     "output_type": "stream",
     "text": [
      "20 Best Serial Killer Documentaries on Netflix and Other Streaming Services 2023-12-20 15:07:50\n",
      "Dow Jones Falls After Key Economic Data; FedEx Dives On Earnings 2023-12-20 15:06:35\n",
      "16 Most Promising QQQ Stocks According to Hedge Funds 2023-12-20 14:59:40\n",
      "Why Netflix (NFLX) Outpaced the Stock Market Today 2023-12-19 22:45:20\n",
      "Tech stocks, Lyft, FuelCell Energy: Trending Tickers 2023-12-19 21:47:59\n",
      "Dow Jones Leader Microsoft, Netflix In Buy Zones In Today's Stock Market 2023-12-19 19:44:53\n",
      "Hollywood: How it came to a screeching halt — and got itself back on track again 2023-12-19 15:24:19\n",
      "Dow Jones Extends Winning Streak; Netflix Among 7 Best Stocks To Buy And Watch 2023-12-19 15:18:01\n"
     ]
    }
   ],
   "source": [
    "for news in ticker3.news:\n",
    "    # Retrieve the Unix timestamp from the news item\n",
    "    unix_timestamp = news[\"providerPublishTime\"]\n",
    "\n",
    "    # Convert the Unix timestamp to a datetime object\n",
    "    publication_date = datetime.utcfromtimestamp(unix_timestamp)\n",
    "\n",
    "    # Print the news item and the publication date\n",
    "    print(news[\"title\"], publication_date)"
   ]
  },
  {
   "cell_type": "code",
   "execution_count": 89,
   "id": "ce59d53f-c648-4cdd-873c-b2631a841322",
   "metadata": {
    "tags": []
   },
   "outputs": [
    {
     "data": {
      "text/html": [
       "<div>\n",
       "<style scoped>\n",
       "    .dataframe tbody tr th:only-of-type {\n",
       "        vertical-align: middle;\n",
       "    }\n",
       "\n",
       "    .dataframe tbody tr th {\n",
       "        vertical-align: top;\n",
       "    }\n",
       "\n",
       "    .dataframe thead th {\n",
       "        text-align: right;\n",
       "    }\n",
       "</style>\n",
       "<table border=\"1\" class=\"dataframe\">\n",
       "  <thead>\n",
       "    <tr style=\"text-align: right;\">\n",
       "      <th></th>\n",
       "      <th>news</th>\n",
       "      <th>published_date</th>\n",
       "    </tr>\n",
       "  </thead>\n",
       "  <tbody>\n",
       "    <tr>\n",
       "      <th>0</th>\n",
       "      <td>The Smartest Investors Are Buying These 2 Stoc...</td>\n",
       "      <td>2023-12-20 11:30:00</td>\n",
       "    </tr>\n",
       "    <tr>\n",
       "      <th>1</th>\n",
       "      <td>An iPhone Thief Explains How He Steals Your Pa...</td>\n",
       "      <td>2023-12-20 10:30:00</td>\n",
       "    </tr>\n",
       "    <tr>\n",
       "      <th>2</th>\n",
       "      <td>He Stole Hundreds of iPhones and Looted People...</td>\n",
       "      <td>2023-12-20 10:30:00</td>\n",
       "    </tr>\n",
       "    <tr>\n",
       "      <th>3</th>\n",
       "      <td>Google ordered to pay $700M in antitrust ruling</td>\n",
       "      <td>2023-12-19 21:24:47</td>\n",
       "    </tr>\n",
       "    <tr>\n",
       "      <th>4</th>\n",
       "      <td>11 Most Promising AI Stocks According to Hedge...</td>\n",
       "      <td>2023-12-19 21:13:42</td>\n",
       "    </tr>\n",
       "  </tbody>\n",
       "</table>\n",
       "</div>"
      ],
      "text/plain": [
       "                                                news      published_date\n",
       "0  The Smartest Investors Are Buying These 2 Stoc... 2023-12-20 11:30:00\n",
       "1  An iPhone Thief Explains How He Steals Your Pa... 2023-12-20 10:30:00\n",
       "2  He Stole Hundreds of iPhones and Looted People... 2023-12-20 10:30:00\n",
       "3    Google ordered to pay $700M in antitrust ruling 2023-12-19 21:24:47\n",
       "4  11 Most Promising AI Stocks According to Hedge... 2023-12-19 21:13:42"
      ]
     },
     "execution_count": 89,
     "metadata": {},
     "output_type": "execute_result"
    }
   ],
   "source": [
    "import pandas as pd\n",
    "from datetime import datetime\n",
    "\n",
    "# Initialize an empty list for storing news data\n",
    "news_data = []\n",
    "\n",
    "# Function to process news items from a ticker\n",
    "def process_news(ticker):\n",
    "    for news in ticker.news:\n",
    "        # Retrieve the Unix timestamp and convert it\n",
    "        unix_timestamp = news[\"providerPublishTime\"]\n",
    "        publication_date = datetime.utcfromtimestamp(unix_timestamp)\n",
    "\n",
    "        # Append the news title and publication date to the list\n",
    "        news_data.append({\n",
    "            \"news\": news[\"title\"],\n",
    "            \"published_date\": publication_date\n",
    "        })\n",
    "\n",
    "# Process news from each ticker\n",
    "process_news(ticker)   # Replace 'ticker' with your actual ticker object\n",
    "process_news(ticker2)  # Replace 'ticker2' with your actual ticker2 object\n",
    "process_news(ticker3)  # Replace 'ticker3' with your actual ticker3 object\n",
    "\n",
    "# Create a DataFrame\n",
    "news_df = pd.DataFrame(news_data)\n",
    "\n",
    "# Display the DataFrame\n",
    "news_df.head()\n"
   ]
  },
  {
   "cell_type": "code",
   "execution_count": 90,
   "id": "db25ad1c-9666-450f-bdb1-cf6a2bf49196",
   "metadata": {
    "tags": []
   },
   "outputs": [],
   "source": [
    "model_name = \"ProsusAI/finbert\"\n",
    "model_name = \"yiyanghkust/finbert-tone\"\n",
    "\n",
    "\n",
    "finbert   = BertForSequenceClassification.from_pretrained(model_name, num_labels=3)\n",
    "tokenizer = BertTokenizer.from_pretrained(model_name)\n",
    "nlp       = pipeline(\"text-classification\", model=finbert, tokenizer=tokenizer)"
   ]
  },
  {
   "cell_type": "code",
   "execution_count": 91,
   "id": "924e37c4-1d38-4e2a-bee0-58604b8a1326",
   "metadata": {
    "tags": []
   },
   "outputs": [
    {
     "data": {
      "text/plain": [
       "[{'label': 'Neutral', 'score': 0.5750987529754639},\n",
       " {'label': 'Neutral', 'score': 0.9999339580535889},\n",
       " {'label': 'Neutral', 'score': 0.9976769089698792},\n",
       " {'label': 'Neutral', 'score': 0.9990262985229492},\n",
       " {'label': 'Positive', 'score': 0.7419304847717285},\n",
       " {'label': 'Neutral', 'score': 0.9826880097389221},\n",
       " {'label': 'Positive', 'score': 0.9780104756355286},\n",
       " {'label': 'Neutral', 'score': 0.9988712668418884},\n",
       " {'label': 'Neutral', 'score': 0.999269425868988},\n",
       " {'label': 'Neutral', 'score': 0.9993264675140381},\n",
       " {'label': 'Positive', 'score': 0.9997648596763611},\n",
       " {'label': 'Negative', 'score': 0.8937631249427795},\n",
       " {'label': 'Neutral', 'score': 0.9901935458183289},\n",
       " {'label': 'Positive', 'score': 0.9992871880531311},\n",
       " {'label': 'Positive', 'score': 0.9998642206192017},\n",
       " {'label': 'Positive', 'score': 1.0},\n",
       " {'label': 'Neutral', 'score': 0.9791944622993469},\n",
       " {'label': 'Neutral', 'score': 0.9999598264694214},\n",
       " {'label': 'Neutral', 'score': 0.8753624558448792},\n",
       " {'label': 'Positive', 'score': 0.999238133430481},\n",
       " {'label': 'Neutral', 'score': 0.9998533725738525},\n",
       " {'label': 'Positive', 'score': 0.9999912977218628},\n",
       " {'label': 'Negative', 'score': 0.5732982754707336},\n",
       " {'label': 'Positive', 'score': 0.9999901056289673}]"
      ]
     },
     "execution_count": 91,
     "metadata": {},
     "output_type": "execute_result"
    }
   ],
   "source": [
    "finance_news = news_df[\"news\"]\n",
    "\n",
    "results = nlp(finance_news.to_list())\n",
    "results"
   ]
  },
  {
   "cell_type": "code",
   "execution_count": 92,
   "id": "4e82aad0-4ecc-4631-87fb-525ac7d59cf7",
   "metadata": {
    "tags": []
   },
   "outputs": [
    {
     "data": {
      "text/plain": [
       "[{'numeric_label': 0, 'score': 0.5750987529754639},\n",
       " {'numeric_label': 0, 'score': 0.9999339580535889},\n",
       " {'numeric_label': 0, 'score': 0.9976769089698792},\n",
       " {'numeric_label': 0, 'score': 0.9990262985229492},\n",
       " {'numeric_label': 1, 'score': 0.7419304847717285},\n",
       " {'numeric_label': 0, 'score': 0.9826880097389221},\n",
       " {'numeric_label': 1, 'score': 0.9780104756355286},\n",
       " {'numeric_label': 0, 'score': 0.9988712668418884},\n",
       " {'numeric_label': 0, 'score': 0.999269425868988},\n",
       " {'numeric_label': 0, 'score': 0.9993264675140381},\n",
       " {'numeric_label': 1, 'score': 0.9997648596763611},\n",
       " {'numeric_label': -1, 'score': 0.8937631249427795},\n",
       " {'numeric_label': 0, 'score': 0.9901935458183289},\n",
       " {'numeric_label': 1, 'score': 0.9992871880531311},\n",
       " {'numeric_label': 1, 'score': 0.9998642206192017},\n",
       " {'numeric_label': 1, 'score': 1.0},\n",
       " {'numeric_label': 0, 'score': 0.9791944622993469},\n",
       " {'numeric_label': 0, 'score': 0.9999598264694214},\n",
       " {'numeric_label': 0, 'score': 0.8753624558448792},\n",
       " {'numeric_label': 1, 'score': 0.999238133430481},\n",
       " {'numeric_label': 0, 'score': 0.9998533725738525},\n",
       " {'numeric_label': 1, 'score': 0.9999912977218628},\n",
       " {'numeric_label': -1, 'score': 0.5732982754707336},\n",
       " {'numeric_label': 1, 'score': 0.9999901056289673}]"
      ]
     },
     "execution_count": 92,
     "metadata": {},
     "output_type": "execute_result"
    }
   ],
   "source": [
    "label_mapping = {'Neutral': 0, 'Positive': 1, 'Negative': -1}\n",
    "\n",
    "converted_results = [{'numeric_label': label_mapping[result['label']], 'score': result['score']} for result in results]\n",
    "\n",
    "converted_results"
   ]
  },
  {
   "cell_type": "code",
   "execution_count": 94,
   "id": "3f40dc3a-358c-43f4-ac42-0684ef0b7d03",
   "metadata": {
    "tags": []
   },
   "outputs": [
    {
     "data": {
      "text/html": [
       "<div>\n",
       "<style scoped>\n",
       "    .dataframe tbody tr th:only-of-type {\n",
       "        vertical-align: middle;\n",
       "    }\n",
       "\n",
       "    .dataframe tbody tr th {\n",
       "        vertical-align: top;\n",
       "    }\n",
       "\n",
       "    .dataframe thead th {\n",
       "        text-align: right;\n",
       "    }\n",
       "</style>\n",
       "<table border=\"1\" class=\"dataframe\">\n",
       "  <thead>\n",
       "    <tr style=\"text-align: right;\">\n",
       "      <th></th>\n",
       "      <th>news</th>\n",
       "      <th>published_date</th>\n",
       "      <th>sensitivity</th>\n",
       "    </tr>\n",
       "  </thead>\n",
       "  <tbody>\n",
       "    <tr>\n",
       "      <th>0</th>\n",
       "      <td>The Smartest Investors Are Buying These 2 Stoc...</td>\n",
       "      <td>2023-12-20 11:30:00</td>\n",
       "      <td>0</td>\n",
       "    </tr>\n",
       "    <tr>\n",
       "      <th>1</th>\n",
       "      <td>An iPhone Thief Explains How He Steals Your Pa...</td>\n",
       "      <td>2023-12-20 10:30:00</td>\n",
       "      <td>0</td>\n",
       "    </tr>\n",
       "    <tr>\n",
       "      <th>2</th>\n",
       "      <td>He Stole Hundreds of iPhones and Looted People...</td>\n",
       "      <td>2023-12-20 10:30:00</td>\n",
       "      <td>0</td>\n",
       "    </tr>\n",
       "    <tr>\n",
       "      <th>3</th>\n",
       "      <td>Google ordered to pay $700M in antitrust ruling</td>\n",
       "      <td>2023-12-19 21:24:47</td>\n",
       "      <td>0</td>\n",
       "    </tr>\n",
       "    <tr>\n",
       "      <th>4</th>\n",
       "      <td>11 Most Promising AI Stocks According to Hedge...</td>\n",
       "      <td>2023-12-19 21:13:42</td>\n",
       "      <td>1</td>\n",
       "    </tr>\n",
       "    <tr>\n",
       "      <th>5</th>\n",
       "      <td>Magnificent Seven Stocks To Buy And Watch: Tes...</td>\n",
       "      <td>2023-12-19 20:40:42</td>\n",
       "      <td>0</td>\n",
       "    </tr>\n",
       "    <tr>\n",
       "      <th>6</th>\n",
       "      <td>11 Most Promising Metaverse Stocks To Buy Acco...</td>\n",
       "      <td>2023-12-19 20:10:56</td>\n",
       "      <td>1</td>\n",
       "    </tr>\n",
       "    <tr>\n",
       "      <th>7</th>\n",
       "      <td>4 things to know about the Apple Watch fiasco</td>\n",
       "      <td>2023-12-19 20:07:58</td>\n",
       "      <td>0</td>\n",
       "    </tr>\n",
       "    <tr>\n",
       "      <th>8</th>\n",
       "      <td>The AI Revolution May Favor Amazon and Meta Mo...</td>\n",
       "      <td>2023-12-20 15:55:00</td>\n",
       "      <td>0</td>\n",
       "    </tr>\n",
       "    <tr>\n",
       "      <th>9</th>\n",
       "      <td>3 Stocks to Buy for 2024 and Onward</td>\n",
       "      <td>2023-12-20 15:30:00</td>\n",
       "      <td>0</td>\n",
       "    </tr>\n",
       "    <tr>\n",
       "      <th>10</th>\n",
       "      <td>Google parent Alphabet at 2-month high on AI-l...</td>\n",
       "      <td>2023-12-20 16:15:00</td>\n",
       "      <td>1</td>\n",
       "    </tr>\n",
       "    <tr>\n",
       "      <th>11</th>\n",
       "      <td>US STOCKS-S&amp;P 500, Dow slip as rate-cut rally ...</td>\n",
       "      <td>2023-12-20 15:14:35</td>\n",
       "      <td>-1</td>\n",
       "    </tr>\n",
       "    <tr>\n",
       "      <th>12</th>\n",
       "      <td>Big tech and geopolitics are reshaping the int...</td>\n",
       "      <td>2023-12-20 13:42:15</td>\n",
       "      <td>0</td>\n",
       "    </tr>\n",
       "    <tr>\n",
       "      <th>13</th>\n",
       "      <td>Autonomous trucking 2023: Leaders emerge amid ...</td>\n",
       "      <td>2023-12-20 13:10:38</td>\n",
       "      <td>1</td>\n",
       "    </tr>\n",
       "    <tr>\n",
       "      <th>14</th>\n",
       "      <td>Alphabet Just Said \"Checkmate\" to Microsoft, b...</td>\n",
       "      <td>2023-12-20 13:05:00</td>\n",
       "      <td>1</td>\n",
       "    </tr>\n",
       "    <tr>\n",
       "      <th>15</th>\n",
       "      <td>Tesla's Future Looks Bright With AI -- 2 Reaso...</td>\n",
       "      <td>2023-12-20 11:55:00</td>\n",
       "      <td>1</td>\n",
       "    </tr>\n",
       "    <tr>\n",
       "      <th>16</th>\n",
       "      <td>20 Best Serial Killer Documentaries on Netflix...</td>\n",
       "      <td>2023-12-20 15:07:50</td>\n",
       "      <td>0</td>\n",
       "    </tr>\n",
       "    <tr>\n",
       "      <th>17</th>\n",
       "      <td>Dow Jones Falls After Key Economic Data; FedEx...</td>\n",
       "      <td>2023-12-20 15:06:35</td>\n",
       "      <td>0</td>\n",
       "    </tr>\n",
       "    <tr>\n",
       "      <th>18</th>\n",
       "      <td>16 Most Promising QQQ Stocks According to Hedg...</td>\n",
       "      <td>2023-12-20 14:59:40</td>\n",
       "      <td>0</td>\n",
       "    </tr>\n",
       "    <tr>\n",
       "      <th>19</th>\n",
       "      <td>Why Netflix (NFLX) Outpaced the Stock Market T...</td>\n",
       "      <td>2023-12-19 22:45:20</td>\n",
       "      <td>1</td>\n",
       "    </tr>\n",
       "    <tr>\n",
       "      <th>20</th>\n",
       "      <td>Tech stocks, Lyft, FuelCell Energy: Trending T...</td>\n",
       "      <td>2023-12-19 21:47:59</td>\n",
       "      <td>0</td>\n",
       "    </tr>\n",
       "    <tr>\n",
       "      <th>21</th>\n",
       "      <td>Dow Jones Leader Microsoft, Netflix In Buy Zon...</td>\n",
       "      <td>2023-12-19 19:44:53</td>\n",
       "      <td>1</td>\n",
       "    </tr>\n",
       "    <tr>\n",
       "      <th>22</th>\n",
       "      <td>Hollywood: How it came to a screeching halt — ...</td>\n",
       "      <td>2023-12-19 15:24:19</td>\n",
       "      <td>-1</td>\n",
       "    </tr>\n",
       "    <tr>\n",
       "      <th>23</th>\n",
       "      <td>Dow Jones Extends Winning Streak; Netflix Amon...</td>\n",
       "      <td>2023-12-19 15:18:01</td>\n",
       "      <td>1</td>\n",
       "    </tr>\n",
       "  </tbody>\n",
       "</table>\n",
       "</div>"
      ],
      "text/plain": [
       "                                                 news      published_date   \n",
       "0   The Smartest Investors Are Buying These 2 Stoc... 2023-12-20 11:30:00  \\\n",
       "1   An iPhone Thief Explains How He Steals Your Pa... 2023-12-20 10:30:00   \n",
       "2   He Stole Hundreds of iPhones and Looted People... 2023-12-20 10:30:00   \n",
       "3     Google ordered to pay $700M in antitrust ruling 2023-12-19 21:24:47   \n",
       "4   11 Most Promising AI Stocks According to Hedge... 2023-12-19 21:13:42   \n",
       "5   Magnificent Seven Stocks To Buy And Watch: Tes... 2023-12-19 20:40:42   \n",
       "6   11 Most Promising Metaverse Stocks To Buy Acco... 2023-12-19 20:10:56   \n",
       "7       4 things to know about the Apple Watch fiasco 2023-12-19 20:07:58   \n",
       "8   The AI Revolution May Favor Amazon and Meta Mo... 2023-12-20 15:55:00   \n",
       "9                 3 Stocks to Buy for 2024 and Onward 2023-12-20 15:30:00   \n",
       "10  Google parent Alphabet at 2-month high on AI-l... 2023-12-20 16:15:00   \n",
       "11  US STOCKS-S&P 500, Dow slip as rate-cut rally ... 2023-12-20 15:14:35   \n",
       "12  Big tech and geopolitics are reshaping the int... 2023-12-20 13:42:15   \n",
       "13  Autonomous trucking 2023: Leaders emerge amid ... 2023-12-20 13:10:38   \n",
       "14  Alphabet Just Said \"Checkmate\" to Microsoft, b... 2023-12-20 13:05:00   \n",
       "15  Tesla's Future Looks Bright With AI -- 2 Reaso... 2023-12-20 11:55:00   \n",
       "16  20 Best Serial Killer Documentaries on Netflix... 2023-12-20 15:07:50   \n",
       "17  Dow Jones Falls After Key Economic Data; FedEx... 2023-12-20 15:06:35   \n",
       "18  16 Most Promising QQQ Stocks According to Hedg... 2023-12-20 14:59:40   \n",
       "19  Why Netflix (NFLX) Outpaced the Stock Market T... 2023-12-19 22:45:20   \n",
       "20  Tech stocks, Lyft, FuelCell Energy: Trending T... 2023-12-19 21:47:59   \n",
       "21  Dow Jones Leader Microsoft, Netflix In Buy Zon... 2023-12-19 19:44:53   \n",
       "22  Hollywood: How it came to a screeching halt — ... 2023-12-19 15:24:19   \n",
       "23  Dow Jones Extends Winning Streak; Netflix Amon... 2023-12-19 15:18:01   \n",
       "\n",
       "    sensitivity  \n",
       "0             0  \n",
       "1             0  \n",
       "2             0  \n",
       "3             0  \n",
       "4             1  \n",
       "5             0  \n",
       "6             1  \n",
       "7             0  \n",
       "8             0  \n",
       "9             0  \n",
       "10            1  \n",
       "11           -1  \n",
       "12            0  \n",
       "13            1  \n",
       "14            1  \n",
       "15            1  \n",
       "16            0  \n",
       "17            0  \n",
       "18            0  \n",
       "19            1  \n",
       "20            0  \n",
       "21            1  \n",
       "22           -1  \n",
       "23            1  "
      ]
     },
     "execution_count": 94,
     "metadata": {},
     "output_type": "execute_result"
    }
   ],
   "source": [
    "# Converted sentiment results from the previous step\n",
    "converted_results = [{'numeric_label': 0, 'score': 0.5750987529754639},\n",
    "                     {'numeric_label': 0, 'score': 0.9999339580535889},\n",
    "                     {'numeric_label': 0, 'score': 0.9976769089698792},\n",
    "                     {'numeric_label': 0, 'score': 0.9990262985229492},\n",
    "                     {'numeric_label': 1, 'score': 0.7419304847717285},\n",
    "                     {'numeric_label': 0, 'score': 0.9826880097389221},\n",
    "                     {'numeric_label': 1, 'score': 0.9780104756355286},\n",
    "                     {'numeric_label': 0, 'score': 0.9988712668418884},\n",
    "                     {'numeric_label': 0, 'score': 0.999269425868988},\n",
    "                     {'numeric_label': 0, 'score': 0.9993264675140381},\n",
    "                     {'numeric_label': 1, 'score': 0.9997648596763611},\n",
    "                     {'numeric_label': -1, 'score': 0.8937631249427795},\n",
    "                     {'numeric_label': 0, 'score': 0.9901935458183289},\n",
    "                     {'numeric_label': 1, 'score': 0.9992871880531311},\n",
    "                     {'numeric_label': 1, 'score': 0.9998642206192017},\n",
    "                     {'numeric_label': 1, 'score': 1.0},\n",
    "                     {'numeric_label': 0, 'score': 0.9791944622993469},\n",
    "                     {'numeric_label': 0, 'score': 0.9999598264694214},\n",
    "                     {'numeric_label': 0, 'score': 0.8753624558448792},\n",
    "                     {'numeric_label': 1, 'score': 0.999238133430481},\n",
    "                     {'numeric_label': 0, 'score': 0.9998533725738525},\n",
    "                     {'numeric_label': 1, 'score': 0.9999912977218628},\n",
    "                     {'numeric_label': -1, 'score': 0.5732982754707336},\n",
    "                     {'numeric_label': 1, 'score': 0.9999901056289673}]\n",
    "\n",
    "# Extract just the numeric labels for simplicity\n",
    "sensitivity_scores = [result['numeric_label'] for result in converted_results]\n",
    "\n",
    "# Add the sensitivity scores as a new column to the DataFrame\n",
    "news_df['sensitivity'] = sensitivity_scores\n",
    "\n",
    "# Display the updated DataFrame\n",
    "news_df"
   ]
  },
  {
   "cell_type": "code",
   "execution_count": 95,
   "id": "80575fd9-6835-4583-b152-62b0d910732c",
   "metadata": {
    "tags": []
   },
   "outputs": [],
   "source": [
    "file_path = '../data/news_test2.csv'\n",
    "\n",
    "# Save the DataFrame to a CSV file\n",
    "news_df.to_csv(file_path, index=False)"
   ]
  },
  {
   "cell_type": "code",
   "execution_count": 17,
   "id": "35e78a17-de16-4866-b403-3972c2ac79d5",
   "metadata": {
    "tags": []
   },
   "outputs": [
    {
     "name": "stderr",
     "output_type": "stream",
     "text": [
      "/var/folders/mf/27g8bmj10ylbpz1wpw3grsfc0000gn/T/ipykernel_58580/4091712335.py:28: FutureWarning: The behavior of pd.concat with len(keys) != len(objs) is deprecated. In a future version this will raise instead of truncating to the smaller of the two sequences\n",
      "  sp500_data = pd.concat([sp500_data, data['4. close']], axis=1, keys=[ticker])\n",
      "/var/folders/mf/27g8bmj10ylbpz1wpw3grsfc0000gn/T/ipykernel_58580/4091712335.py:28: FutureWarning: The behavior of pd.concat with len(keys) != len(objs) is deprecated. In a future version this will raise instead of truncating to the smaller of the two sequences\n",
      "  sp500_data = pd.concat([sp500_data, data['4. close']], axis=1, keys=[ticker])\n",
      "/var/folders/mf/27g8bmj10ylbpz1wpw3grsfc0000gn/T/ipykernel_58580/4091712335.py:28: FutureWarning: The behavior of pd.concat with len(keys) != len(objs) is deprecated. In a future version this will raise instead of truncating to the smaller of the two sequences\n",
      "  sp500_data = pd.concat([sp500_data, data['4. close']], axis=1, keys=[ticker])\n",
      "/var/folders/mf/27g8bmj10ylbpz1wpw3grsfc0000gn/T/ipykernel_58580/4091712335.py:28: FutureWarning: The behavior of pd.concat with len(keys) != len(objs) is deprecated. In a future version this will raise instead of truncating to the smaller of the two sequences\n",
      "  sp500_data = pd.concat([sp500_data, data['4. close']], axis=1, keys=[ticker])\n"
     ]
    },
    {
     "name": "stdout",
     "output_type": "stream",
     "text": [
      "Failed to fetch data for FB: Invalid API call. Please retry or visit the documentation (https://www.alphavantage.co/documentation/) for TIME_SERIES_DAILY.\n",
      "Empty DataFrame\n",
      "Columns: []\n",
      "Index: []\n"
     ]
    }
   ],
   "source": [
    "\n",
    "\n",
    "# Manually create a list of S&P 500 tickers\n",
    "sp500_tickers = [\n",
    "    'AAPL', 'MSFT', 'GOOGL', 'AMZN', 'FB',  # ... add more tickers\n",
    "]\n",
    "\n",
    "# Replace 'YOUR_ALPHA_VANTAGE_API_KEY' with your actual API key\n",
    "alpha_vantage_api_key = 'P9KR0U54ROOY3WJWY'\n",
    "ts = TimeSeries(key=alpha_vantage_api_key, output_format='pandas')\n",
    "\n",
    "# Specify the time period\n",
    "start_date = '2022-01-01'\n",
    "end_date = '2023-01-01'\n",
    "\n",
    "# Create an empty DataFrame to store the data for all stocks\n",
    "sp500_data = pd.DataFrame()\n",
    "\n",
    "# Fetch historical data for each stock in the S&P 500\n",
    "for ticker in sp500_tickers:\n",
    "    try:\n",
    "        data, meta_data = ts.get_daily(symbol=ticker, outputsize='full')\n",
    "        \n",
    "        # Check if the data is not empty before concatenating\n",
    "        if not data.empty:\n",
    "            sp500_data = pd.concat([sp500_data, data['4. close']], axis=1, keys=[ticker])\n",
    "        else:\n",
    "            print(f\"No data available for {ticker}\")\n",
    "    except Exception as e:\n",
    "        print(f\"Failed to fetch data for {ticker}: {e}\")\n",
    "\n",
    "# Display the data\n",
    "print(sp500_data.head())\n",
    "\n"
   ]
  },
  {
   "cell_type": "code",
   "execution_count": 5,
   "id": "0e29bc5c-8149-4c64-8d2f-ba0a73fb91c3",
   "metadata": {
    "tags": []
   },
   "outputs": [
    {
     "data": {
      "text/html": [
       "<div>\n",
       "<style scoped>\n",
       "    .dataframe tbody tr th:only-of-type {\n",
       "        vertical-align: middle;\n",
       "    }\n",
       "\n",
       "    .dataframe tbody tr th {\n",
       "        vertical-align: top;\n",
       "    }\n",
       "\n",
       "    .dataframe thead th {\n",
       "        text-align: right;\n",
       "    }\n",
       "</style>\n",
       "<table border=\"1\" class=\"dataframe\">\n",
       "  <thead>\n",
       "    <tr style=\"text-align: right;\">\n",
       "      <th></th>\n",
       "    </tr>\n",
       "  </thead>\n",
       "  <tbody>\n",
       "  </tbody>\n",
       "</table>\n",
       "</div>"
      ],
      "text/plain": [
       "Empty DataFrame\n",
       "Columns: []\n",
       "Index: []"
      ]
     },
     "execution_count": 5,
     "metadata": {},
     "output_type": "execute_result"
    }
   ],
   "source": [
    "sp500_data.head()"
   ]
  },
  {
   "cell_type": "code",
   "execution_count": null,
   "id": "928aac0e-9130-4dfa-bf06-152160c14cfc",
   "metadata": {},
   "outputs": [],
   "source": [
    "# show meta information about the history (requires history() to be called first)\n",
    "msft.history_metadata\n",
    "\n",
    "# show actions (dividends, splits, capital gains)\n",
    "msft.actions\n",
    "msft.dividends\n",
    "msft.splits\n",
    "msft.capital_gains  # only for mutual funds & etfs\n",
    "\n",
    "# show share count\n",
    "msft.get_shares_full(start=\"2022-01-01\", end=None)\n",
    "\n",
    "# show financials:\n",
    "# - income statement\n",
    "msft.income_stmt\n",
    "msft.quarterly_income_stmt\n",
    "# - balance sheet\n",
    "msft.balance_sheet\n",
    "msft.quarterly_balance_sheet\n",
    "# - cash flow statement\n",
    "msft.cashflow\n",
    "msft.quarterly_cashflow\n",
    "# see `Ticker.get_income_stmt()` for more options\n",
    "\n",
    "# show holders\n",
    "msft.major_holders\n",
    "msft.institutional_holders\n",
    "msft.mutualfund_holders\n",
    "\n",
    "# Show future and historic earnings dates, returns at most next 4 quarters and last 8 quarters by default. \n",
    "# Note: If more are needed use msft.get_earnings_dates(limit=XX) with increased limit argument.\n",
    "msft.earnings_dates\n",
    "\n",
    "# show ISIN code - *experimental*\n",
    "# ISIN = International Securities Identification Number\n",
    "msft.isin\n",
    "\n",
    "# show options expirations\n",
    "msft.options\n",
    "\n",
    "# show news\n",
    "msft.news\n",
    "\n",
    "# get option chain for specific expiration\n",
    "#opt = msft.option_chain('YYYY-MM-DD')\n",
    "# data available via: opt.calls, opt.puts"
   ]
  }
 ],
 "metadata": {
  "kernelspec": {
   "display_name": "Python 3 (ipykernel)",
   "language": "python",
   "name": "python3"
  },
  "language_info": {
   "codemirror_mode": {
    "name": "ipython",
    "version": 3
   },
   "file_extension": ".py",
   "mimetype": "text/x-python",
   "name": "python",
   "nbconvert_exporter": "python",
   "pygments_lexer": "ipython3",
   "version": "3.11.3"
  }
 },
 "nbformat": 4,
 "nbformat_minor": 5
}
