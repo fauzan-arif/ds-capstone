{
 "cells": [
  {
   "cell_type": "code",
   "execution_count": 1,
   "id": "bb235fa4-4070-44da-9c4f-7bb96820fd94",
   "metadata": {
    "tags": []
   },
   "outputs": [],
   "source": [
    "import pandas as pd\n",
    "import numpy as np\n",
    "from sklearn.preprocessing import StandardScaler\n",
    "from sklearn.compose import ColumnTransformer\n",
    "from sklearn.pipeline import Pipeline\n",
    "from sklearn.impute import SimpleImputer\n",
    "from sklearn.preprocessing import StandardScaler\n",
    "from sklearn.preprocessing import MinMaxScaler\n",
    "from tensorflow.keras.models import Sequential\n",
    "from tensorflow.keras.layers import LSTM, Dense\n",
    "from statsmodels.tsa.api import VAR\n",
    "from sklearn.metrics import mean_squared_error, r2_score\n",
    "import os\n",
    "from dotenv import load_dotenv\n",
    "import yfinance as yf\n",
    "import pandas as pd\n",
    "import pandas_ta as ta\n",
    "from scikeras.wrappers import KerasRegressor\n",
    "# Load environment variables from the .env file\n",
    "load_dotenv('../.env');\n",
    "\n",
    "# Data Viz. \n",
    "import statsmodels.formula.api as smf\n",
    "from statsmodels.tsa.seasonal import seasonal_decompose\n",
    "from scipy.ndimage import gaussian_filter\n",
    "from calendar import monthrange\n",
    "from calendar import month_name\n",
    "\n",
    "import matplotlib.pyplot as plt\n",
    "import matplotlib.patches as patches\n",
    "import seaborn as sns"
   ]
  },
  {
   "cell_type": "code",
   "execution_count": 2,
   "id": "e830c5b3-c7af-4a36-a848-7e4b7332870d",
   "metadata": {
    "tags": []
   },
   "outputs": [],
   "source": [
    "import requests\n",
    "import csv\n",
    "from itertools import permutations\n",
    "import matplotlib.pyplot as plt\n",
    "\n",
    "from sklearn.metrics import mean_squared_error\n",
    "from math import sqrt\n",
    "from statsmodels.tsa.stattools import adfuller,kpss\n",
    "from statsmodels.tsa.seasonal import seasonal_decompose\n",
    "from statsmodels.tsa.arima_model import ARIMA\n",
    "from statsmodels.graphics.tsaplots import plot_pacf\n",
    "\n",
    "import statsmodels.graphics.tsaplots as tsaplot\n",
    "from statsmodels.tsa.holtwinters import Holt, ExponentialSmoothing, SimpleExpSmoothing\n",
    "\n",
    "import warnings\n",
    "warnings.filterwarnings('ignore')"
   ]
  },
  {
   "cell_type": "code",
   "execution_count": 9,
   "id": "5fba3609-b1a7-484a-90c3-af8d73e8174e",
   "metadata": {
    "tags": []
   },
   "outputs": [],
   "source": [
    "def load_and_prepare(ticker, period=\"max\"):\n",
    "    df = pd.DataFrame()\n",
    "    df = df.ta.ticker(ticker, period=period)\n",
    "    df.ta.adjusted = \"adj_close\"\n",
    "    df.reset_index(inplace=True)\n",
    "    df.columns = df.columns.str.lower().str.replace(' ', '_')\n",
    "    df.drop(['date', 'dividends', 'stock_splits'], axis=1, inplace=True)\n",
    "    \n",
    "    df['rsi']  = ta.rsi(df.close, length=15)\n",
    "    df['emaf'] = ta.ema(df.close, length=20) #fast moving avg\n",
    "    df['emam'] = ta.ema(df.close, length=100) #medium moving avg\n",
    "    df['emas'] = ta.ema(df.close, length=150) #slow moving avg\n",
    "    #df['macd'] = ta.macd(df.close, fast=12, slow=26, signal=9) #moving average convergance and divergance\n",
    "    \n",
    "    df['vma']  = ta.sma(df.volume, length=20) # Volume Moving Average\n",
    "    df['vrc']  = ta.roc(df.volume, length=5) # Volume Rate of change\n",
    "    \n",
    "    df['target']            = df.close - df.open\n",
    "    df['target']            = df.target.shift(-1)\n",
    "    df['target_class']      = [1 if df.target[i]>0 else 0 for i in range(len(df))]\n",
    "    df['target_next_close'] = df.close.shift(-1)\n",
    "\n",
    "    df.dropna(inplace=True)\n",
    "    return df"
   ]
  },
  {
   "cell_type": "code",
   "execution_count": 10,
   "id": "47c1990e-ccbb-4089-b213-1ef891949c4b",
   "metadata": {
    "tags": []
   },
   "outputs": [],
   "source": [
    "df=load_and_prepare(\"AAPL\")"
   ]
  },
  {
   "cell_type": "code",
   "execution_count": 11,
   "id": "ab1c8ae0-90c9-477e-9268-b81a6cbbd916",
   "metadata": {
    "tags": []
   },
   "outputs": [
    {
     "data": {
      "text/html": [
       "<div>\n",
       "<style scoped>\n",
       "    .dataframe tbody tr th:only-of-type {\n",
       "        vertical-align: middle;\n",
       "    }\n",
       "\n",
       "    .dataframe tbody tr th {\n",
       "        vertical-align: top;\n",
       "    }\n",
       "\n",
       "    .dataframe thead th {\n",
       "        text-align: right;\n",
       "    }\n",
       "</style>\n",
       "<table border=\"1\" class=\"dataframe\">\n",
       "  <thead>\n",
       "    <tr style=\"text-align: right;\">\n",
       "      <th></th>\n",
       "      <th>open</th>\n",
       "      <th>high</th>\n",
       "      <th>low</th>\n",
       "      <th>close</th>\n",
       "      <th>volume</th>\n",
       "      <th>rsi</th>\n",
       "      <th>emaf</th>\n",
       "      <th>emam</th>\n",
       "      <th>emas</th>\n",
       "      <th>vma</th>\n",
       "      <th>vrc</th>\n",
       "      <th>target</th>\n",
       "      <th>target_class</th>\n",
       "      <th>target_next_close</th>\n",
       "    </tr>\n",
       "  </thead>\n",
       "  <tbody>\n",
       "    <tr>\n",
       "      <th>149</th>\n",
       "      <td>0.089387</td>\n",
       "      <td>0.089818</td>\n",
       "      <td>0.089387</td>\n",
       "      <td>0.089387</td>\n",
       "      <td>19824000</td>\n",
       "      <td>45.489537</td>\n",
       "      <td>0.090299</td>\n",
       "      <td>0.097269</td>\n",
       "      <td>0.097453</td>\n",
       "      <td>31013920.0</td>\n",
       "      <td>-64.068210</td>\n",
       "      <td>-0.000432</td>\n",
       "      <td>0</td>\n",
       "      <td>0.083342</td>\n",
       "    </tr>\n",
       "    <tr>\n",
       "      <th>150</th>\n",
       "      <td>0.083773</td>\n",
       "      <td>0.083773</td>\n",
       "      <td>0.083342</td>\n",
       "      <td>0.083342</td>\n",
       "      <td>23654400</td>\n",
       "      <td>39.340084</td>\n",
       "      <td>0.089636</td>\n",
       "      <td>0.096994</td>\n",
       "      <td>0.097266</td>\n",
       "      <td>30821280.0</td>\n",
       "      <td>-48.285994</td>\n",
       "      <td>-0.000432</td>\n",
       "      <td>0</td>\n",
       "      <td>0.082910</td>\n",
       "    </tr>\n",
       "    <tr>\n",
       "      <th>151</th>\n",
       "      <td>0.083342</td>\n",
       "      <td>0.083342</td>\n",
       "      <td>0.082910</td>\n",
       "      <td>0.082910</td>\n",
       "      <td>31942400</td>\n",
       "      <td>38.937224</td>\n",
       "      <td>0.088996</td>\n",
       "      <td>0.096715</td>\n",
       "      <td>0.097076</td>\n",
       "      <td>31876320.0</td>\n",
       "      <td>61.494904</td>\n",
       "      <td>-0.000864</td>\n",
       "      <td>0</td>\n",
       "      <td>0.078159</td>\n",
       "    </tr>\n",
       "    <tr>\n",
       "      <th>152</th>\n",
       "      <td>0.079024</td>\n",
       "      <td>0.079024</td>\n",
       "      <td>0.078159</td>\n",
       "      <td>0.078159</td>\n",
       "      <td>22668800</td>\n",
       "      <td>34.743562</td>\n",
       "      <td>0.087964</td>\n",
       "      <td>0.096347</td>\n",
       "      <td>0.096826</td>\n",
       "      <td>32258240.0</td>\n",
       "      <td>106.952965</td>\n",
       "      <td>0.000000</td>\n",
       "      <td>0</td>\n",
       "      <td>0.080319</td>\n",
       "    </tr>\n",
       "    <tr>\n",
       "      <th>153</th>\n",
       "      <td>0.080319</td>\n",
       "      <td>0.080751</td>\n",
       "      <td>0.080319</td>\n",
       "      <td>0.080319</td>\n",
       "      <td>34451200</td>\n",
       "      <td>37.996474</td>\n",
       "      <td>0.087236</td>\n",
       "      <td>0.096030</td>\n",
       "      <td>0.096607</td>\n",
       "      <td>32829440.0</td>\n",
       "      <td>126.176471</td>\n",
       "      <td>0.000000</td>\n",
       "      <td>0</td>\n",
       "      <td>0.082910</td>\n",
       "    </tr>\n",
       "    <tr>\n",
       "      <th>...</th>\n",
       "      <td>...</td>\n",
       "      <td>...</td>\n",
       "      <td>...</td>\n",
       "      <td>...</td>\n",
       "      <td>...</td>\n",
       "      <td>...</td>\n",
       "      <td>...</td>\n",
       "      <td>...</td>\n",
       "      <td>...</td>\n",
       "      <td>...</td>\n",
       "      <td>...</td>\n",
       "      <td>...</td>\n",
       "      <td>...</td>\n",
       "      <td>...</td>\n",
       "    </tr>\n",
       "    <tr>\n",
       "      <th>10850</th>\n",
       "      <td>192.490005</td>\n",
       "      <td>193.500000</td>\n",
       "      <td>191.089996</td>\n",
       "      <td>193.149994</td>\n",
       "      <td>48087700</td>\n",
       "      <td>54.066366</td>\n",
       "      <td>193.279597</td>\n",
       "      <td>184.169574</td>\n",
       "      <td>180.655088</td>\n",
       "      <td>53895235.0</td>\n",
       "      <td>18.110679</td>\n",
       "      <td>-0.559998</td>\n",
       "      <td>0</td>\n",
       "      <td>193.580002</td>\n",
       "    </tr>\n",
       "    <tr>\n",
       "      <th>10851</th>\n",
       "      <td>194.139999</td>\n",
       "      <td>194.660004</td>\n",
       "      <td>193.169998</td>\n",
       "      <td>193.580002</td>\n",
       "      <td>34049900</td>\n",
       "      <td>55.138020</td>\n",
       "      <td>193.308207</td>\n",
       "      <td>184.355919</td>\n",
       "      <td>180.826279</td>\n",
       "      <td>53447020.0</td>\n",
       "      <td>-34.823746</td>\n",
       "      <td>-1.369995</td>\n",
       "      <td>0</td>\n",
       "      <td>192.529999</td>\n",
       "    </tr>\n",
       "    <tr>\n",
       "      <th>10852</th>\n",
       "      <td>193.899994</td>\n",
       "      <td>194.399994</td>\n",
       "      <td>191.729996</td>\n",
       "      <td>192.529999</td>\n",
       "      <td>42628800</td>\n",
       "      <td>51.966107</td>\n",
       "      <td>193.234092</td>\n",
       "      <td>184.517782</td>\n",
       "      <td>180.981295</td>\n",
       "      <td>53138740.0</td>\n",
       "      <td>-8.290647</td>\n",
       "      <td>-1.509995</td>\n",
       "      <td>0</td>\n",
       "      <td>185.639999</td>\n",
       "    </tr>\n",
       "    <tr>\n",
       "      <th>10853</th>\n",
       "      <td>187.149994</td>\n",
       "      <td>188.440002</td>\n",
       "      <td>183.889999</td>\n",
       "      <td>185.639999</td>\n",
       "      <td>82488700</td>\n",
       "      <td>37.001110</td>\n",
       "      <td>192.510845</td>\n",
       "      <td>184.540004</td>\n",
       "      <td>181.043000</td>\n",
       "      <td>54979210.0</td>\n",
       "      <td>122.204952</td>\n",
       "      <td>0.029999</td>\n",
       "      <td>1</td>\n",
       "      <td>184.250000</td>\n",
       "    </tr>\n",
       "    <tr>\n",
       "      <th>10854</th>\n",
       "      <td>184.220001</td>\n",
       "      <td>185.880005</td>\n",
       "      <td>183.429993</td>\n",
       "      <td>184.250000</td>\n",
       "      <td>58414500</td>\n",
       "      <td>34.832884</td>\n",
       "      <td>191.724098</td>\n",
       "      <td>184.534261</td>\n",
       "      <td>181.085477</td>\n",
       "      <td>55730460.0</td>\n",
       "      <td>101.991404</td>\n",
       "      <td>-0.239990</td>\n",
       "      <td>0</td>\n",
       "      <td>181.910004</td>\n",
       "    </tr>\n",
       "  </tbody>\n",
       "</table>\n",
       "<p>10706 rows × 14 columns</p>\n",
       "</div>"
      ],
      "text/plain": [
       "             open        high         low       close    volume        rsi   \n",
       "149      0.089387    0.089818    0.089387    0.089387  19824000  45.489537  \\\n",
       "150      0.083773    0.083773    0.083342    0.083342  23654400  39.340084   \n",
       "151      0.083342    0.083342    0.082910    0.082910  31942400  38.937224   \n",
       "152      0.079024    0.079024    0.078159    0.078159  22668800  34.743562   \n",
       "153      0.080319    0.080751    0.080319    0.080319  34451200  37.996474   \n",
       "...           ...         ...         ...         ...       ...        ...   \n",
       "10850  192.490005  193.500000  191.089996  193.149994  48087700  54.066366   \n",
       "10851  194.139999  194.660004  193.169998  193.580002  34049900  55.138020   \n",
       "10852  193.899994  194.399994  191.729996  192.529999  42628800  51.966107   \n",
       "10853  187.149994  188.440002  183.889999  185.639999  82488700  37.001110   \n",
       "10854  184.220001  185.880005  183.429993  184.250000  58414500  34.832884   \n",
       "\n",
       "             emaf        emam        emas         vma         vrc    target   \n",
       "149      0.090299    0.097269    0.097453  31013920.0  -64.068210 -0.000432  \\\n",
       "150      0.089636    0.096994    0.097266  30821280.0  -48.285994 -0.000432   \n",
       "151      0.088996    0.096715    0.097076  31876320.0   61.494904 -0.000864   \n",
       "152      0.087964    0.096347    0.096826  32258240.0  106.952965  0.000000   \n",
       "153      0.087236    0.096030    0.096607  32829440.0  126.176471  0.000000   \n",
       "...           ...         ...         ...         ...         ...       ...   \n",
       "10850  193.279597  184.169574  180.655088  53895235.0   18.110679 -0.559998   \n",
       "10851  193.308207  184.355919  180.826279  53447020.0  -34.823746 -1.369995   \n",
       "10852  193.234092  184.517782  180.981295  53138740.0   -8.290647 -1.509995   \n",
       "10853  192.510845  184.540004  181.043000  54979210.0  122.204952  0.029999   \n",
       "10854  191.724098  184.534261  181.085477  55730460.0  101.991404 -0.239990   \n",
       "\n",
       "       target_class  target_next_close  \n",
       "149               0           0.083342  \n",
       "150               0           0.082910  \n",
       "151               0           0.078159  \n",
       "152               0           0.080319  \n",
       "153               0           0.082910  \n",
       "...             ...                ...  \n",
       "10850             0         193.580002  \n",
       "10851             0         192.529999  \n",
       "10852             0         185.639999  \n",
       "10853             1         184.250000  \n",
       "10854             0         181.910004  \n",
       "\n",
       "[10706 rows x 14 columns]"
      ]
     },
     "execution_count": 11,
     "metadata": {},
     "output_type": "execute_result"
    }
   ],
   "source": [
    "df"
   ]
  },
  {
   "cell_type": "code",
   "execution_count": null,
   "id": "fb702b65-029f-4792-ba0e-8e176e4c73b0",
   "metadata": {
    "tags": []
   },
   "outputs": [],
   "source": [
    "def stationarity_test(stock_close_price):\n",
    "    \n",
    "    # Calculate rolling mean and rolling standard deviation\n",
    "    rolling_mean = stock_close_price.rolling(30).mean()\n",
    "    rolling_std_dev = stock_close_price.rolling(30).std()\n",
    "    \n",
    "    # Plot the statistics\n",
    "    plt.figure(figsize=(24,6))\n",
    "    plt.plot(rolling_mean, color='#FF5A36', label='Rolling Mean')\n",
    "    plt.plot(rolling_std_dev, color='#1E4485', label = 'Rolling Std Dev')\n",
    "    plt.plot(stock_close_price, color='#99D04A',label='Original Time Series')\n",
    "    plt.xticks([])\n",
    "    plt.legend(loc='best')\n",
    "    plt.title('Rolling Mean and Standard Deviation')\n",
    "    \n",
    "    # ADF test\n",
    "    print(\"ADF Test:\")\n",
    "    adf_test = adfuller(stock_close_price,autolag='AIC')\n",
    "    print('Null Hypothesis: Not Stationary')\n",
    "    print('ADF Statistic: %f' % adf_test[0])\n",
    "    print('p-value: %f' % adf_test[1])\n",
    "    print('----'*10)\n",
    "    \n",
    "    # KPSS test\n",
    "    print(\"KPSS Test:\")\n",
    "    kpss_test = kpss(stock_close_price, regression='c', nlags=\"legacy\", store=False)\n",
    "    print('Null Hypothesis: Stationary')\n",
    "    print('KPSS Statistic: %f' % kpss_test[0])\n",
    "    print('p-value: %f' % kpss_test[1])\n",
    "    print('----'*10)\n",
    "    \n",
    "stationarity_test(df['close'])"
   ]
  },
  {
   "cell_type": "code",
   "execution_count": null,
   "id": "f82c6d36-43a3-4141-8021-34b67bf6f45f",
   "metadata": {
    "tags": []
   },
   "outputs": [],
   "source": [
    "#log transformation first before d-trended\n",
    "\n",
    "df['Log_close'] = np.log(df['close'])"
   ]
  },
  {
   "cell_type": "code",
   "execution_count": null,
   "id": "d0d0724a-1aa6-4dea-bb2e-be3d0b4a7e57",
   "metadata": {
    "tags": []
   },
   "outputs": [],
   "source": [
    "plt.figure(figsize=(12, 6))\n",
    "plt.plot(df['Log_close'], label='Log Close', color='blue')\n",
    "plt.title('Log Close Price Over Time')\n",
    "plt.xlabel('Days')\n",
    "plt.ylabel('Log Close Price')\n",
    "plt.legend()\n",
    "plt.grid(True)\n",
    "plt.show()"
   ]
  },
  {
   "cell_type": "code",
   "execution_count": null,
   "id": "9b4a8c60-9ab7-4e5f-b4a4-2d9c19003d48",
   "metadata": {
    "tags": []
   },
   "outputs": [],
   "source": [
    "stationarity_test(df['Log_close'])"
   ]
  },
  {
   "cell_type": "markdown",
   "id": "84e20108-6190-4f2d-9fb0-c9e542f13504",
   "metadata": {},
   "source": [
    "### De-trend the time series "
   ]
  },
  {
   "cell_type": "code",
   "execution_count": null,
   "id": "f03f460c-0c69-48da-9d3a-a06dbeb557a3",
   "metadata": {
    "tags": []
   },
   "outputs": [],
   "source": [
    "# De-trending the time series\n",
    "df['close_detrend'] = (df['close'] - df['close'].shift(30))"
   ]
  },
  {
   "cell_type": "code",
   "execution_count": null,
   "id": "b010fdfa-c3d1-408c-922e-d934bdaf6d82",
   "metadata": {
    "tags": []
   },
   "outputs": [],
   "source": [
    "# Detrend individual columns after feature engineering\n",
    "df['open_detrended'] = (df['open'] - df['open'].shift(30))\n",
    "df['high_detrend'] = (df['high'] - df['high'].shift(30))\n",
    "df['low_detrend'] = (df['low'] - df['low'].shift(30))\n",
    "df['rsi_detrend'] = (df['rsi'] - df['rsi'].shift(30))\n",
    "\n",
    "# Assuming 'slow_moving_avg', 'medium_moving_avg', 'fast_moving_avg' are your added features\n",
    "df['emas_detrended'] = (df['emas'] - df['emas'].shift(30))\n",
    "df['emam_detrended'] = (df['emam'] - df['emam'].shift(30))\n",
    "df['emaf_detrended'] = (df['emaf'] - df['emaf'].shift(30))\n",
    "\n",
    "df['target_detrended'] = (df['target'] - df['target'].shift(30))\n",
    "df['target_next_close_detrended'] = (df['target_next_close'] - df['target_next_close'].shift(30))"
   ]
  },
  {
   "cell_type": "code",
   "execution_count": null,
   "id": "01b6a2cd-9a03-4c42-af3b-357fbc199801",
   "metadata": {
    "tags": []
   },
   "outputs": [],
   "source": [
    "plt.figure(figsize=(12, 6))\n",
    "plt.plot(df['close_detrend'], label='Adjusted Close', color='blue')\n",
    "plt.title('Adjusted Close Price Over Time')\n",
    "plt.xlabel('Date')\n",
    "plt.ylabel('Adjusted Close Price')\n",
    "plt.legend()\n",
    "plt.grid(True)\n",
    "plt.show()"
   ]
  },
  {
   "cell_type": "code",
   "execution_count": null,
   "id": "5e2d3852-d9c5-43bf-849b-26c7962ba57d",
   "metadata": {
    "tags": []
   },
   "outputs": [],
   "source": [
    "# Test for stationarity after de-trending \n",
    "def stationarity_test(stock_close_price):\n",
    "    \n",
    "    # Calculate rolling mean and rolling standard deviation\n",
    "    rolling_mean = stock_close_price.rolling(30).mean()\n",
    "    rolling_std_dev = stock_close_price.rolling(30).std()\n",
    "  \n",
    "    # Plot the statistics\n",
    "    plt.figure(figsize=(24,6))\n",
    "    plt.plot(rolling_mean, label='Rolling Mean',linewidth=2.0)\n",
    "    plt.plot(rolling_std_dev, label = 'Rolling Std Dev',linewidth=2.0)\n",
    "    plt.plot(stock_close_price,label='De-Trended Time Series')\n",
    "    plt.xticks([])\n",
    "    plt.legend(loc='best')\n",
    "    plt.title('Rolling Mean and Standard Deviation')\n",
    "    plt.tight_layout()\n",
    "    \n",
    "    # ADF test\n",
    "    print(\"ADF Test:\")\n",
    "    adf_test = adfuller(stock_close_price,autolag='AIC')\n",
    "    print('Null Hypothesis: Not Stationary')\n",
    "    print('ADF Statistic: %f' % adf_test[0])\n",
    "    print('p-value: %f' % adf_test[1])\n",
    "    print('----'*10)\n",
    "    \n",
    "    # KPSS test\n",
    "    print(\"KPSS Test:\")\n",
    "    kpss_test = kpss(stock_close_price, regression='c', nlags='legacy', store=False)\n",
    "    print('Null Hypothesis: Stationary')\n",
    "    print('KPSS Statistic: %f' % kpss_test[0])\n",
    "    print('p-value: %f' % kpss_test[1])\n",
    "    print('----'*10)\n",
    "    \n",
    "stationarity_test(df['close_detrend'].dropna())\n",
    "\n",
    "# Partial Autocorrelation Plot\n",
    "pacf = plot_pacf(df['close_detrend'].dropna(), lags=30)"
   ]
  },
  {
   "cell_type": "code",
   "execution_count": null,
   "id": "69e260cb-4867-45d2-a5e0-940c18be272b",
   "metadata": {},
   "outputs": [],
   "source": []
  },
  {
   "cell_type": "markdown",
   "id": "afde3e43-f842-4f8b-b094-5cb7498c0360",
   "metadata": {
    "tags": []
   },
   "source": [
    "### Applying LSTM model"
   ]
  },
  {
   "cell_type": "code",
   "execution_count": null,
   "id": "2e46e766-7758-402c-b6c0-180cf5852685",
   "metadata": {
    "tags": []
   },
   "outputs": [],
   "source": [
    "df.columns"
   ]
  },
  {
   "cell_type": "code",
   "execution_count": null,
   "id": "65782363-fd98-4c2f-83ce-c0aa4aa4323c",
   "metadata": {
    "tags": []
   },
   "outputs": [],
   "source": [
    "df.isna().sum()"
   ]
  },
  {
   "cell_type": "code",
   "execution_count": null,
   "id": "966a9953-614b-4905-81e4-986bc89a7348",
   "metadata": {
    "tags": []
   },
   "outputs": [],
   "source": [
    "df = df.dropna(subset=['target_detrended', 'target_next_close_detrended'])"
   ]
  },
  {
   "cell_type": "code",
   "execution_count": null,
   "id": "85a44117-2928-4382-9593-89dab9c9cacd",
   "metadata": {
    "tags": []
   },
   "outputs": [],
   "source": [
    "# Stock closing prices are features and date is the date time index\n",
    "#, Removing some numeric features 'high_detrend', 'low_detrend'\n",
    "numeric_features = df[['close_detrend', 'rsi_detrend', 'emaf_detrended', 'emam_detrended', 'emas_detrended',]]\n",
    "targets = df[['target_detrended', 'target_class', 'target_next_close_detrended']]\n",
    "\n",
    "train_size = int(len(df) * 0.8)\n",
    "train_features, test_features = numeric_features[:train_size], numeric_features[train_size:]\n",
    "train_targets, test_targets = targets[:train_size], targets[train_size:]\n",
    "\n",
    "\n",
    "# Create a preprocessing pipeline\n",
    "preprocessing_pipeline = Pipeline([\n",
    "    ('imputer', SimpleImputer(strategy='mean')),\n",
    "    ('scaler', MinMaxScaler(feature_range=(0,1)))\n",
    "])\n",
    "\n",
    "# Apply the preprocessing pipeline to numeric features\n",
    "preprocessor = ColumnTransformer(\n",
    "    transformers=[\n",
    "        ('num', preprocessing_pipeline, numeric_features.columns)\n",
    "    ])"
   ]
  },
  {
   "cell_type": "code",
   "execution_count": null,
   "id": "5adcbb4d-0926-4043-94fc-e23403d1c521",
   "metadata": {
    "tags": []
   },
   "outputs": [],
   "source": [
    "# Fit and transform the training data\n",
    "train_features_preprocessed = preprocessor.fit_transform(train_features)\n",
    "\n",
    "# Transform the test data using the learned parameters from the training data\n",
    "test_features_preprocessed = preprocessor.transform(test_features)"
   ]
  },
  {
   "cell_type": "code",
   "execution_count": null,
   "id": "1a3c1eb4-2996-40b9-8c0c-a65b80df2f70",
   "metadata": {
    "tags": []
   },
   "outputs": [],
   "source": [
    "def reshape_for_lstm(data, time_steps):\n",
    "    return data.reshape((data.shape[0], time_steps, data.shape[1]))\n",
    "\n",
    "time_steps = 1  # We can experiment with different time steps\n",
    "train_features_lstm = reshape_for_lstm(train_features_preprocessed, time_steps)\n",
    "test_features_lstm = reshape_for_lstm(test_features_preprocessed, time_steps)\n"
   ]
  },
  {
   "cell_type": "code",
   "execution_count": null,
   "id": "9232efc8-54f5-450b-acb6-75ae9c0fce67",
   "metadata": {
    "tags": []
   },
   "outputs": [],
   "source": [
    "model = Sequential()\n",
    "time_steps = 1\n",
    "model.add(LSTM(units=50, activation='relu', input_shape=(time_steps, numeric_features.shape[1])))\n",
    "model.add(Dense(units=3))  # Assuming you have 3 output columns\n",
    "\n",
    "model.compile(optimizer='adam', loss='mean_squared_error')  # Adjust the loss function based on your problem"
   ]
  },
  {
   "cell_type": "code",
   "execution_count": null,
   "id": "76473260-f45e-44d2-ab96-c7c9e3ff80ae",
   "metadata": {
    "tags": []
   },
   "outputs": [],
   "source": [
    "epochs = 50\n",
    "batch_size = 32"
   ]
  },
  {
   "cell_type": "code",
   "execution_count": null,
   "id": "fdd9326c-8db5-4948-90bb-1d524b308b05",
   "metadata": {
    "tags": []
   },
   "outputs": [],
   "source": [
    "model.fit(train_features_lstm, train_targets, epochs=epochs, batch_size=batch_size)"
   ]
  },
  {
   "cell_type": "code",
   "execution_count": null,
   "id": "642a9a20-6c9d-4ab9-9e4b-a420ad6cf127",
   "metadata": {
    "tags": []
   },
   "outputs": [],
   "source": [
    "test_loss = model.evaluate(test_features_lstm, test_targets)\n",
    "print(f'Test Loss: {test_loss}')"
   ]
  },
  {
   "cell_type": "code",
   "execution_count": null,
   "id": "f09b9929-4a16-4ff8-8d3a-80704bf23a2c",
   "metadata": {
    "tags": []
   },
   "outputs": [],
   "source": [
    "import matplotlib.pyplot as plt\n",
    "\n",
    "# Assuming 'model' is your trained LSTM model\n",
    "predictions = model.predict(test_features_lstm)\n",
    "\n",
    "# Plotting\n",
    "plt.figure(figsize=(25, 10))\n",
    "plt.plot(test_targets.index, test_targets['target_next_close_detrended'], label='True Values', marker='o')\n",
    "plt.plot(test_targets.index, predictions[:, 2], label='Predictions', marker='o')  # Assuming 'target_next_close' is the third column\n",
    "plt.title('LSTM Model Predictions vs True Values')\n",
    "plt.xlabel('Date')\n",
    "plt.ylabel('Target Next Close')\n",
    "plt.legend()\n",
    "plt.show()\n"
   ]
  },
  {
   "cell_type": "code",
   "execution_count": null,
   "id": "cab9034d-89bc-4122-b23b-90bd11a620be",
   "metadata": {
    "tags": []
   },
   "outputs": [],
   "source": [
    "history = model.fit(train_features_lstm, train_targets, epochs=epochs, batch_size=batch_size, validation_data=(test_features_lstm, test_targets))\n",
    "\n",
    "# Plot training loss\n",
    "plt.plot(history.history['loss'], label='Training Loss')\n",
    "plt.plot(history.history['val_loss'], label='Validation Loss')\n",
    "plt.title('Training and Validation Loss Over Epochs')\n",
    "plt.xlabel('Epochs')\n",
    "plt.ylabel('Loss')\n",
    "plt.legend()\n",
    "plt.show()"
   ]
  },
  {
   "cell_type": "code",
   "execution_count": null,
   "id": "e505c0eb-453e-4cae-851e-01cdb2737c80",
   "metadata": {
    "tags": []
   },
   "outputs": [],
   "source": [
    "from sklearn.metrics import mean_absolute_error, mean_squared_error\n",
    "\n",
    "predictions = model.predict(test_features_lstm)\n",
    "mae = mean_absolute_error(test_targets['target_next_close_detrended'], predictions[:, 2])  # Assuming 'target_next_close' is the third column\n",
    "mse = mean_squared_error(test_targets['target_next_close_detrended'], predictions[:, 2])\n",
    "rmse = np.sqrt(mse)\n",
    "\n",
    "print(f'MAE: {mae:.2f}')\n",
    "print(f'MSE: {mse:.2f}')\n",
    "print(f'RMSE: {rmse:.2f}')"
   ]
  },
  {
   "cell_type": "code",
   "execution_count": null,
   "id": "0384d6ff-fd6f-4d5f-8233-5deff9b48e64",
   "metadata": {
    "tags": []
   },
   "outputs": [],
   "source": [
    "from sklearn.metrics import accuracy_score\n",
    "\n",
    "# Assuming 'target_class' is the classification target column\n",
    "predictions_class = (predictions[:, 1] > 0.5).astype(int)\n",
    "accuracy = accuracy_score(test_targets['target_class'], predictions_class)\n",
    "\n",
    "print(f'Directional Accuracy: {accuracy:.2%}')"
   ]
  },
  {
   "cell_type": "code",
   "execution_count": null,
   "id": "7ab4c7e4-eeaf-48d0-87e8-2f464f6d26c4",
   "metadata": {},
   "outputs": [],
   "source": []
  }
 ],
 "metadata": {
  "kernelspec": {
   "display_name": "Python 3 (ipykernel)",
   "language": "python",
   "name": "python3"
  },
  "language_info": {
   "codemirror_mode": {
    "name": "ipython",
    "version": 3
   },
   "file_extension": ".py",
   "mimetype": "text/x-python",
   "name": "python",
   "nbconvert_exporter": "python",
   "pygments_lexer": "ipython3",
   "version": "3.11.3"
  }
 },
 "nbformat": 4,
 "nbformat_minor": 5
}
