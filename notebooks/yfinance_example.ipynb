{
 "cells": [
  {
   "cell_type": "markdown",
   "id": "5f183a51-034d-42a0-a358-1a99dbb71700",
   "metadata": {},
   "source": [
    "# yFinance"
   ]
  },
  {
   "cell_type": "code",
   "execution_count": 1,
   "id": "3c3dd33e-e6e6-40d1-9b4f-292c0bea3bad",
   "metadata": {
    "tags": []
   },
   "outputs": [
    {
     "ename": "ModuleNotFoundError",
     "evalue": "No module named 'alpha_vantage'",
     "output_type": "error",
     "traceback": [
      "\u001b[0;31m---------------------------------------------------------------------------\u001b[0m",
      "\u001b[0;31mModuleNotFoundError\u001b[0m                       Traceback (most recent call last)",
      "Cell \u001b[0;32mIn[1], line 5\u001b[0m\n\u001b[1;32m      3\u001b[0m \u001b[38;5;28;01mimport\u001b[39;00m \u001b[38;5;21;01myfinance\u001b[39;00m \u001b[38;5;28;01mas\u001b[39;00m \u001b[38;5;21;01myf\u001b[39;00m\n\u001b[1;32m      4\u001b[0m \u001b[38;5;28;01mimport\u001b[39;00m \u001b[38;5;21;01mpandas\u001b[39;00m \u001b[38;5;28;01mas\u001b[39;00m \u001b[38;5;21;01mpd\u001b[39;00m\n\u001b[0;32m----> 5\u001b[0m \u001b[38;5;28;01mfrom\u001b[39;00m \u001b[38;5;21;01malpha_vantage\u001b[39;00m\u001b[38;5;21;01m.\u001b[39;00m\u001b[38;5;21;01mtimeseries\u001b[39;00m \u001b[38;5;28;01mimport\u001b[39;00m TimeSeries\n\u001b[1;32m      6\u001b[0m \u001b[38;5;66;03m# Load environment variables from the .env file\u001b[39;00m\n\u001b[1;32m      7\u001b[0m load_dotenv(\u001b[38;5;124m'\u001b[39m\u001b[38;5;124m../.env\u001b[39m\u001b[38;5;124m'\u001b[39m);\n",
      "\u001b[0;31mModuleNotFoundError\u001b[0m: No module named 'alpha_vantage'"
     ]
    }
   ],
   "source": [
    "import os\n",
    "from dotenv import load_dotenv\n",
    "import yfinance as yf\n",
    "import pandas as pd\n",
    "load_dotenv('../.env');"
   ]
  },
  {
   "cell_type": "code",
   "execution_count": 2,
   "id": "08e00c9c-f322-4370-9837-5f999ae4e2ef",
   "metadata": {
    "tags": []
   },
   "outputs": [],
   "source": [
    "msft = yf.Ticker(\"AAPL\")"
   ]
  },
  {
   "cell_type": "code",
   "execution_count": 5,
   "id": "cf195f71-3315-4487-ab91-6d817c06e788",
   "metadata": {
    "tags": []
   },
   "outputs": [
    {
     "data": {
      "text/html": [
       "<div>\n",
       "<style scoped>\n",
       "    .dataframe tbody tr th:only-of-type {\n",
       "        vertical-align: middle;\n",
       "    }\n",
       "\n",
       "    .dataframe tbody tr th {\n",
       "        vertical-align: top;\n",
       "    }\n",
       "\n",
       "    .dataframe thead th {\n",
       "        text-align: right;\n",
       "    }\n",
       "</style>\n",
       "<table border=\"1\" class=\"dataframe\">\n",
       "  <thead>\n",
       "    <tr style=\"text-align: right;\">\n",
       "      <th></th>\n",
       "      <th>Open</th>\n",
       "      <th>High</th>\n",
       "      <th>Low</th>\n",
       "      <th>Close</th>\n",
       "      <th>Volume</th>\n",
       "      <th>Dividends</th>\n",
       "      <th>Stock Splits</th>\n",
       "    </tr>\n",
       "    <tr>\n",
       "      <th>Date</th>\n",
       "      <th></th>\n",
       "      <th></th>\n",
       "      <th></th>\n",
       "      <th></th>\n",
       "      <th></th>\n",
       "      <th></th>\n",
       "      <th></th>\n",
       "    </tr>\n",
       "  </thead>\n",
       "  <tbody>\n",
       "    <tr>\n",
       "      <th>2023-11-13 00:00:00-05:00</th>\n",
       "      <td>367.474145</td>\n",
       "      <td>367.723639</td>\n",
       "      <td>365.158837</td>\n",
       "      <td>365.937256</td>\n",
       "      <td>19986500</td>\n",
       "      <td>0.00</td>\n",
       "      <td>0.0</td>\n",
       "    </tr>\n",
       "    <tr>\n",
       "      <th>2023-11-14 00:00:00-05:00</th>\n",
       "      <td>370.258511</td>\n",
       "      <td>371.196609</td>\n",
       "      <td>366.605921</td>\n",
       "      <td>369.519989</td>\n",
       "      <td>27683900</td>\n",
       "      <td>0.00</td>\n",
       "      <td>0.0</td>\n",
       "    </tr>\n",
       "    <tr>\n",
       "      <th>2023-11-15 00:00:00-05:00</th>\n",
       "      <td>371.279999</td>\n",
       "      <td>373.130005</td>\n",
       "      <td>367.109985</td>\n",
       "      <td>369.670013</td>\n",
       "      <td>26860100</td>\n",
       "      <td>0.75</td>\n",
       "      <td>0.0</td>\n",
       "    </tr>\n",
       "    <tr>\n",
       "      <th>2023-11-16 00:00:00-05:00</th>\n",
       "      <td>370.959991</td>\n",
       "      <td>376.350006</td>\n",
       "      <td>370.179993</td>\n",
       "      <td>376.170013</td>\n",
       "      <td>27182300</td>\n",
       "      <td>0.00</td>\n",
       "      <td>0.0</td>\n",
       "    </tr>\n",
       "    <tr>\n",
       "      <th>2023-11-17 00:00:00-05:00</th>\n",
       "      <td>373.609985</td>\n",
       "      <td>374.369995</td>\n",
       "      <td>367.000000</td>\n",
       "      <td>369.850006</td>\n",
       "      <td>40157000</td>\n",
       "      <td>0.00</td>\n",
       "      <td>0.0</td>\n",
       "    </tr>\n",
       "  </tbody>\n",
       "</table>\n",
       "</div>"
      ],
      "text/plain": [
       "                                 Open        High         Low       Close  \\\n",
       "Date                                                                        \n",
       "2023-11-13 00:00:00-05:00  367.474145  367.723639  365.158837  365.937256   \n",
       "2023-11-14 00:00:00-05:00  370.258511  371.196609  366.605921  369.519989   \n",
       "2023-11-15 00:00:00-05:00  371.279999  373.130005  367.109985  369.670013   \n",
       "2023-11-16 00:00:00-05:00  370.959991  376.350006  370.179993  376.170013   \n",
       "2023-11-17 00:00:00-05:00  373.609985  374.369995  367.000000  369.850006   \n",
       "\n",
       "                             Volume  Dividends  Stock Splits  \n",
       "Date                                                          \n",
       "2023-11-13 00:00:00-05:00  19986500       0.00           0.0  \n",
       "2023-11-14 00:00:00-05:00  27683900       0.00           0.0  \n",
       "2023-11-15 00:00:00-05:00  26860100       0.75           0.0  \n",
       "2023-11-16 00:00:00-05:00  27182300       0.00           0.0  \n",
       "2023-11-17 00:00:00-05:00  40157000       0.00           0.0  "
      ]
     },
     "execution_count": 5,
     "metadata": {},
     "output_type": "execute_result"
    }
   ],
   "source": [
    "# get historical market data\n",
    "hist = msft.history()\n",
    "hist.head(5)"
   ]
  },
  {
   "cell_type": "code",
   "execution_count": 6,
   "id": "da99671e-7931-4fbd-a3fa-dc6ac1367868",
   "metadata": {
    "tags": []
   },
   "outputs": [
    {
     "name": "stdout",
     "output_type": "stream",
     "text": [
      "<class 'pandas.core.frame.DataFrame'>\n",
      "DatetimeIndex: 21 entries, 2023-11-13 00:00:00-05:00 to 2023-12-12 00:00:00-05:00\n",
      "Data columns (total 7 columns):\n",
      " #   Column        Non-Null Count  Dtype  \n",
      "---  ------        --------------  -----  \n",
      " 0   Open          21 non-null     float64\n",
      " 1   High          21 non-null     float64\n",
      " 2   Low           21 non-null     float64\n",
      " 3   Close         21 non-null     float64\n",
      " 4   Volume        21 non-null     int64  \n",
      " 5   Dividends     21 non-null     float64\n",
      " 6   Stock Splits  21 non-null     float64\n",
      "dtypes: float64(6), int64(1)\n",
      "memory usage: 1.3 KB\n"
     ]
    }
   ],
   "source": [
    "hist.info()"
   ]
  },
  {
   "cell_type": "code",
   "execution_count": 7,
   "id": "db25ad1c-9666-450f-bdb1-cf6a2bf49196",
   "metadata": {
    "tags": []
   },
   "outputs": [
    {
     "name": "stdout",
     "output_type": "stream",
     "text": [
      "[*********************100%%**********************]  1 of 1 completed\n"
     ]
    }
   ],
   "source": [
    "SP500 = \"^GSPC\"  # S&P 500\n",
    "# index_symbol = \"^IXIC\"  # NASDAQ Composite\n",
    "\n",
    "# Fetch historical data for the market index\n",
    "SPdata = yf.download(SP500, start=\"2010-01-01\", end=\"2023-01-01\")\n"
   ]
  },
  {
   "cell_type": "code",
   "execution_count": 8,
   "id": "65f31ace-ecf3-4830-b280-a6f637bbf56d",
   "metadata": {
    "tags": []
   },
   "outputs": [
    {
     "data": {
      "text/html": [
       "<div>\n",
       "<style scoped>\n",
       "    .dataframe tbody tr th:only-of-type {\n",
       "        vertical-align: middle;\n",
       "    }\n",
       "\n",
       "    .dataframe tbody tr th {\n",
       "        vertical-align: top;\n",
       "    }\n",
       "\n",
       "    .dataframe thead th {\n",
       "        text-align: right;\n",
       "    }\n",
       "</style>\n",
       "<table border=\"1\" class=\"dataframe\">\n",
       "  <thead>\n",
       "    <tr style=\"text-align: right;\">\n",
       "      <th></th>\n",
       "      <th>Open</th>\n",
       "      <th>High</th>\n",
       "      <th>Low</th>\n",
       "      <th>Close</th>\n",
       "      <th>Adj Close</th>\n",
       "      <th>Volume</th>\n",
       "    </tr>\n",
       "    <tr>\n",
       "      <th>Date</th>\n",
       "      <th></th>\n",
       "      <th></th>\n",
       "      <th></th>\n",
       "      <th></th>\n",
       "      <th></th>\n",
       "      <th></th>\n",
       "    </tr>\n",
       "  </thead>\n",
       "  <tbody>\n",
       "    <tr>\n",
       "      <th>2010-01-04</th>\n",
       "      <td>1116.560059</td>\n",
       "      <td>1133.869995</td>\n",
       "      <td>1116.560059</td>\n",
       "      <td>1132.989990</td>\n",
       "      <td>1132.989990</td>\n",
       "      <td>3991400000</td>\n",
       "    </tr>\n",
       "    <tr>\n",
       "      <th>2010-01-05</th>\n",
       "      <td>1132.660034</td>\n",
       "      <td>1136.630005</td>\n",
       "      <td>1129.660034</td>\n",
       "      <td>1136.520020</td>\n",
       "      <td>1136.520020</td>\n",
       "      <td>2491020000</td>\n",
       "    </tr>\n",
       "    <tr>\n",
       "      <th>2010-01-06</th>\n",
       "      <td>1135.709961</td>\n",
       "      <td>1139.189941</td>\n",
       "      <td>1133.949951</td>\n",
       "      <td>1137.140015</td>\n",
       "      <td>1137.140015</td>\n",
       "      <td>4972660000</td>\n",
       "    </tr>\n",
       "    <tr>\n",
       "      <th>2010-01-07</th>\n",
       "      <td>1136.270020</td>\n",
       "      <td>1142.459961</td>\n",
       "      <td>1131.319946</td>\n",
       "      <td>1141.689941</td>\n",
       "      <td>1141.689941</td>\n",
       "      <td>5270680000</td>\n",
       "    </tr>\n",
       "    <tr>\n",
       "      <th>2010-01-08</th>\n",
       "      <td>1140.520020</td>\n",
       "      <td>1145.390015</td>\n",
       "      <td>1136.219971</td>\n",
       "      <td>1144.979980</td>\n",
       "      <td>1144.979980</td>\n",
       "      <td>4389590000</td>\n",
       "    </tr>\n",
       "    <tr>\n",
       "      <th>2010-01-11</th>\n",
       "      <td>1145.959961</td>\n",
       "      <td>1149.739990</td>\n",
       "      <td>1142.020020</td>\n",
       "      <td>1146.979980</td>\n",
       "      <td>1146.979980</td>\n",
       "      <td>4255780000</td>\n",
       "    </tr>\n",
       "    <tr>\n",
       "      <th>2010-01-12</th>\n",
       "      <td>1143.810059</td>\n",
       "      <td>1143.810059</td>\n",
       "      <td>1131.770020</td>\n",
       "      <td>1136.219971</td>\n",
       "      <td>1136.219971</td>\n",
       "      <td>4716160000</td>\n",
       "    </tr>\n",
       "    <tr>\n",
       "      <th>2010-01-13</th>\n",
       "      <td>1137.310059</td>\n",
       "      <td>1148.400024</td>\n",
       "      <td>1133.180054</td>\n",
       "      <td>1145.680054</td>\n",
       "      <td>1145.680054</td>\n",
       "      <td>4170360000</td>\n",
       "    </tr>\n",
       "    <tr>\n",
       "      <th>2010-01-14</th>\n",
       "      <td>1145.680054</td>\n",
       "      <td>1150.410034</td>\n",
       "      <td>1143.800049</td>\n",
       "      <td>1148.459961</td>\n",
       "      <td>1148.459961</td>\n",
       "      <td>3915200000</td>\n",
       "    </tr>\n",
       "    <tr>\n",
       "      <th>2010-01-15</th>\n",
       "      <td>1147.719971</td>\n",
       "      <td>1147.770020</td>\n",
       "      <td>1131.390015</td>\n",
       "      <td>1136.030029</td>\n",
       "      <td>1136.030029</td>\n",
       "      <td>4758730000</td>\n",
       "    </tr>\n",
       "  </tbody>\n",
       "</table>\n",
       "</div>"
      ],
      "text/plain": [
       "                   Open         High          Low        Close    Adj Close  \\\n",
       "Date                                                                          \n",
       "2010-01-04  1116.560059  1133.869995  1116.560059  1132.989990  1132.989990   \n",
       "2010-01-05  1132.660034  1136.630005  1129.660034  1136.520020  1136.520020   \n",
       "2010-01-06  1135.709961  1139.189941  1133.949951  1137.140015  1137.140015   \n",
       "2010-01-07  1136.270020  1142.459961  1131.319946  1141.689941  1141.689941   \n",
       "2010-01-08  1140.520020  1145.390015  1136.219971  1144.979980  1144.979980   \n",
       "2010-01-11  1145.959961  1149.739990  1142.020020  1146.979980  1146.979980   \n",
       "2010-01-12  1143.810059  1143.810059  1131.770020  1136.219971  1136.219971   \n",
       "2010-01-13  1137.310059  1148.400024  1133.180054  1145.680054  1145.680054   \n",
       "2010-01-14  1145.680054  1150.410034  1143.800049  1148.459961  1148.459961   \n",
       "2010-01-15  1147.719971  1147.770020  1131.390015  1136.030029  1136.030029   \n",
       "\n",
       "                Volume  \n",
       "Date                    \n",
       "2010-01-04  3991400000  \n",
       "2010-01-05  2491020000  \n",
       "2010-01-06  4972660000  \n",
       "2010-01-07  5270680000  \n",
       "2010-01-08  4389590000  \n",
       "2010-01-11  4255780000  \n",
       "2010-01-12  4716160000  \n",
       "2010-01-13  4170360000  \n",
       "2010-01-14  3915200000  \n",
       "2010-01-15  4758730000  "
      ]
     },
     "execution_count": 8,
     "metadata": {},
     "output_type": "execute_result"
    }
   ],
   "source": [
    "SPdata.head(10)"
   ]
  },
  {
   "cell_type": "code",
   "execution_count": 9,
   "id": "924e37c4-1d38-4e2a-bee0-58604b8a1326",
   "metadata": {
    "tags": []
   },
   "outputs": [
    {
     "name": "stdout",
     "output_type": "stream",
     "text": [
      "<class 'pandas.core.frame.DataFrame'>\n",
      "DatetimeIndex: 3272 entries, 2010-01-04 to 2022-12-30\n",
      "Data columns (total 6 columns):\n",
      " #   Column     Non-Null Count  Dtype  \n",
      "---  ------     --------------  -----  \n",
      " 0   Open       3272 non-null   float64\n",
      " 1   High       3272 non-null   float64\n",
      " 2   Low        3272 non-null   float64\n",
      " 3   Close      3272 non-null   float64\n",
      " 4   Adj Close  3272 non-null   float64\n",
      " 5   Volume     3272 non-null   int64  \n",
      "dtypes: float64(5), int64(1)\n",
      "memory usage: 178.9 KB\n"
     ]
    }
   ],
   "source": [
    "SPdata.info()"
   ]
  },
  {
   "cell_type": "code",
   "execution_count": 17,
   "id": "35e78a17-de16-4866-b403-3972c2ac79d5",
   "metadata": {
    "tags": []
   },
   "outputs": [
    {
     "name": "stderr",
     "output_type": "stream",
     "text": [
      "/var/folders/mf/27g8bmj10ylbpz1wpw3grsfc0000gn/T/ipykernel_58580/4091712335.py:28: FutureWarning: The behavior of pd.concat with len(keys) != len(objs) is deprecated. In a future version this will raise instead of truncating to the smaller of the two sequences\n",
      "  sp500_data = pd.concat([sp500_data, data['4. close']], axis=1, keys=[ticker])\n",
      "/var/folders/mf/27g8bmj10ylbpz1wpw3grsfc0000gn/T/ipykernel_58580/4091712335.py:28: FutureWarning: The behavior of pd.concat with len(keys) != len(objs) is deprecated. In a future version this will raise instead of truncating to the smaller of the two sequences\n",
      "  sp500_data = pd.concat([sp500_data, data['4. close']], axis=1, keys=[ticker])\n",
      "/var/folders/mf/27g8bmj10ylbpz1wpw3grsfc0000gn/T/ipykernel_58580/4091712335.py:28: FutureWarning: The behavior of pd.concat with len(keys) != len(objs) is deprecated. In a future version this will raise instead of truncating to the smaller of the two sequences\n",
      "  sp500_data = pd.concat([sp500_data, data['4. close']], axis=1, keys=[ticker])\n",
      "/var/folders/mf/27g8bmj10ylbpz1wpw3grsfc0000gn/T/ipykernel_58580/4091712335.py:28: FutureWarning: The behavior of pd.concat with len(keys) != len(objs) is deprecated. In a future version this will raise instead of truncating to the smaller of the two sequences\n",
      "  sp500_data = pd.concat([sp500_data, data['4. close']], axis=1, keys=[ticker])\n"
     ]
    },
    {
     "name": "stdout",
     "output_type": "stream",
     "text": [
      "Failed to fetch data for FB: Invalid API call. Please retry or visit the documentation (https://www.alphavantage.co/documentation/) for TIME_SERIES_DAILY.\n",
      "Empty DataFrame\n",
      "Columns: []\n",
      "Index: []\n"
     ]
    }
   ],
   "source": [
    "import pandas_datareader as pdr\n",
    "from alpha_vantage.timeseries import TimeSeries\n",
    "import pandas as pd\n",
    "\n",
    "# Manually create a list of S&P 500 tickers\n",
    "sp500_tickers = [\n",
    "    'AAPL', 'MSFT', 'GOOGL', 'AMZN', 'FB',  # ... add more tickers\n",
    "]\n",
    "\n",
    "# Replace 'YOUR_ALPHA_VANTAGE_API_KEY' with your actual API key\n",
    "alpha_vantage_api_key = 'P9KR0U54ROOY3WJWY'\n",
    "ts = TimeSeries(key=alpha_vantage_api_key, output_format='pandas')\n",
    "\n",
    "# Specify the time period\n",
    "start_date = '2022-01-01'\n",
    "end_date = '2023-01-01'\n",
    "\n",
    "# Create an empty DataFrame to store the data for all stocks\n",
    "sp500_data = pd.DataFrame()\n",
    "\n",
    "# Fetch historical data for each stock in the S&P 500\n",
    "for ticker in sp500_tickers:\n",
    "    try:\n",
    "        data, meta_data = ts.get_daily(symbol=ticker, outputsize='full')\n",
    "        \n",
    "        # Check if the data is not empty before concatenating\n",
    "        if not data.empty:\n",
    "            sp500_data = pd.concat([sp500_data, data['4. close']], axis=1, keys=[ticker])\n",
    "        else:\n",
    "            print(f\"No data available for {ticker}\")\n",
    "    except Exception as e:\n",
    "        print(f\"Failed to fetch data for {ticker}: {e}\")\n",
    "\n",
    "# Display the data\n",
    "print(sp500_data.head())\n",
    "\n"
   ]
  },
  {
   "cell_type": "code",
   "execution_count": 5,
   "id": "0e29bc5c-8149-4c64-8d2f-ba0a73fb91c3",
   "metadata": {
    "tags": []
   },
   "outputs": [
    {
     "data": {
      "text/html": [
       "<div>\n",
       "<style scoped>\n",
       "    .dataframe tbody tr th:only-of-type {\n",
       "        vertical-align: middle;\n",
       "    }\n",
       "\n",
       "    .dataframe tbody tr th {\n",
       "        vertical-align: top;\n",
       "    }\n",
       "\n",
       "    .dataframe thead th {\n",
       "        text-align: right;\n",
       "    }\n",
       "</style>\n",
       "<table border=\"1\" class=\"dataframe\">\n",
       "  <thead>\n",
       "    <tr style=\"text-align: right;\">\n",
       "      <th></th>\n",
       "    </tr>\n",
       "  </thead>\n",
       "  <tbody>\n",
       "  </tbody>\n",
       "</table>\n",
       "</div>"
      ],
      "text/plain": [
       "Empty DataFrame\n",
       "Columns: []\n",
       "Index: []"
      ]
     },
     "execution_count": 5,
     "metadata": {},
     "output_type": "execute_result"
    }
   ],
   "source": [
    "sp500_data.head()"
   ]
  },
  {
   "cell_type": "code",
   "execution_count": null,
   "id": "928aac0e-9130-4dfa-bf06-152160c14cfc",
   "metadata": {},
   "outputs": [],
   "source": [
    "# show meta information about the history (requires history() to be called first)\n",
    "msft.history_metadata\n",
    "\n",
    "# show actions (dividends, splits, capital gains)\n",
    "msft.actions\n",
    "msft.dividends\n",
    "msft.splits\n",
    "msft.capital_gains  # only for mutual funds & etfs\n",
    "\n",
    "# show share count\n",
    "msft.get_shares_full(start=\"2022-01-01\", end=None)\n",
    "\n",
    "# show financials:\n",
    "# - income statement\n",
    "msft.income_stmt\n",
    "msft.quarterly_income_stmt\n",
    "# - balance sheet\n",
    "msft.balance_sheet\n",
    "msft.quarterly_balance_sheet\n",
    "# - cash flow statement\n",
    "msft.cashflow\n",
    "msft.quarterly_cashflow\n",
    "# see `Ticker.get_income_stmt()` for more options\n",
    "\n",
    "# show holders\n",
    "msft.major_holders\n",
    "msft.institutional_holders\n",
    "msft.mutualfund_holders\n",
    "\n",
    "# Show future and historic earnings dates, returns at most next 4 quarters and last 8 quarters by default. \n",
    "# Note: If more are needed use msft.get_earnings_dates(limit=XX) with increased limit argument.\n",
    "msft.earnings_dates\n",
    "\n",
    "# show ISIN code - *experimental*\n",
    "# ISIN = International Securities Identification Number\n",
    "msft.isin\n",
    "\n",
    "# show options expirations\n",
    "msft.options\n",
    "\n",
    "# show news\n",
    "msft.news\n",
    "\n",
    "# get option chain for specific expiration\n",
    "#opt = msft.option_chain('YYYY-MM-DD')\n",
    "# data available via: opt.calls, opt.puts"
   ]
  }
 ],
 "metadata": {
  "kernelspec": {
   "display_name": "Python 3 (ipykernel)",
   "language": "python",
   "name": "python3"
  },
  "language_info": {
   "codemirror_mode": {
    "name": "ipython",
    "version": 3
   },
   "file_extension": ".py",
   "mimetype": "text/x-python",
   "name": "python",
   "nbconvert_exporter": "python",
   "pygments_lexer": "ipython3",
   "version": "3.11.3"
  }
 },
 "nbformat": 4,
 "nbformat_minor": 5
}
