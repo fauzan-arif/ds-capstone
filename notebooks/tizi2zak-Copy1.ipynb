{
 "cells": [
  {
   "cell_type": "code",
   "execution_count": 1,
   "id": "43db6dbb-4054-4528-8386-3168ddbb42c9",
   "metadata": {
    "tags": []
   },
   "outputs": [
    {
     "name": "stdout",
     "output_type": "stream",
     "text": [
      "WARNING:tensorflow:From C:\\Users\\chris\\Documents\\1_spicy\\000_datadrivendollars\\ds-capstone\\.venv\\Lib\\site-packages\\keras\\src\\losses.py:2976: The name tf.losses.sparse_softmax_cross_entropy is deprecated. Please use tf.compat.v1.losses.sparse_softmax_cross_entropy instead.\n",
      "\n"
     ]
    }
   ],
   "source": [
    "import pandas as pd\n",
    "import numpy as np\n",
    "import matplotlib.pyplot as plt\n",
    "from sklearn.preprocessing import MinMaxScaler\n",
    "from tensorflow.keras.models import load_model\n",
    "from tensorflow.keras.models import Model\n",
    "from tensorflow.keras.layers import Dense, LSTM, Attention, Input"
   ]
  },
  {
   "cell_type": "code",
   "execution_count": 2,
   "id": "e3b7d9d0-def7-4c35-acca-d56fd143a6be",
   "metadata": {
    "tags": []
   },
   "outputs": [
    {
     "data": {
      "text/html": [
       "<div>\n",
       "<style scoped>\n",
       "    .dataframe tbody tr th:only-of-type {\n",
       "        vertical-align: middle;\n",
       "    }\n",
       "\n",
       "    .dataframe tbody tr th {\n",
       "        vertical-align: top;\n",
       "    }\n",
       "\n",
       "    .dataframe thead th {\n",
       "        text-align: right;\n",
       "    }\n",
       "</style>\n",
       "<table border=\"1\" class=\"dataframe\">\n",
       "  <thead>\n",
       "    <tr style=\"text-align: right;\">\n",
       "      <th></th>\n",
       "      <th>Date</th>\n",
       "      <th>Price</th>\n",
       "      <th>Open</th>\n",
       "      <th>High</th>\n",
       "      <th>Low</th>\n",
       "      <th>Vol.</th>\n",
       "      <th>Change %</th>\n",
       "    </tr>\n",
       "  </thead>\n",
       "  <tbody>\n",
       "    <tr>\n",
       "      <th>0</th>\n",
       "      <td>2012-09-24</td>\n",
       "      <td>6.3093</td>\n",
       "      <td>6.3048</td>\n",
       "      <td>6.3099</td>\n",
       "      <td>6.2988</td>\n",
       "      <td>NaN</td>\n",
       "      <td>0.06%</td>\n",
       "    </tr>\n",
       "    <tr>\n",
       "      <th>1</th>\n",
       "      <td>2012-09-25</td>\n",
       "      <td>6.3062</td>\n",
       "      <td>6.3093</td>\n",
       "      <td>6.3115</td>\n",
       "      <td>6.3019</td>\n",
       "      <td>NaN</td>\n",
       "      <td>-0.05%</td>\n",
       "    </tr>\n",
       "    <tr>\n",
       "      <th>2</th>\n",
       "      <td>2012-09-26</td>\n",
       "      <td>6.3020</td>\n",
       "      <td>6.3063</td>\n",
       "      <td>6.3085</td>\n",
       "      <td>6.3010</td>\n",
       "      <td>NaN</td>\n",
       "      <td>-0.07%</td>\n",
       "    </tr>\n",
       "    <tr>\n",
       "      <th>3</th>\n",
       "      <td>2012-09-27</td>\n",
       "      <td>6.3023</td>\n",
       "      <td>6.3019</td>\n",
       "      <td>6.3084</td>\n",
       "      <td>6.3007</td>\n",
       "      <td>NaN</td>\n",
       "      <td>0.00%</td>\n",
       "    </tr>\n",
       "    <tr>\n",
       "      <th>4</th>\n",
       "      <td>2012-09-28</td>\n",
       "      <td>6.2845</td>\n",
       "      <td>6.3025</td>\n",
       "      <td>6.3025</td>\n",
       "      <td>6.2837</td>\n",
       "      <td>NaN</td>\n",
       "      <td>-0.28%</td>\n",
       "    </tr>\n",
       "    <tr>\n",
       "      <th>...</th>\n",
       "      <td>...</td>\n",
       "      <td>...</td>\n",
       "      <td>...</td>\n",
       "      <td>...</td>\n",
       "      <td>...</td>\n",
       "      <td>...</td>\n",
       "      <td>...</td>\n",
       "    </tr>\n",
       "    <tr>\n",
       "      <th>2588</th>\n",
       "      <td>2022-09-19</td>\n",
       "      <td>7.0050</td>\n",
       "      <td>6.9957</td>\n",
       "      <td>7.0206</td>\n",
       "      <td>6.9956</td>\n",
       "      <td>NaN</td>\n",
       "      <td>0.36%</td>\n",
       "    </tr>\n",
       "    <tr>\n",
       "      <th>2589</th>\n",
       "      <td>2022-09-20</td>\n",
       "      <td>7.0176</td>\n",
       "      <td>7.0100</td>\n",
       "      <td>7.0214</td>\n",
       "      <td>7.0044</td>\n",
       "      <td>NaN</td>\n",
       "      <td>0.18%</td>\n",
       "    </tr>\n",
       "    <tr>\n",
       "      <th>2590</th>\n",
       "      <td>2022-09-21</td>\n",
       "      <td>7.0479</td>\n",
       "      <td>7.0183</td>\n",
       "      <td>7.0546</td>\n",
       "      <td>7.0183</td>\n",
       "      <td>NaN</td>\n",
       "      <td>0.43%</td>\n",
       "    </tr>\n",
       "    <tr>\n",
       "      <th>2591</th>\n",
       "      <td>2022-09-22</td>\n",
       "      <td>7.0781</td>\n",
       "      <td>7.0490</td>\n",
       "      <td>7.0956</td>\n",
       "      <td>7.0488</td>\n",
       "      <td>NaN</td>\n",
       "      <td>0.43%</td>\n",
       "    </tr>\n",
       "    <tr>\n",
       "      <th>2592</th>\n",
       "      <td>2022-09-23</td>\n",
       "      <td>7.1284</td>\n",
       "      <td>7.0781</td>\n",
       "      <td>7.1298</td>\n",
       "      <td>7.0780</td>\n",
       "      <td>NaN</td>\n",
       "      <td>0.71%</td>\n",
       "    </tr>\n",
       "  </tbody>\n",
       "</table>\n",
       "<p>2593 rows × 7 columns</p>\n",
       "</div>"
      ],
      "text/plain": [
       "           Date   Price    Open    High     Low Vol. Change %\n",
       "0    2012-09-24  6.3093  6.3048  6.3099  6.2988  NaN    0.06%\n",
       "1    2012-09-25  6.3062  6.3093  6.3115  6.3019  NaN   -0.05%\n",
       "2    2012-09-26  6.3020  6.3063  6.3085  6.3010  NaN   -0.07%\n",
       "3    2012-09-27  6.3023  6.3019  6.3084  6.3007  NaN    0.00%\n",
       "4    2012-09-28  6.2845  6.3025  6.3025  6.2837  NaN   -0.28%\n",
       "...         ...     ...     ...     ...     ...  ...      ...\n",
       "2588 2022-09-19  7.0050  6.9957  7.0206  6.9956  NaN    0.36%\n",
       "2589 2022-09-20  7.0176  7.0100  7.0214  7.0044  NaN    0.18%\n",
       "2590 2022-09-21  7.0479  7.0183  7.0546  7.0183  NaN    0.43%\n",
       "2591 2022-09-22  7.0781  7.0490  7.0956  7.0488  NaN    0.43%\n",
       "2592 2022-09-23  7.1284  7.0781  7.1298  7.0780  NaN    0.71%\n",
       "\n",
       "[2593 rows x 7 columns]"
      ]
     },
     "execution_count": 2,
     "metadata": {},
     "output_type": "execute_result"
    }
   ],
   "source": [
    "# Loading\n",
    "url = 'https://raw.githubusercontent.com/shoukewei/data/main/data-wpt/USD_CNY%20Historical%20Data.csv'\n",
    "df = pd.read_csv(url)\n",
    "\n",
    "# Convergence and reset\n",
    "df['Date'] = pd.to_datetime(df['Date'])\n",
    "df = df.sort_values('Date').reset_index(drop=True)\n",
    "df"
   ]
  },
  {
   "cell_type": "code",
   "execution_count": 3,
   "id": "b0ded43a-cdde-4724-93da-98f5b2ce3d9c",
   "metadata": {
    "tags": []
   },
   "outputs": [],
   "source": [
    "#preposaaass\n",
    "data = df['Price'].values.reshape(-1, 1)\n",
    "\n",
    "# Normalizz\n",
    "scaler = MinMaxScaler(feature_range=(0, 1))\n",
    "scaled_data = scaler.fit_transform(data)"
   ]
  },
  {
   "cell_type": "code",
   "execution_count": 4,
   "id": "6d5bfaff-028d-4672-9a1a-9ac5a5def3d2",
   "metadata": {
    "tags": []
   },
   "outputs": [],
   "source": [
    "#Le splitt\n",
    "train_size = int(0.8 * len(scaled_data))\n",
    "train_data = scaled_data[:train_size]\n",
    "test_data = scaled_data[train_size:]"
   ]
  },
  {
   "cell_type": "code",
   "execution_count": 5,
   "id": "3a512a12-a0df-49a5-bcc3-027284e57f1a",
   "metadata": {
    "tags": []
   },
   "outputs": [
    {
     "name": "stdout",
     "output_type": "stream",
     "text": [
      "WARNING:tensorflow:From C:\\Users\\chris\\Documents\\1_spicy\\000_datadrivendollars\\ds-capstone\\.venv\\Lib\\site-packages\\keras\\src\\backend.py:1398: The name tf.executing_eagerly_outside_functions is deprecated. Please use tf.compat.v1.executing_eagerly_outside_functions instead.\n",
      "\n"
     ]
    }
   ],
   "source": [
    "#le load\n",
    "base = load_model(\"tizi.h5\")"
   ]
  },
  {
   "cell_type": "code",
   "execution_count": 6,
   "id": "ab4fb6bb-d611-4e5c-8c27-89a18bc4b13a",
   "metadata": {
    "tags": []
   },
   "outputs": [
    {
     "name": "stdout",
     "output_type": "stream",
     "text": [
      "Input Length: 5\n",
      "Output Length: 3\n"
     ]
    }
   ],
   "source": [
    "# Print the input and output shapes\n",
    "input_shape = base.input_shape\n",
    "output_shape = base.output_shape\n",
    "\n",
    "input_length = input_shape[1]\n",
    "output_length = output_shape[1]\n",
    "\n",
    "print(\"Input Length:\", input_length)\n",
    "print(\"Output Length:\", output_length)"
   ]
  },
  {
   "cell_type": "code",
   "execution_count": 7,
   "id": "46ec63f0-376a-4e29-9ebc-043109d34c89",
   "metadata": {
    "tags": []
   },
   "outputs": [
    {
     "name": "stdout",
     "output_type": "stream",
     "text": [
      "Model: \"sequential\"\n",
      "_________________________________________________________________\n",
      " Layer (type)                Output Shape              Param #   \n",
      "=================================================================\n",
      " lstm (LSTM)                 (None, 100)               40800     \n",
      "                                                                 \n",
      " repeat_vector (RepeatVecto  (None, 3, 100)            0         \n",
      " r)                                                              \n",
      "                                                                 \n",
      " lstm_1 (LSTM)               (None, 3, 100)            80400     \n",
      "                                                                 \n",
      " time_distributed (TimeDist  (None, 3, 1)              101       \n",
      " ributed)                                                        \n",
      "                                                                 \n",
      "=================================================================\n",
      "Total params: 121301 (473.83 KB)\n",
      "Trainable params: 121301 (473.83 KB)\n",
      "Non-trainable params: 0 (0.00 Byte)\n",
      "_________________________________________________________________\n"
     ]
    }
   ],
   "source": [
    "base.summary()"
   ]
  },
  {
   "cell_type": "code",
   "execution_count": 8,
   "id": "a4e43bd7-5a1f-4fb6-b076-0cb8e6a14d09",
   "metadata": {
    "tags": []
   },
   "outputs": [],
   "source": [
    "# Creaton in'n'out sex\n",
    "input_length = 5\n",
    "output_length = 3\n",
    "\n",
    "def create_sequences(data, input_length, output_length):\n",
    "    X = []\n",
    "    y = []\n",
    "    for i in range(len(data) - input_length - output_length + 1):\n",
    "        X.append(data[i:i + input_length])\n",
    "        y.append(data[i + input_length:i + input_length + output_length])\n",
    "    return np.array(X), np.array(y)\n",
    "\n",
    "train_X, train_y = create_sequences(train_data, input_length, output_length)\n",
    "test_X, test_y = create_sequences(test_data, input_length, output_length)"
   ]
  },
  {
   "cell_type": "code",
   "execution_count": 9,
   "id": "a125f6ba-973d-4450-bba7-33c388ede51f",
   "metadata": {
    "tags": []
   },
   "outputs": [],
   "source": [
    "# Freezer\n",
    "#for layer in base.layers:\n",
    " #   layer.trainable = False\n",
    "#or\n",
    "base.trainable = False"
   ]
  },
  {
   "cell_type": "code",
   "execution_count": 10,
   "id": "89f4f2f6-393e-45b7-912a-ea7d0417043e",
   "metadata": {
    "tags": []
   },
   "outputs": [
    {
     "name": "stdout",
     "output_type": "stream",
     "text": [
      "Model: \"model\"\n",
      "__________________________________________________________________________________________________\n",
      " Layer (type)                Output Shape                 Param #   Connected to                  \n",
      "==================================================================================================\n",
      " input_1 (InputLayer)        [(None, 5, 1)]               0         []                            \n",
      "                                                                                                  \n",
      " sequential (Sequential)     (None, 3, 1)                 121301    ['input_1[0][0]']             \n",
      "                                                                                                  \n",
      " attention (Attention)       (None, 3, 1)                 0         ['sequential[0][0]',          \n",
      "                                                                     'sequential[0][0]']          \n",
      "                                                                                                  \n",
      " dense (Dense)               (None, 3, 128)               256       ['attention[0][0]']           \n",
      "                                                                                                  \n",
      " dense_1 (Dense)             (None, 3, 1)                 129       ['dense[0][0]']               \n",
      "                                                                                                  \n",
      "==================================================================================================\n",
      "Total params: 121686 (475.34 KB)\n",
      "Trainable params: 385 (1.50 KB)\n",
      "Non-trainable params: 121301 (473.83 KB)\n",
      "__________________________________________________________________________________________________\n"
     ]
    }
   ],
   "source": [
    "# Creaton model 2.0 while excluding batch size dimenstion\n",
    "new_model_input = Input(shape=base.input_shape[1:]) \n",
    "output = base(new_model_input)\n",
    "\n",
    "# Add atähnchen layär\n",
    "output = Attention()([output, output])\n",
    "\n",
    "# more onions!!\n",
    "output = Dense(128, activation='relu')(output)\n",
    "output = Dense(1, activation='relu')(output)\n",
    "\n",
    "new_model = Model(inputs=new_model_input, outputs=output)\n",
    "\n",
    "# Disblay new\n",
    "new_model.summary()"
   ]
  },
  {
   "cell_type": "code",
   "execution_count": 11,
   "id": "0b75827f-292a-4ab3-b847-96c6994c43b1",
   "metadata": {
    "tags": []
   },
   "outputs": [
    {
     "name": "stdout",
     "output_type": "stream",
     "text": [
      "WARNING:tensorflow:From C:\\Users\\chris\\Documents\\1_spicy\\000_datadrivendollars\\ds-capstone\\.venv\\Lib\\site-packages\\keras\\src\\optimizers\\__init__.py:309: The name tf.train.Optimizer is deprecated. Please use tf.compat.v1.train.Optimizer instead.\n",
      "\n"
     ]
    }
   ],
   "source": [
    "# cumpile\n",
    "new_model.compile(optimizer='adam', loss='mean_squared_error')"
   ]
  },
  {
   "cell_type": "code",
   "execution_count": 12,
   "id": "f319ee23-9b19-4c72-a8c0-1edaed2d07d6",
   "metadata": {
    "tags": []
   },
   "outputs": [
    {
     "name": "stdout",
     "output_type": "stream",
     "text": [
      "Epoch 1/50\n",
      "WARNING:tensorflow:From C:\\Users\\chris\\Documents\\1_spicy\\000_datadrivendollars\\ds-capstone\\.venv\\Lib\\site-packages\\keras\\src\\utils\\tf_utils.py:492: The name tf.ragged.RaggedTensorValue is deprecated. Please use tf.compat.v1.ragged.RaggedTensorValue instead.\n",
      "\n",
      "65/65 [==============================] - 4s 19ms/step - loss: 0.0568 - val_loss: 0.0055\n",
      "Epoch 2/50\n",
      "65/65 [==============================] - 1s 8ms/step - loss: 0.0074 - val_loss: 0.0018\n",
      "Epoch 3/50\n",
      "65/65 [==============================] - 1s 8ms/step - loss: 0.0019 - val_loss: 7.4697e-04\n",
      "Epoch 4/50\n",
      "65/65 [==============================] - 0s 7ms/step - loss: 5.0114e-04 - val_loss: 5.3978e-04\n",
      "Epoch 5/50\n",
      "65/65 [==============================] - 0s 7ms/step - loss: 3.2675e-04 - val_loss: 5.1257e-04\n",
      "Epoch 6/50\n",
      "65/65 [==============================] - 0s 6ms/step - loss: 3.1551e-04 - val_loss: 5.0266e-04\n",
      "Epoch 7/50\n",
      "65/65 [==============================] - 0s 6ms/step - loss: 3.1466e-04 - val_loss: 4.9411e-04\n",
      "Epoch 8/50\n",
      "65/65 [==============================] - 0s 7ms/step - loss: 3.1276e-04 - val_loss: 4.9952e-04\n",
      "Epoch 9/50\n",
      "65/65 [==============================] - 0s 6ms/step - loss: 3.1328e-04 - val_loss: 5.0074e-04\n",
      "Epoch 10/50\n",
      "65/65 [==============================] - 1s 8ms/step - loss: 3.1194e-04 - val_loss: 4.8798e-04\n",
      "Epoch 11/50\n",
      "65/65 [==============================] - 0s 8ms/step - loss: 3.1153e-04 - val_loss: 4.9303e-04\n",
      "Epoch 12/50\n",
      "65/65 [==============================] - 0s 7ms/step - loss: 3.1120e-04 - val_loss: 4.8241e-04\n",
      "Epoch 13/50\n",
      "65/65 [==============================] - 0s 6ms/step - loss: 3.1070e-04 - val_loss: 4.8451e-04\n",
      "Epoch 14/50\n",
      "65/65 [==============================] - 0s 6ms/step - loss: 3.0947e-04 - val_loss: 4.8790e-04\n",
      "Epoch 15/50\n",
      "65/65 [==============================] - 0s 6ms/step - loss: 3.0934e-04 - val_loss: 4.8757e-04\n",
      "Epoch 16/50\n",
      "65/65 [==============================] - 0s 6ms/step - loss: 3.0925e-04 - val_loss: 4.8075e-04\n",
      "Epoch 17/50\n",
      "65/65 [==============================] - 0s 6ms/step - loss: 3.1096e-04 - val_loss: 4.8738e-04\n",
      "Epoch 18/50\n",
      "65/65 [==============================] - 0s 6ms/step - loss: 3.0694e-04 - val_loss: 4.7741e-04\n",
      "Epoch 19/50\n",
      "65/65 [==============================] - 0s 7ms/step - loss: 3.0794e-04 - val_loss: 4.7726e-04\n",
      "Epoch 20/50\n",
      "65/65 [==============================] - 0s 7ms/step - loss: 3.0868e-04 - val_loss: 4.8055e-04\n",
      "Epoch 21/50\n",
      "65/65 [==============================] - 0s 7ms/step - loss: 3.0595e-04 - val_loss: 4.7361e-04\n",
      "Epoch 22/50\n",
      "65/65 [==============================] - 0s 8ms/step - loss: 3.0575e-04 - val_loss: 4.7918e-04\n",
      "Epoch 23/50\n",
      "65/65 [==============================] - 0s 7ms/step - loss: 3.0673e-04 - val_loss: 4.7616e-04\n",
      "Epoch 24/50\n",
      "65/65 [==============================] - 0s 7ms/step - loss: 3.0389e-04 - val_loss: 4.7594e-04\n",
      "Epoch 25/50\n",
      "65/65 [==============================] - 0s 7ms/step - loss: 3.0595e-04 - val_loss: 4.7856e-04\n",
      "Epoch 26/50\n",
      "65/65 [==============================] - 0s 7ms/step - loss: 3.0963e-04 - val_loss: 4.7612e-04\n",
      "Epoch 27/50\n",
      "65/65 [==============================] - 0s 6ms/step - loss: 3.0495e-04 - val_loss: 4.7225e-04\n",
      "Epoch 28/50\n",
      "65/65 [==============================] - 0s 6ms/step - loss: 3.0776e-04 - val_loss: 4.7486e-04\n",
      "Epoch 29/50\n",
      "65/65 [==============================] - 0s 6ms/step - loss: 3.0579e-04 - val_loss: 4.7059e-04\n",
      "Epoch 30/50\n",
      "65/65 [==============================] - 0s 6ms/step - loss: 3.0652e-04 - val_loss: 4.6984e-04\n",
      "Epoch 31/50\n",
      "65/65 [==============================] - 0s 6ms/step - loss: 3.0468e-04 - val_loss: 4.7110e-04\n",
      "Epoch 32/50\n",
      "65/65 [==============================] - 0s 7ms/step - loss: 3.0638e-04 - val_loss: 4.7378e-04\n",
      "Epoch 33/50\n",
      "65/65 [==============================] - 0s 6ms/step - loss: 3.0411e-04 - val_loss: 4.7744e-04\n",
      "Epoch 34/50\n",
      "65/65 [==============================] - 0s 6ms/step - loss: 3.1097e-04 - val_loss: 4.9763e-04\n",
      "Epoch 35/50\n",
      "65/65 [==============================] - 0s 6ms/step - loss: 3.1223e-04 - val_loss: 4.6993e-04\n",
      "Epoch 36/50\n",
      "65/65 [==============================] - 0s 6ms/step - loss: 3.1415e-04 - val_loss: 4.6891e-04\n",
      "Epoch 37/50\n",
      "65/65 [==============================] - 0s 7ms/step - loss: 3.0802e-04 - val_loss: 4.7018e-04\n",
      "Epoch 38/50\n",
      "65/65 [==============================] - 0s 7ms/step - loss: 3.0824e-04 - val_loss: 4.7153e-04\n",
      "Epoch 39/50\n",
      "65/65 [==============================] - 0s 7ms/step - loss: 3.0714e-04 - val_loss: 4.6812e-04\n",
      "Epoch 40/50\n",
      "65/65 [==============================] - 0s 6ms/step - loss: 3.0480e-04 - val_loss: 4.6964e-04\n",
      "Epoch 41/50\n",
      "65/65 [==============================] - 0s 6ms/step - loss: 3.0713e-04 - val_loss: 4.7184e-04\n",
      "Epoch 42/50\n",
      "65/65 [==============================] - 0s 7ms/step - loss: 3.0877e-04 - val_loss: 4.6818e-04\n",
      "Epoch 43/50\n",
      "65/65 [==============================] - 0s 8ms/step - loss: 3.0702e-04 - val_loss: 4.7086e-04\n",
      "Epoch 44/50\n",
      "65/65 [==============================] - 0s 7ms/step - loss: 3.1222e-04 - val_loss: 4.7211e-04\n",
      "Epoch 45/50\n",
      "65/65 [==============================] - 0s 7ms/step - loss: 3.1415e-04 - val_loss: 4.6714e-04\n",
      "Epoch 46/50\n",
      "65/65 [==============================] - 0s 7ms/step - loss: 3.0757e-04 - val_loss: 4.6817e-04\n",
      "Epoch 47/50\n",
      "65/65 [==============================] - 0s 7ms/step - loss: 3.0823e-04 - val_loss: 4.7144e-04\n",
      "Epoch 48/50\n",
      "65/65 [==============================] - 0s 7ms/step - loss: 3.0902e-04 - val_loss: 4.7584e-04\n",
      "Epoch 49/50\n",
      "65/65 [==============================] - 0s 7ms/step - loss: 3.0958e-04 - val_loss: 5.0216e-04\n",
      "Epoch 50/50\n",
      "65/65 [==============================] - 0s 7ms/step - loss: 3.0909e-04 - val_loss: 4.6817e-04\n"
     ]
    }
   ],
   "source": [
    "#train like Goku\n",
    "initial_epochs = 50\n",
    "history = new_model.fit(train_X, train_y, epochs=initial_epochs, batch_size=32, validation_data=(test_X, test_y))"
   ]
  },
  {
   "cell_type": "code",
   "execution_count": 13,
   "id": "4d23ed05-9de4-47b8-bbe6-96cc7163b04c",
   "metadata": {
    "tags": []
   },
   "outputs": [
    {
     "name": "stdout",
     "output_type": "stream",
     "text": [
      "16/16 [==============================] - 0s 5ms/step - loss: 4.6817e-04\n",
      "initial loss:: 0.0004681689606513828\n"
     ]
    }
   ],
   "source": [
    "# Eval b4 test\n",
    "loss0 = new_model.evaluate(test_X, test_y)\n",
    "print(\"initial loss::\", loss0)"
   ]
  },
  {
   "cell_type": "code",
   "execution_count": 14,
   "id": "43a42117-e498-4297-94d5-bbc6d9c1e973",
   "metadata": {
    "tags": []
   },
   "outputs": [
    {
     "data": {
      "image/png": "[encoded data removed]",
      "text/plain": [
       "<Figure size 640x480 with 1 Axes>"
      ]
     },
     "metadata": {},
     "output_type": "display_data"
    }
   ],
   "source": [
    "loss = history.history['loss']\n",
    "val_loss = history.history['val_loss']\n",
    "\n",
    "plt.plot(loss, label='Training Loss')\n",
    "plt.plot(val_loss, label='Validation Loss')\n",
    "plt.legend(loc='upper right')\n",
    "plt.ylabel('Mean Squared Error')\n",
    "#plt.ylim([0,1.0])\n",
    "plt.title('Training and Validation Loss')\n",
    "plt.xlabel('epoch')\n",
    "plt.show()"
   ]
  },
  {
   "cell_type": "code",
   "execution_count": 15,
   "id": "6e6e3021-f6df-4908-9e59-4370b79b6874",
   "metadata": {
    "tags": []
   },
   "outputs": [],
   "source": [
    "base.trainable = True"
   ]
  },
  {
   "cell_type": "code",
   "execution_count": 16,
   "id": "373290ce-7d5a-43c6-ae4e-fa7eda131956",
   "metadata": {
    "tags": []
   },
   "outputs": [
    {
     "name": "stdout",
     "output_type": "stream",
     "text": [
      "Number of layers in the base model:  4\n"
     ]
    }
   ],
   "source": [
    "print(\"Number of layers in the base model: \", len(base.layers))"
   ]
  },
  {
   "cell_type": "code",
   "execution_count": 17,
   "id": "c7f1d17d-4d28-4790-ba0c-44b70f4885fd",
   "metadata": {
    "tags": []
   },
   "outputs": [],
   "source": [
    "#fine tuning\n",
    "fine_tune_at = 2\n",
    "\n",
    "#freeze onion for fine dine tune\n",
    "for layer in base.layers[:fine_tune_at]:\n",
    "    layer.trainable = False\n"
   ]
  },
  {
   "cell_type": "code",
   "execution_count": 18,
   "id": "2c13b841-8a4a-4431-916e-12eaef5ba3c3",
   "metadata": {
    "tags": []
   },
   "outputs": [],
   "source": [
    "#microwave last onions for fine dine\n",
    "unfreeze_layers = 3\n",
    "for layer in base.layers[-unfreeze_layers:]:\n",
    "    layer.trainable = True"
   ]
  },
  {
   "cell_type": "code",
   "execution_count": 19,
   "id": "e2d02f12-222a-4dde-8297-c38824ff4b5b",
   "metadata": {
    "tags": []
   },
   "outputs": [
    {
     "name": "stdout",
     "output_type": "stream",
     "text": [
      "Model: \"model\"\n",
      "__________________________________________________________________________________________________\n",
      " Layer (type)                Output Shape                 Param #   Connected to                  \n",
      "==================================================================================================\n",
      " input_1 (InputLayer)        [(None, 5, 1)]               0         []                            \n",
      "                                                                                                  \n",
      " sequential (Sequential)     (None, 3, 1)                 121301    ['input_1[0][0]']             \n",
      "                                                                                                  \n",
      " attention (Attention)       (None, 3, 1)                 0         ['sequential[0][0]',          \n",
      "                                                                     'sequential[0][0]']          \n",
      "                                                                                                  \n",
      " dense (Dense)               (None, 3, 128)               256       ['attention[0][0]']           \n",
      "                                                                                                  \n",
      " dense_1 (Dense)             (None, 3, 1)                 129       ['dense[0][0]']               \n",
      "                                                                                                  \n",
      "==================================================================================================\n",
      "Total params: 121686 (475.34 KB)\n",
      "Trainable params: 80886 (315.96 KB)\n",
      "Non-trainable params: 40800 (159.38 KB)\n",
      "__________________________________________________________________________________________________\n"
     ]
    }
   ],
   "source": [
    "#compile'n'display\n",
    "\n",
    "new_model.compile(optimizer ='adam', loss = 'mean_squared_error')\n",
    "new_model.summary()"
   ]
  },
  {
   "cell_type": "code",
   "execution_count": 20,
   "id": "7848350b-cff1-45f5-a7df-eedeab6f51db",
   "metadata": {
    "tags": []
   },
   "outputs": [
    {
     "data": {
      "text/plain": [
       "9"
      ]
     },
     "execution_count": 20,
     "metadata": {},
     "output_type": "execute_result"
    }
   ],
   "source": [
    "len(new_model.trainable_variables)"
   ]
  },
  {
   "cell_type": "code",
   "execution_count": 21,
   "id": "a16c4a87-e7a0-46a6-8836-4b62604f0526",
   "metadata": {
    "tags": []
   },
   "outputs": [
    {
     "name": "stdout",
     "output_type": "stream",
     "text": [
      "Epoch 50/100\n",
      "65/65 [==============================] - 5s 19ms/step - loss: 4.0940e-04 - val_loss: 4.6805e-04\n",
      "Epoch 51/100\n",
      "65/65 [==============================] - 1s 11ms/step - loss: 3.2311e-04 - val_loss: 4.6957e-04\n",
      "Epoch 52/100\n",
      "65/65 [==============================] - 1s 10ms/step - loss: 3.1693e-04 - val_loss: 4.6612e-04\n",
      "Epoch 53/100\n",
      "65/65 [==============================] - 1s 10ms/step - loss: 3.2160e-04 - val_loss: 4.7040e-04\n",
      "Epoch 54/100\n",
      "65/65 [==============================] - 1s 10ms/step - loss: 3.3253e-04 - val_loss: 4.6852e-04\n",
      "Epoch 55/100\n",
      "65/65 [==============================] - 1s 11ms/step - loss: 3.1298e-04 - val_loss: 5.1357e-04\n",
      "Epoch 56/100\n",
      "65/65 [==============================] - 1s 12ms/step - loss: 3.3619e-04 - val_loss: 6.4941e-04\n",
      "Epoch 57/100\n",
      "65/65 [==============================] - 1s 11ms/step - loss: 3.2541e-04 - val_loss: 4.6414e-04\n",
      "Epoch 58/100\n",
      "65/65 [==============================] - 1s 10ms/step - loss: 3.4750e-04 - val_loss: 4.6331e-04\n",
      "Epoch 59/100\n",
      "65/65 [==============================] - 1s 11ms/step - loss: 3.2184e-04 - val_loss: 4.6853e-04\n",
      "Epoch 60/100\n",
      "65/65 [==============================] - 1s 10ms/step - loss: 3.5349e-04 - val_loss: 4.6485e-04\n",
      "Epoch 61/100\n",
      "65/65 [==============================] - 1s 9ms/step - loss: 3.1527e-04 - val_loss: 4.8505e-04\n",
      "Epoch 62/100\n",
      "65/65 [==============================] - 1s 8ms/step - loss: 3.7682e-04 - val_loss: 4.7686e-04\n",
      "Epoch 63/100\n",
      "65/65 [==============================] - 0s 8ms/step - loss: 3.2283e-04 - val_loss: 4.7701e-04\n",
      "Epoch 64/100\n",
      "65/65 [==============================] - 1s 9ms/step - loss: 3.1665e-04 - val_loss: 5.3450e-04\n",
      "Epoch 65/100\n",
      "65/65 [==============================] - 1s 9ms/step - loss: 3.2613e-04 - val_loss: 4.6995e-04\n",
      "Epoch 66/100\n",
      "65/65 [==============================] - 1s 9ms/step - loss: 3.3841e-04 - val_loss: 4.8242e-04\n",
      "Epoch 67/100\n",
      "65/65 [==============================] - 1s 8ms/step - loss: 3.5311e-04 - val_loss: 4.6875e-04\n",
      "Epoch 68/100\n",
      "65/65 [==============================] - 1s 10ms/step - loss: 3.8610e-04 - val_loss: 5.4541e-04\n",
      "Epoch 69/100\n",
      "65/65 [==============================] - 1s 10ms/step - loss: 3.2576e-04 - val_loss: 5.4963e-04\n",
      "Epoch 70/100\n",
      "65/65 [==============================] - 1s 10ms/step - loss: 3.1111e-04 - val_loss: 4.6365e-04\n",
      "Epoch 71/100\n",
      "65/65 [==============================] - 1s 10ms/step - loss: 3.3560e-04 - val_loss: 5.4632e-04\n",
      "Epoch 72/100\n",
      "65/65 [==============================] - 1s 11ms/step - loss: 3.4770e-04 - val_loss: 0.0011\n",
      "Epoch 73/100\n",
      "65/65 [==============================] - 1s 10ms/step - loss: 3.7212e-04 - val_loss: 4.7070e-04\n",
      "Epoch 74/100\n",
      "65/65 [==============================] - 1s 10ms/step - loss: 3.3592e-04 - val_loss: 4.7172e-04\n",
      "Epoch 75/100\n",
      "65/65 [==============================] - 1s 10ms/step - loss: 3.2336e-04 - val_loss: 4.8879e-04\n",
      "Epoch 76/100\n",
      "65/65 [==============================] - 1s 10ms/step - loss: 3.2753e-04 - val_loss: 5.0940e-04\n",
      "Epoch 77/100\n",
      "65/65 [==============================] - 1s 11ms/step - loss: 3.1558e-04 - val_loss: 5.8510e-04\n",
      "Epoch 78/100\n",
      "65/65 [==============================] - 1s 11ms/step - loss: 3.2389e-04 - val_loss: 4.6249e-04\n",
      "Epoch 79/100\n",
      "65/65 [==============================] - 1s 11ms/step - loss: 3.0523e-04 - val_loss: 4.8140e-04\n",
      "Epoch 80/100\n",
      "65/65 [==============================] - 1s 10ms/step - loss: 3.0937e-04 - val_loss: 4.9305e-04\n",
      "Epoch 81/100\n",
      "65/65 [==============================] - 1s 10ms/step - loss: 3.0568e-04 - val_loss: 4.9640e-04\n",
      "Epoch 82/100\n",
      "65/65 [==============================] - 1s 12ms/step - loss: 3.1951e-04 - val_loss: 5.7521e-04\n",
      "Epoch 83/100\n",
      "65/65 [==============================] - 1s 13ms/step - loss: 3.2726e-04 - val_loss: 4.9671e-04\n",
      "Epoch 84/100\n",
      "65/65 [==============================] - 1s 13ms/step - loss: 3.2364e-04 - val_loss: 4.6175e-04\n",
      "Epoch 85/100\n",
      "65/65 [==============================] - 1s 12ms/step - loss: 3.2923e-04 - val_loss: 6.7637e-04\n",
      "Epoch 86/100\n",
      "65/65 [==============================] - 1s 13ms/step - loss: 3.5349e-04 - val_loss: 4.7694e-04\n",
      "Epoch 87/100\n",
      "65/65 [==============================] - 1s 13ms/step - loss: 3.0396e-04 - val_loss: 5.7653e-04\n",
      "Epoch 88/100\n",
      "65/65 [==============================] - 1s 13ms/step - loss: 3.2652e-04 - val_loss: 5.2462e-04\n",
      "Epoch 89/100\n",
      "65/65 [==============================] - 1s 13ms/step - loss: 3.3768e-04 - val_loss: 4.7674e-04\n",
      "Epoch 90/100\n",
      "65/65 [==============================] - 1s 13ms/step - loss: 3.2275e-04 - val_loss: 4.6461e-04\n",
      "Epoch 91/100\n",
      "65/65 [==============================] - 1s 13ms/step - loss: 3.1485e-04 - val_loss: 4.6629e-04\n",
      "Epoch 92/100\n",
      "65/65 [==============================] - 1s 13ms/step - loss: 3.3426e-04 - val_loss: 5.1362e-04\n",
      "Epoch 93/100\n",
      "65/65 [==============================] - 1s 12ms/step - loss: 3.2087e-04 - val_loss: 4.7163e-04\n",
      "Epoch 94/100\n",
      "65/65 [==============================] - 1s 11ms/step - loss: 3.0296e-04 - val_loss: 4.8555e-04\n",
      "Epoch 95/100\n",
      "65/65 [==============================] - 1s 12ms/step - loss: 3.2430e-04 - val_loss: 4.9589e-04\n",
      "Epoch 96/100\n",
      "65/65 [==============================] - 1s 11ms/step - loss: 3.0894e-04 - val_loss: 4.8617e-04\n",
      "Epoch 97/100\n",
      "65/65 [==============================] - 1s 11ms/step - loss: 3.1127e-04 - val_loss: 4.6446e-04\n",
      "Epoch 98/100\n",
      "65/65 [==============================] - 1s 11ms/step - loss: 3.1304e-04 - val_loss: 4.6756e-04\n",
      "Epoch 99/100\n",
      "65/65 [==============================] - 1s 11ms/step - loss: 3.1799e-04 - val_loss: 4.6386e-04\n",
      "Epoch 100/100\n",
      "65/65 [==============================] - 1s 11ms/step - loss: 3.1176e-04 - val_loss: 4.6103e-04\n"
     ]
    }
   ],
   "source": [
    "#train like fine Goku\n",
    "fine_tune_ep = 50\n",
    "total_eps = initial_epochs + fine_tune_ep\n",
    "\n",
    "history_ft = new_model.fit(train_X, train_y, epochs=total_eps, initial_epoch=history.epoch[-1], batch_size=32, validation_data=(test_X, test_y))"
   ]
  },
  {
   "cell_type": "code",
   "execution_count": 22,
   "id": "e478d332-de28-43ca-b8ad-d2b3cfbe5da4",
   "metadata": {
    "tags": []
   },
   "outputs": [
    {
     "data": {
      "image/png": "[encoded data removed]",
      "text/plain": [
       "<Figure size 800x800 with 1 Axes>"
      ]
     },
     "metadata": {},
     "output_type": "display_data"
    }
   ],
   "source": [
    "# visualize the loss curve of the training and validation\n",
    "loss += history_ft.history['loss']\n",
    "val_loss += history_ft.history['val_loss']\n",
    "\n",
    "plt.figure(figsize=(8, 8))\n",
    "plt.plot(loss, label='Training Loss')\n",
    "plt.plot(val_loss, label='Validation Loss')\n",
    "# plt.ylim([0, 1.0])\n",
    "plt.plot([initial_epochs-1,initial_epochs-1],\n",
    "         plt.ylim(), label='Start Fine Tuning')\n",
    "plt.legend(loc='upper right')\n",
    "plt.title('Training and Validation Loss')\n",
    "plt.xlabel('epoch')\n",
    "plt.show()"
   ]
  },
  {
   "cell_type": "code",
   "execution_count": 23,
   "id": "a087033c-6524-451d-9743-5958613eaf8f",
   "metadata": {
    "tags": []
   },
   "outputs": [
    {
     "name": "stdout",
     "output_type": "stream",
     "text": [
      "16/16 [==============================] - 0s 6ms/step - loss: 4.6103e-04\n",
      "loss:: 0.0004610302275978029\n"
     ]
    }
   ],
   "source": [
    "loss = new_model.evaluate(test_X, test_y)\n",
    "print(\"loss::\", loss)"
   ]
  },
  {
   "cell_type": "code",
   "execution_count": 24,
   "id": "17c59e90-4fb3-4a20-afd1-d916a54cfbf9",
   "metadata": {
    "tags": []
   },
   "outputs": [
    {
     "name": "stdout",
     "output_type": "stream",
     "text": [
      "16/16 [==============================] - 1s 6ms/step\n"
     ]
    },
    {
     "data": {
      "image/png": "[encoded data removed]",
      "text/plain": [
       "<Figure size 1000x600 with 1 Axes>"
      ]
     },
     "metadata": {},
     "output_type": "display_data"
    }
   ],
   "source": [
    "# Get predictions for the test set\n",
    "predictions = new_model.predict(test_X)\n",
    "\n",
    "# Reshape the predictions array\n",
    "predictions = predictions.reshape(-1, output_length)\n",
    "\n",
    "# Rescale the predictions and actual values\n",
    "predictions = scaler.inverse_transform(predictions)\n",
    "actual_values = scaler.inverse_transform(test_y.reshape(-1, output_length))\n",
    "\n",
    "# Flatten the arrays for plotting\n",
    "predictions = predictions.flatten()\n",
    "actual_values = actual_values.flatten()\n",
    "\n",
    "# Plot the predictions and actual values\n",
    "plt.figure(figsize=(10, 6))\n",
    "plt.plot(predictions, label='Predictions')\n",
    "plt.plot(actual_values, label='Actual Values')\n",
    "plt.xlabel('Time')\n",
    "plt.ylabel('USD-CNY Price')\n",
    "plt.title('Predictions vs Actual Values')\n",
    "plt.legend()\n",
    "plt.show()"
   ]
  },
  {
   "cell_type": "code",
   "execution_count": null,
   "id": "19e3ff4e-9434-4806-b093-6ec080900d91",
   "metadata": {},
   "outputs": [],
   "source": []
  }
 ],
 "metadata": {
  "kernelspec": {
   "display_name": "Python 3 (ipykernel)",
   "language": "python",
   "name": "python3"
  },
  "language_info": {
   "codemirror_mode": {
    "name": "ipython",
    "version": 3
   },
   "file_extension": ".py",
   "mimetype": "text/x-python",
   "name": "python",
   "nbconvert_exporter": "python",
   "pygments_lexer": "ipython3",
   "version": "3.11.3"
  }
 },
 "nbformat": 4,
 "nbformat_minor": 5
}
