{
 "cells": [
  {
   "cell_type": "code",
   "execution_count": 1,
   "id": "6f29b129-aff7-4b7e-95ac-39f6deaceee8",
   "metadata": {
    "tags": []
   },
   "outputs": [],
   "source": [
    "from __future__ import division\n",
    "import pandas as pd\n",
    "import numpy as np\n",
    "import datetime\n",
    "import time\n",
    "import matplotlib.pyplot as plt\n",
    "from sklearn.model_selection import train_test_split\n",
    "\n",
    "import keras\n",
    "from keras.models import Sequential\n",
    "from keras.layers import Dense,Dropout,BatchNormalization,Conv1D,Flatten,MaxPooling1D,LSTM\n",
    "from keras.callbacks import EarlyStopping,ModelCheckpoint,TensorBoard\n",
    "from scikeras.wrappers import KerasClassifier, KerasRegressor\n",
    "from keras.models import load_model\n",
    "from sklearn.preprocessing import MinMaxScaler\n",
    "import pandas as pd \n",
    "import numpy as np\n",
    "import yfinance as yf\n",
    "from ta import add_all_ta_features\n",
    "from sklearn.linear_model import LinearRegression\n"
   ]
  },
  {
   "cell_type": "code",
   "execution_count": 2,
   "id": "7a7bce49-0764-47a2-8acd-bed72b83b536",
   "metadata": {
    "tags": []
   },
   "outputs": [],
   "source": [
    "def load_and_prepare(ticker, start_date, end_date):\n",
    "    # Fetch historical stock data\n",
    "    df = yf.download(ticker, start=start_date , end=end_date)\n",
    "\n",
    "    # Calculate daily returns\n",
    "    df['returns'] = df['Adj Close'].pct_change()\n",
    "\n",
    "    # Fetch market data (e.g., S&P 500)\n",
    "    market_data = yf.download('^GSPC', start=df.index.min(), end=df.index.max())\n",
    "    market_data['market_returns'] = market_data['Adj Close'].pct_change()\n",
    "\n",
    "    # Combine stock and market data\n",
    "    merged_data = pd.merge(df, market_data[['market_returns']], left_index=True, right_index=True, how='inner')\n",
    "\n",
    "    # Drop rows with missing values\n",
    "    merged_data.dropna(inplace=True)\n",
    "\n",
    "    # Initialize lists to store alpha and beta values\n",
    "    alpha_values = []\n",
    "    beta_values = []\n",
    "\n",
    "    # Set up X and y for linear regression\n",
    "    X = merged_data['market_returns'].values.reshape(-1, 1)\n",
    "    y = merged_data['returns'].values\n",
    "\n",
    "    # Iterate through the data to calculate alpha and beta for each day\n",
    "    for i in range(len(merged_data)):\n",
    "        X_i = X[:i + 1]\n",
    "        y_i = y[:i + 1]\n",
    "\n",
    "        # Fit linear regression model\n",
    "        model = LinearRegression()\n",
    "        model.fit(X_i, y_i)\n",
    "\n",
    "        # Extract alpha and beta for the current day\n",
    "        alpha_i = model.intercept_\n",
    "        beta_i = model.coef_[0]\n",
    "\n",
    "        alpha_values.append(alpha_i)\n",
    "        beta_values.append(beta_i)\n",
    "\n",
    "    # Add alpha and beta columns to the DataFrame\n",
    "    merged_data['alpha'] = alpha_values\n",
    "    merged_data['beta'] = beta_values\n",
    "\n",
    "    # Drop columns not needed for the final result\n",
    "    merged_data.drop(['returns', 'market_returns'], axis=1, inplace=True)\n",
    "\n",
    "    # Add technical analysis features\n",
    "    merged_data = add_all_ta_features(merged_data, open=\"Open\", high=\"High\", low=\"Low\", close=\"Close\", volume=\"Volume\", fillna=True)\n",
    "\n",
    "    # Calculate target and target class\n",
    "    merged_data['target'] = ((merged_data['Close'] - merged_data['Open']) / merged_data['Open']) * 100\n",
    "    merged_data['target'] = merged_data['target'].shift(-1)\n",
    " \n",
    "    merged_data['target_class'] = np.where(merged_data['target'] < 0, 0, 1)\n",
    "    \n",
    "    merged_data['target_next_close'] = merged_data['Close'].shift(-1)\n",
    "\n",
    "    # Drop rows with missing values\n",
    "    merged_data.dropna(inplace=True)\n",
    "\n",
    "    return merged_data\n",
    "\n",
    "\n"
   ]
  },
  {
   "cell_type": "code",
   "execution_count": 3,
   "id": "19636dd4-9659-4b11-9fdb-7e9f43e4ab93",
   "metadata": {
    "tags": []
   },
   "outputs": [
    {
     "name": "stdout",
     "output_type": "stream",
     "text": [
      "[*********************100%%**********************]  1 of 1 completed\n",
      "[*********************100%%**********************]  1 of 1 completed\n"
     ]
    },
    {
     "name": "stderr",
     "output_type": "stream",
     "text": [
      "/Users/fauzanarif/Bootcamp/ds-capstone/.venv/lib/python3.11/site-packages/ta/trend.py:768: RuntimeWarning: invalid value encountered in double_scalars\n",
      "  dip[i] = 100 * (self._dip[i] / self._trs[i])\n",
      "/Users/fauzanarif/Bootcamp/ds-capstone/.venv/lib/python3.11/site-packages/ta/trend.py:772: RuntimeWarning: invalid value encountered in double_scalars\n",
      "  din[i] = 100 * (self._din[i] / self._trs[i])\n"
     ]
    }
   ],
   "source": [
    "from sklearn.model_selection import cross_val_score, StratifiedKFold\n",
    "from xgboost import XGBClassifier\n",
    "from sklearn.metrics import classification_report\n",
    "\n",
    "# Load and prepare data\n",
    "df = load_and_prepare(ticker='AAPL', start_date='2020-01-01', end_date='2024-01-01')\n"
   ]
  },
  {
   "cell_type": "code",
   "execution_count": 4,
   "id": "b9cfbb5e-ec13-4f34-93e8-40b48a5b692c",
   "metadata": {
    "tags": []
   },
   "outputs": [
    {
     "data": {
      "text/plain": [
       "Index(['Open', 'High', 'Low', 'Close', 'Adj Close', 'Volume', 'alpha', 'beta',\n",
       "       'volume_adi', 'volume_obv', 'volume_cmf', 'volume_fi', 'volume_mfi',\n",
       "       'volume_em', 'volume_sma_em', 'volume_vpt', 'volume_nvi', 'volume_vwap',\n",
       "       'volatility_atr', 'volatility_bbm', 'volatility_bbh', 'volatility_bbl',\n",
       "       'volatility_bbw', 'volatility_bbp', 'volatility_bbhi',\n",
       "       'volatility_bbli', 'volatility_kcc', 'volatility_kch', 'volatility_kcl',\n",
       "       'volatility_kcw', 'volatility_kcp', 'volatility_kchi',\n",
       "       'volatility_kcli', 'volatility_dcl', 'volatility_dch', 'volatility_dcm',\n",
       "       'volatility_dcw', 'volatility_dcp', 'volatility_ui', 'trend_macd',\n",
       "       'trend_macd_signal', 'trend_macd_diff', 'trend_sma_fast',\n",
       "       'trend_sma_slow', 'trend_ema_fast', 'trend_ema_slow', 'trend_adx',\n",
       "       'trend_adx_pos', 'trend_adx_neg', 'trend_vortex_ind_pos',\n",
       "       'trend_vortex_ind_neg', 'trend_vortex_ind_diff', 'trend_trix',\n",
       "       'trend_mass_index', 'trend_cci', 'trend_dpo', 'trend_kst',\n",
       "       'trend_kst_sig', 'trend_kst_diff', 'trend_ichimoku_conv',\n",
       "       'trend_ichimoku_base', 'trend_ichimoku_a', 'trend_ichimoku_b',\n",
       "       'trend_visual_ichimoku_a', 'trend_visual_ichimoku_b', 'trend_aroon_up',\n",
       "       'trend_aroon_down', 'trend_aroon_ind', 'trend_psar_up',\n",
       "       'trend_psar_down', 'trend_psar_up_indicator',\n",
       "       'trend_psar_down_indicator', 'trend_stc', 'momentum_rsi',\n",
       "       'momentum_stoch_rsi', 'momentum_stoch_rsi_k', 'momentum_stoch_rsi_d',\n",
       "       'momentum_tsi', 'momentum_uo', 'momentum_stoch',\n",
       "       'momentum_stoch_signal', 'momentum_wr', 'momentum_ao', 'momentum_kama',\n",
       "       'momentum_roc', 'momentum_ppo', 'momentum_ppo_signal',\n",
       "       'momentum_ppo_hist', 'others_dr', 'others_dlr', 'others_cr', 'target',\n",
       "       'target_class', 'target_next_close'],\n",
       "      dtype='object')"
      ]
     },
     "execution_count": 4,
     "metadata": {},
     "output_type": "execute_result"
    }
   ],
   "source": [
    "df.columns"
   ]
  },
  {
   "cell_type": "code",
   "execution_count": 5,
   "id": "8c00a036-15c1-42da-bf0f-6c4c2a5311e0",
   "metadata": {
    "tags": []
   },
   "outputs": [],
   "source": [
    "# Select features and target\n",
    "features = df[['Open', 'High', 'Low', 'Close', 'Volume', \n",
    "#'alpha'\n",
    "       ]]\n",
    "target_class = df['target_class']\n",
    "\n",
    "# Split the data into training and testing sets\n",
    "X_train, X_test, y_train, y_test = train_test_split(features, target_class, test_size=0.2, random_state=42)\n"
   ]
  },
  {
   "cell_type": "markdown",
   "id": "f399053f-6bab-47fd-96de-c89c5223b863",
   "metadata": {},
   "source": [
    "Momentum Stochastic Oscillator is a technical indicator used in technical analysis to identify overbought or oversold conditions in a trading asset."
   ]
  },
  {
   "cell_type": "code",
   "execution_count": 6,
   "id": "98a6f544-72d3-43fa-95b5-c72ccb2104be",
   "metadata": {
    "tags": []
   },
   "outputs": [
    {
     "name": "stdout",
     "output_type": "stream",
     "text": [
      "Average Accuracy: 48.87%\n",
      "Classification Report:\n",
      "              precision    recall  f1-score   support\n",
      "\n",
      "           0       0.63      0.48      0.54       102\n",
      "           1       0.57      0.71      0.63        99\n",
      "\n",
      "    accuracy                           0.59       201\n",
      "   macro avg       0.60      0.59      0.59       201\n",
      "weighted avg       0.60      0.59      0.59       201\n",
      "\n"
     ]
    }
   ],
   "source": [
    "\n",
    "\n",
    "# Define XGBoost model\n",
    "model = XGBClassifier()\n",
    "\n",
    "# Cross-validation\n",
    "cv = StratifiedKFold(n_splits=5, shuffle=True, random_state=42)\n",
    "\n",
    "# Get cross-validation results\n",
    "cv_results = cross_val_score(model, X_train, y_train, cv=cv, scoring='accuracy')\n",
    "\n",
    "# Print average accuracy across folds\n",
    "print(\"Average Accuracy: %.2f%%\" % (cv_results.mean() * 100))\n",
    "\n",
    "# Fit the model on the entire training set\n",
    "model.fit(X_train, y_train)\n",
    "\n",
    "# Predictions on the test set\n",
    "y_pred = model.predict(X_test)\n",
    "\n",
    "# Classification report\n",
    "print(\"Classification Report:\")\n",
    "print(classification_report(y_test, y_pred))\n"
   ]
  },
  {
   "cell_type": "code",
   "execution_count": 7,
   "id": "7a4f7f98-e9d2-4083-8d9f-e84ca38c35ca",
   "metadata": {
    "tags": []
   },
   "outputs": [
    {
     "name": "stdout",
     "output_type": "stream",
     "text": [
      "              precision    recall  f1-score   support\n",
      "\n",
      "           0       0.61      0.52      0.56       102\n",
      "           1       0.57      0.66      0.61        99\n",
      "\n",
      "    accuracy                           0.59       201\n",
      "   macro avg       0.59      0.59      0.59       201\n",
      "weighted avg       0.59      0.59      0.59       201\n",
      "\n"
     ]
    }
   ],
   "source": [
    "y_pred_proba = model.predict_proba(X_test)\n",
    "\n",
    "threshold = 0.55  # Adjust this threshold based on your needs\n",
    "y_pred_threshold = (y_pred_proba[:, 1] > threshold).astype(int)\n",
    "\n",
    "from sklearn.metrics import classification_report\n",
    "print(classification_report(y_test, y_pred_threshold))"
   ]
  },
  {
   "cell_type": "code",
   "execution_count": 8,
   "id": "f279c067-3c60-48f6-8a74-6d3f8fec51d1",
   "metadata": {
    "tags": []
   },
   "outputs": [
    {
     "name": "stdout",
     "output_type": "stream",
     "text": [
      "Best Hyperparameters: {'learning_rate': 0.01, 'max_depth': 3, 'n_estimators': 300, 'subsample': 0.8}\n",
      "Classification Report:\n",
      "              precision    recall  f1-score   support\n",
      "\n",
      "           0       0.57      0.24      0.33       102\n",
      "           1       0.51      0.82      0.63        99\n",
      "\n",
      "    accuracy                           0.52       201\n",
      "   macro avg       0.54      0.53      0.48       201\n",
      "weighted avg       0.54      0.52      0.48       201\n",
      "\n"
     ]
    }
   ],
   "source": [
    "from sklearn.model_selection import GridSearchCV\n",
    "\n",
    "\n",
    "# Define hyperparameter grid\n",
    "param_grid = {\n",
    "    'learning_rate': [0.01, 0.1, 0.2, 0.3],\n",
    "    'n_estimators': [50, 100, 200, 300, 400, 500],\n",
    "    'max_depth': [3, 5, 7, 10],\n",
    "    'subsample': [0.8, 1.0],\n",
    "}\n",
    "\n",
    "# Perform grid search\n",
    "grid_search = GridSearchCV(model, param_grid, cv=cv, scoring='accuracy')\n",
    "grid_search.fit(X_train, y_train)\n",
    "\n",
    "# Print best hyperparameters\n",
    "print(\"Best Hyperparameters:\", grid_search.best_params_)\n",
    "\n",
    "# Get best model\n",
    "best_model = grid_search.best_estimator_\n",
    "\n",
    "# Predictions on the test set using the best model\n",
    "y_pred = best_model.predict(X_test)\n",
    "\n",
    "# Classification report\n",
    "print(\"Classification Report:\")\n",
    "print(classification_report(y_test, y_pred))\n"
   ]
  },
  {
   "cell_type": "code",
   "execution_count": 13,
   "id": "80dcc7f8-a804-4304-8d20-ce0967c30c41",
   "metadata": {
    "tags": []
   },
   "outputs": [
    {
     "name": "stdout",
     "output_type": "stream",
     "text": [
      "Classification Report for Test Set:\n",
      "              precision    recall  f1-score   support\n",
      "\n",
      "           0       0.63      0.51      0.56       102\n",
      "           1       0.58      0.69      0.63        99\n",
      "\n",
      "    accuracy                           0.60       201\n",
      "   macro avg       0.60      0.60      0.59       201\n",
      "weighted avg       0.60      0.60      0.59       201\n",
      "\n"
     ]
    }
   ],
   "source": [
    "newthreshold = 0.52\n",
    "# Classification report for the test set\n",
    "y_pred_proba = model.predict_proba(X_test)\n",
    "y_pred_threshold = (y_pred_proba[:, 1] > newthreshold).astype(int)\n",
    "\n",
    "from sklearn.metrics import classification_report\n",
    "print(\"Classification Report for Test Set:\")\n",
    "print(classification_report(y_test, y_pred_threshold))\n"
   ]
  },
  {
   "cell_type": "code",
   "execution_count": 12,
   "id": "b91c7049-ec42-46c0-8189-aa35f17dee0b",
   "metadata": {
    "tags": []
   },
   "outputs": [
    {
     "name": "stdout",
     "output_type": "stream",
     "text": [
      "Predicted Tomorrow's Classification: 0\n"
     ]
    }
   ],
   "source": [
    "# Assuming your last row in X_test represents tomorrow's features\n",
    "tomorrow_features = X_test.iloc[-1].values.reshape(1, -1)\n",
    "\n",
    "# Predict tomorrow's classification\n",
    "tomorrow_pred_proba = model.predict_proba(tomorrow_features)\n",
    "tomorrow_pred_class = (tomorrow_pred_proba[:, 1] > newthreshold).astype(int)\n",
    "\n",
    "# Print the predicted classification for tomorrow\n",
    "print(\"Predicted Tomorrow's Classification:\", tomorrow_pred_class[0])\n"
   ]
  },
  {
   "cell_type": "code",
   "execution_count": null,
   "id": "d22b0272-4a32-443b-a73d-da1d92868679",
   "metadata": {},
   "outputs": [],
   "source": []
  }
 ],
 "metadata": {
  "kernelspec": {
   "display_name": "Python 3 (ipykernel)",
   "language": "python",
   "name": "python3"
  },
  "language_info": {
   "codemirror_mode": {
    "name": "ipython",
    "version": 3
   },
   "file_extension": ".py",
   "mimetype": "text/x-python",
   "name": "python",
   "nbconvert_exporter": "python",
   "pygments_lexer": "ipython3",
   "version": "3.11.3"
  }
 },
 "nbformat": 4,
 "nbformat_minor": 5
}
