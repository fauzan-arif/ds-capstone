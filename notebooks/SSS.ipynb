{
 "cells": [
  {
   "cell_type": "code",
   "execution_count": 1,
   "id": "df4f05e7-472e-4eaf-b610-64bd476b99b0",
   "metadata": {
    "tags": []
   },
   "outputs": [
    {
     "name": "stdout",
     "output_type": "stream",
     "text": [
      "[*********************100%%**********************]  1 of 1 completed\n"
     ]
    }
   ],
   "source": [
    "import yfinance as yf\n",
    "import numpy as np\n",
    "import pandas as pd\n",
    "from tensorflow.keras.applications.vgg16 import VGG16\n",
    "from tensorflow.keras.models import Model\n",
    "from tensorflow.keras.layers import Flatten, Dense\n",
    "\n",
    "# Download Apple stock data\n",
    "aapl = yf.download('AAPL', start='2010-01-01', end='2023-10-31')"
   ]
  },
  {
   "cell_type": "code",
   "execution_count": 2,
   "id": "b7a9d86d-9688-40ea-bdee-5812fa398ab0",
   "metadata": {
    "tags": []
   },
   "outputs": [
    {
     "name": "stdout",
     "output_type": "stream",
     "text": [
      "WARNING:tensorflow:From C:\\Users\\chris\\Documents\\1_spicy\\000_datadrivendollars\\ds-capstone\\.venv\\Lib\\site-packages\\keras\\src\\losses.py:2976: The name tf.losses.sparse_softmax_cross_entropy is deprecated. Please use tf.compat.v1.losses.sparse_softmax_cross_entropy instead.\n",
      "\n"
     ]
    }
   ],
   "source": [
    "# Clean the data\n",
    "aapl_cleaned = aapl.dropna()\n",
    "\n",
    "# Perform feature engineering\n",
    "aapl_features = pd.DataFrame()\n",
    "aapl_features['Close'] = aapl_cleaned['Close']\n",
    "aapl_features['MA_50'] = aapl_cleaned['Close'].rolling(window=50).mean()\n",
    "aapl_features['MA_200'] = aapl_cleaned['Close'].rolling(window=200).mean()\n",
    "\n",
    "# Normalize the data\n",
    "aapl_normalized = (aapl_features - aapl_features.min()) / (aapl_features.max() - aapl_features.min())\n",
    "\n",
    "# Split the data into train and test sets\n",
    "train_size = int(len(aapl_normalized) * 0.8)\n",
    "train_data = aapl_normalized[:train_size]\n",
    "test_data = aapl_normalized[train_size:]"
   ]
  },
  {
   "cell_type": "code",
   "execution_count": 3,
   "id": "180490e8-69c5-411f-8471-7e176aa4e2c7",
   "metadata": {
    "tags": []
   },
   "outputs": [],
   "source": [
    "from tensorflow.keras.applications.vgg16 import VGG16\n",
    "from tensorflow.keras.models import Model\n",
    "from tensorflow.keras.layers import Flatten, Dense\n",
    "\n",
    "#train_data_reshaped = train_data.values.reshape((train_data.shape[0], train_data.shape[1], 1, 1))\n",
    "#test_data_reshaped = test_data.values.reshape((test_data.shape[0], test_data.shape[1], 1, 1))\n",
    "train_data_reshaped = np.repeat(train_data.values[:, :, np.newaxis], 3, axis=2)\n",
    "test_data_reshaped = np.repeat(test_data.values[:, :, np.newaxis], 3, axis=2)\n"
   ]
  },
  {
   "cell_type": "code",
   "execution_count": 8,
   "id": "19d753de-cf21-4f5e-8e18-07de66e97a07",
   "metadata": {
    "tags": []
   },
   "outputs": [
    {
     "ename": "IndexError",
     "evalue": "tuple index out of range",
     "output_type": "error",
     "traceback": [
      "\u001b[1;31m---------------------------------------------------------------------------\u001b[0m",
      "\u001b[1;31mIndexError\u001b[0m                                Traceback (most recent call last)",
      "Cell \u001b[1;32mIn[8], line 2\u001b[0m\n\u001b[0;32m      1\u001b[0m \u001b[38;5;66;03m# Load the pre-trained VGG16 model\u001b[39;00m\n\u001b[1;32m----> 2\u001b[0m base_model \u001b[38;5;241m=\u001b[39m VGG16(weights\u001b[38;5;241m=\u001b[39m\u001b[38;5;124m'\u001b[39m\u001b[38;5;124mimagenet\u001b[39m\u001b[38;5;124m'\u001b[39m, include_top\u001b[38;5;241m=\u001b[39m\u001b[38;5;28;01mFalse\u001b[39;00m, input_shape\u001b[38;5;241m=\u001b[39m(train_data\u001b[38;5;241m.\u001b[39mshape[\u001b[38;5;241m1\u001b[39m], \u001b[43mtrain_data\u001b[49m\u001b[38;5;241;43m.\u001b[39;49m\u001b[43mshape\u001b[49m\u001b[43m[\u001b[49m\u001b[38;5;241;43m2\u001b[39;49m\u001b[43m]\u001b[49m , \u001b[38;5;241m3\u001b[39m))\n\u001b[0;32m      3\u001b[0m \u001b[38;5;66;03m#base_model = VGG16(weights='imagenet', include_top=False, input_shape=(train_data_reshaped.shape[1], train_data_reshaped.shape[2], 1))\u001b[39;00m\n\u001b[0;32m      4\u001b[0m \u001b[38;5;66;03m#base_model = VGG16(weights='imagenet', include_top=False, input_shape=(train_data_reshaped.shape[1], train_data_reshaped.shape[2], 3))\u001b[39;00m\n",
      "\u001b[1;31mIndexError\u001b[0m: tuple index out of range"
     ]
    }
   ],
   "source": [
    "# Load the pre-trained VGG16 model\n",
    "base_model = VGG16(weights='imagenet', include_top=False, input_shape=(train_data.shape[1], train_data.shape[2] , 3))\n",
    "#base_model = VGG16(weights='imagenet', include_top=False, input_shape=(train_data_reshaped.shape[1], train_data_reshaped.shape[2], 1))\n",
    "#base_model = VGG16(weights='imagenet', include_top=False, input_shape=(train_data_reshaped.shape[1], train_data_reshaped.shape[2], 3))"
   ]
  },
  {
   "cell_type": "code",
   "execution_count": 9,
   "id": "cd86c15d-533b-417a-89a4-d083d5f8f537",
   "metadata": {
    "tags": []
   },
   "outputs": [
    {
     "ename": "NameError",
     "evalue": "name 'base_model' is not defined",
     "output_type": "error",
     "traceback": [
      "\u001b[1;31m---------------------------------------------------------------------------\u001b[0m",
      "\u001b[1;31mNameError\u001b[0m                                 Traceback (most recent call last)",
      "Cell \u001b[1;32mIn[9], line 2\u001b[0m\n\u001b[0;32m      1\u001b[0m \u001b[38;5;66;03m# Freeze the base model's layers\u001b[39;00m\n\u001b[1;32m----> 2\u001b[0m \u001b[38;5;28;01mfor\u001b[39;00m layer \u001b[38;5;129;01min\u001b[39;00m \u001b[43mbase_model\u001b[49m\u001b[38;5;241m.\u001b[39mlayers:\n\u001b[0;32m      3\u001b[0m     layer\u001b[38;5;241m.\u001b[39mtrainable \u001b[38;5;241m=\u001b[39m \u001b[38;5;28;01mFalse\u001b[39;00m\n\u001b[0;32m      5\u001b[0m \u001b[38;5;66;03m# Add a custom classifier on top of the base model\u001b[39;00m\n",
      "\u001b[1;31mNameError\u001b[0m: name 'base_model' is not defined"
     ]
    }
   ],
   "source": [
    "# Freeze the base model's layers\n",
    "for layer in base_model.layers:\n",
    "    layer.trainable = False\n",
    "\n",
    "# Add a custom classifier on top of the base model\n",
    "x = Flatten()(base_model.output)\n",
    "x = Dense(256, activation='relu')(x)\n",
    "predictions = Dense(1, activation='sigmoid')(x)\n",
    "\n",
    "# Create the transfer learning model\n",
    "model = Model(inputs=base_model.input, outputs=predictions)"
   ]
  },
  {
   "cell_type": "code",
   "execution_count": null,
   "id": "3b40be5e-9d91-4055-95ce-615390588733",
   "metadata": {
    "tags": []
   },
   "outputs": [],
   "source": [
    "# Unfreeze the last few layers of the base model\n",
    "for layer in model.layers[-5:]:\n",
    "    layer.trainable = True\n",
    "\n",
    "# Compile the model\n",
    "model.compile(optimizer='adam', loss='binary_crossentropy', metrics=['accuracy'])\n",
    "\n",
    "# Train the model\n",
    "model.fit(train_data, train_labels, epochs=10, batch_size=32, validation_data=(test_data, test_labels))"
   ]
  },
  {
   "cell_type": "code",
   "execution_count": null,
   "id": "3f71da08-8ee3-40dc-9652-79a6134df7d7",
   "metadata": {},
   "outputs": [],
   "source": []
  }
 ],
 "metadata": {
  "kernelspec": {
   "display_name": "Python 3 (ipykernel)",
   "language": "python",
   "name": "python3"
  },
  "language_info": {
   "codemirror_mode": {
    "name": "ipython",
    "version": 3
   },
   "file_extension": ".py",
   "mimetype": "text/x-python",
   "name": "python",
   "nbconvert_exporter": "python",
   "pygments_lexer": "ipython3",
   "version": "3.11.3"
  }
 },
 "nbformat": 4,
 "nbformat_minor": 5
}
