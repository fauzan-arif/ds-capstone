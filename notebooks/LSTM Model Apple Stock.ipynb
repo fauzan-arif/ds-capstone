{
 "cells": [
  {
   "cell_type": "code",
   "execution_count": 1,
   "id": "b1f59df2-9bfe-4594-8322-b4f01af75388",
   "metadata": {
    "tags": []
   },
   "outputs": [],
   "source": [
    "import pandas as pd\n",
    "import numpy as np\n",
    "from sklearn.preprocessing import StandardScaler\n",
    "from sklearn.compose import ColumnTransformer\n",
    "from sklearn.pipeline import Pipeline\n",
    "from sklearn.impute import SimpleImputer\n",
    "from sklearn.preprocessing import StandardScaler\n",
    "from sklearn.preprocessing import MinMaxScaler\n",
    "from tensorflow.keras.models import Sequential\n",
    "from tensorflow.keras.layers import LSTM, Dense, Dropout\n",
    "from statsmodels.tsa.api import VAR\n",
    "from sklearn.metrics import mean_squared_error, r2_score\n",
    "import os\n",
    "from dotenv import load_dotenv\n",
    "import yfinance as yf\n",
    "import pandas as pd\n",
    "import pandas_ta as ta\n",
    "from scikeras.wrappers import KerasRegressor\n",
    "# Load environment variables from the .env file\n",
    "load_dotenv('../.env');\n",
    "\n",
    "# Data Viz. \n",
    "import statsmodels.formula.api as smf\n",
    "from statsmodels.tsa.seasonal import seasonal_decompose\n",
    "from scipy.ndimage import gaussian_filter\n",
    "from calendar import monthrange\n",
    "from calendar import month_name\n",
    "\n",
    "import matplotlib.pyplot as plt\n",
    "import matplotlib.patches as patches\n",
    "import seaborn as sns\n",
    "from sklearn.metrics import accuracy_score, confusion_matrix"
   ]
  },
  {
   "cell_type": "code",
   "execution_count": 2,
   "id": "f4ed2f46-604b-425e-89c3-9ce02336c76f",
   "metadata": {
    "tags": []
   },
   "outputs": [],
   "source": [
    "import requests\n",
    "import csv\n",
    "from itertools import permutations\n",
    "import matplotlib.pyplot as plt\n",
    "\n",
    "from sklearn.metrics import mean_squared_error\n",
    "from math import sqrt\n",
    "from statsmodels.tsa.stattools import adfuller,kpss\n",
    "from statsmodels.tsa.seasonal import seasonal_decompose\n",
    "from statsmodels.tsa.arima_model import ARIMA\n",
    "from statsmodels.graphics.tsaplots import plot_pacf\n",
    "\n",
    "import statsmodels.graphics.tsaplots as tsaplot\n",
    "from statsmodels.tsa.holtwinters import Holt, ExponentialSmoothing, SimpleExpSmoothing\n",
    "\n",
    "import warnings\n",
    "warnings.filterwarnings('ignore')\n"
   ]
  },
  {
   "cell_type": "code",
   "execution_count": 3,
   "id": "97ce580a-373e-4235-933b-36c6bed119c8",
   "metadata": {
    "tags": []
   },
   "outputs": [],
   "source": [
    "def load_and_prepare(ticker, period=\"max\"):\n",
    "    df = pd.DataFrame()\n",
    "    df = df.ta.ticker(ticker, period=period)\n",
    "    df.ta.adjusted = \"adj_close\"\n",
    "    df.reset_index(inplace=True)\n",
    "    df.columns = df.columns.str.lower().str.replace(' ', '_')\n",
    "    \n",
    "    df['rsi']  = ta.rsi(df.close, length=15)\n",
    "    df['emaf'] = ta.ema(df.close, length=20) #fast moving avg\n",
    "    df['emam'] = ta.ema(df.close, length=100) #medium moving avg\n",
    "    df['emas'] = ta.ema(df.close, length=150) #slow moving avg\n",
    "    #df['macd'] = ta.macd(df.close, fast=12, slow=26, signal=9) #moving average convergance and divergance\n",
    "    \n",
    "    df['vma']  = ta.sma(df.volume, length=20) # Volume Moving Average\n",
    "    df['vrc']  = ta.roc(df.volume, length=5) # Volume Rate of change\n",
    "    df.drop(['date','dividends', 'stock_splits'], axis=1, inplace=True)\n",
    "    #df['close'] = np.log(df['close'])\n",
    "    #df['open'] = np.log(df['open'])\n",
    "    df['target']            = ((df.close - df.open)/df.open)*100\n",
    "    df['target']            = df.target.shift(-1)\n",
    "    #df['target_class']      = [2 if df.target[i]>1 and 0 if df.target[i]< (-1) else 1 for i in range(len(df))]\n",
    "    df['target_class'] = np.select([(df['target'] > 1), (df['target'] < -1), ((df['target'] >= -1) & (df['target'] <= 1))], [2, 0, 1], default=np.nan)\n",
    "    df['target_next_close'] = df.close.shift(-1)\n",
    "    df.dropna(inplace=True)\n",
    "    return df"
   ]
  },
  {
   "cell_type": "code",
   "execution_count": 4,
   "id": "3871b3c6-dd44-475c-8e9f-b1287b5ee2c0",
   "metadata": {
    "tags": []
   },
   "outputs": [],
   "source": [
    "df = load_and_prepare(\"AAPL\")"
   ]
  },
  {
   "cell_type": "code",
   "execution_count": 5,
   "id": "54c3eca0-788e-4c64-908c-ec24f704b38d",
   "metadata": {
    "tags": []
   },
   "outputs": [
    {
     "data": {
      "text/html": [
       "<div>\n",
       "<style scoped>\n",
       "    .dataframe tbody tr th:only-of-type {\n",
       "        vertical-align: middle;\n",
       "    }\n",
       "\n",
       "    .dataframe tbody tr th {\n",
       "        vertical-align: top;\n",
       "    }\n",
       "\n",
       "    .dataframe thead th {\n",
       "        text-align: right;\n",
       "    }\n",
       "</style>\n",
       "<table border=\"1\" class=\"dataframe\">\n",
       "  <thead>\n",
       "    <tr style=\"text-align: right;\">\n",
       "      <th></th>\n",
       "      <th>open</th>\n",
       "      <th>high</th>\n",
       "      <th>low</th>\n",
       "      <th>close</th>\n",
       "      <th>volume</th>\n",
       "      <th>rsi</th>\n",
       "      <th>emaf</th>\n",
       "      <th>emam</th>\n",
       "      <th>emas</th>\n",
       "      <th>vma</th>\n",
       "      <th>vrc</th>\n",
       "      <th>target</th>\n",
       "      <th>target_class</th>\n",
       "      <th>target_next_close</th>\n",
       "    </tr>\n",
       "  </thead>\n",
       "  <tbody>\n",
       "    <tr>\n",
       "      <th>149</th>\n",
       "      <td>0.089387</td>\n",
       "      <td>0.089818</td>\n",
       "      <td>0.089387</td>\n",
       "      <td>0.089387</td>\n",
       "      <td>19824000</td>\n",
       "      <td>45.489546</td>\n",
       "      <td>0.090299</td>\n",
       "      <td>0.097269</td>\n",
       "      <td>0.097453</td>\n",
       "      <td>31013920.0</td>\n",
       "      <td>-64.068210</td>\n",
       "      <td>-0.515427</td>\n",
       "      <td>1.0</td>\n",
       "      <td>0.083342</td>\n",
       "    </tr>\n",
       "    <tr>\n",
       "      <th>150</th>\n",
       "      <td>0.083773</td>\n",
       "      <td>0.083773</td>\n",
       "      <td>0.083342</td>\n",
       "      <td>0.083342</td>\n",
       "      <td>23654400</td>\n",
       "      <td>39.340089</td>\n",
       "      <td>0.089636</td>\n",
       "      <td>0.096994</td>\n",
       "      <td>0.097266</td>\n",
       "      <td>30821280.0</td>\n",
       "      <td>-48.285994</td>\n",
       "      <td>-0.518105</td>\n",
       "      <td>1.0</td>\n",
       "      <td>0.082910</td>\n",
       "    </tr>\n",
       "    <tr>\n",
       "      <th>151</th>\n",
       "      <td>0.083342</td>\n",
       "      <td>0.083342</td>\n",
       "      <td>0.082910</td>\n",
       "      <td>0.082910</td>\n",
       "      <td>31942400</td>\n",
       "      <td>38.937244</td>\n",
       "      <td>0.088996</td>\n",
       "      <td>0.096715</td>\n",
       "      <td>0.097076</td>\n",
       "      <td>31876320.0</td>\n",
       "      <td>61.494904</td>\n",
       "      <td>-1.093806</td>\n",
       "      <td>0.0</td>\n",
       "      <td>0.078159</td>\n",
       "    </tr>\n",
       "    <tr>\n",
       "      <th>152</th>\n",
       "      <td>0.079024</td>\n",
       "      <td>0.079024</td>\n",
       "      <td>0.078159</td>\n",
       "      <td>0.078159</td>\n",
       "      <td>22668800</td>\n",
       "      <td>34.743615</td>\n",
       "      <td>0.087964</td>\n",
       "      <td>0.096347</td>\n",
       "      <td>0.096826</td>\n",
       "      <td>32258240.0</td>\n",
       "      <td>106.952965</td>\n",
       "      <td>0.000000</td>\n",
       "      <td>1.0</td>\n",
       "      <td>0.080319</td>\n",
       "    </tr>\n",
       "    <tr>\n",
       "      <th>153</th>\n",
       "      <td>0.080319</td>\n",
       "      <td>0.080751</td>\n",
       "      <td>0.080319</td>\n",
       "      <td>0.080319</td>\n",
       "      <td>34451200</td>\n",
       "      <td>37.996448</td>\n",
       "      <td>0.087236</td>\n",
       "      <td>0.096030</td>\n",
       "      <td>0.096607</td>\n",
       "      <td>32829440.0</td>\n",
       "      <td>126.176471</td>\n",
       "      <td>0.000000</td>\n",
       "      <td>1.0</td>\n",
       "      <td>0.082910</td>\n",
       "    </tr>\n",
       "    <tr>\n",
       "      <th>...</th>\n",
       "      <td>...</td>\n",
       "      <td>...</td>\n",
       "      <td>...</td>\n",
       "      <td>...</td>\n",
       "      <td>...</td>\n",
       "      <td>...</td>\n",
       "      <td>...</td>\n",
       "      <td>...</td>\n",
       "      <td>...</td>\n",
       "      <td>...</td>\n",
       "      <td>...</td>\n",
       "      <td>...</td>\n",
       "      <td>...</td>\n",
       "      <td>...</td>\n",
       "    </tr>\n",
       "    <tr>\n",
       "      <th>10852</th>\n",
       "      <td>193.899994</td>\n",
       "      <td>194.399994</td>\n",
       "      <td>191.729996</td>\n",
       "      <td>192.529999</td>\n",
       "      <td>42628800</td>\n",
       "      <td>51.966107</td>\n",
       "      <td>193.234092</td>\n",
       "      <td>184.517782</td>\n",
       "      <td>180.981295</td>\n",
       "      <td>53138740.0</td>\n",
       "      <td>-8.290647</td>\n",
       "      <td>-0.806837</td>\n",
       "      <td>1.0</td>\n",
       "      <td>185.639999</td>\n",
       "    </tr>\n",
       "    <tr>\n",
       "      <th>10853</th>\n",
       "      <td>187.149994</td>\n",
       "      <td>188.440002</td>\n",
       "      <td>183.889999</td>\n",
       "      <td>185.639999</td>\n",
       "      <td>82488700</td>\n",
       "      <td>37.001110</td>\n",
       "      <td>192.510845</td>\n",
       "      <td>184.540004</td>\n",
       "      <td>181.043000</td>\n",
       "      <td>54979210.0</td>\n",
       "      <td>122.204952</td>\n",
       "      <td>0.016284</td>\n",
       "      <td>1.0</td>\n",
       "      <td>184.250000</td>\n",
       "    </tr>\n",
       "    <tr>\n",
       "      <th>10854</th>\n",
       "      <td>184.220001</td>\n",
       "      <td>185.880005</td>\n",
       "      <td>183.429993</td>\n",
       "      <td>184.250000</td>\n",
       "      <td>58414500</td>\n",
       "      <td>34.832884</td>\n",
       "      <td>191.724098</td>\n",
       "      <td>184.534261</td>\n",
       "      <td>181.085477</td>\n",
       "      <td>55730460.0</td>\n",
       "      <td>101.991404</td>\n",
       "      <td>-0.131754</td>\n",
       "      <td>1.0</td>\n",
       "      <td>181.910004</td>\n",
       "    </tr>\n",
       "    <tr>\n",
       "      <th>10855</th>\n",
       "      <td>182.149994</td>\n",
       "      <td>183.089996</td>\n",
       "      <td>180.880005</td>\n",
       "      <td>181.910004</td>\n",
       "      <td>71983600</td>\n",
       "      <td>31.503164</td>\n",
       "      <td>190.789422</td>\n",
       "      <td>184.482296</td>\n",
       "      <td>181.096398</td>\n",
       "      <td>55998220.0</td>\n",
       "      <td>49.692333</td>\n",
       "      <td>-0.445086</td>\n",
       "      <td>1.0</td>\n",
       "      <td>181.179993</td>\n",
       "    </tr>\n",
       "    <tr>\n",
       "      <th>10856</th>\n",
       "      <td>181.990005</td>\n",
       "      <td>182.759995</td>\n",
       "      <td>180.169998</td>\n",
       "      <td>181.179993</td>\n",
       "      <td>62303300</td>\n",
       "      <td>30.527747</td>\n",
       "      <td>189.874238</td>\n",
       "      <td>184.416904</td>\n",
       "      <td>181.097505</td>\n",
       "      <td>57058900.0</td>\n",
       "      <td>82.976455</td>\n",
       "      <td>1.905652</td>\n",
       "      <td>2.0</td>\n",
       "      <td>185.559998</td>\n",
       "    </tr>\n",
       "  </tbody>\n",
       "</table>\n",
       "<p>10708 rows × 14 columns</p>\n",
       "</div>"
      ],
      "text/plain": [
       "             open        high         low       close    volume        rsi   \n",
       "149      0.089387    0.089818    0.089387    0.089387  19824000  45.489546  \\\n",
       "150      0.083773    0.083773    0.083342    0.083342  23654400  39.340089   \n",
       "151      0.083342    0.083342    0.082910    0.082910  31942400  38.937244   \n",
       "152      0.079024    0.079024    0.078159    0.078159  22668800  34.743615   \n",
       "153      0.080319    0.080751    0.080319    0.080319  34451200  37.996448   \n",
       "...           ...         ...         ...         ...       ...        ...   \n",
       "10852  193.899994  194.399994  191.729996  192.529999  42628800  51.966107   \n",
       "10853  187.149994  188.440002  183.889999  185.639999  82488700  37.001110   \n",
       "10854  184.220001  185.880005  183.429993  184.250000  58414500  34.832884   \n",
       "10855  182.149994  183.089996  180.880005  181.910004  71983600  31.503164   \n",
       "10856  181.990005  182.759995  180.169998  181.179993  62303300  30.527747   \n",
       "\n",
       "             emaf        emam        emas         vma         vrc    target   \n",
       "149      0.090299    0.097269    0.097453  31013920.0  -64.068210 -0.515427  \\\n",
       "150      0.089636    0.096994    0.097266  30821280.0  -48.285994 -0.518105   \n",
       "151      0.088996    0.096715    0.097076  31876320.0   61.494904 -1.093806   \n",
       "152      0.087964    0.096347    0.096826  32258240.0  106.952965  0.000000   \n",
       "153      0.087236    0.096030    0.096607  32829440.0  126.176471  0.000000   \n",
       "...           ...         ...         ...         ...         ...       ...   \n",
       "10852  193.234092  184.517782  180.981295  53138740.0   -8.290647 -0.806837   \n",
       "10853  192.510845  184.540004  181.043000  54979210.0  122.204952  0.016284   \n",
       "10854  191.724098  184.534261  181.085477  55730460.0  101.991404 -0.131754   \n",
       "10855  190.789422  184.482296  181.096398  55998220.0   49.692333 -0.445086   \n",
       "10856  189.874238  184.416904  181.097505  57058900.0   82.976455  1.905652   \n",
       "\n",
       "       target_class  target_next_close  \n",
       "149             1.0           0.083342  \n",
       "150             1.0           0.082910  \n",
       "151             0.0           0.078159  \n",
       "152             1.0           0.080319  \n",
       "153             1.0           0.082910  \n",
       "...             ...                ...  \n",
       "10852           1.0         185.639999  \n",
       "10853           1.0         184.250000  \n",
       "10854           1.0         181.910004  \n",
       "10855           1.0         181.179993  \n",
       "10856           2.0         185.559998  \n",
       "\n",
       "[10708 rows x 14 columns]"
      ]
     },
     "execution_count": 5,
     "metadata": {},
     "output_type": "execute_result"
    }
   ],
   "source": [
    "df"
   ]
  },
  {
   "cell_type": "code",
   "execution_count": 6,
   "id": "83751f2e-6ec1-4201-a841-445ceda2bc43",
   "metadata": {
    "tags": []
   },
   "outputs": [
    {
     "data": {
      "text/plain": [
       "open                 0\n",
       "high                 0\n",
       "low                  0\n",
       "close                0\n",
       "volume               0\n",
       "rsi                  0\n",
       "emaf                 0\n",
       "emam                 0\n",
       "emas                 0\n",
       "vma                  0\n",
       "vrc                  0\n",
       "target               0\n",
       "target_class         0\n",
       "target_next_close    0\n",
       "dtype: int64"
      ]
     },
     "execution_count": 6,
     "metadata": {},
     "output_type": "execute_result"
    }
   ],
   "source": [
    "df.isna().sum()"
   ]
  },
  {
   "cell_type": "code",
   "execution_count": 7,
   "id": "63960fc4-45a4-4f62-b3a7-b0688aeb9bac",
   "metadata": {
    "tags": []
   },
   "outputs": [
    {
     "data": {
      "text/plain": [
       "target_class\n",
       "1.0    4923\n",
       "0.0    2924\n",
       "2.0    2861\n",
       "Name: count, dtype: int64"
      ]
     },
     "execution_count": 7,
     "metadata": {},
     "output_type": "execute_result"
    }
   ],
   "source": [
    "df['target_class'].value_counts()"
   ]
  },
  {
   "cell_type": "code",
   "execution_count": 8,
   "id": "cd1ad47d-a72e-42e8-a889-154db29fc503",
   "metadata": {
    "tags": []
   },
   "outputs": [
    {
     "data": {
      "text/plain": [
       "open                 float64\n",
       "high                 float64\n",
       "low                  float64\n",
       "close                float64\n",
       "volume                 int64\n",
       "rsi                  float64\n",
       "emaf                 float64\n",
       "emam                 float64\n",
       "emas                 float64\n",
       "vma                  float64\n",
       "vrc                  float64\n",
       "target               float64\n",
       "target_class         float64\n",
       "target_next_close    float64\n",
       "dtype: object"
      ]
     },
     "execution_count": 8,
     "metadata": {},
     "output_type": "execute_result"
    }
   ],
   "source": [
    "df.dtypes"
   ]
  },
  {
   "cell_type": "code",
   "execution_count": 9,
   "id": "e193ed92-4aec-4ef1-88d8-0698246ce521",
   "metadata": {
    "tags": []
   },
   "outputs": [],
   "source": [
    "df['target_class'] = df['target_class'].astype(int)"
   ]
  },
  {
   "cell_type": "code",
   "execution_count": 10,
   "id": "c44fc192-aa7c-438e-a1f2-e125e8e9f852",
   "metadata": {
    "tags": []
   },
   "outputs": [
    {
     "data": {
      "text/plain": [
       "open                 float64\n",
       "high                 float64\n",
       "low                  float64\n",
       "close                float64\n",
       "volume                 int64\n",
       "rsi                  float64\n",
       "emaf                 float64\n",
       "emam                 float64\n",
       "emas                 float64\n",
       "vma                  float64\n",
       "vrc                  float64\n",
       "target               float64\n",
       "target_class           int64\n",
       "target_next_close    float64\n",
       "dtype: object"
      ]
     },
     "execution_count": 10,
     "metadata": {},
     "output_type": "execute_result"
    }
   ],
   "source": [
    "df.dtypes"
   ]
  },
  {
   "cell_type": "code",
   "execution_count": 11,
   "id": "85dc6912-162b-4e68-b0d1-0467d5643ffb",
   "metadata": {
    "tags": []
   },
   "outputs": [
    {
     "data": {
      "text/plain": [
       "<Axes: >"
      ]
     },
     "execution_count": 11,
     "metadata": {},
     "output_type": "execute_result"
    },
    {
     "data": {
      "image/png": "[encoded data removed]",
      "text/plain": [
       "<Figure size 1200x400 with 1 Axes>"
      ]
     },
     "metadata": {},
     "output_type": "display_data"
    }
   ],
   "source": [
    "#plt.plot(df['close'])\n",
    "df['close'].plot(figsize=(12,4))"
   ]
  },
  {
   "cell_type": "code",
   "execution_count": 12,
   "id": "df9ee886-df19-4191-b5b8-590384cfd82e",
   "metadata": {},
   "outputs": [],
   "source": [
    "# take index as feature and log transformed as close"
   ]
  },
  {
   "cell_type": "code",
   "execution_count": 13,
   "id": "4431a9a3-9d4a-4b8d-8bd0-e51361c073d8",
   "metadata": {
    "tags": []
   },
   "outputs": [
    {
     "data": {
      "text/plain": [
       "Index(['open', 'high', 'low', 'close', 'volume', 'rsi', 'emaf', 'emam', 'emas',\n",
       "       'vma', 'vrc', 'target', 'target_class', 'target_next_close'],\n",
       "      dtype='object')"
      ]
     },
     "execution_count": 13,
     "metadata": {},
     "output_type": "execute_result"
    }
   ],
   "source": [
    "df.columns"
   ]
  },
  {
   "cell_type": "code",
   "execution_count": 14,
   "id": "5fd0bbc5-cc55-4503-b592-c3d95dc2a85b",
   "metadata": {
    "tags": []
   },
   "outputs": [
    {
     "data": {
      "text/plain": [
       "open                 0\n",
       "high                 0\n",
       "low                  0\n",
       "close                0\n",
       "volume               0\n",
       "rsi                  0\n",
       "emaf                 0\n",
       "emam                 0\n",
       "emas                 0\n",
       "vma                  0\n",
       "vrc                  0\n",
       "target               0\n",
       "target_class         0\n",
       "target_next_close    0\n",
       "dtype: int64"
      ]
     },
     "execution_count": 14,
     "metadata": {},
     "output_type": "execute_result"
    }
   ],
   "source": [
    "df.isna().sum()"
   ]
  },
  {
   "cell_type": "code",
   "execution_count": 15,
   "id": "e3b5bd6e-78e1-4592-9425-b1234c666af6",
   "metadata": {
    "tags": []
   },
   "outputs": [],
   "source": [
    "from sklearn.model_selection import train_test_split\n",
    "\n",
    "# Assuming X is your feature set and y is your target variable\n",
    "X = df.drop(['open','high', 'low', 'close', 'volume','target','target_class', 'target_next_close'], axis=1)# Adjust columns accordingly\n",
    "y = df[['target_class']]  # Adjust the target variable accordingly\n",
    "\n",
    "X_train, X_test, y_train, y_test = train_test_split(X, y, test_size=0.2, random_state=42)"
   ]
  },
  {
   "cell_type": "code",
   "execution_count": 16,
   "id": "478e2a8d-e84f-4f0b-bf1a-10882faa6c3a",
   "metadata": {},
   "outputs": [],
   "source": [
    "#def add_features(X):   \n",
    "    \n",
    "    #X['rsi']  = ta.rsi(X.close, length=15)\n",
    "    #X['emaf'] = ta.ema(X.close, length=20) #fast moving avg\n",
    "    #X['emam'] = ta.ema(X.close, length=100) #medium moving avg\n",
    "    #X['emas'] = ta.ema(X.close, length=150) #slow moving avg\n",
    "    ##df['macd'] = ta.macd(df.close, fast=12, slow=26, signal=9) #moving average convergance and divergance\n",
    "    \n",
    "    #X['vma']  = ta.sma(X.volume, length=20) # Volume Moving Average\n",
    "    #X['vrc']  = ta.roc(X.volume, length=5) # Volume Rate of change\n",
    "    #return X"
   ]
  },
  {
   "cell_type": "code",
   "execution_count": 17,
   "id": "afc0e2da-9f53-4b5e-a612-5847f5510233",
   "metadata": {},
   "outputs": [],
   "source": [
    "#X_train.isna().sum()"
   ]
  },
  {
   "cell_type": "code",
   "execution_count": 18,
   "id": "b2777517-6af1-4014-aaf4-cf8cd0ace0d9",
   "metadata": {},
   "outputs": [],
   "source": [
    "#add_features(X_test)"
   ]
  },
  {
   "cell_type": "code",
   "execution_count": 19,
   "id": "1023cb39-8238-4465-9c77-7b3766d8f738",
   "metadata": {},
   "outputs": [],
   "source": [
    "#X_test.isna().sum()"
   ]
  },
  {
   "cell_type": "code",
   "execution_count": 20,
   "id": "24459b4d-ae13-41a6-bc04-25d8228e5000",
   "metadata": {
    "tags": []
   },
   "outputs": [],
   "source": [
    "\n",
    "# Create a preprocessing pipeline\n",
    "preprocessing_pipeline = Pipeline([\n",
    "    ('imputer', SimpleImputer(strategy='mean')),\n",
    "    ('scaler', MinMaxScaler(feature_range=(0,1)))\n",
    "])\n",
    "\n",
    "# Apply the preprocessing pipeline to numeric features\n",
    "preprocessor = ColumnTransformer(\n",
    "    transformers=[\n",
    "        ('num', preprocessing_pipeline, X_train.columns)\n",
    "    ])"
   ]
  },
  {
   "cell_type": "code",
   "execution_count": 21,
   "id": "509b3e5a-475f-4832-8992-f634c6b43883",
   "metadata": {
    "tags": []
   },
   "outputs": [],
   "source": [
    "X_train.replace([np.inf, -np.inf], np.nan, inplace=True)"
   ]
  },
  {
   "cell_type": "code",
   "execution_count": 22,
   "id": "058ce233-7337-452e-b259-fa1d2a84068c",
   "metadata": {
    "tags": []
   },
   "outputs": [],
   "source": [
    "# Fit and transform the training data\n",
    "train_features_preprocessed = preprocessor.fit_transform(X_train)\n",
    "\n",
    "# Transform the test data using the learned parameters from the training data\n",
    "test_features_preprocessed = preprocessor.transform(X_test)"
   ]
  },
  {
   "cell_type": "code",
   "execution_count": 23,
   "id": "40139b30-2f4a-4d2b-8771-76706d0105b1",
   "metadata": {
    "tags": []
   },
   "outputs": [
    {
     "data": {
      "text/plain": [
       "(8566, 6)"
      ]
     },
     "execution_count": 23,
     "metadata": {},
     "output_type": "execute_result"
    }
   ],
   "source": [
    "train_features_preprocessed.shape"
   ]
  },
  {
   "cell_type": "code",
   "execution_count": 24,
   "id": "e1dce9a5-c3e6-4256-b8d6-7b88407e7ec8",
   "metadata": {
    "tags": []
   },
   "outputs": [
    {
     "data": {
      "text/plain": [
       "(2142, 6)"
      ]
     },
     "execution_count": 24,
     "metadata": {},
     "output_type": "execute_result"
    }
   ],
   "source": [
    "test_features_preprocessed.shape"
   ]
  },
  {
   "cell_type": "code",
   "execution_count": 25,
   "id": "d4fd3d2a-e296-45ce-8780-efbc2c0dbcf9",
   "metadata": {
    "tags": []
   },
   "outputs": [
    {
     "name": "stdout",
     "output_type": "stream",
     "text": [
      "Shape of X_train_lstm: (8566, 1, 6)\n",
      "Shape of X_test_lstm: (2142, 1, 6)\n"
     ]
    }
   ],
   "source": [
    "# train_features_preprocessed and test_features_preprocessed are preprocessed data\n",
    "\n",
    "# Reshape training data\n",
    "X_train_lstm = train_features_preprocessed.reshape((train_features_preprocessed.shape[0], 1, train_features_preprocessed.shape[1]))\n",
    "\n",
    "# Reshape testing data\n",
    "X_test_lstm = test_features_preprocessed.reshape((test_features_preprocessed.shape[0], 1, test_features_preprocessed.shape[1]))\n",
    "\n",
    "# Check the new shapes\n",
    "print(\"Shape of X_train_lstm:\", X_train_lstm.shape)\n",
    "print(\"Shape of X_test_lstm:\", X_test_lstm.shape)\n"
   ]
  },
  {
   "cell_type": "code",
   "execution_count": 26,
   "id": "1ec703e6-335e-4ca6-bb9b-dea4c9b010cd",
   "metadata": {
    "tags": []
   },
   "outputs": [
    {
     "name": "stdout",
     "output_type": "stream",
     "text": [
      "WARNING:tensorflow:Layer lstm will not use cuDNN kernels since it doesn't meet the criteria. It will use a generic GPU kernel as fallback when running on GPU.\n"
     ]
    },
    {
     "name": "stderr",
     "output_type": "stream",
     "text": [
      "2024-01-09 15:15:44.393030: I metal_plugin/src/device/metal_device.cc:1154] Metal device set to: Apple M1\n",
      "2024-01-09 15:15:44.393084: I metal_plugin/src/device/metal_device.cc:296] systemMemory: 8.00 GB\n",
      "2024-01-09 15:15:44.393110: I metal_plugin/src/device/metal_device.cc:313] maxCacheSize: 2.67 GB\n",
      "2024-01-09 15:15:44.396794: I tensorflow/core/common_runtime/pluggable_device/pluggable_device_factory.cc:306] Could not identify NUMA node of platform GPU ID 0, defaulting to 0. Your kernel may not have been built with NUMA support.\n",
      "2024-01-09 15:15:44.398498: I tensorflow/core/common_runtime/pluggable_device/pluggable_device_factory.cc:272] Created TensorFlow device (/job:localhost/replica:0/task:0/device:GPU:0 with 0 MB memory) -> physical PluggableDevice (device: 0, name: METAL, pci bus id: <undefined>)\n"
     ]
    }
   ],
   "source": [
    "model = Sequential()\n",
    "model.add(LSTM(units=50, activation='relu', input_shape=(X_train_lstm.shape[1], X_train_lstm.shape[2])))\n",
    "model.add(Dropout(0.2))\n",
    "model.add(Dense(units=3, activation='softmax'))  # 3 units for your three categories\n",
    "model.compile(optimizer='adam', loss='sparse_categorical_crossentropy', metrics=['accuracy'])"
   ]
  },
  {
   "cell_type": "code",
   "execution_count": null,
   "id": "b48c3387-c810-4e43-81f6-dee3ece7ea73",
   "metadata": {
    "tags": []
   },
   "outputs": [
    {
     "name": "stdout",
     "output_type": "stream",
     "text": [
      "Epoch 1/50\n"
     ]
    },
    {
     "name": "stderr",
     "output_type": "stream",
     "text": [
      "2024-01-09 15:15:46.935672: I tensorflow/core/grappler/optimizers/custom_graph_optimizer_registry.cc:117] Plugin optimizer for device_type GPU is enabled.\n"
     ]
    },
    {
     "name": "stdout",
     "output_type": "stream",
     "text": [
      "215/215 [==============================] - 16s 50ms/step - loss: 1.0666 - accuracy: 0.4596 - val_loss: 1.0517 - val_accuracy: 0.4609\n",
      "Epoch 2/50\n",
      "215/215 [==============================] - 5s 23ms/step - loss: 1.0578 - accuracy: 0.4599 - val_loss: 1.0478 - val_accuracy: 0.4609\n",
      "Epoch 3/50\n",
      "215/215 [==============================] - 5s 22ms/step - loss: 1.0542 - accuracy: 0.4603 - val_loss: 1.0444 - val_accuracy: 0.4632\n",
      "Epoch 4/50\n",
      "215/215 [==============================] - 5s 21ms/step - loss: 1.0504 - accuracy: 0.4634 - val_loss: 1.0397 - val_accuracy: 0.4685\n",
      "Epoch 5/50\n",
      "215/215 [==============================] - 5s 23ms/step - loss: 1.0476 - accuracy: 0.4606 - val_loss: 1.0364 - val_accuracy: 0.4732\n",
      "Epoch 6/50\n",
      "215/215 [==============================] - 5s 22ms/step - loss: 1.0468 - accuracy: 0.4593 - val_loss: 1.0349 - val_accuracy: 0.4720\n",
      "Epoch 7/50\n",
      "215/215 [==============================] - 5s 22ms/step - loss: 1.0436 - accuracy: 0.4607 - val_loss: 1.0319 - val_accuracy: 0.4743\n",
      "Epoch 8/50\n",
      "215/215 [==============================] - 5s 23ms/step - loss: 1.0416 - accuracy: 0.4628 - val_loss: 1.0305 - val_accuracy: 0.4720\n",
      "Epoch 9/50\n",
      "215/215 [==============================] - 5s 22ms/step - loss: 1.0417 - accuracy: 0.4600 - val_loss: 1.0287 - val_accuracy: 0.4796\n",
      "Epoch 10/50\n",
      "215/215 [==============================] - 5s 23ms/step - loss: 1.0412 - accuracy: 0.4594 - val_loss: 1.0283 - val_accuracy: 0.4720\n",
      "Epoch 11/50\n",
      "215/215 [==============================] - 5s 23ms/step - loss: 1.0403 - accuracy: 0.4571 - val_loss: 1.0282 - val_accuracy: 0.4708\n",
      "Epoch 12/50\n",
      "215/215 [==============================] - 5s 23ms/step - loss: 1.0401 - accuracy: 0.4615 - val_loss: 1.0270 - val_accuracy: 0.4732\n",
      "Epoch 13/50\n",
      "215/215 [==============================] - 5s 22ms/step - loss: 1.0402 - accuracy: 0.4602 - val_loss: 1.0261 - val_accuracy: 0.4743\n",
      "Epoch 14/50\n",
      "215/215 [==============================] - 5s 24ms/step - loss: 1.0389 - accuracy: 0.4607 - val_loss: 1.0262 - val_accuracy: 0.4790\n",
      "Epoch 15/50\n",
      "215/215 [==============================] - 5s 22ms/step - loss: 1.0390 - accuracy: 0.4603 - val_loss: 1.0273 - val_accuracy: 0.4819\n",
      "Epoch 16/50\n",
      "215/215 [==============================] - 5s 23ms/step - loss: 1.0372 - accuracy: 0.4616 - val_loss: 1.0255 - val_accuracy: 0.4767\n",
      "Epoch 17/50\n",
      "215/215 [==============================] - 5s 25ms/step - loss: 1.0385 - accuracy: 0.4590 - val_loss: 1.0247 - val_accuracy: 0.4749\n",
      "Epoch 18/50\n",
      "215/215 [==============================] - 5s 25ms/step - loss: 1.0371 - accuracy: 0.4632 - val_loss: 1.0247 - val_accuracy: 0.4767\n",
      "Epoch 19/50\n",
      "215/215 [==============================] - 5s 25ms/step - loss: 1.0380 - accuracy: 0.4610 - val_loss: 1.0251 - val_accuracy: 0.4749\n",
      "Epoch 20/50\n",
      "215/215 [==============================] - 5s 22ms/step - loss: 1.0370 - accuracy: 0.4613 - val_loss: 1.0250 - val_accuracy: 0.4755\n",
      "Epoch 21/50\n",
      "215/215 [==============================] - 5s 22ms/step - loss: 1.0373 - accuracy: 0.4610 - val_loss: 1.0222 - val_accuracy: 0.4767\n",
      "Epoch 22/50\n",
      "215/215 [==============================] - 5s 22ms/step - loss: 1.0356 - accuracy: 0.4634 - val_loss: 1.0231 - val_accuracy: 0.4767\n",
      "Epoch 23/50\n",
      "215/215 [==============================] - 5s 24ms/step - loss: 1.0358 - accuracy: 0.4596 - val_loss: 1.0223 - val_accuracy: 0.4743\n",
      "Epoch 24/50\n",
      "215/215 [==============================] - 5s 23ms/step - loss: 1.0354 - accuracy: 0.4625 - val_loss: 1.0222 - val_accuracy: 0.4767\n",
      "Epoch 25/50\n",
      "215/215 [==============================] - 5s 24ms/step - loss: 1.0336 - accuracy: 0.4653 - val_loss: 1.0208 - val_accuracy: 0.4790\n",
      "Epoch 26/50\n",
      "215/215 [==============================] - 6s 27ms/step - loss: 1.0337 - accuracy: 0.4632 - val_loss: 1.0202 - val_accuracy: 0.4761\n",
      "Epoch 27/50\n",
      "215/215 [==============================] - 5s 24ms/step - loss: 1.0343 - accuracy: 0.4666 - val_loss: 1.0197 - val_accuracy: 0.4767\n",
      "Epoch 28/50\n",
      "215/215 [==============================] - 5s 24ms/step - loss: 1.0335 - accuracy: 0.4638 - val_loss: 1.0197 - val_accuracy: 0.4772\n",
      "Epoch 29/50\n",
      "215/215 [==============================] - 5s 24ms/step - loss: 1.0339 - accuracy: 0.4625 - val_loss: 1.0189 - val_accuracy: 0.4743\n",
      "Epoch 30/50\n",
      "215/215 [==============================] - 5s 24ms/step - loss: 1.0336 - accuracy: 0.4626 - val_loss: 1.0189 - val_accuracy: 0.4755\n",
      "Epoch 31/50\n",
      "215/215 [==============================] - 5s 24ms/step - loss: 1.0333 - accuracy: 0.4604 - val_loss: 1.0193 - val_accuracy: 0.4767\n",
      "Epoch 32/50\n",
      "215/215 [==============================] - 5s 24ms/step - loss: 1.0317 - accuracy: 0.4648 - val_loss: 1.0186 - val_accuracy: 0.4767\n",
      "Epoch 33/50\n",
      "215/215 [==============================] - 6s 28ms/step - loss: 1.0325 - accuracy: 0.4637 - val_loss: 1.0192 - val_accuracy: 0.4813\n",
      "Epoch 34/50\n",
      "215/215 [==============================] - 6s 30ms/step - loss: 1.0325 - accuracy: 0.4657 - val_loss: 1.0182 - val_accuracy: 0.4778\n",
      "Epoch 35/50\n",
      "215/215 [==============================] - 5s 24ms/step - loss: 1.0327 - accuracy: 0.4654 - val_loss: 1.0185 - val_accuracy: 0.4708\n",
      "Epoch 36/50\n",
      "215/215 [==============================] - 5s 24ms/step - loss: 1.0304 - accuracy: 0.4677 - val_loss: 1.0175 - val_accuracy: 0.4761\n",
      "Epoch 37/50\n",
      "215/215 [==============================] - 6s 27ms/step - loss: 1.0321 - accuracy: 0.4651 - val_loss: 1.0172 - val_accuracy: 0.4767\n",
      "Epoch 38/50\n",
      "215/215 [==============================] - 5s 25ms/step - loss: 1.0311 - accuracy: 0.4642 - val_loss: 1.0166 - val_accuracy: 0.4749\n",
      "Epoch 39/50\n",
      "215/215 [==============================] - 5s 25ms/step - loss: 1.0314 - accuracy: 0.4641 - val_loss: 1.0161 - val_accuracy: 0.4732\n",
      "Epoch 40/50\n",
      "215/215 [==============================] - 5s 25ms/step - loss: 1.0304 - accuracy: 0.4645 - val_loss: 1.0172 - val_accuracy: 0.4732\n",
      "Epoch 41/50\n",
      "215/215 [==============================] - 6s 27ms/step - loss: 1.0293 - accuracy: 0.4669 - val_loss: 1.0159 - val_accuracy: 0.4784\n",
      "Epoch 42/50\n",
      "215/215 [==============================] - 5s 23ms/step - loss: 1.0309 - accuracy: 0.4661 - val_loss: 1.0156 - val_accuracy: 0.4737\n",
      "Epoch 43/50\n",
      "215/215 [==============================] - 5s 23ms/step - loss: 1.0293 - accuracy: 0.4675 - val_loss: 1.0150 - val_accuracy: 0.4761\n",
      "Epoch 44/50\n",
      "215/215 [==============================] - 5s 23ms/step - loss: 1.0300 - accuracy: 0.4604 - val_loss: 1.0147 - val_accuracy: 0.4778\n",
      "Epoch 45/50\n",
      "215/215 [==============================] - 5s 23ms/step - loss: 1.0287 - accuracy: 0.4696 - val_loss: 1.0145 - val_accuracy: 0.4726\n",
      "Epoch 46/50\n",
      "215/215 [==============================] - 5s 23ms/step - loss: 1.0288 - accuracy: 0.4628 - val_loss: 1.0162 - val_accuracy: 0.4813\n",
      "Epoch 47/50\n",
      "215/215 [==============================] - 5s 23ms/step - loss: 1.0298 - accuracy: 0.4622 - val_loss: 1.0144 - val_accuracy: 0.4732\n",
      "Epoch 48/50\n",
      "215/215 [==============================] - 5s 23ms/step - loss: 1.0276 - accuracy: 0.4612 - val_loss: 1.0145 - val_accuracy: 0.4802\n",
      "Epoch 49/50\n",
      " 75/215 [=========>....................] - ETA: 3s - loss: 1.0257 - accuracy: 0.4633"
     ]
    }
   ],
   "source": [
    "# Build LSTM model\n",
    "##model.add(LSTM(units=50, activation='relu', input_shape=(X_train_lstm.shape[1], X_train_lstm.shape[2])))\n",
    "#model.add(Dense(units=1, activation='sigmoid'))  # Binary classification output layer\n",
    "\n",
    "#model.compile(optimizer='adam', loss='categorical_crossentropy', metrics=['accuracy'])\n",
    "\n",
    "# Fit the model\n",
    "history = model.fit(X_train_lstm, y_train, epochs=50, batch_size=32, validation_split=0.2)\n",
    "\n",
    "# Make predictions"
   ]
  },
  {
   "cell_type": "code",
   "execution_count": null,
   "id": "c1c81602-e5c8-4239-a6bd-41abb499c982",
   "metadata": {
    "tags": []
   },
   "outputs": [],
   "source": [
    "# Assuming X_test_lstm and y_test are your test data\n",
    "evaluation = model.evaluate(X_test_lstm, y_test)\n",
    "print(f\"Test Loss: {evaluation[0]}, Test Accuracy: {evaluation[1]}\")\n"
   ]
  },
  {
   "cell_type": "code",
   "execution_count": null,
   "id": "f5c048b0-1622-4d38-a696-f9014699007d",
   "metadata": {
    "tags": []
   },
   "outputs": [],
   "source": [
    "import matplotlib.pyplot as plt\n",
    "\n",
    "# Plot training history\n",
    "plt.plot(history.history['accuracy'], label='Training Accuracy')\n",
    "plt.plot(history.history['val_accuracy'], label='Validation Accuracy')\n",
    "plt.title('Training and Validation Accuracy')\n",
    "plt.xlabel('Epochs')\n",
    "plt.ylabel('Accuracy')\n",
    "plt.legend()\n",
    "plt.show()\n"
   ]
  },
  {
   "cell_type": "code",
   "execution_count": null,
   "id": "12f0ee4d-ad73-4317-a7b7-45dc374de5ea",
   "metadata": {
    "tags": []
   },
   "outputs": [],
   "source": [
    "\n",
    "# Get model predictions on the test set\n",
    "predictions = model.predict(X_test_lstm)\n",
    "predicted_classes = np.argmax(predictions, axis=1)\n",
    "\n",
    "# Create confusion matrix\n",
    "conf_matrix = confusion_matrix(y_test, predicted_classes)\n",
    "\n",
    "# Plot confusion matrix using seaborn\n",
    "plt.figure(figsize=(8, 6))\n",
    "sns.heatmap(conf_matrix, annot=True, fmt='d', cmap='Blues', xticklabels=[0, 1, 2], yticklabels=[0, 1, 2])\n",
    "plt.title('Confusion Matrix')\n",
    "plt.xlabel('Predicted')\n",
    "plt.ylabel('Actual')\n",
    "plt.show()\n"
   ]
  },
  {
   "cell_type": "code",
   "execution_count": null,
   "id": "605e2313-7ecb-4c58-a55e-bec80c2a2ab4",
   "metadata": {
    "tags": []
   },
   "outputs": [],
   "source": [
    "from sklearn.metrics import classification_report\n",
    "\n",
    "# Print classification report\n",
    "print(classification_report(y_test, predicted_classes))\n"
   ]
  },
  {
   "cell_type": "code",
   "execution_count": null,
   "id": "fb936c97-bf18-4f1a-ad75-1917cd6eefd4",
   "metadata": {
    "tags": []
   },
   "outputs": [],
   "source": [
    "y_test"
   ]
  },
  {
   "cell_type": "code",
   "execution_count": null,
   "id": "c69ed6f0-4b30-4c22-bb18-14451a0f3dbd",
   "metadata": {},
   "outputs": [],
   "source": []
  }
 ],
 "metadata": {
  "kernelspec": {
   "display_name": "Python 3 (ipykernel)",
   "language": "python",
   "name": "python3"
  },
  "language_info": {
   "codemirror_mode": {
    "name": "ipython",
    "version": 3
   },
   "file_extension": ".py",
   "mimetype": "text/x-python",
   "name": "python",
   "nbconvert_exporter": "python",
   "pygments_lexer": "ipython3",
   "version": "3.11.3"
  }
 },
 "nbformat": 4,
 "nbformat_minor": 5
}
