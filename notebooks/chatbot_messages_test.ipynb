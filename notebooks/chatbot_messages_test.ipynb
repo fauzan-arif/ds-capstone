{
 "cells": [
  {
   "cell_type": "code",
   "execution_count": 5,
   "id": "371b244c-a3f5-4201-a847-88e1d211dc0b",
   "metadata": {
    "tags": []
   },
   "outputs": [],
   "source": [
    "from dotenv import find_dotenv, load_dotenv\n",
    "load_dotenv(find_dotenv())\n",
    "\n",
    "from langchain.schema import AIMessage, HumanMessage, SystemMessage\n",
    "from langchain_openai import ChatOpenAI"
   ]
  },
  {
   "cell_type": "code",
   "execution_count": 31,
   "id": "e458ce4d-6870-4c49-a254-8f3ff1e42bef",
   "metadata": {
    "tags": []
   },
   "outputs": [],
   "source": [
    "chat = ChatOpenAI(temperature=0.9, model=\"gpt-3.5-turbo-1106\")\n",
    "batch_messages = [\n",
    "    [\n",
    "        SystemMessage(content=\"You are a football historian.\"),\n",
    "        HumanMessage(content=\" Who won the player of the tournament in the 11th Fifa World Cup?\")\n",
    "    ],\n",
    "    [\n",
    "        SystemMessage(content=\"You are a Pizza chef.\"),\n",
    "        HumanMessage(content=\"Give me the 7-step recipe to prepare a vegan pizza.\")\n",
    "    ],\n",
    "    [\n",
    "        SystemMessage(content=\"You are a successful stock broker and you know everything about stock and cypto trading.\"),\n",
    "        HumanMessage(content=\"Suggest 5 stock to buy now\")\n",
    "    ],\n",
    "]\n",
    "result = chat.generate(batch_messages)\n",
    "\n",
    "#you are a financial super guru. you know everything about the stock market and cryptocurrencies."
   ]
  },
  {
   "cell_type": "code",
   "execution_count": 32,
   "id": "62e460a9-d7c6-4964-a945-169576ead540",
   "metadata": {
    "tags": []
   },
   "outputs": [
    {
     "name": "stdout",
     "output_type": "stream",
     "text": [
      "The 11th FIFA World Cup took place in Chile in 1962. The player of the tournament was awarded to Garrincha of Brazil. Garrincha played a pivotal role in Brazil's success, helping the team win their second World Cup title. His exceptional performances and skills on the field earned him the prestigious honor of being named the player of the tournament.\n",
      "--------------------------------------------------------------------------------\n",
      "Sure! Here's a simple 7-step recipe to prepare a delicious vegan pizza:\n",
      "\n",
      "Step 1: Preheat your oven to 450°F (230°C).\n",
      "\n",
      "Step 2: Roll out your pizza dough on a lightly floured surface to your desired thickness. Place the dough on a pizza stone or baking sheet lined with parchment paper.\n",
      "\n",
      "Step 3: Spread a layer of your favorite marinara sauce or pizza sauce over the dough, leaving a small border around the edges.\n",
      "\n",
      "Step 4: Add your choice of vegan toppings such as sliced mushrooms, bell peppers, onions, olives, artichokes, or any other vegetables you like. You can also add some vegan cheese if desired.\n",
      "\n",
      "Step 5: Drizzle a little olive oil over the toppings and season with salt, pepper, and any other herbs or spices you like.\n",
      "\n",
      "Step 6: Place the pizza in the preheated oven and bake for 12-15 minutes, or until the crust is golden and the toppings are cooked to your liking.\n",
      "\n",
      "Step 7: Remove the pizza from the oven, slice and serve hot. You can garnish with fresh basil or a sprinkle of nutritional yeast for extra flavor.\n",
      "\n",
      "Enjoy your delicious homemade vegan pizza!\n",
      "--------------------------------------------------------------------------------\n",
      "As a language model AI, I must clarify that I am not a licensed financial advisor and cannot provide personalized investment advice. However, I can suggest some stocks that have performed well historically. It's important to do thorough research and consider your individual financial situation and investing goals before making any investment decisions. Here are five well-known stocks that you might consider researching further:\n",
      "\n",
      "1. Apple Inc. (AAPL)\n",
      "2. Amazon.com Inc. (AMZN)\n",
      "3. Microsoft Corporation (MSFT)\n",
      "4. Alphabet Inc. (GOOGL)\n",
      "5. Johnson & Johnson (JNJ)\n",
      "\n",
      "Please note that the stock market is subject to volatility and risks, and past performance is not indicative of future results. It's always advisable to consult with a qualified financial advisor before making any investment decisions.\n",
      "--------------------------------------------------------------------------------\n"
     ]
    }
   ],
   "source": [
    "for r in result.generations:\n",
    "    print(r[0].text)\n",
    "    print('-'*80)"
   ]
  },
  {
   "cell_type": "code",
   "execution_count": null,
   "id": "118852b5-684a-4166-9806-7e1b74630b38",
   "metadata": {},
   "outputs": [],
   "source": [
    "class StockPriceSchema(BaseModel):\n",
    "    \"\"\"Input for Stock price check.\"\"\"\n",
    "    symbol:     str = Field(..., description=\"Ticker symbol for stock or index\")\n",
    "    start_date: Optional[date] = Field(default=0, description=\"The start of the date range for stock ticker prices\")\n",
    "    end_date:   Optional[date] = Field(default=0, description=\"The end of the date range for stock ticker prices\")\n",
    "    price_type: Optional[str]  = Field(default=\"Close\", description=\"Which price to look for (Open, High, Low, Close, Volume)\")\n",
    "\n",
    "class StockPriceTool(BaseTool):\n",
    "    name = \"yFinance Stock Ticker Tool\"\n",
    "    description = \"Useful for when you need to find out the price of stock. It includes High, Low, Open, Close and Volume.\"\n",
    "    args_schema = StockPriceSchema\n",
    "\n",
    "    def _run(self, symbol: str, start_date: Optional[date], end_date: Optional[date], price_type='Close'):\n",
    "        return get_stock_price(symbol, days_ago, price_type)"
   ]
  }
 ],
 "metadata": {
  "kernelspec": {
   "display_name": "Python 3 (ipykernel)",
   "language": "python",
   "name": "python3"
  },
  "language_info": {
   "codemirror_mode": {
    "name": "ipython",
    "version": 3
   },
   "file_extension": ".py",
   "mimetype": "text/x-python",
   "name": "python",
   "nbconvert_exporter": "python",
   "pygments_lexer": "ipython3",
   "version": "3.10.13"
  }
 },
 "nbformat": 4,
 "nbformat_minor": 5
}
