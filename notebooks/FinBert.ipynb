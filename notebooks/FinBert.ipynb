{
 "cells": [
  {
   "cell_type": "code",
   "execution_count": 2,
   "id": "a03e1992-c17f-46c1-a82d-9e452e1b1776",
   "metadata": {},
   "outputs": [],
   "source": [
    "import numpy as np\n",
    "import pandas as pd\n",
    "import torch\n",
    "import yfinance as yf\n",
    "from transformers import BertTokenizer, BertForSequenceClassification, pipeline\n",
    "\n",
    "\n",
    "# alpha_vantage_api_key = 'HK6KNGAQDDCSD12W'\n",
    "#https://www.alphavantage.co/query?function=NEWS_SENTIMENT&tickers=AAPL&apikey=HK6KNGAQDDCSD12W\n",
    "\n",
    "#https://alternativeto.net/software/stonks-news/about/"
   ]
  },
  {
   "cell_type": "code",
   "execution_count": 24,
   "id": "cd9a4eea-66c1-499f-9145-12636d5f14e3",
   "metadata": {
    "tags": []
   },
   "outputs": [],
   "source": [
    "#model_name = \"ProsusAI/finbert\"\n",
    "model_name = \"yiyanghkust/finbert-tone\"\n",
    "\n",
    "\n",
    "finbert   = BertForSequenceClassification.from_pretrained(model_name, num_labels=3)\n",
    "tokenizer = BertTokenizer.from_pretrained(model_name)\n",
    "nlp       = pipeline(\"text-classification\", model=finbert, tokenizer=tokenizer)"
   ]
  },
  {
   "cell_type": "code",
   "execution_count": 38,
   "id": "49e86e8c-85f3-410f-be88-02630421acdc",
   "metadata": {
    "tags": []
   },
   "outputs": [
    {
     "data": {
      "text/plain": [
       "[{'label': 'Neutral', 'score': 0.992717981338501},\n",
       " {'label': 'Positive', 'score': 0.8864715695381165},\n",
       " {'label': 'Neutral', 'score': 0.7562965154647827},\n",
       " {'label': 'Neutral', 'score': 0.9999681711196899},\n",
       " {'label': 'Positive', 'score': 0.9999994039535522},\n",
       " {'label': 'Neutral', 'score': 0.9973230957984924},\n",
       " {'label': 'Neutral', 'score': 0.999326229095459},\n",
       " {'label': 'Positive', 'score': 0.9999997615814209}]"
      ]
     },
     "execution_count": 38,
     "metadata": {},
     "output_type": "execute_result"
    }
   ],
   "source": [
    "class NewsClassifier():\n",
    "    def __init__(self, model=\"yiyanghkust/finbert-tone\"):\n",
    "        self.finbert   = BertForSequenceClassification.from_pretrained(model, num_labels=3)\n",
    "        self.tokenizer = BertTokenizer.from_pretrained(model)\n",
    "\n",
    "    @property\n",
    "    def nlp(self):\n",
    "        return pipeline(\"text-classification\", model=self.finbert, tokenizer=self.tokenizer)\n",
    "\n",
    "    def sentiment_for(self, title):\n",
    "        return self.nlp(title)\n",
    "    \n",
    "\n",
    "NewsClassifier().sentiment_for('Fears Of Negative Clinical Trial Result Dragged Edwards Lifesciences Corporation (EW) in Q3')\n",
    "NewsClassifier().sentiment_for([n['title'] for n in yf.Ticker('TXN').news])"
   ]
  },
  {
   "cell_type": "code",
   "execution_count": 29,
   "id": "81c55aa3-5cf6-43d9-a945-85ecf7be6bbc",
   "metadata": {
    "tags": []
   },
   "outputs": [
    {
     "data": {
      "text/plain": [
       "[{'label': 'Neutral', 'score': 0.992717981338501},\n",
       " {'label': 'Positive', 'score': 0.8864715695381165},\n",
       " {'label': 'Neutral', 'score': 0.7562965154647827},\n",
       " {'label': 'Neutral', 'score': 0.9999681711196899},\n",
       " {'label': 'Positive', 'score': 0.9999994039535522},\n",
       " {'label': 'Neutral', 'score': 0.9973230957984924},\n",
       " {'label': 'Neutral', 'score': 0.999326229095459},\n",
       " {'label': 'Positive', 'score': 0.9999997615814209}]"
      ]
     },
     "execution_count": 29,
     "metadata": {},
     "output_type": "execute_result"
    }
   ],
   "source": [
    "#finance_news = pd.read_csv('../data/rss_fin.csv')\n",
    "finance_news = yf.Ticker('TXN').news\n",
    "all_titles=[]\n",
    "for news in finance_news:\n",
    "    results = nlp(news['title'])\n",
    "    all_titles.append(news['title'])\n",
    "    print(news['title'])\n",
    "    print(results)\n",
    "    print('-'*50)\n",
    "    \n",
    "    \n",
    "#NewsClassifier().sentiment_for(all_titles)"
   ]
  },
  {
   "cell_type": "code",
   "execution_count": null,
   "id": "6c2d874c-83d1-46f4-a9fb-660cb09fb1fc",
   "metadata": {
    "tags": []
   },
   "outputs": [],
   "source": []
  },
  {
   "cell_type": "code",
   "execution_count": 34,
   "id": "1282c01d-ff2b-46ff-be28-89cea6f50432",
   "metadata": {
    "tags": []
   },
   "outputs": [
    {
     "ename": "NameError",
     "evalue": "name 'X' is not defined",
     "output_type": "error",
     "traceback": [
      "\u001b[0;31m---------------------------------------------------------------------------\u001b[0m",
      "\u001b[0;31mNameError\u001b[0m                                 Traceback (most recent call last)",
      "Cell \u001b[0;32mIn[34], line 2\u001b[0m\n\u001b[1;32m      1\u001b[0m sent_val \u001b[38;5;241m=\u001b[39m \u001b[38;5;28mlist\u001b[39m()\n\u001b[0;32m----> 2\u001b[0m \u001b[38;5;28;01mfor\u001b[39;00m x \u001b[38;5;129;01min\u001b[39;00m \u001b[43mX\u001b[49m:\n\u001b[1;32m      3\u001b[0m     inputs \u001b[38;5;241m=\u001b[39m tokenizer(x, return_tensors\u001b[38;5;241m=\u001b[39m\u001b[38;5;124m\"\u001b[39m\u001b[38;5;124mpt\u001b[39m\u001b[38;5;124m\"\u001b[39m, padding\u001b[38;5;241m=\u001b[39m\u001b[38;5;28;01mTrue\u001b[39;00m)\n\u001b[1;32m      4\u001b[0m     outputs \u001b[38;5;241m=\u001b[39m finbert(\u001b[38;5;241m*\u001b[39m\u001b[38;5;241m*\u001b[39minputs)[\u001b[38;5;241m0\u001b[39m]\n",
      "\u001b[0;31mNameError\u001b[0m: name 'X' is not defined"
     ]
    }
   ],
   "source": [
    "sent_val = list()\n",
    "for x in X:\n",
    "    inputs = tokenizer(x, return_tensors=\"pt\", padding=True)\n",
    "    outputs = finbert(**inputs)[0]\n",
    "\n",
    "    df.append(column_names_row, ignore_index=True)   \n",
    "\n",
    "    val = labels[np.argmax(outputs.detach().numpy())]\n",
    "    \n",
    "    print(x, '----', val)\n",
    "    print('#######################################################')    \n",
    "    sent_val.append(val)"
   ]
  },
  {
   "cell_type": "code",
   "execution_count": 35,
   "id": "07095c96-cc77-4a70-9ae9-79cf4396d556",
   "metadata": {
    "tags": []
   },
   "outputs": [
    {
     "name": "stdout",
     "output_type": "stream",
     "text": [
      "there is a shortage of capital, and we need extra financing ---- negative\n",
      "growth is strong and we have plenty of liquidity ---- positive\n",
      "there are doubts about our finances ---- negative\n",
      "profits are flat ---- neutral\n"
     ]
    },
    {
     "data": {
      "text/plain": [
       "'\\nthere is a shortage of capital, and we need extra financing ---- negative\\ngrowth is strong and we have plenty of liquidity ---- positive\\nthere are doubts about our finances ---- negative\\nprofits are flat ---- neutral\\n'"
      ]
     },
     "execution_count": 35,
     "metadata": {},
     "output_type": "execute_result"
    }
   ],
   "source": [
    "sentences = [\"there is a shortage of capital, and we need extra financing\", \n",
    "             \"growth is strong and we have plenty of liquidity\", \n",
    "             \"there are doubts about our finances\", \n",
    "             \"profits are flat\"]\n",
    "\n",
    "inputs = tokenizer(sentences, return_tensors=\"pt\", padding=True)\n",
    "outputs = finbert(**inputs)[0]\n",
    "\n",
    "labels = {0:'neutral', 1:'positive',2:'negative'}\n",
    "for idx, sent in enumerate(sentences):\n",
    "    print(sent, '----', labels[np.argmax(outputs.detach().numpy()[idx])])\n",
    "    \n",
    "'''\n",
    "there is a shortage of capital, and we need extra financing ---- negative\n",
    "growth is strong and we have plenty of liquidity ---- positive\n",
    "there are doubts about our finances ---- negative\n",
    "profits are flat ---- neutral\n",
    "'''"
   ]
  }
 ],
 "metadata": {
  "kernelspec": {
   "display_name": "Python 3 (ipykernel)",
   "language": "python",
   "name": "python3"
  },
  "language_info": {
   "codemirror_mode": {
    "name": "ipython",
    "version": 3
   },
   "file_extension": ".py",
   "mimetype": "text/x-python",
   "name": "python",
   "nbconvert_exporter": "python",
   "pygments_lexer": "ipython3",
   "version": "3.11.3"
  }
 },
 "nbformat": 4,
 "nbformat_minor": 5
}
