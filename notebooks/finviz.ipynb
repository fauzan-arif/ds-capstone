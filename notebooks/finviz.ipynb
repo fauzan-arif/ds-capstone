{
 "cells": [
  {
   "cell_type": "code",
   "execution_count": 1,
   "id": "17d7e2e9-7d81-41e2-810d-050f511ea828",
   "metadata": {
    "tags": []
   },
   "outputs": [
    {
     "name": "stdout",
     "output_type": "stream",
     "text": [
      "Requirement already satisfied: pyfinviz in /Users/fauzanarif/Bootcamp/ds-capstone/.venv/lib/python3.11/site-packages (0.19)\n",
      "Requirement already satisfied: validators in /Users/fauzanarif/Bootcamp/ds-capstone/.venv/lib/python3.11/site-packages (from pyfinviz) (0.22.0)\n",
      "Requirement already satisfied: beautifulsoup4 in /Users/fauzanarif/Bootcamp/ds-capstone/.venv/lib/python3.11/site-packages (from pyfinviz) (4.12.2)\n",
      "Requirement already satisfied: free-proxy in /Users/fauzanarif/Bootcamp/ds-capstone/.venv/lib/python3.11/site-packages (from pyfinviz) (1.1.1)\n",
      "Requirement already satisfied: pandas in /Users/fauzanarif/Bootcamp/ds-capstone/.venv/lib/python3.11/site-packages (from pyfinviz) (2.0.1)\n",
      "Requirement already satisfied: numpy in /Users/fauzanarif/Bootcamp/ds-capstone/.venv/lib/python3.11/site-packages (from pyfinviz) (1.23.5)\n",
      "Requirement already satisfied: lxml in /Users/fauzanarif/Bootcamp/ds-capstone/.venv/lib/python3.11/site-packages (from pyfinviz) (4.9.3)\n",
      "Requirement already satisfied: requests in /Users/fauzanarif/Bootcamp/ds-capstone/.venv/lib/python3.11/site-packages (from pyfinviz) (2.31.0)\n",
      "Requirement already satisfied: soupsieve>1.2 in /Users/fauzanarif/Bootcamp/ds-capstone/.venv/lib/python3.11/site-packages (from beautifulsoup4->pyfinviz) (2.5)\n",
      "Requirement already satisfied: python-dateutil>=2.8.2 in /Users/fauzanarif/Bootcamp/ds-capstone/.venv/lib/python3.11/site-packages (from pandas->pyfinviz) (2.8.2)\n",
      "Requirement already satisfied: pytz>=2020.1 in /Users/fauzanarif/Bootcamp/ds-capstone/.venv/lib/python3.11/site-packages (from pandas->pyfinviz) (2023.3.post1)\n",
      "Requirement already satisfied: tzdata>=2022.1 in /Users/fauzanarif/Bootcamp/ds-capstone/.venv/lib/python3.11/site-packages (from pandas->pyfinviz) (2023.3)\n",
      "Requirement already satisfied: charset-normalizer<4,>=2 in /Users/fauzanarif/Bootcamp/ds-capstone/.venv/lib/python3.11/site-packages (from requests->pyfinviz) (3.3.2)\n",
      "Requirement already satisfied: idna<4,>=2.5 in /Users/fauzanarif/Bootcamp/ds-capstone/.venv/lib/python3.11/site-packages (from requests->pyfinviz) (3.6)\n",
      "Requirement already satisfied: urllib3<3,>=1.21.1 in /Users/fauzanarif/Bootcamp/ds-capstone/.venv/lib/python3.11/site-packages (from requests->pyfinviz) (2.1.0)\n",
      "Requirement already satisfied: certifi>=2017.4.17 in /Users/fauzanarif/Bootcamp/ds-capstone/.venv/lib/python3.11/site-packages (from requests->pyfinviz) (2023.11.17)\n",
      "Requirement already satisfied: six>=1.5 in /Users/fauzanarif/Bootcamp/ds-capstone/.venv/lib/python3.11/site-packages (from python-dateutil>=2.8.2->pandas->pyfinviz) (1.16.0)\n",
      "\n",
      "\u001b[1m[\u001b[0m\u001b[34;49mnotice\u001b[0m\u001b[1;39;49m]\u001b[0m\u001b[39;49m A new release of pip available: \u001b[0m\u001b[31;49m22.3.1\u001b[0m\u001b[39;49m -> \u001b[0m\u001b[32;49m23.3.2\u001b[0m\n",
      "\u001b[1m[\u001b[0m\u001b[34;49mnotice\u001b[0m\u001b[1;39;49m]\u001b[0m\u001b[39;49m To update, run: \u001b[0m\u001b[32;49mpip install --upgrade pip\u001b[0m\n",
      "Requirement already satisfied: transformers in /Users/fauzanarif/Bootcamp/ds-capstone/.venv/lib/python3.11/site-packages (4.36.2)\n",
      "Requirement already satisfied: filelock in /Users/fauzanarif/Bootcamp/ds-capstone/.venv/lib/python3.11/site-packages (from transformers) (3.13.1)\n",
      "Requirement already satisfied: huggingface-hub<1.0,>=0.19.3 in /Users/fauzanarif/Bootcamp/ds-capstone/.venv/lib/python3.11/site-packages (from transformers) (0.20.2)\n",
      "Requirement already satisfied: numpy>=1.17 in /Users/fauzanarif/Bootcamp/ds-capstone/.venv/lib/python3.11/site-packages (from transformers) (1.23.5)\n",
      "Requirement already satisfied: packaging>=20.0 in /Users/fauzanarif/Bootcamp/ds-capstone/.venv/lib/python3.11/site-packages (from transformers) (23.2)\n",
      "Requirement already satisfied: pyyaml>=5.1 in /Users/fauzanarif/Bootcamp/ds-capstone/.venv/lib/python3.11/site-packages (from transformers) (6.0.1)\n",
      "Requirement already satisfied: regex!=2019.12.17 in /Users/fauzanarif/Bootcamp/ds-capstone/.venv/lib/python3.11/site-packages (from transformers) (2023.12.25)\n",
      "Requirement already satisfied: requests in /Users/fauzanarif/Bootcamp/ds-capstone/.venv/lib/python3.11/site-packages (from transformers) (2.31.0)\n",
      "Requirement already satisfied: tokenizers<0.19,>=0.14 in /Users/fauzanarif/Bootcamp/ds-capstone/.venv/lib/python3.11/site-packages (from transformers) (0.15.0)\n",
      "Requirement already satisfied: safetensors>=0.3.1 in /Users/fauzanarif/Bootcamp/ds-capstone/.venv/lib/python3.11/site-packages (from transformers) (0.4.1)\n",
      "Requirement already satisfied: tqdm>=4.27 in /Users/fauzanarif/Bootcamp/ds-capstone/.venv/lib/python3.11/site-packages (from transformers) (4.66.1)\n",
      "Requirement already satisfied: fsspec>=2023.5.0 in /Users/fauzanarif/Bootcamp/ds-capstone/.venv/lib/python3.11/site-packages (from huggingface-hub<1.0,>=0.19.3->transformers) (2023.12.2)\n",
      "Requirement already satisfied: typing-extensions>=3.7.4.3 in /Users/fauzanarif/Bootcamp/ds-capstone/.venv/lib/python3.11/site-packages (from huggingface-hub<1.0,>=0.19.3->transformers) (4.9.0)\n",
      "Requirement already satisfied: charset-normalizer<4,>=2 in /Users/fauzanarif/Bootcamp/ds-capstone/.venv/lib/python3.11/site-packages (from requests->transformers) (3.3.2)\n",
      "Requirement already satisfied: idna<4,>=2.5 in /Users/fauzanarif/Bootcamp/ds-capstone/.venv/lib/python3.11/site-packages (from requests->transformers) (3.6)\n",
      "Requirement already satisfied: urllib3<3,>=1.21.1 in /Users/fauzanarif/Bootcamp/ds-capstone/.venv/lib/python3.11/site-packages (from requests->transformers) (2.1.0)\n",
      "Requirement already satisfied: certifi>=2017.4.17 in /Users/fauzanarif/Bootcamp/ds-capstone/.venv/lib/python3.11/site-packages (from requests->transformers) (2023.11.17)\n",
      "\n",
      "\u001b[1m[\u001b[0m\u001b[34;49mnotice\u001b[0m\u001b[1;39;49m]\u001b[0m\u001b[39;49m A new release of pip available: \u001b[0m\u001b[31;49m22.3.1\u001b[0m\u001b[39;49m -> \u001b[0m\u001b[32;49m23.3.2\u001b[0m\n",
      "\u001b[1m[\u001b[0m\u001b[34;49mnotice\u001b[0m\u001b[1;39;49m]\u001b[0m\u001b[39;49m To update, run: \u001b[0m\u001b[32;49mpip install --upgrade pip\u001b[0m\n",
      "Requirement already satisfied: torch in /Users/fauzanarif/Bootcamp/ds-capstone/.venv/lib/python3.11/site-packages (2.1.2)\n",
      "Requirement already satisfied: filelock in /Users/fauzanarif/Bootcamp/ds-capstone/.venv/lib/python3.11/site-packages (from torch) (3.13.1)\n",
      "Requirement already satisfied: typing-extensions in /Users/fauzanarif/Bootcamp/ds-capstone/.venv/lib/python3.11/site-packages (from torch) (4.9.0)\n",
      "Requirement already satisfied: sympy in /Users/fauzanarif/Bootcamp/ds-capstone/.venv/lib/python3.11/site-packages (from torch) (1.12)\n",
      "Requirement already satisfied: networkx in /Users/fauzanarif/Bootcamp/ds-capstone/.venv/lib/python3.11/site-packages (from torch) (3.2.1)\n",
      "Requirement already satisfied: jinja2 in /Users/fauzanarif/Bootcamp/ds-capstone/.venv/lib/python3.11/site-packages (from torch) (3.1.2)\n",
      "Requirement already satisfied: fsspec in /Users/fauzanarif/Bootcamp/ds-capstone/.venv/lib/python3.11/site-packages (from torch) (2023.12.2)\n",
      "Requirement already satisfied: MarkupSafe>=2.0 in /Users/fauzanarif/Bootcamp/ds-capstone/.venv/lib/python3.11/site-packages (from jinja2->torch) (2.1.3)\n",
      "Requirement already satisfied: mpmath>=0.19 in /Users/fauzanarif/Bootcamp/ds-capstone/.venv/lib/python3.11/site-packages (from sympy->torch) (1.3.0)\n",
      "\n",
      "\u001b[1m[\u001b[0m\u001b[34;49mnotice\u001b[0m\u001b[1;39;49m]\u001b[0m\u001b[39;49m A new release of pip available: \u001b[0m\u001b[31;49m22.3.1\u001b[0m\u001b[39;49m -> \u001b[0m\u001b[32;49m23.3.2\u001b[0m\n",
      "\u001b[1m[\u001b[0m\u001b[34;49mnotice\u001b[0m\u001b[1;39;49m]\u001b[0m\u001b[39;49m To update, run: \u001b[0m\u001b[32;49mpip install --upgrade pip\u001b[0m\n"
     ]
    }
   ],
   "source": [
    "!pip install pyfinviz\n",
    "!pip install transformers\n",
    "!pip install torch"
   ]
  },
  {
   "cell_type": "code",
   "execution_count": 1,
   "id": "122d5db5-0ce2-4e61-8387-54640e959962",
   "metadata": {},
   "outputs": [
    {
     "name": "stderr",
     "output_type": "stream",
     "text": [
      "/Users/fauzanarif/Bootcamp/ds-capstone/.venv/lib/python3.11/site-packages/tqdm/auto.py:21: TqdmWarning: IProgress not found. Please update jupyter and ipywidgets. See https://ipywidgets.readthedocs.io/en/stable/user_install.html\n",
      "  from .autonotebook import tqdm as notebook_tqdm\n"
     ]
    }
   ],
   "source": [
    "from pyfinviz.quote import Quote\n",
    "import pandas as pd\n",
    "import scipy\n",
    "import seaborn as sns\n",
    "import matplotlib.pyplot as plt\n",
    "from sklearn.metrics import accuracy_score, classification_report, confusion_matrix, roc_auc_score\n",
    "import torch\n",
    "from transformers import AutoTokenizer, AutoModelForSequenceClassification"
   ]
  },
  {
   "cell_type": "code",
   "execution_count": 2,
   "id": "61506a95-1f77-4e40-bbf5-e3a16a30bf50",
   "metadata": {
    "tags": []
   },
   "outputs": [],
   "source": [
    "quote = Quote(ticker=\"AMZN\")"
   ]
  },
  {
   "cell_type": "code",
   "execution_count": 4,
   "id": "cc935916-9d64-41f8-aa4c-7f29bb177e9c",
   "metadata": {
    "tags": []
   },
   "outputs": [],
   "source": [
    "df_news = quote.outer_news_df  # 0   Jan-04-21 10:20PM  ...                   Bloomberg\n",
    "#print(quote.income_statement_df)  # 1      12/31/2019  ...                    22.99206\n",
    "#print(quote.insider_trading_df)  # 0         WILKE JEFFREY A  ...  http://www.sec.gov/Archives/edgar/data/1018724..."
   ]
  },
  {
   "cell_type": "code",
   "execution_count": 5,
   "id": "46f69a0c-3bbc-4a40-b4b2-e39051324442",
   "metadata": {
    "tags": []
   },
   "outputs": [
    {
     "data": {
      "text/html": [
       "<div>\n",
       "<style scoped>\n",
       "    .dataframe tbody tr th:only-of-type {\n",
       "        vertical-align: middle;\n",
       "    }\n",
       "\n",
       "    .dataframe tbody tr th {\n",
       "        vertical-align: top;\n",
       "    }\n",
       "\n",
       "    .dataframe thead th {\n",
       "        text-align: right;\n",
       "    }\n",
       "</style>\n",
       "<table border=\"1\" class=\"dataframe\">\n",
       "  <thead>\n",
       "    <tr style=\"text-align: right;\">\n",
       "      <th></th>\n",
       "      <th>Date</th>\n",
       "      <th>Headline</th>\n",
       "      <th>URL</th>\n",
       "      <th>From</th>\n",
       "    </tr>\n",
       "  </thead>\n",
       "  <tbody>\n",
       "    <tr>\n",
       "      <th>0</th>\n",
       "      <td>01-21-2024 10:00AM</td>\n",
       "      <td>Netflix Has Its Own Tough Act to Follow</td>\n",
       "      <td>https://finance.yahoo.com/m/7a87e061-1459-316c...</td>\n",
       "      <td>(The Wall Street Journal)</td>\n",
       "    </tr>\n",
       "    <tr>\n",
       "      <th>1</th>\n",
       "      <td>01-21-2024 09:34AM</td>\n",
       "      <td>Amazon Did $143 Billion in Q3 Revenue, but Her...</td>\n",
       "      <td>https://finance.yahoo.com/m/fe620463-7ee3-3827...</td>\n",
       "      <td>(Motley Fool)</td>\n",
       "    </tr>\n",
       "    <tr>\n",
       "      <th>2</th>\n",
       "      <td>01-21-2024 08:30AM</td>\n",
       "      <td>History Suggests the Nasdaq Will Surge in 2024...</td>\n",
       "      <td>https://finance.yahoo.com/m/47108420-ce28-3634...</td>\n",
       "      <td>(Motley Fool)</td>\n",
       "    </tr>\n",
       "    <tr>\n",
       "      <th>3</th>\n",
       "      <td>01-21-2024 07:36AM</td>\n",
       "      <td>3 Stocks You Can Confidently Buy After a Marke...</td>\n",
       "      <td>https://finance.yahoo.com/m/004fe837-582e-3a7e...</td>\n",
       "      <td>(Motley Fool)</td>\n",
       "    </tr>\n",
       "    <tr>\n",
       "      <th>4</th>\n",
       "      <td>01-21-2024 07:01AM</td>\n",
       "      <td>11 Stocks That Will Make You Rich in 5-10 Years</td>\n",
       "      <td>https://finance.yahoo.com/news/11-stocks-rich-...</td>\n",
       "      <td>(Insider Monkey)</td>\n",
       "    </tr>\n",
       "    <tr>\n",
       "      <th>...</th>\n",
       "      <td>...</td>\n",
       "      <td>...</td>\n",
       "      <td>...</td>\n",
       "      <td>...</td>\n",
       "    </tr>\n",
       "    <tr>\n",
       "      <th>95</th>\n",
       "      <td>Jan-16-24 07:30AM</td>\n",
       "      <td>If You'd Invest $350,000 in the \"Magnificent S...</td>\n",
       "      <td>https://finance.yahoo.com/m/f0193758-0d4e-3a27...</td>\n",
       "      <td>(Motley Fool)</td>\n",
       "    </tr>\n",
       "    <tr>\n",
       "      <th>96</th>\n",
       "      <td>Jan-16-24 07:30AM</td>\n",
       "      <td>If You Invest $350,000 in the \"Magnificent Sev...</td>\n",
       "      <td>https://finance.yahoo.com/m/f0193758-0d4e-3a27...</td>\n",
       "      <td>(Motley Fool)</td>\n",
       "    </tr>\n",
       "    <tr>\n",
       "      <th>97</th>\n",
       "      <td>Jan-16-24 06:45AM</td>\n",
       "      <td>Don't Sweat It! Layoffs Aren't a Reason to Aba...</td>\n",
       "      <td>https://investorplace.com/market360/2024/01/do...</td>\n",
       "      <td>(InvestorPlace)</td>\n",
       "    </tr>\n",
       "    <tr>\n",
       "      <th>98</th>\n",
       "      <td>Jan-16-24 06:15AM</td>\n",
       "      <td>1 Artificial Intelligence (AI) Stock That Has ...</td>\n",
       "      <td>https://finance.yahoo.com/m/fdb2ec58-8abf-3662...</td>\n",
       "      <td>(Motley Fool)</td>\n",
       "    </tr>\n",
       "    <tr>\n",
       "      <th>99</th>\n",
       "      <td>Jan-16-24 05:21AM</td>\n",
       "      <td>The Once High-Flying Stock-Split Stock to Avoi...</td>\n",
       "      <td>https://finance.yahoo.com/m/dce70f39-8143-39ce...</td>\n",
       "      <td>(Motley Fool)</td>\n",
       "    </tr>\n",
       "  </tbody>\n",
       "</table>\n",
       "<p>100 rows × 4 columns</p>\n",
       "</div>"
      ],
      "text/plain": [
       "                  Date                                           Headline   \n",
       "0   01-21-2024 10:00AM            Netflix Has Its Own Tough Act to Follow  \\\n",
       "1   01-21-2024 09:34AM  Amazon Did $143 Billion in Q3 Revenue, but Her...   \n",
       "2   01-21-2024 08:30AM  History Suggests the Nasdaq Will Surge in 2024...   \n",
       "3   01-21-2024 07:36AM  3 Stocks You Can Confidently Buy After a Marke...   \n",
       "4   01-21-2024 07:01AM    11 Stocks That Will Make You Rich in 5-10 Years   \n",
       "..                 ...                                                ...   \n",
       "95   Jan-16-24 07:30AM  If You'd Invest $350,000 in the \"Magnificent S...   \n",
       "96   Jan-16-24 07:30AM  If You Invest $350,000 in the \"Magnificent Sev...   \n",
       "97   Jan-16-24 06:45AM  Don't Sweat It! Layoffs Aren't a Reason to Aba...   \n",
       "98   Jan-16-24 06:15AM  1 Artificial Intelligence (AI) Stock That Has ...   \n",
       "99   Jan-16-24 05:21AM  The Once High-Flying Stock-Split Stock to Avoi...   \n",
       "\n",
       "                                                  URL   \n",
       "0   https://finance.yahoo.com/m/7a87e061-1459-316c...  \\\n",
       "1   https://finance.yahoo.com/m/fe620463-7ee3-3827...   \n",
       "2   https://finance.yahoo.com/m/47108420-ce28-3634...   \n",
       "3   https://finance.yahoo.com/m/004fe837-582e-3a7e...   \n",
       "4   https://finance.yahoo.com/news/11-stocks-rich-...   \n",
       "..                                                ...   \n",
       "95  https://finance.yahoo.com/m/f0193758-0d4e-3a27...   \n",
       "96  https://finance.yahoo.com/m/f0193758-0d4e-3a27...   \n",
       "97  https://investorplace.com/market360/2024/01/do...   \n",
       "98  https://finance.yahoo.com/m/fdb2ec58-8abf-3662...   \n",
       "99  https://finance.yahoo.com/m/dce70f39-8143-39ce...   \n",
       "\n",
       "                         From  \n",
       "0   (The Wall Street Journal)  \n",
       "1               (Motley Fool)  \n",
       "2               (Motley Fool)  \n",
       "3               (Motley Fool)  \n",
       "4            (Insider Monkey)  \n",
       "..                        ...  \n",
       "95              (Motley Fool)  \n",
       "96              (Motley Fool)  \n",
       "97            (InvestorPlace)  \n",
       "98              (Motley Fool)  \n",
       "99              (Motley Fool)  \n",
       "\n",
       "[100 rows x 4 columns]"
      ]
     },
     "execution_count": 5,
     "metadata": {},
     "output_type": "execute_result"
    }
   ],
   "source": [
    "df_news"
   ]
  },
  {
   "cell_type": "code",
   "execution_count": 7,
   "id": "105f0d93-0cab-4d8f-9c80-2d0842dd92f3",
   "metadata": {
    "tags": []
   },
   "outputs": [],
   "source": [
    "# Downloading and instantiating model\n",
    "tokenizer = AutoTokenizer.from_pretrained(\"ProsusAI/finbert\")\n",
    "model = AutoModelForSequenceClassification.from_pretrained(\"ProsusAI/finbert\")"
   ]
  },
  {
   "cell_type": "code",
   "execution_count": 8,
   "id": "2bbc67e7-f07f-4420-9d9b-ed049c0ee04b",
   "metadata": {
    "tags": []
   },
   "outputs": [
    {
     "data": {
      "text/html": [
       "<div>\n",
       "<style scoped>\n",
       "    .dataframe tbody tr th:only-of-type {\n",
       "        vertical-align: middle;\n",
       "    }\n",
       "\n",
       "    .dataframe tbody tr th {\n",
       "        vertical-align: top;\n",
       "    }\n",
       "\n",
       "    .dataframe thead th {\n",
       "        text-align: right;\n",
       "    }\n",
       "</style>\n",
       "<table border=\"1\" class=\"dataframe\">\n",
       "  <thead>\n",
       "    <tr style=\"text-align: right;\">\n",
       "      <th></th>\n",
       "      <th>Date</th>\n",
       "      <th>Headline</th>\n",
       "      <th>URL</th>\n",
       "      <th>From</th>\n",
       "      <th>Sentiment</th>\n",
       "      <th>Negative_Probability</th>\n",
       "      <th>Neutral_Probability</th>\n",
       "      <th>Positive_Probability</th>\n",
       "    </tr>\n",
       "  </thead>\n",
       "  <tbody>\n",
       "    <tr>\n",
       "      <th>0</th>\n",
       "      <td>01-21-2024 10:00AM</td>\n",
       "      <td>Netflix Has Its Own Tough Act to Follow</td>\n",
       "      <td>https://finance.yahoo.com/m/7a87e061-1459-316c...</td>\n",
       "      <td>(The Wall Street Journal)</td>\n",
       "      <td>positive</td>\n",
       "      <td>0.035119</td>\n",
       "      <td>0.082248</td>\n",
       "      <td>0.882634</td>\n",
       "    </tr>\n",
       "    <tr>\n",
       "      <th>1</th>\n",
       "      <td>01-21-2024 09:34AM</td>\n",
       "      <td>Amazon Did $143 Billion in Q3 Revenue, but Her...</td>\n",
       "      <td>https://finance.yahoo.com/m/fe620463-7ee3-3827...</td>\n",
       "      <td>(Motley Fool)</td>\n",
       "      <td>positive</td>\n",
       "      <td>0.032470</td>\n",
       "      <td>0.029539</td>\n",
       "      <td>0.937992</td>\n",
       "    </tr>\n",
       "    <tr>\n",
       "      <th>2</th>\n",
       "      <td>01-21-2024 08:30AM</td>\n",
       "      <td>History Suggests the Nasdaq Will Surge in 2024...</td>\n",
       "      <td>https://finance.yahoo.com/m/47108420-ce28-3634...</td>\n",
       "      <td>(Motley Fool)</td>\n",
       "      <td>positive</td>\n",
       "      <td>0.484857</td>\n",
       "      <td>0.016098</td>\n",
       "      <td>0.499045</td>\n",
       "    </tr>\n",
       "    <tr>\n",
       "      <th>3</th>\n",
       "      <td>01-21-2024 07:36AM</td>\n",
       "      <td>3 Stocks You Can Confidently Buy After a Marke...</td>\n",
       "      <td>https://finance.yahoo.com/m/004fe837-582e-3a7e...</td>\n",
       "      <td>(Motley Fool)</td>\n",
       "      <td>positive</td>\n",
       "      <td>0.064145</td>\n",
       "      <td>0.051028</td>\n",
       "      <td>0.884827</td>\n",
       "    </tr>\n",
       "    <tr>\n",
       "      <th>4</th>\n",
       "      <td>01-21-2024 07:01AM</td>\n",
       "      <td>11 Stocks That Will Make You Rich in 5-10 Years</td>\n",
       "      <td>https://finance.yahoo.com/news/11-stocks-rich-...</td>\n",
       "      <td>(Insider Monkey)</td>\n",
       "      <td>positive</td>\n",
       "      <td>0.117490</td>\n",
       "      <td>0.011848</td>\n",
       "      <td>0.870663</td>\n",
       "    </tr>\n",
       "  </tbody>\n",
       "</table>\n",
       "</div>"
      ],
      "text/plain": [
       "                 Date                                           Headline   \n",
       "0  01-21-2024 10:00AM            Netflix Has Its Own Tough Act to Follow  \\\n",
       "1  01-21-2024 09:34AM  Amazon Did $143 Billion in Q3 Revenue, but Her...   \n",
       "2  01-21-2024 08:30AM  History Suggests the Nasdaq Will Surge in 2024...   \n",
       "3  01-21-2024 07:36AM  3 Stocks You Can Confidently Buy After a Marke...   \n",
       "4  01-21-2024 07:01AM    11 Stocks That Will Make You Rich in 5-10 Years   \n",
       "\n",
       "                                                 URL   \n",
       "0  https://finance.yahoo.com/m/7a87e061-1459-316c...  \\\n",
       "1  https://finance.yahoo.com/m/fe620463-7ee3-3827...   \n",
       "2  https://finance.yahoo.com/m/47108420-ce28-3634...   \n",
       "3  https://finance.yahoo.com/m/004fe837-582e-3a7e...   \n",
       "4  https://finance.yahoo.com/news/11-stocks-rich-...   \n",
       "\n",
       "                        From Sentiment  Negative_Probability   \n",
       "0  (The Wall Street Journal)  positive              0.035119  \\\n",
       "1              (Motley Fool)  positive              0.032470   \n",
       "2              (Motley Fool)  positive              0.484857   \n",
       "3              (Motley Fool)  positive              0.064145   \n",
       "4           (Insider Monkey)  positive              0.117490   \n",
       "\n",
       "   Neutral_Probability  Positive_Probability  \n",
       "0             0.082248              0.882634  \n",
       "1             0.029539              0.937992  \n",
       "2             0.016098              0.499045  \n",
       "3             0.051028              0.884827  \n",
       "4             0.011848              0.870663  "
      ]
     },
     "execution_count": 8,
     "metadata": {},
     "output_type": "execute_result"
    }
   ],
   "source": [
    "# Function to perform sentiment analysis\n",
    "def get_sentiment(text):\n",
    "    tokens = tokenizer(text, return_tensors=\"pt\")\n",
    "    with torch.no_grad():\n",
    "        outputs = model(**tokens)\n",
    "    probabilities = torch.softmax(outputs.logits, dim=1).detach().numpy()\n",
    "    predicted_class = torch.argmax(outputs.logits, dim=1).item()\n",
    "    sentiment_classes = ['negative', 'neutral', 'positive']\n",
    "    predicted_sentiment = sentiment_classes[predicted_class]\n",
    "    return predicted_sentiment, probabilities[0][0], probabilities[0][1], probabilities[0][2]\n",
    "\n",
    "# Apply sentiment analysis to all headlines\n",
    "df_news[['Sentiment', 'Negative_Probability', 'Neutral_Probability', 'Positive_Probability']] = df_news['Headline'].apply(get_sentiment).apply(pd.Series)\n",
    "\n",
    "# Display the resulting DataFrame with sentiment predictions\n",
    "df_news.head(5)"
   ]
  },
  {
   "cell_type": "code",
   "execution_count": null,
   "id": "97e7afc2-c04a-494d-8b14-59a80a1c5b8c",
   "metadata": {},
   "outputs": [],
   "source": [
    "print(quote.outer_ratings_df)  # 0   Nov-04-20     Upgrade  ...                Hold → Buy  $3360 → $4000"
   ]
  },
  {
   "cell_type": "code",
   "execution_count": null,
   "id": "56a8d9b9-e11f-43df-86f6-231a29dce5c5",
   "metadata": {
    "tags": []
   },
   "outputs": [],
   "source": [
    "\n",
    "# Assuming 'date_column' is the name of your date column\n",
    "#df_news['Date'] = pd.to_datetime(df_news['Date'], errors='coerce')\n",
    "\n",
    "\n"
   ]
  },
  {
   "cell_type": "code",
   "execution_count": 2,
   "id": "4b2e66f7-fee5-4644-9a7b-5f1b8703cfe2",
   "metadata": {},
   "outputs": [
    {
     "ename": "NameError",
     "evalue": "name 'quote' is not defined",
     "output_type": "error",
     "traceback": [
      "\u001b[0;31m---------------------------------------------------------------------------\u001b[0m",
      "\u001b[0;31mNameError\u001b[0m                                 Traceback (most recent call last)",
      "Cell \u001b[0;32mIn[2], line 1\u001b[0m\n\u001b[0;32m----> 1\u001b[0m \u001b[43mquote\u001b[49m\u001b[38;5;241m.\u001b[39mfundamental_df \u001b[38;5;66;03m# Index    P/E EPS (ttm) Insider Own  ...  SMA50  SMA200     Volume  Change\u001b[39;00m\n",
      "\u001b[0;31mNameError\u001b[0m: name 'quote' is not defined"
     ]
    }
   ],
   "source": [
    "quote.fundamental_df # Index    P/E EPS (ttm) Insider Own  ...  SMA50  SMA200     Volume  Change"
   ]
  },
  {
   "cell_type": "code",
   "execution_count": 5,
   "id": "1dc99765-0ba3-4580-a417-2d52a4c89172",
   "metadata": {
    "tags": []
   },
   "outputs": [
    {
     "name": "stdout",
     "output_type": "stream",
     "text": [
      "True\n",
      "AMZN\n"
     ]
    }
   ],
   "source": [
    "from pyfinviz.quote import Quote\n",
    "\n",
    "quote = Quote(ticker=\"AMZN\")\n",
    "\n",
    "print(quote.exists)  # check if fetch was successful (STOCK may not exist)\n",
    "print(quote.ticker)  # AMZN"
   ]
  },
  {
   "cell_type": "code",
   "execution_count": 6,
   "id": "23b4f527-ffa7-48b3-a132-54db89a23a8a",
   "metadata": {
    "tags": []
   },
   "outputs": [
    {
     "name": "stdout",
     "output_type": "stream",
     "text": [
      "NASD\n"
     ]
    }
   ],
   "source": [
    "print(quote.exchange)"
   ]
  },
  {
   "cell_type": "code",
   "execution_count": 7,
   "id": "97ebb7bd-8519-40dc-b917-2b0e6a894618",
   "metadata": {
    "tags": []
   },
   "outputs": [
    {
     "name": "stdout",
     "output_type": "stream",
     "text": [
      "          Index    P/E EPS (ttm) Insider Own Shs Outstand Perf Week   \n",
      "0  NDX, S&P 500  81.11      1.92      12.28%       10.24B     0.10%  \\\n",
      "\n",
      "  Market Cap Forward P/E EPS next Y - EPS estimate for next year   \n",
      "0   1605.28B       42.36                                    3.67  \\\n",
      "\n",
      "  Insider Trans  ...    Earnings Payout Avg Volume   Price Recom  SMA20   \n",
      "0        -0.03%  ...  Feb 01 AMC      -     50.50M  155.34  1.17  2.34%  \\\n",
      "\n",
      "   SMA50  SMA200      Volume Change  \n",
      "0  4.87%  18.74%  47,867,546  1.20%  \n",
      "\n",
      "[1 rows x 72 columns]\n"
     ]
    }
   ],
   "source": [
    "print(quote.fundamental_df)"
   ]
  },
  {
   "cell_type": "code",
   "execution_count": 8,
   "id": "3665e793-a333-4b93-a25a-b62d59507eb8",
   "metadata": {
    "tags": []
   },
   "outputs": [
    {
     "name": "stdout",
     "output_type": "stream",
     "text": [
      "         Date      Status                      Outer                  Rating   \n",
      "0   Jan-17-24  Reiterated                Wells Fargo              Overweight  \\\n",
      "1   Jan-09-24   Initiated        BMO Capital Markets              Outperform   \n",
      "2   Jan-03-24     Resumed                DA Davidson                     Buy   \n",
      "3   Dec-22-23  Reiterated                    Needham                     Buy   \n",
      "4   Dec-20-23     Resumed              Raymond James              Strong Buy   \n",
      "5   Dec-18-23  Reiterated                   ROTH MKM                     Buy   \n",
      "6   Dec-14-23  Reiterated              Piper Sandler              Overweight   \n",
      "7   Nov-02-23   Initiated            HSBC Securities                     Buy   \n",
      "8   Oct-24-23   Initiated  Seaport Research Partners                     Buy   \n",
      "9   Oct-17-23   Initiated                     Stifel                     Buy   \n",
      "10  Aug-24-23  Reiterated              Piper Sandler              Overweight   \n",
      "11  Aug-23-23  Reiterated               Loop Capital                     Buy   \n",
      "12  Aug-22-23     Resumed                    Wedbush              Outperform   \n",
      "13  Aug-11-23  Reiterated                    Redburn                     Buy   \n",
      "14  Aug-04-23     Upgrade                 Rosenblatt           Neutral → Buy   \n",
      "15  Aug-04-23     Upgrade          Exane BNP Paribas  Underperform → Neutral   \n",
      "16  Aug-04-23  Reiterated                    Wedbush              Outperform   \n",
      "17  Aug-04-23  Reiterated                        UBS                     Buy   \n",
      "18  Aug-04-23  Reiterated                     Truist                     Buy   \n",
      "19  Aug-04-23  Reiterated      The Benchmark Company                     Buy   \n",
      "\n",
      "          Price  \n",
      "0   $190 → $197  \n",
      "1          $200  \n",
      "2   $157 → $195  \n",
      "3   $160 → $175  \n",
      "4          $185  \n",
      "5   $165 → $180  \n",
      "6   $170 → $185  \n",
      "7          $160  \n",
      "8          $145  \n",
      "9          $173  \n",
      "10  $175 → $185  \n",
      "11  $180 → $200  \n",
      "12         $180  \n",
      "13  $220 → $230  \n",
      "14  $111 → $184  \n",
      "15         $140  \n",
      "16  $146 → $170  \n",
      "17  $150 → $175  \n",
      "18  $144 → $176  \n",
      "19  $130 → $170  \n"
     ]
    }
   ],
   "source": [
    "print(quote.outer_ratings_df) "
   ]
  },
  {
   "cell_type": "code",
   "execution_count": null,
   "id": "9626aecd-ec75-4c01-80a0-85289ab5766c",
   "metadata": {},
   "outputs": [],
   "source": [
    "# available variables:\n",
    "\n",
    "print(quote.exchange)  # NASD\n",
    "print(quote.company_name)  # Amazon.com, Inc.\n",
    "print(quote.sectors)  # ['Consumer Cyclical', 'Internet Retail', 'USA']\n",
    "print(quote.fundamental_df)  # Index    P/E EPS (ttm) Insider Own  ...  SMA50  SMA200     Volume  Change\n",
    "print(quote.outer_ratings_df)  # 0   Nov-04-20     Upgrade  ...                Hold → Buy  $3360 → $4000\n",
    "print(quote.outer_news_df)  # 0   Jan-04-21 10:20PM  ...                   Bloomberg\n",
    "print(quote.income_statement_df)  # 1      12/31/2019  ...                    22.99206\n",
    "print(quote.insider_trading_df)  # 0         WILKE JEFFREY A  ...  http://www.sec.gov/Archives/edgar/data/1018724...\n"
   ]
  }
 ],
 "metadata": {
  "kernelspec": {
   "display_name": "Python 3 (ipykernel)",
   "language": "python",
   "name": "python3"
  },
  "language_info": {
   "codemirror_mode": {
    "name": "ipython",
    "version": 3
   },
   "file_extension": ".py",
   "mimetype": "text/x-python",
   "name": "python",
   "nbconvert_exporter": "python",
   "pygments_lexer": "ipython3",
   "version": "3.11.3"
  }
 },
 "nbformat": 4,
 "nbformat_minor": 5
}
