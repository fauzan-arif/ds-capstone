{
 "cells": [
  {
   "cell_type": "markdown",
   "id": "ad09fa81-afb8-44b3-9201-5b75f33a9c80",
   "metadata": {},
   "source": [
    "# MongoDB"
   ]
  },
  {
   "cell_type": "code",
   "execution_count": 1,
   "id": "e8056941-a7ed-4ec8-a513-915cd5f6ca83",
   "metadata": {},
   "outputs": [],
   "source": [
    "import os\n",
    "from dotenv import load_dotenv\n",
    "from pymongo import MongoClient\n",
    "from pymongo.errors import ConnectionFailure\n",
    "from bson.objectid import ObjectId\n",
    "\n",
    "# Load environment variables from the .env file\n",
    "load_dotenv('../.env');"
   ]
  },
  {
   "cell_type": "code",
   "execution_count": 5,
   "id": "9dd97d2e-b23c-42e8-9e8f-52e04723025f",
   "metadata": {},
   "outputs": [],
   "source": [
    "def get_database(url, dbname, appname=None):\n",
    "    try:\n",
    "        # host and port default to 'localhost' and '27017'\n",
    "        # appname will appear in logs\n",
    "        client = MongoClient(url, appname=appname)\n",
    "        # try connection to the database\n",
    "        # The ping command is cheap and does not require auth.\n",
    "        client.admin.command('ping')\n",
    "        return client[dbname] \n",
    "    \n",
    "    except ConnectionFailure:\n",
    "        print(\"Error: MongoDB Server not available\")"
   ]
  },
  {
   "cell_type": "code",
   "execution_count": 6,
   "id": "66fcc20a-ba13-4d7d-91ec-10d9f4199344",
   "metadata": {},
   "outputs": [],
   "source": [
    "mongo_host = os.environ.get(\"MONGO_HOST\")\n",
    "mongo_user = os.environ.get(\"MONGO_USER\")\n",
    "mongo_pass = os.environ.get(\"MONGO_PASS\")\n",
    "mongo_url  = f\"mongodb+srv://{mongo_user}:{mongo_pass}@{mongo_host}/?retryWrites=true&w=majority\"\n",
    "\n",
    "db = get_database(mongo_url, 'capstone', 'Capstone')"
   ]
  },
  {
   "cell_type": "markdown",
   "id": "420d09da-929d-4a48-a2b8-b4e7ea03923d",
   "metadata": {
    "tags": []
   },
   "source": [
    "# Listing channels"
   ]
  },
  {
   "cell_type": "code",
   "execution_count": 18,
   "id": "df0a3bf1-bcfb-4c65-8d1a-6384790bc91e",
   "metadata": {
    "tags": []
   },
   "outputs": [
    {
     "name": "stdout",
     "output_type": "stream",
     "text": [
      "7 Documents in 'channels'\n"
     ]
    }
   ],
   "source": [
    "count = db.channels.count_documents({})\n",
    "print(f\"{count} Documents in {repr(db.channels.name)}\")"
   ]
  },
  {
   "cell_type": "code",
   "execution_count": 19,
   "id": "fcb4bc4b-8c45-4710-b54b-d7cc8d142cb5",
   "metadata": {},
   "outputs": [
    {
     "name": "stdout",
     "output_type": "stream",
     "text": [
      "cryptowhalesreal\n",
      "BinancePumpTracker\n",
      "CryptoInsideEN\n",
      "FedRussianInsiders\n",
      "cryptosignalsandanalyse\n",
      "CryptoCoinPostICO\n",
      "cryptsignaltoday\n"
     ]
    }
   ],
   "source": [
    "for channel in db.channels.find():\n",
    "    print(channel['name'])"
   ]
  },
  {
   "cell_type": "markdown",
   "id": "179ee533-30f6-4070-bdfc-d9b439b3956a",
   "metadata": {
    "tags": []
   },
   "source": [
    "# Listing telegram messages"
   ]
  },
  {
   "cell_type": "code",
   "execution_count": 17,
   "id": "e9145a7a-e9bd-494d-a1e0-f838456ff235",
   "metadata": {
    "tags": []
   },
   "outputs": [
    {
     "name": "stdout",
     "output_type": "stream",
     "text": [
      "0 Documents in 'messages'\n"
     ]
    }
   ],
   "source": [
    "count = db.messages.count_documents({})\n",
    "print(f\"{count} Documents in {repr(db.messages.name)}\")"
   ]
  }
 ],
 "metadata": {
  "kernelspec": {
   "display_name": "Python 3 (ipykernel)",
   "language": "python",
   "name": "python3"
  },
  "language_info": {
   "codemirror_mode": {
    "name": "ipython",
    "version": 3
   },
   "file_extension": ".py",
   "mimetype": "text/x-python",
   "name": "python",
   "nbconvert_exporter": "python",
   "pygments_lexer": "ipython3",
   "version": "3.11.3"
  }
 },
 "nbformat": 4,
 "nbformat_minor": 5
}
