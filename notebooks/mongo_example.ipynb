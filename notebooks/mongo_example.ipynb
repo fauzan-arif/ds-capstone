{
 "cells": [
  {
   "cell_type": "markdown",
   "id": "ad09fa81-afb8-44b3-9201-5b75f33a9c80",
   "metadata": {},
   "source": [
    "# MongoDB"
   ]
  },
  {
   "cell_type": "code",
   "execution_count": 1,
   "id": "e8056941-a7ed-4ec8-a513-915cd5f6ca83",
   "metadata": {},
   "outputs": [],
   "source": [
    "import os\n",
    "from dotenv import load_dotenv\n",
    "from pymongo import MongoClient\n",
    "from pymongo.errors import ConnectionFailure\n",
    "from bson.objectid import ObjectId\n",
    "\n",
    "# Load environment variables from the .env file\n",
    "load_dotenv('../.env');"
   ]
  },
  {
   "cell_type": "code",
   "execution_count": 5,
   "id": "9dd97d2e-b23c-42e8-9e8f-52e04723025f",
   "metadata": {},
   "outputs": [],
   "source": [
    "def get_database(url, dbname, appname=None):\n",
    "    try:\n",
    "        # host and port default to 'localhost' and '27017'\n",
    "        # appname will appear in logs\n",
    "        client = MongoClient(url, appname=appname)\n",
    "        # try connection to the database\n",
    "        # The ping command is cheap and does not require auth.\n",
    "        client.admin.command('ping')\n",
    "        return client[dbname] \n",
    "    \n",
    "    except ConnectionFailure:\n",
    "        print(\"Error: MongoDB Server not available\")"
   ]
  },
  {
   "cell_type": "code",
   "execution_count": 6,
   "id": "66fcc20a-ba13-4d7d-91ec-10d9f4199344",
   "metadata": {},
   "outputs": [],
   "source": [
    "mongo_host = os.environ.get(\"MONGO_HOST\")\n",
    "mongo_user = os.environ.get(\"MONGO_USER\")\n",
    "mongo_pass = os.environ.get(\"MONGO_PASS\")\n",
    "mongo_url  = f\"mongodb+srv://{mongo_user}:{mongo_pass}@{mongo_host}/?retryWrites=true&w=majority\"\n",
    "\n",
    "db = get_database(mongo_url, 'capstone', 'Capstone')"
   ]
  },
  {
   "cell_type": "markdown",
   "id": "420d09da-929d-4a48-a2b8-b4e7ea03923d",
   "metadata": {
    "tags": []
   },
   "source": [
    "# Channels"
   ]
  },
  {
   "cell_type": "markdown",
   "id": "52018c1b-0e7b-40d5-904f-2312ba682049",
   "metadata": {
    "tags": []
   },
   "source": [
    "Use `db.channels` or `db['channels']` to access this collection"
   ]
  },
  {
   "cell_type": "code",
   "execution_count": 31,
   "id": "849b9b0f-9e40-4a7c-846f-01f71167c42d",
   "metadata": {
    "tags": []
   },
   "outputs": [
    {
     "name": "stdout",
     "output_type": "stream",
     "text": [
      "7 Documents in 'channels'\n"
     ]
    }
   ],
   "source": [
    "count = db.channels.count_documents({})\n",
    "print(f\"{count} Documents in {repr(db.channels.name)}\")"
   ]
  },
  {
   "cell_type": "markdown",
   "id": "0cf8d0f0-87bf-45b8-96a2-de8ea39e343e",
   "metadata": {},
   "source": [
    "### Read"
   ]
  },
  {
   "cell_type": "code",
   "execution_count": 63,
   "id": "fcb4bc4b-8c45-4710-b54b-d7cc8d142cb5",
   "metadata": {},
   "outputs": [
    {
     "name": "stdout",
     "output_type": "stream",
     "text": [
      "65784e832d93a25348d0ab86 BinancePumpTracker\n",
      "657872ec6f0ab9a2529c6afc bla_bla\n",
      "65784f2e2d93a25348d0ab8a CryptoCoinPostICO\n",
      "65784e9b2d93a25348d0ab87 CryptoInsideEN\n",
      "65784f0e2d93a25348d0ab89 cryptosignalsandanalyse\n",
      "65784dec2d93a25348d0ab85 cryptowhalesreal\n",
      "65784f742d93a25348d0ab8b cryptsignaltoday\n",
      "65784ee32d93a25348d0ab88 FedRussianInsiders\n",
      "65786ede6f0ab9a2529c6afb the-new-channel-name\n"
     ]
    }
   ],
   "source": [
    "channels = db.channels.find().collation({'locale': 'en'}).sort('name')\n",
    "\n",
    "for channel in channels:\n",
    "    print(channel['_id'], channel['name'])"
   ]
  },
  {
   "cell_type": "markdown",
   "id": "2289840f-ed50-4bef-affc-717117263072",
   "metadata": {
    "tags": []
   },
   "source": [
    "### Insert"
   ]
  },
  {
   "cell_type": "code",
   "execution_count": 58,
   "id": "abb49914-8d17-4942-a11f-82af6c7b0582",
   "metadata": {
    "tags": []
   },
   "outputs": [
    {
     "data": {
      "text/plain": [
       "InsertOneResult(ObjectId('657872ec6f0ab9a2529c6afc'), acknowledged=True)"
      ]
     },
     "execution_count": 58,
     "metadata": {},
     "output_type": "execute_result"
    }
   ],
   "source": [
    "doc = {'name': 'the-new-channel-name'}\n",
    "\n",
    "db.channels.insert_one(doc)"
   ]
  },
  {
   "cell_type": "markdown",
   "id": "45e65faa-7af1-44c1-9500-6d04b80318e2",
   "metadata": {},
   "source": [
    "---"
   ]
  },
  {
   "cell_type": "code",
   "execution_count": 61,
   "id": "06b48aec-53ba-49a9-8b1b-3331ebf2d014",
   "metadata": {
    "tags": []
   },
   "outputs": [],
   "source": [
    "# insert an ID from the channel list\n",
    "doc_id = ObjectId('657872ec6f0ab9a2529c6afc')"
   ]
  },
  {
   "cell_type": "markdown",
   "id": "a268d2cf-d556-4b43-9ed3-bb520ca5939d",
   "metadata": {
    "tags": []
   },
   "source": [
    "### Update"
   ]
  },
  {
   "cell_type": "code",
   "execution_count": 62,
   "id": "c8750400-1457-42ff-938c-a94292f8cf24",
   "metadata": {
    "tags": []
   },
   "outputs": [
    {
     "data": {
      "text/plain": [
       "UpdateResult({'n': 1, 'electionId': ObjectId('7fffffff0000000000000036'), 'opTime': {'ts': Timestamp(1702392599, 4019), 't': 54}, 'nModified': 1, 'ok': 1.0, '$clusterTime': {'clusterTime': Timestamp(1702392599, 4019), 'signature': {'hash': b'\\xcb\\xff\\x97\\x1a\\xa3\\x82\\x99f\\xcd\\xf6%U\\x15z\\xab7\\x89\\x11\\xec%', 'keyId': 7274715348543209474}}, 'operationTime': Timestamp(1702392599, 4019), 'updatedExisting': True}, acknowledged=True)"
      ]
     },
     "execution_count": 62,
     "metadata": {},
     "output_type": "execute_result"
    }
   ],
   "source": [
    "filter = { '_id': doc_id } # doc_id from above\n",
    "update = { 'name': 'bla_bla' }\n",
    "\n",
    "db.channels.update_one(filter, {\"$set\": update })"
   ]
  },
  {
   "cell_type": "markdown",
   "id": "c4dbc05d-6366-475a-b413-923262b58dfb",
   "metadata": {
    "tags": []
   },
   "source": [
    "### Delete"
   ]
  },
  {
   "cell_type": "code",
   "execution_count": 57,
   "id": "c4a26579-827f-4a45-ac1c-0afa7964be9c",
   "metadata": {
    "tags": []
   },
   "outputs": [
    {
     "data": {
      "text/plain": [
       "DeleteResult({'n': 0, 'electionId': ObjectId('7fffffff0000000000000036'), 'opTime': {'ts': Timestamp(1702392535, 3), 't': 54}, 'ok': 1.0, '$clusterTime': {'clusterTime': Timestamp(1702392535, 3), 'signature': {'hash': b'\\x0b\\xfay\\xdf\\xfa\\xd4\\xb9\\xed\\xeb\\x1bl\\xfbC\\xfb\\x03D\\x1c]\\x02\\xe6', 'keyId': 7274715348543209474}}, 'operationTime': Timestamp(1702392535, 3)}, acknowledged=True)"
      ]
     },
     "execution_count": 57,
     "metadata": {},
     "output_type": "execute_result"
    }
   ],
   "source": [
    "filter = {'_id': doc_id }\n",
    "\n",
    "db.channels.delete_one(filter)"
   ]
  },
  {
   "cell_type": "markdown",
   "id": "179ee533-30f6-4070-bdfc-d9b439b3956a",
   "metadata": {
    "tags": []
   },
   "source": [
    "# Telegram messages"
   ]
  },
  {
   "cell_type": "code",
   "execution_count": 34,
   "id": "e9145a7a-e9bd-494d-a1e0-f838456ff235",
   "metadata": {
    "tags": []
   },
   "outputs": [
    {
     "name": "stdout",
     "output_type": "stream",
     "text": [
      "0 Documents in 'messages'\n"
     ]
    }
   ],
   "source": [
    "count = db.messages.count_documents({})\n",
    "print(f\"{count} Documents in {repr(db.messages.name)}\")"
   ]
  },
  {
   "cell_type": "code",
   "execution_count": 44,
   "id": "63307254-7bf6-4018-8d68-d06cb3b0e134",
   "metadata": {
    "tags": []
   },
   "outputs": [
    {
     "data": {
      "text/plain": [
       "[]"
      ]
     },
     "execution_count": 44,
     "metadata": {},
     "output_type": "execute_result"
    }
   ],
   "source": [
    "filter = {}\n",
    "messages = db.messages.find(filter).sort('_id', -1).limit(3)\n",
    "[m for m in messages]"
   ]
  }
 ],
 "metadata": {
  "kernelspec": {
   "display_name": "Python 3 (ipykernel)",
   "language": "python",
   "name": "python3"
  },
  "language_info": {
   "codemirror_mode": {
    "name": "ipython",
    "version": 3
   },
   "file_extension": ".py",
   "mimetype": "text/x-python",
   "name": "python",
   "nbconvert_exporter": "python",
   "pygments_lexer": "ipython3",
   "version": "3.11.3"
  }
 },
 "nbformat": 4,
 "nbformat_minor": 5
}
