{
 "cells": [
  {
   "cell_type": "code",
   "execution_count": 1,
   "id": "44c4cbfc-0b9e-44e2-94d7-d7e6ec84a408",
   "metadata": {
    "tags": []
   },
   "outputs": [
    {
     "ename": "ModuleNotFoundError",
     "evalue": "No module named 'plotly'",
     "output_type": "error",
     "traceback": [
      "\u001b[1;31m---------------------------------------------------------------------------\u001b[0m",
      "\u001b[1;31mModuleNotFoundError\u001b[0m                       Traceback (most recent call last)",
      "Cell \u001b[1;32mIn[1], line 4\u001b[0m\n\u001b[0;32m      1\u001b[0m \u001b[38;5;28;01mimport\u001b[39;00m \u001b[38;5;21;01myfinance\u001b[39;00m \u001b[38;5;28;01mas\u001b[39;00m \u001b[38;5;21;01myf\u001b[39;00m\n\u001b[0;32m      3\u001b[0m \u001b[38;5;66;03m# For plotting\u001b[39;00m\n\u001b[1;32m----> 4\u001b[0m \u001b[38;5;28;01mimport\u001b[39;00m \u001b[38;5;21;01mplotly\u001b[39;00m\u001b[38;5;21;01m.\u001b[39;00m\u001b[38;5;21;01mgraph_objects\u001b[39;00m \u001b[38;5;28;01mas\u001b[39;00m \u001b[38;5;21;01mgo\u001b[39;00m\n\u001b[0;32m      5\u001b[0m \u001b[38;5;28;01mfrom\u001b[39;00m \u001b[38;5;21;01mdatetime\u001b[39;00m \u001b[38;5;28;01mimport\u001b[39;00m datetime\n\u001b[0;32m      7\u001b[0m \u001b[38;5;28;01mimport\u001b[39;00m \u001b[38;5;21;01mnumpy\u001b[39;00m \u001b[38;5;28;01mas\u001b[39;00m \u001b[38;5;21;01mnp\u001b[39;00m\n",
      "\u001b[1;31mModuleNotFoundError\u001b[0m: No module named 'plotly'"
     ]
    }
   ],
   "source": [
    "import yfinance as yf\n",
    "\n",
    "# For plotting\n",
    "import plotly.graph_objects as go\n",
    "from datetime import datetime\n",
    "\n",
    "import numpy as np\n",
    "import pandas as pd\n",
    "import pandas_ta as ta\n",
    "\n",
    "class StockTicker():\n",
    "    columns_to_drop = ['volume','dividends', 'stock_splits'] # 'date', \n",
    "    \n",
    "    def __init__(self, ticker, period=\"max\"):\n",
    "        self.df = pd.DataFrame().ta.ticker(ticker, period=period)\n",
    "        self.df.ta.adjusted = \"adj_close\"\n",
    "        self.clean_columns()\n",
    "        self.add_moving_average()\n",
    "        self.add_target()\n",
    "        self.df.dropna(inplace=True)\n",
    "        #self.df['weekday'] = self.df['date'].dt.day_of_week # numeric encoded day of week\n",
    "        \n",
    "    def clean_columns(self):\n",
    "        self.df.reset_index(inplace=True)\n",
    "        self.df.columns = self.df.columns.str.lower().str.replace(' ', '_')\n",
    "        self.df.drop(self.columns_to_drop, axis=1, inplace=True)\n",
    "        \n",
    "    def add_moving_average(self):\n",
    "        self.df['rsi']  = ta.rsi(self.df.close, length=15)\n",
    "        self.df['emaf'] = ta.ema(self.df.close, length=20) #fast moving avg\n",
    "        self.df['emam'] = ta.ema(self.df.close, length=100) #medium moving avg\n",
    "        self.df['emas'] = ta.ema(self.df.close, length=150) #slow moving avg\n",
    "\n",
    "    def add_target(self):\n",
    "        self.df['target']            = self.df.close - self.df.open\n",
    "        self.df['target']            = self.df.target.shift(-1)\n",
    "        self.df['target_class']      = [1 if self.df.target[i]>0 else 0 for i in range(len(self.df))]\n",
    "        self.df['target_next_close'] = self.df.close.shift(-1)\n",
    "\n",
    "    @property\n",
    "    def features(self):\n",
    "        return self.df[['open', 'high', 'low', 'close', 'rsi', 'emaf', 'emas', 'emam']]\n",
    "    \n",
    "    @property\n",
    "    def targets(self):\n",
    "        return self.df[['target', 'target_class', 'target_next_close']]\n",
    "    \n",
    "    @property\n",
    "    def dataframe(self):\n",
    "        return self.df\n"
   ]
  },
  {
   "cell_type": "code",
   "execution_count": null,
   "id": "012a69aa-f20d-42c1-bf73-293fa6dfdd70",
   "metadata": {
    "tags": []
   },
   "outputs": [],
   "source": [
    "ticker = StockTicker('adbe', period=\"8mo\")\n",
    "df = pd.DataFrame().ta.ticker('AAPL', period=\"7d\", interval=\"1h\")\n",
    "print(df.shape)\n",
    "fig = go.Figure(data=[go.Candlestick(\n",
    "#    x=df['Date'],\n",
    "    open=df['Open'],\n",
    "    high=df['High'],\n",
    "    low=df['Low'],\n",
    "    close=df['Close']\n",
    ")])\n",
    "\n",
    "fig.show()"
   ]
  },
  {
   "cell_type": "code",
   "execution_count": null,
   "id": "153bdb35-bd84-4e92-81e8-db79da5e447e",
   "metadata": {},
   "outputs": [],
   "source": []
  }
 ],
 "metadata": {
  "kernelspec": {
   "display_name": "Python 3 (ipykernel)",
   "language": "python",
   "name": "python3"
  },
  "language_info": {
   "codemirror_mode": {
    "name": "ipython",
    "version": 3
   },
   "file_extension": ".py",
   "mimetype": "text/x-python",
   "name": "python",
   "nbconvert_exporter": "python",
   "pygments_lexer": "ipython3",
   "version": "3.11.3"
  }
 },
 "nbformat": 4,
 "nbformat_minor": 5
}
